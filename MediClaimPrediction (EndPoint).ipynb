{
 "cells": [
  {
   "cell_type": "markdown",
   "metadata": {
    "colab_type": "text",
    "id": "M27qF7CTrBqc"
   },
   "source": [
    "# 1. UNDERSTANDING THE BUISNESS PROBLEM"
   ]
  },
  {
   "cell_type": "markdown",
   "metadata": {
    "colab_type": "text",
    "id": "xNl52nl3qiyL"
   },
   "source": [
    "\n",
    "The aim of the problem is to predict the insurance premium charge for an employee.\n",
    "\n",
    "- Features available are:\n",
    " \n",
    " **Categorical**\n",
    "    - smoker: yes/no\n",
    "    - region: residential area.\n",
    "    - sex: male/female\n",
    "  \n",
    "  **Numeric**\n",
    "    - bmi: Body mass index (18.5 to 24.9)\n",
    "    - children: No of childrens \n",
    "    - charges: Insurance Premium Charges\n",
    "\n",
    "\n",
    "Data Source:https://www.kaggle.com/mirichoi0218/insurance"
   ]
  },
  {
   "cell_type": "markdown",
   "metadata": {
    "colab_type": "text",
    "id": "zKmFmyaGunc7"
   },
   "source": [
    "# 2. IMPORT LIBRARIES AND DATASETS"
   ]
  },
  {
   "cell_type": "code",
   "execution_count": 1,
   "metadata": {
    "colab": {
     "base_uri": "https://localhost:8080/",
     "height": 71
    },
    "colab_type": "code",
    "id": "S0Cx3743urFY",
    "outputId": "b820039b-7ccb-4a68-8206-77bae97680dc",
    "scrolled": true
   },
   "outputs": [],
   "source": [
    "import pandas as pd\n",
    "import numpy as np\n",
    "import seaborn as sns\n",
    "import matplotlib.pyplot as plt"
   ]
  },
  {
   "cell_type": "code",
   "execution_count": 2,
   "metadata": {
    "colab": {},
    "colab_type": "code",
    "id": "tjIiJdM4u1IE"
   },
   "outputs": [],
   "source": [
    "# read the csv file \n",
    "insurance_df = pd.read_csv('insurance.csv')"
   ]
  },
  {
   "cell_type": "code",
   "execution_count": 3,
   "metadata": {
    "colab": {
     "base_uri": "https://localhost:8080/",
     "height": 204
    },
    "colab_type": "code",
    "id": "q4_wPDKCu5Uc",
    "outputId": "886d2aaf-0205-4f46-96a7-629d0f367d2f"
   },
   "outputs": [
    {
     "data": {
      "text/html": [
       "<div>\n",
       "<style scoped>\n",
       "    .dataframe tbody tr th:only-of-type {\n",
       "        vertical-align: middle;\n",
       "    }\n",
       "\n",
       "    .dataframe tbody tr th {\n",
       "        vertical-align: top;\n",
       "    }\n",
       "\n",
       "    .dataframe thead th {\n",
       "        text-align: right;\n",
       "    }\n",
       "</style>\n",
       "<table border=\"1\" class=\"dataframe\">\n",
       "  <thead>\n",
       "    <tr style=\"text-align: right;\">\n",
       "      <th></th>\n",
       "      <th>age</th>\n",
       "      <th>sex</th>\n",
       "      <th>bmi</th>\n",
       "      <th>children</th>\n",
       "      <th>smoker</th>\n",
       "      <th>region</th>\n",
       "      <th>charges</th>\n",
       "    </tr>\n",
       "  </thead>\n",
       "  <tbody>\n",
       "    <tr>\n",
       "      <th>0</th>\n",
       "      <td>19</td>\n",
       "      <td>female</td>\n",
       "      <td>27.900</td>\n",
       "      <td>0</td>\n",
       "      <td>yes</td>\n",
       "      <td>southwest</td>\n",
       "      <td>16884.92400</td>\n",
       "    </tr>\n",
       "    <tr>\n",
       "      <th>1</th>\n",
       "      <td>18</td>\n",
       "      <td>male</td>\n",
       "      <td>33.770</td>\n",
       "      <td>1</td>\n",
       "      <td>no</td>\n",
       "      <td>southeast</td>\n",
       "      <td>1725.55230</td>\n",
       "    </tr>\n",
       "    <tr>\n",
       "      <th>2</th>\n",
       "      <td>28</td>\n",
       "      <td>male</td>\n",
       "      <td>33.000</td>\n",
       "      <td>3</td>\n",
       "      <td>no</td>\n",
       "      <td>southeast</td>\n",
       "      <td>4449.46200</td>\n",
       "    </tr>\n",
       "    <tr>\n",
       "      <th>3</th>\n",
       "      <td>33</td>\n",
       "      <td>male</td>\n",
       "      <td>22.705</td>\n",
       "      <td>0</td>\n",
       "      <td>no</td>\n",
       "      <td>northwest</td>\n",
       "      <td>21984.47061</td>\n",
       "    </tr>\n",
       "    <tr>\n",
       "      <th>4</th>\n",
       "      <td>32</td>\n",
       "      <td>male</td>\n",
       "      <td>28.880</td>\n",
       "      <td>0</td>\n",
       "      <td>no</td>\n",
       "      <td>northwest</td>\n",
       "      <td>3866.85520</td>\n",
       "    </tr>\n",
       "  </tbody>\n",
       "</table>\n",
       "</div>"
      ],
      "text/plain": [
       "   age     sex     bmi  children smoker     region      charges\n",
       "0   19  female  27.900         0    yes  southwest  16884.92400\n",
       "1   18    male  33.770         1     no  southeast   1725.55230\n",
       "2   28    male  33.000         3     no  southeast   4449.46200\n",
       "3   33    male  22.705         0     no  northwest  21984.47061\n",
       "4   32    male  28.880         0     no  northwest   3866.85520"
      ]
     },
     "execution_count": 3,
     "metadata": {},
     "output_type": "execute_result"
    }
   ],
   "source": [
    "insurance_df.head()"
   ]
  },
  {
   "cell_type": "markdown",
   "metadata": {
    "colab_type": "text",
    "id": "tMcr7xqMQre2"
   },
   "source": [
    "# 3. Data Pre-Processing"
   ]
  },
  {
   "cell_type": "markdown",
   "metadata": {},
   "source": [
    "## Data Cleaning"
   ]
  },
  {
   "cell_type": "code",
   "execution_count": 4,
   "metadata": {},
   "outputs": [
    {
     "data": {
      "text/plain": [
       "age         0\n",
       "sex         0\n",
       "bmi         0\n",
       "children    0\n",
       "smoker      0\n",
       "region      0\n",
       "charges     0\n",
       "dtype: int64"
      ]
     },
     "execution_count": 4,
     "metadata": {},
     "output_type": "execute_result"
    }
   ],
   "source": [
    "insurance_df.isnull().sum()"
   ]
  },
  {
   "cell_type": "code",
   "execution_count": 5,
   "metadata": {},
   "outputs": [
    {
     "data": {
      "text/plain": [
       "<matplotlib.axes._subplots.AxesSubplot at 0x7f55911cded0>"
      ]
     },
     "execution_count": 5,
     "metadata": {},
     "output_type": "execute_result"
    },
    {
     "data": {
      "image/png": "[encoded data removed]",
      "text/plain": [
       "<Figure size 432x288 with 2 Axes>"
      ]
     },
     "metadata": {
      "needs_background": "light"
     },
     "output_type": "display_data"
    }
   ],
   "source": [
    "# check if there are any Null values\n",
    "sns.heatmap(insurance_df.isnull(), yticklabels = False, cmap=sns.diverging_palette(50, 500, n=500))\n"
   ]
  },
  {
   "cell_type": "markdown",
   "metadata": {},
   "source": [
    "## Data Relation"
   ]
  },
  {
   "cell_type": "code",
   "execution_count": 6,
   "metadata": {
    "scrolled": true
   },
   "outputs": [
    {
     "data": {
      "text/html": [
       "<div>\n",
       "<style scoped>\n",
       "    .dataframe tbody tr th:only-of-type {\n",
       "        vertical-align: middle;\n",
       "    }\n",
       "\n",
       "    .dataframe tbody tr th {\n",
       "        vertical-align: top;\n",
       "    }\n",
       "\n",
       "    .dataframe thead th {\n",
       "        text-align: right;\n",
       "    }\n",
       "</style>\n",
       "<table border=\"1\" class=\"dataframe\">\n",
       "  <thead>\n",
       "    <tr style=\"text-align: right;\">\n",
       "      <th></th>\n",
       "      <th>age</th>\n",
       "      <th>bmi</th>\n",
       "      <th>children</th>\n",
       "      <th>charges</th>\n",
       "    </tr>\n",
       "    <tr>\n",
       "      <th>region</th>\n",
       "      <th></th>\n",
       "      <th></th>\n",
       "      <th></th>\n",
       "      <th></th>\n",
       "    </tr>\n",
       "  </thead>\n",
       "  <tbody>\n",
       "    <tr>\n",
       "      <th>northeast</th>\n",
       "      <td>39.268519</td>\n",
       "      <td>29.173503</td>\n",
       "      <td>1.046296</td>\n",
       "      <td>13406.384516</td>\n",
       "    </tr>\n",
       "    <tr>\n",
       "      <th>northwest</th>\n",
       "      <td>39.196923</td>\n",
       "      <td>29.199785</td>\n",
       "      <td>1.147692</td>\n",
       "      <td>12417.575374</td>\n",
       "    </tr>\n",
       "    <tr>\n",
       "      <th>southeast</th>\n",
       "      <td>38.939560</td>\n",
       "      <td>33.355989</td>\n",
       "      <td>1.049451</td>\n",
       "      <td>14735.411438</td>\n",
       "    </tr>\n",
       "    <tr>\n",
       "      <th>southwest</th>\n",
       "      <td>39.455385</td>\n",
       "      <td>30.596615</td>\n",
       "      <td>1.141538</td>\n",
       "      <td>12346.937377</td>\n",
       "    </tr>\n",
       "  </tbody>\n",
       "</table>\n",
       "</div>"
      ],
      "text/plain": [
       "                 age        bmi  children       charges\n",
       "region                                                 \n",
       "northeast  39.268519  29.173503  1.046296  13406.384516\n",
       "northwest  39.196923  29.199785  1.147692  12417.575374\n",
       "southeast  38.939560  33.355989  1.049451  14735.411438\n",
       "southwest  39.455385  30.596615  1.141538  12346.937377"
      ]
     },
     "execution_count": 6,
     "metadata": {},
     "output_type": "execute_result"
    }
   ],
   "source": [
    "# Grouping by region to see any relationship between region and charges\n",
    "# Seems like south east region has the highest charges and body mass index\n",
    "df_region = insurance_df.groupby(by='region').mean()\n",
    "df_region"
   ]
  },
  {
   "cell_type": "code",
   "execution_count": 7,
   "metadata": {},
   "outputs": [
    {
     "data": {
      "text/html": [
       "<div>\n",
       "<style scoped>\n",
       "    .dataframe tbody tr th:only-of-type {\n",
       "        vertical-align: middle;\n",
       "    }\n",
       "\n",
       "    .dataframe tbody tr th {\n",
       "        vertical-align: top;\n",
       "    }\n",
       "\n",
       "    .dataframe thead th {\n",
       "        text-align: right;\n",
       "    }\n",
       "</style>\n",
       "<table border=\"1\" class=\"dataframe\">\n",
       "  <thead>\n",
       "    <tr style=\"text-align: right;\">\n",
       "      <th></th>\n",
       "      <th>bmi</th>\n",
       "      <th>children</th>\n",
       "      <th>charges</th>\n",
       "    </tr>\n",
       "    <tr>\n",
       "      <th>age</th>\n",
       "      <th></th>\n",
       "      <th></th>\n",
       "      <th></th>\n",
       "    </tr>\n",
       "  </thead>\n",
       "  <tbody>\n",
       "    <tr>\n",
       "      <th>43</th>\n",
       "      <td>30.204444</td>\n",
       "      <td>1.629630</td>\n",
       "      <td>19267.278653</td>\n",
       "    </tr>\n",
       "    <tr>\n",
       "      <th>63</th>\n",
       "      <td>31.923478</td>\n",
       "      <td>0.565217</td>\n",
       "      <td>19884.998461</td>\n",
       "    </tr>\n",
       "    <tr>\n",
       "      <th>60</th>\n",
       "      <td>30.332826</td>\n",
       "      <td>0.347826</td>\n",
       "      <td>21979.418507</td>\n",
       "    </tr>\n",
       "    <tr>\n",
       "      <th>61</th>\n",
       "      <td>32.548261</td>\n",
       "      <td>0.739130</td>\n",
       "      <td>22024.457609</td>\n",
       "    </tr>\n",
       "    <tr>\n",
       "      <th>64</th>\n",
       "      <td>32.976136</td>\n",
       "      <td>0.772727</td>\n",
       "      <td>23275.530837</td>\n",
       "    </tr>\n",
       "  </tbody>\n",
       "</table>\n",
       "</div>"
      ],
      "text/plain": [
       "           bmi  children       charges\n",
       "age                                   \n",
       "43   30.204444  1.629630  19267.278653\n",
       "63   31.923478  0.565217  19884.998461\n",
       "60   30.332826  0.347826  21979.418507\n",
       "61   32.548261  0.739130  22024.457609\n",
       "64   32.976136  0.772727  23275.530837"
      ]
     },
     "execution_count": 7,
     "metadata": {},
     "output_type": "execute_result"
    }
   ],
   "source": [
    "# Grouping data by 'age' to see the relationship between 'age' and 'charges'\n",
    "# Seems like age 64 has the highest charges\n",
    "df_region = insurance_df.groupby(by='age').mean()\n",
    "df_region = df_region.sort_values(by='charges')\n",
    "df_region.tail()"
   ]
  },
  {
   "cell_type": "markdown",
   "metadata": {},
   "source": [
    "## Encoding\n",
    "Machine only understand one language that is numbers . So we need to convert the categorical data into numbers. So here we deal with that. \n",
    "\n",
    "We use one-hot or getdummies for column which have higher number of categories to prevent ordering."
   ]
  },
  {
   "cell_type": "markdown",
   "metadata": {},
   "source": [
    "### Label Encoding"
   ]
  },
  {
   "cell_type": "code",
   "execution_count": 8,
   "metadata": {},
   "outputs": [],
   "source": [
    "sex = {\n",
    "  \"male\": \"1\",\n",
    "  \"female\": \"0\"\n",
    "}\n",
    "smoker = {\n",
    "  \"Yes\": \"1\",\n",
    "  \"No\": \"0\"\n",
    "}"
   ]
  },
  {
   "cell_type": "code",
   "execution_count": 9,
   "metadata": {},
   "outputs": [
    {
     "name": "stdout",
     "output_type": "stream",
     "text": [
      "['female' 'male']\n",
      "['yes' 'no']\n"
     ]
    }
   ],
   "source": [
    "# Check unique values in the 'sex' column\n",
    "print(insurance_df['sex'].unique())\n",
    "# Check the unique values in the 'smoker' column\n",
    "print(insurance_df['smoker'].unique())"
   ]
  },
  {
   "cell_type": "code",
   "execution_count": 10,
   "metadata": {},
   "outputs": [],
   "source": [
    "# convert categorical variable to numerical\n",
    "insurance_df['sex'] = insurance_df['sex'].apply(lambda x: 0 if x == 'female' else 1)\n",
    "insurance_df['smoker'] = insurance_df['smoker'].apply(lambda x: 0 if x == 'no' else 1)"
   ]
  },
  {
   "cell_type": "code",
   "execution_count": 11,
   "metadata": {},
   "outputs": [
    {
     "data": {
      "text/html": [
       "<div>\n",
       "<style scoped>\n",
       "    .dataframe tbody tr th:only-of-type {\n",
       "        vertical-align: middle;\n",
       "    }\n",
       "\n",
       "    .dataframe tbody tr th {\n",
       "        vertical-align: top;\n",
       "    }\n",
       "\n",
       "    .dataframe thead th {\n",
       "        text-align: right;\n",
       "    }\n",
       "</style>\n",
       "<table border=\"1\" class=\"dataframe\">\n",
       "  <thead>\n",
       "    <tr style=\"text-align: right;\">\n",
       "      <th></th>\n",
       "      <th>age</th>\n",
       "      <th>sex</th>\n",
       "      <th>bmi</th>\n",
       "      <th>children</th>\n",
       "      <th>smoker</th>\n",
       "      <th>region</th>\n",
       "      <th>charges</th>\n",
       "    </tr>\n",
       "  </thead>\n",
       "  <tbody>\n",
       "    <tr>\n",
       "      <th>0</th>\n",
       "      <td>19</td>\n",
       "      <td>0</td>\n",
       "      <td>27.900</td>\n",
       "      <td>0</td>\n",
       "      <td>1</td>\n",
       "      <td>southwest</td>\n",
       "      <td>16884.92400</td>\n",
       "    </tr>\n",
       "    <tr>\n",
       "      <th>1</th>\n",
       "      <td>18</td>\n",
       "      <td>1</td>\n",
       "      <td>33.770</td>\n",
       "      <td>1</td>\n",
       "      <td>0</td>\n",
       "      <td>southeast</td>\n",
       "      <td>1725.55230</td>\n",
       "    </tr>\n",
       "    <tr>\n",
       "      <th>2</th>\n",
       "      <td>28</td>\n",
       "      <td>1</td>\n",
       "      <td>33.000</td>\n",
       "      <td>3</td>\n",
       "      <td>0</td>\n",
       "      <td>southeast</td>\n",
       "      <td>4449.46200</td>\n",
       "    </tr>\n",
       "    <tr>\n",
       "      <th>3</th>\n",
       "      <td>33</td>\n",
       "      <td>1</td>\n",
       "      <td>22.705</td>\n",
       "      <td>0</td>\n",
       "      <td>0</td>\n",
       "      <td>northwest</td>\n",
       "      <td>21984.47061</td>\n",
       "    </tr>\n",
       "    <tr>\n",
       "      <th>4</th>\n",
       "      <td>32</td>\n",
       "      <td>1</td>\n",
       "      <td>28.880</td>\n",
       "      <td>0</td>\n",
       "      <td>0</td>\n",
       "      <td>northwest</td>\n",
       "      <td>3866.85520</td>\n",
       "    </tr>\n",
       "  </tbody>\n",
       "</table>\n",
       "</div>"
      ],
      "text/plain": [
       "   age  sex     bmi  children  smoker     region      charges\n",
       "0   19    0  27.900         0       1  southwest  16884.92400\n",
       "1   18    1  33.770         1       0  southeast   1725.55230\n",
       "2   28    1  33.000         3       0  southeast   4449.46200\n",
       "3   33    1  22.705         0       0  northwest  21984.47061\n",
       "4   32    1  28.880         0       0  northwest   3866.85520"
      ]
     },
     "execution_count": 11,
     "metadata": {},
     "output_type": "execute_result"
    }
   ],
   "source": [
    "insurance_df.head()"
   ]
  },
  {
   "cell_type": "code",
   "execution_count": 12,
   "metadata": {
    "scrolled": true
   },
   "outputs": [
    {
     "data": {
      "text/plain": [
       "array(['southwest', 'southeast', 'northwest', 'northeast'], dtype=object)"
      ]
     },
     "execution_count": 12,
     "metadata": {},
     "output_type": "execute_result"
    }
   ],
   "source": [
    "# Check unique values in 'region' column\n",
    "insurance_df['region'].unique()"
   ]
  },
  {
   "cell_type": "markdown",
   "metadata": {},
   "source": [
    "### Dummies\n",
    "\n",
    "Dummy Variable Trap : \n",
    "When Two Columns are highly correlated. So we drop the first column to remove this problem."
   ]
  },
  {
   "cell_type": "code",
   "execution_count": 13,
   "metadata": {},
   "outputs": [],
   "source": [
    "def dummy_df(dataset,columnname):\n",
    "    dummies = pd.get_dummies(dataset[columnname],drop_first=True)\n",
    "    dataset = dataset.drop(columnname,1)\n",
    "    dataset = pd.concat([dataset,dummies],axis=1)\n",
    "    return dataset"
   ]
  },
  {
   "cell_type": "code",
   "execution_count": 14,
   "metadata": {},
   "outputs": [],
   "source": [
    "insurance_df = dummy_df(insurance_df,'region')"
   ]
  },
  {
   "cell_type": "code",
   "execution_count": 15,
   "metadata": {},
   "outputs": [
    {
     "data": {
      "text/html": [
       "<div>\n",
       "<style scoped>\n",
       "    .dataframe tbody tr th:only-of-type {\n",
       "        vertical-align: middle;\n",
       "    }\n",
       "\n",
       "    .dataframe tbody tr th {\n",
       "        vertical-align: top;\n",
       "    }\n",
       "\n",
       "    .dataframe thead th {\n",
       "        text-align: right;\n",
       "    }\n",
       "</style>\n",
       "<table border=\"1\" class=\"dataframe\">\n",
       "  <thead>\n",
       "    <tr style=\"text-align: right;\">\n",
       "      <th></th>\n",
       "      <th>age</th>\n",
       "      <th>sex</th>\n",
       "      <th>bmi</th>\n",
       "      <th>children</th>\n",
       "      <th>smoker</th>\n",
       "      <th>charges</th>\n",
       "      <th>northwest</th>\n",
       "      <th>southeast</th>\n",
       "      <th>southwest</th>\n",
       "    </tr>\n",
       "  </thead>\n",
       "  <tbody>\n",
       "    <tr>\n",
       "      <th>0</th>\n",
       "      <td>19</td>\n",
       "      <td>0</td>\n",
       "      <td>27.900</td>\n",
       "      <td>0</td>\n",
       "      <td>1</td>\n",
       "      <td>16884.92400</td>\n",
       "      <td>0</td>\n",
       "      <td>0</td>\n",
       "      <td>1</td>\n",
       "    </tr>\n",
       "    <tr>\n",
       "      <th>1</th>\n",
       "      <td>18</td>\n",
       "      <td>1</td>\n",
       "      <td>33.770</td>\n",
       "      <td>1</td>\n",
       "      <td>0</td>\n",
       "      <td>1725.55230</td>\n",
       "      <td>0</td>\n",
       "      <td>1</td>\n",
       "      <td>0</td>\n",
       "    </tr>\n",
       "    <tr>\n",
       "      <th>2</th>\n",
       "      <td>28</td>\n",
       "      <td>1</td>\n",
       "      <td>33.000</td>\n",
       "      <td>3</td>\n",
       "      <td>0</td>\n",
       "      <td>4449.46200</td>\n",
       "      <td>0</td>\n",
       "      <td>1</td>\n",
       "      <td>0</td>\n",
       "    </tr>\n",
       "    <tr>\n",
       "      <th>3</th>\n",
       "      <td>33</td>\n",
       "      <td>1</td>\n",
       "      <td>22.705</td>\n",
       "      <td>0</td>\n",
       "      <td>0</td>\n",
       "      <td>21984.47061</td>\n",
       "      <td>1</td>\n",
       "      <td>0</td>\n",
       "      <td>0</td>\n",
       "    </tr>\n",
       "    <tr>\n",
       "      <th>4</th>\n",
       "      <td>32</td>\n",
       "      <td>1</td>\n",
       "      <td>28.880</td>\n",
       "      <td>0</td>\n",
       "      <td>0</td>\n",
       "      <td>3866.85520</td>\n",
       "      <td>1</td>\n",
       "      <td>0</td>\n",
       "      <td>0</td>\n",
       "    </tr>\n",
       "  </tbody>\n",
       "</table>\n",
       "</div>"
      ],
      "text/plain": [
       "   age  sex     bmi  children  smoker      charges  northwest  southeast  \\\n",
       "0   19    0  27.900         0       1  16884.92400          0          0   \n",
       "1   18    1  33.770         1       0   1725.55230          0          1   \n",
       "2   28    1  33.000         3       0   4449.46200          0          1   \n",
       "3   33    1  22.705         0       0  21984.47061          1          0   \n",
       "4   32    1  28.880         0       0   3866.85520          1          0   \n",
       "\n",
       "   southwest  \n",
       "0          1  \n",
       "1          0  \n",
       "2          0  \n",
       "3          0  \n",
       "4          0  "
      ]
     },
     "execution_count": 15,
     "metadata": {},
     "output_type": "execute_result"
    }
   ],
   "source": [
    "insurance_df.head()"
   ]
  },
  {
   "cell_type": "markdown",
   "metadata": {},
   "source": [
    "### Statistical Analysis"
   ]
  },
  {
   "cell_type": "code",
   "execution_count": 16,
   "metadata": {
    "colab": {
     "base_uri": "https://localhost:8080/",
     "height": 297
    },
    "colab_type": "code",
    "id": "Nn1Oxk2SzPX3",
    "outputId": "95f0265a-5e75-4a32-d771-4b3d15850c3c"
   },
   "outputs": [
    {
     "data": {
      "text/html": [
       "<div>\n",
       "<style scoped>\n",
       "    .dataframe tbody tr th:only-of-type {\n",
       "        vertical-align: middle;\n",
       "    }\n",
       "\n",
       "    .dataframe tbody tr th {\n",
       "        vertical-align: top;\n",
       "    }\n",
       "\n",
       "    .dataframe thead th {\n",
       "        text-align: right;\n",
       "    }\n",
       "</style>\n",
       "<table border=\"1\" class=\"dataframe\">\n",
       "  <thead>\n",
       "    <tr style=\"text-align: right;\">\n",
       "      <th></th>\n",
       "      <th>age</th>\n",
       "      <th>sex</th>\n",
       "      <th>bmi</th>\n",
       "      <th>children</th>\n",
       "      <th>smoker</th>\n",
       "      <th>charges</th>\n",
       "      <th>northwest</th>\n",
       "      <th>southeast</th>\n",
       "      <th>southwest</th>\n",
       "    </tr>\n",
       "  </thead>\n",
       "  <tbody>\n",
       "    <tr>\n",
       "      <th>count</th>\n",
       "      <td>1338.000000</td>\n",
       "      <td>1338.000000</td>\n",
       "      <td>1338.000000</td>\n",
       "      <td>1338.000000</td>\n",
       "      <td>1338.000000</td>\n",
       "      <td>1338.000000</td>\n",
       "      <td>1338.000000</td>\n",
       "      <td>1338.000000</td>\n",
       "      <td>1338.000000</td>\n",
       "    </tr>\n",
       "    <tr>\n",
       "      <th>mean</th>\n",
       "      <td>39.207025</td>\n",
       "      <td>0.505232</td>\n",
       "      <td>30.663397</td>\n",
       "      <td>1.094918</td>\n",
       "      <td>0.204783</td>\n",
       "      <td>13270.422265</td>\n",
       "      <td>0.242900</td>\n",
       "      <td>0.272048</td>\n",
       "      <td>0.242900</td>\n",
       "    </tr>\n",
       "    <tr>\n",
       "      <th>std</th>\n",
       "      <td>14.049960</td>\n",
       "      <td>0.500160</td>\n",
       "      <td>6.098187</td>\n",
       "      <td>1.205493</td>\n",
       "      <td>0.403694</td>\n",
       "      <td>12110.011237</td>\n",
       "      <td>0.428995</td>\n",
       "      <td>0.445181</td>\n",
       "      <td>0.428995</td>\n",
       "    </tr>\n",
       "    <tr>\n",
       "      <th>min</th>\n",
       "      <td>18.000000</td>\n",
       "      <td>0.000000</td>\n",
       "      <td>15.960000</td>\n",
       "      <td>0.000000</td>\n",
       "      <td>0.000000</td>\n",
       "      <td>1121.873900</td>\n",
       "      <td>0.000000</td>\n",
       "      <td>0.000000</td>\n",
       "      <td>0.000000</td>\n",
       "    </tr>\n",
       "    <tr>\n",
       "      <th>25%</th>\n",
       "      <td>27.000000</td>\n",
       "      <td>0.000000</td>\n",
       "      <td>26.296250</td>\n",
       "      <td>0.000000</td>\n",
       "      <td>0.000000</td>\n",
       "      <td>4740.287150</td>\n",
       "      <td>0.000000</td>\n",
       "      <td>0.000000</td>\n",
       "      <td>0.000000</td>\n",
       "    </tr>\n",
       "    <tr>\n",
       "      <th>50%</th>\n",
       "      <td>39.000000</td>\n",
       "      <td>1.000000</td>\n",
       "      <td>30.400000</td>\n",
       "      <td>1.000000</td>\n",
       "      <td>0.000000</td>\n",
       "      <td>9382.033000</td>\n",
       "      <td>0.000000</td>\n",
       "      <td>0.000000</td>\n",
       "      <td>0.000000</td>\n",
       "    </tr>\n",
       "    <tr>\n",
       "      <th>75%</th>\n",
       "      <td>51.000000</td>\n",
       "      <td>1.000000</td>\n",
       "      <td>34.693750</td>\n",
       "      <td>2.000000</td>\n",
       "      <td>0.000000</td>\n",
       "      <td>16639.912515</td>\n",
       "      <td>0.000000</td>\n",
       "      <td>1.000000</td>\n",
       "      <td>0.000000</td>\n",
       "    </tr>\n",
       "    <tr>\n",
       "      <th>max</th>\n",
       "      <td>64.000000</td>\n",
       "      <td>1.000000</td>\n",
       "      <td>53.130000</td>\n",
       "      <td>5.000000</td>\n",
       "      <td>1.000000</td>\n",
       "      <td>63770.428010</td>\n",
       "      <td>1.000000</td>\n",
       "      <td>1.000000</td>\n",
       "      <td>1.000000</td>\n",
       "    </tr>\n",
       "  </tbody>\n",
       "</table>\n",
       "</div>"
      ],
      "text/plain": [
       "               age          sex          bmi     children       smoker  \\\n",
       "count  1338.000000  1338.000000  1338.000000  1338.000000  1338.000000   \n",
       "mean     39.207025     0.505232    30.663397     1.094918     0.204783   \n",
       "std      14.049960     0.500160     6.098187     1.205493     0.403694   \n",
       "min      18.000000     0.000000    15.960000     0.000000     0.000000   \n",
       "25%      27.000000     0.000000    26.296250     0.000000     0.000000   \n",
       "50%      39.000000     1.000000    30.400000     1.000000     0.000000   \n",
       "75%      51.000000     1.000000    34.693750     2.000000     0.000000   \n",
       "max      64.000000     1.000000    53.130000     5.000000     1.000000   \n",
       "\n",
       "            charges    northwest    southeast    southwest  \n",
       "count   1338.000000  1338.000000  1338.000000  1338.000000  \n",
       "mean   13270.422265     0.242900     0.272048     0.242900  \n",
       "std    12110.011237     0.428995     0.445181     0.428995  \n",
       "min     1121.873900     0.000000     0.000000     0.000000  \n",
       "25%     4740.287150     0.000000     0.000000     0.000000  \n",
       "50%     9382.033000     0.000000     0.000000     0.000000  \n",
       "75%    16639.912515     0.000000     1.000000     0.000000  \n",
       "max    63770.428010     1.000000     1.000000     1.000000  "
      ]
     },
     "execution_count": 16,
     "metadata": {},
     "output_type": "execute_result"
    }
   ],
   "source": [
    "insurance_df.describe()"
   ]
  },
  {
   "cell_type": "code",
   "execution_count": 17,
   "metadata": {},
   "outputs": [
    {
     "name": "stdout",
     "output_type": "stream",
     "text": [
      "39.20702541106129\n",
      "30.663396860986538\n",
      "13270.422265141257\n"
     ]
    }
   ],
   "source": [
    "print(insurance_df['age'].mean())\n",
    "print(insurance_df['bmi'].mean())\n",
    "print(insurance_df['charges'].mean())"
   ]
  },
  {
   "cell_type": "markdown",
   "metadata": {
    "colab_type": "text",
    "id": "Y0GmpAjG3GiH"
   },
   "source": [
    "# 4. Data Visualization"
   ]
  },
  {
   "cell_type": "code",
   "execution_count": 18,
   "metadata": {
    "scrolled": true
   },
   "outputs": [
    {
     "name": "stdout",
     "output_type": "stream",
     "text": [
      "{'Yes': '1', 'No': '0'}\n"
     ]
    },
    {
     "data": {
      "image/png": "[encoded data removed]",
      "text/plain": [
       "<Figure size 432x288 with 1 Axes>"
      ]
     },
     "metadata": {
      "needs_background": "light"
     },
     "output_type": "display_data"
    }
   ],
   "source": [
    "print(smoker)\n",
    "sns.countplot(insurance_df['smoker'])\n",
    "plt.show()"
   ]
  },
  {
   "cell_type": "code",
   "execution_count": 19,
   "metadata": {},
   "outputs": [
    {
     "data": {
      "image/png": "[encoded data removed]",
      "text/plain": [
       "<Figure size 432x288 with 1 Axes>"
      ]
     },
     "metadata": {
      "needs_background": "light"
     },
     "output_type": "display_data"
    }
   ],
   "source": [
    "sns.countplot(insurance_df['children'])\n",
    "plt.show()"
   ]
  },
  {
   "cell_type": "code",
   "execution_count": 20,
   "metadata": {},
   "outputs": [
    {
     "data": {
      "text/plain": [
       "<matplotlib.axes._subplots.AxesSubplot at 0x7f55847edad0>"
      ]
     },
     "execution_count": 20,
     "metadata": {},
     "output_type": "execute_result"
    },
    {
     "data": {
      "image/png": "[encoded data removed]",
      "text/plain": [
       "<Figure size 432x288 with 1 Axes>"
      ]
     },
     "metadata": {
      "needs_background": "light"
     },
     "output_type": "display_data"
    }
   ],
   "source": [
    "sns.distplot(insurance_df['age'])"
   ]
  },
  {
   "cell_type": "code",
   "execution_count": 21,
   "metadata": {
    "scrolled": true
   },
   "outputs": [
    {
     "data": {
      "text/plain": [
       "<matplotlib.axes._subplots.AxesSubplot at 0x7f5584828150>"
      ]
     },
     "execution_count": 21,
     "metadata": {},
     "output_type": "execute_result"
    },
    {
     "data": {
      "image/png": "[encoded data removed]",
      "text/plain": [
       "<Figure size 432x288 with 1 Axes>"
      ]
     },
     "metadata": {
      "needs_background": "light"
     },
     "output_type": "display_data"
    }
   ],
   "source": [
    "sns.distplot(insurance_df['bmi'])"
   ]
  },
  {
   "cell_type": "code",
   "execution_count": 22,
   "metadata": {},
   "outputs": [
    {
     "data": {
      "image/png": "[encoded data removed]",
      "text/plain": [
       "<Figure size 1440x1440 with 6 Axes>"
      ]
     },
     "metadata": {
      "needs_background": "light"
     },
     "output_type": "display_data"
    }
   ],
   "source": [
    "insurance_df[['age', 'sex', 'bmi', 'children', 'smoker', 'charges']].hist(bins = 30, figsize = (20,20), color = 'r')\n",
    "plt.show()"
   ]
  },
  {
   "cell_type": "code",
   "execution_count": 23,
   "metadata": {
    "colab": {
     "base_uri": "https://localhost:8080/",
     "height": 1000
    },
    "colab_type": "code",
    "id": "1OiGun0tvU7W",
    "outputId": "22204cf6-1a4d-46c7-af61-a27511873584"
   },
   "outputs": [
    {
     "data": {
      "image/png": "[encoded data removed]",
      "text/plain": [
       "<Figure size 432x288 with 1 Axes>"
      ]
     },
     "metadata": {
      "needs_background": "light"
     },
     "output_type": "display_data"
    }
   ],
   "source": [
    "#Try to Fit a Decision Boundary\n",
    "sns.regplot(x = 'age', y = 'charges', data = insurance_df)\n",
    "plt.show()"
   ]
  },
  {
   "cell_type": "code",
   "execution_count": 24,
   "metadata": {},
   "outputs": [
    {
     "data": {
      "image/png": "[encoded data removed]",
      "text/plain": [
       "<Figure size 432x288 with 1 Axes>"
      ]
     },
     "metadata": {
      "needs_background": "light"
     },
     "output_type": "display_data"
    }
   ],
   "source": [
    "#Try to Fit a Decision Boundary\n",
    "sns.regplot(x = 'bmi', y = 'charges', data = insurance_df)\n",
    "plt.show()"
   ]
  },
  {
   "cell_type": "markdown",
   "metadata": {},
   "source": [
    "**Co-relation Matrix**"
   ]
  },
  {
   "cell_type": "code",
   "execution_count": 25,
   "metadata": {
    "colab": {
     "base_uri": "https://localhost:8080/",
     "height": 297
    },
    "colab_type": "code",
    "id": "9q-tFxvskWDa",
    "outputId": "8834e9ec-7676-4e86-c5e7-20f4e9eccbcb"
   },
   "outputs": [
    {
     "data": {
      "text/html": [
       "<div>\n",
       "<style scoped>\n",
       "    .dataframe tbody tr th:only-of-type {\n",
       "        vertical-align: middle;\n",
       "    }\n",
       "\n",
       "    .dataframe tbody tr th {\n",
       "        vertical-align: top;\n",
       "    }\n",
       "\n",
       "    .dataframe thead th {\n",
       "        text-align: right;\n",
       "    }\n",
       "</style>\n",
       "<table border=\"1\" class=\"dataframe\">\n",
       "  <thead>\n",
       "    <tr style=\"text-align: right;\">\n",
       "      <th></th>\n",
       "      <th>age</th>\n",
       "      <th>sex</th>\n",
       "      <th>bmi</th>\n",
       "      <th>children</th>\n",
       "      <th>smoker</th>\n",
       "      <th>charges</th>\n",
       "      <th>northwest</th>\n",
       "      <th>southeast</th>\n",
       "      <th>southwest</th>\n",
       "    </tr>\n",
       "  </thead>\n",
       "  <tbody>\n",
       "    <tr>\n",
       "      <th>age</th>\n",
       "      <td>1.000000</td>\n",
       "      <td>-0.020856</td>\n",
       "      <td>0.109272</td>\n",
       "      <td>0.042469</td>\n",
       "      <td>-0.025019</td>\n",
       "      <td>0.299008</td>\n",
       "      <td>-0.000407</td>\n",
       "      <td>-0.011642</td>\n",
       "      <td>0.010016</td>\n",
       "    </tr>\n",
       "    <tr>\n",
       "      <th>sex</th>\n",
       "      <td>-0.020856</td>\n",
       "      <td>1.000000</td>\n",
       "      <td>0.046371</td>\n",
       "      <td>0.017163</td>\n",
       "      <td>0.076185</td>\n",
       "      <td>0.057292</td>\n",
       "      <td>-0.011156</td>\n",
       "      <td>0.017117</td>\n",
       "      <td>-0.004184</td>\n",
       "    </tr>\n",
       "    <tr>\n",
       "      <th>bmi</th>\n",
       "      <td>0.109272</td>\n",
       "      <td>0.046371</td>\n",
       "      <td>1.000000</td>\n",
       "      <td>0.012759</td>\n",
       "      <td>0.003750</td>\n",
       "      <td>0.198341</td>\n",
       "      <td>-0.135996</td>\n",
       "      <td>0.270025</td>\n",
       "      <td>-0.006205</td>\n",
       "    </tr>\n",
       "    <tr>\n",
       "      <th>children</th>\n",
       "      <td>0.042469</td>\n",
       "      <td>0.017163</td>\n",
       "      <td>0.012759</td>\n",
       "      <td>1.000000</td>\n",
       "      <td>0.007673</td>\n",
       "      <td>0.067998</td>\n",
       "      <td>0.024806</td>\n",
       "      <td>-0.023066</td>\n",
       "      <td>0.021914</td>\n",
       "    </tr>\n",
       "    <tr>\n",
       "      <th>smoker</th>\n",
       "      <td>-0.025019</td>\n",
       "      <td>0.076185</td>\n",
       "      <td>0.003750</td>\n",
       "      <td>0.007673</td>\n",
       "      <td>1.000000</td>\n",
       "      <td>0.787251</td>\n",
       "      <td>-0.036945</td>\n",
       "      <td>0.068498</td>\n",
       "      <td>-0.036945</td>\n",
       "    </tr>\n",
       "    <tr>\n",
       "      <th>charges</th>\n",
       "      <td>0.299008</td>\n",
       "      <td>0.057292</td>\n",
       "      <td>0.198341</td>\n",
       "      <td>0.067998</td>\n",
       "      <td>0.787251</td>\n",
       "      <td>1.000000</td>\n",
       "      <td>-0.039905</td>\n",
       "      <td>0.073982</td>\n",
       "      <td>-0.043210</td>\n",
       "    </tr>\n",
       "    <tr>\n",
       "      <th>northwest</th>\n",
       "      <td>-0.000407</td>\n",
       "      <td>-0.011156</td>\n",
       "      <td>-0.135996</td>\n",
       "      <td>0.024806</td>\n",
       "      <td>-0.036945</td>\n",
       "      <td>-0.039905</td>\n",
       "      <td>1.000000</td>\n",
       "      <td>-0.346265</td>\n",
       "      <td>-0.320829</td>\n",
       "    </tr>\n",
       "    <tr>\n",
       "      <th>southeast</th>\n",
       "      <td>-0.011642</td>\n",
       "      <td>0.017117</td>\n",
       "      <td>0.270025</td>\n",
       "      <td>-0.023066</td>\n",
       "      <td>0.068498</td>\n",
       "      <td>0.073982</td>\n",
       "      <td>-0.346265</td>\n",
       "      <td>1.000000</td>\n",
       "      <td>-0.346265</td>\n",
       "    </tr>\n",
       "    <tr>\n",
       "      <th>southwest</th>\n",
       "      <td>0.010016</td>\n",
       "      <td>-0.004184</td>\n",
       "      <td>-0.006205</td>\n",
       "      <td>0.021914</td>\n",
       "      <td>-0.036945</td>\n",
       "      <td>-0.043210</td>\n",
       "      <td>-0.320829</td>\n",
       "      <td>-0.346265</td>\n",
       "      <td>1.000000</td>\n",
       "    </tr>\n",
       "  </tbody>\n",
       "</table>\n",
       "</div>"
      ],
      "text/plain": [
       "                age       sex       bmi  children    smoker   charges  \\\n",
       "age        1.000000 -0.020856  0.109272  0.042469 -0.025019  0.299008   \n",
       "sex       -0.020856  1.000000  0.046371  0.017163  0.076185  0.057292   \n",
       "bmi        0.109272  0.046371  1.000000  0.012759  0.003750  0.198341   \n",
       "children   0.042469  0.017163  0.012759  1.000000  0.007673  0.067998   \n",
       "smoker    -0.025019  0.076185  0.003750  0.007673  1.000000  0.787251   \n",
       "charges    0.299008  0.057292  0.198341  0.067998  0.787251  1.000000   \n",
       "northwest -0.000407 -0.011156 -0.135996  0.024806 -0.036945 -0.039905   \n",
       "southeast -0.011642  0.017117  0.270025 -0.023066  0.068498  0.073982   \n",
       "southwest  0.010016 -0.004184 -0.006205  0.021914 -0.036945 -0.043210   \n",
       "\n",
       "           northwest  southeast  southwest  \n",
       "age        -0.000407  -0.011642   0.010016  \n",
       "sex        -0.011156   0.017117  -0.004184  \n",
       "bmi        -0.135996   0.270025  -0.006205  \n",
       "children    0.024806  -0.023066   0.021914  \n",
       "smoker     -0.036945   0.068498  -0.036945  \n",
       "charges    -0.039905   0.073982  -0.043210  \n",
       "northwest   1.000000  -0.346265  -0.320829  \n",
       "southeast  -0.346265   1.000000  -0.346265  \n",
       "southwest  -0.320829  -0.346265   1.000000  "
      ]
     },
     "execution_count": 25,
     "metadata": {},
     "output_type": "execute_result"
    }
   ],
   "source": [
    "corr = insurance_df.corr()\n",
    "corr"
   ]
  },
  {
   "cell_type": "code",
   "execution_count": 26,
   "metadata": {
    "colab": {
     "base_uri": "https://localhost:8080/",
     "height": 932
    },
    "colab_type": "code",
    "id": "clmblKfur8rm",
    "outputId": "760b0882-8993-4aed-9c38-866ef8a7c6cd"
   },
   "outputs": [
    {
     "data": {
      "text/plain": [
       "<matplotlib.axes._subplots.AxesSubplot at 0x7f558438a050>"
      ]
     },
     "execution_count": 26,
     "metadata": {},
     "output_type": "execute_result"
    },
    {
     "data": {
      "image/png": "[encoded data removed]",
      "text/plain": [
       "<Figure size 1080x720 with 2 Axes>"
      ]
     },
     "metadata": {
      "needs_background": "light"
     },
     "output_type": "display_data"
    }
   ],
   "source": [
    "plt.figure(figsize=(15,10))\n",
    "sns.heatmap(corr,cmap='coolwarm',annot=True,linecolor='black', linewidths=2)"
   ]
  },
  {
   "cell_type": "markdown",
   "metadata": {
    "colab_type": "text",
    "id": "53qDZFRn3-S1"
   },
   "source": [
    "# 5. Data Splitting"
   ]
  },
  {
   "cell_type": "markdown",
   "metadata": {},
   "source": [
    "## Splitting Independent & Dependent Variables "
   ]
  },
  {
   "cell_type": "code",
   "execution_count": 27,
   "metadata": {
    "colab": {
     "base_uri": "https://localhost:8080/",
     "height": 68
    },
    "colab_type": "code",
    "id": "8QQTkOBL1yUR",
    "outputId": "e79771c7-a34d-430f-db8a-fa4c1253af78"
   },
   "outputs": [
    {
     "data": {
      "text/plain": [
       "Index(['age', 'sex', 'bmi', 'children', 'smoker', 'charges', 'northwest',\n",
       "       'southeast', 'southwest'],\n",
       "      dtype='object')"
      ]
     },
     "execution_count": 27,
     "metadata": {},
     "output_type": "execute_result"
    }
   ],
   "source": [
    "insurance_df.columns"
   ]
  },
  {
   "cell_type": "code",
   "execution_count": 28,
   "metadata": {
    "colab": {},
    "colab_type": "code",
    "id": "4OXZB2F21e4H"
   },
   "outputs": [],
   "source": [
    "#X Contain the Independent Variables\n",
    "X = insurance_df.drop(columns =['charges'])\n",
    "#y Contain the dependent Variables\n",
    "y = insurance_df['charges']"
   ]
  },
  {
   "cell_type": "code",
   "execution_count": 29,
   "metadata": {
    "colab": {
     "base_uri": "https://localhost:8080/",
     "height": 34
    },
    "colab_type": "code",
    "id": "XpGU63Ne1e9P",
    "outputId": "e16c74ca-dc1c-416c-dc44-7f927bb99bc6"
   },
   "outputs": [
    {
     "name": "stdout",
     "output_type": "stream",
     "text": [
      "(1338, 8)\n",
      "(1338,)\n"
     ]
    }
   ],
   "source": [
    "print(X.shape)\n",
    "print(y.shape)"
   ]
  },
  {
   "cell_type": "code",
   "execution_count": 30,
   "metadata": {
    "colab": {},
    "colab_type": "code",
    "id": "jIeiK1maA6mm"
   },
   "outputs": [],
   "source": [
    "X = np.array(X).astype('float32')\n",
    "y = np.array(y).astype('float32')"
   ]
  },
  {
   "cell_type": "code",
   "execution_count": 31,
   "metadata": {},
   "outputs": [],
   "source": [
    "y = y.reshape(-1,1)"
   ]
  },
  {
   "cell_type": "code",
   "execution_count": 32,
   "metadata": {},
   "outputs": [
    {
     "data": {
      "text/plain": [
       "array([[19.  ,  0.  , 27.9 , ...,  0.  ,  0.  ,  1.  ],\n",
       "       [18.  ,  1.  , 33.77, ...,  0.  ,  1.  ,  0.  ],\n",
       "       [28.  ,  1.  , 33.  , ...,  0.  ,  1.  ,  0.  ],\n",
       "       ...,\n",
       "       [18.  ,  0.  , 36.85, ...,  0.  ,  1.  ,  0.  ],\n",
       "       [21.  ,  0.  , 25.8 , ...,  0.  ,  0.  ,  1.  ],\n",
       "       [61.  ,  0.  , 29.07, ...,  1.  ,  0.  ,  0.  ]], dtype=float32)"
      ]
     },
     "execution_count": 32,
     "metadata": {},
     "output_type": "execute_result"
    }
   ],
   "source": [
    "# Only take the numerical variables and scale them\n",
    "X "
   ]
  },
  {
   "cell_type": "markdown",
   "metadata": {},
   "source": [
    "## Splitting Data Into Training & Testing Set"
   ]
  },
  {
   "cell_type": "code",
   "execution_count": 33,
   "metadata": {},
   "outputs": [],
   "source": [
    "from sklearn.model_selection import train_test_split\n",
    "\n",
    "X_train, X_test, y_train, y_test = train_test_split( X, y, test_size=0.2, random_state=0)"
   ]
  },
  {
   "cell_type": "code",
   "execution_count": 37,
   "metadata": {
    "colab": {},
    "colab_type": "code",
    "id": "m6V7goNiA6xG"
   },
   "outputs": [],
   "source": [
    "#scaling the data before feeding the model\n",
    "# from sklearn.preprocessing import StandardScaler, MinMaxScaler\n",
    "\n",
    "# scaler_x = StandardScaler()\n",
    "# X_train = scaler_x.fit_transform(X_train)\n",
    "# X_test = scaler_x.transform(X_test)\n",
    "\n",
    "# scaler_y = StandardScaler()\n",
    "# y_train = scaler_y.fit_transform(y_train)\n",
    "# y_test = scaler_y.transform(y_test)\n"
   ]
  },
  {
   "cell_type": "code",
   "execution_count": 34,
   "metadata": {},
   "outputs": [
    {
     "data": {
      "text/plain": [
       "array([[37.  ,  1.  , 34.1 , ...,  0.  ,  0.  ,  1.  ],\n",
       "       [18.  ,  1.  , 34.43, ...,  0.  ,  1.  ,  0.  ],\n",
       "       [23.  ,  0.  , 36.67, ...,  0.  ,  0.  ,  0.  ],\n",
       "       ...,\n",
       "       [40.  ,  1.  , 25.08, ...,  0.  ,  1.  ,  0.  ],\n",
       "       [19.  ,  1.  , 35.53, ...,  1.  ,  0.  ,  0.  ],\n",
       "       [33.  ,  0.  , 18.5 , ...,  0.  ,  0.  ,  1.  ]], dtype=float32)"
      ]
     },
     "execution_count": 34,
     "metadata": {},
     "output_type": "execute_result"
    }
   ],
   "source": [
    "X_train"
   ]
  },
  {
   "cell_type": "markdown",
   "metadata": {
    "colab_type": "text",
    "id": "idWHLv5alF4C"
   },
   "source": [
    "# 6. Training & Testing using SK-LEARN"
   ]
  },
  {
   "cell_type": "code",
   "execution_count": 35,
   "metadata": {
    "colab": {
     "base_uri": "https://localhost:8080/",
     "height": 34
    },
    "colab_type": "code",
    "id": "yHL-6mKwBURs",
    "outputId": "10d71b6d-9c2b-4bab-8b27-d3c5883e6a25",
    "scrolled": true
   },
   "outputs": [
    {
     "data": {
      "text/plain": [
       "LinearRegression(copy_X=True, fit_intercept=True, n_jobs=None, normalize=False)"
      ]
     },
     "execution_count": 35,
     "metadata": {},
     "output_type": "execute_result"
    }
   ],
   "source": [
    "# using linear regression model\n",
    "from sklearn.linear_model import LinearRegression\n",
    "from sklearn.metrics import mean_squared_error, accuracy_score\n",
    "\n",
    "classifier = LinearRegression()\n",
    "classifier.fit(X_train, y_train)\n"
   ]
  },
  {
   "cell_type": "code",
   "execution_count": 37,
   "metadata": {
    "colab": {
     "base_uri": "https://localhost:8080/",
     "height": 34
    },
    "colab_type": "code",
    "id": "elD8m5N0BgEY",
    "outputId": "16a1813d-a0f1-4d1f-dc02-d7ad5a445417"
   },
   "outputs": [
    {
     "name": "stdout",
     "output_type": "stream",
     "text": [
      "79.99876937113217\n"
     ]
    }
   ],
   "source": [
    "accuracy = classifier.score(X_test, y_test)\n",
    "print(accuracy*100)"
   ]
  },
  {
   "cell_type": "code",
   "execution_count": 38,
   "metadata": {},
   "outputs": [],
   "source": [
    "y_predict = classifier.predict(X_test)"
   ]
  },
  {
   "cell_type": "code",
   "execution_count": 42,
   "metadata": {},
   "outputs": [],
   "source": [
    "#Since the Output is Scaled , So we need to convert it in original form"
   ]
  },
  {
   "cell_type": "code",
   "execution_count": 39,
   "metadata": {},
   "outputs": [],
   "source": [
    "#y_predict_orig = scaler_y.inverse_transform(y_predict)\n",
    "#y_test_orig = scaler_y.inverse_transform(y_test)"
   ]
  },
  {
   "cell_type": "code",
   "execution_count": 42,
   "metadata": {},
   "outputs": [],
   "source": [
    "#y_test"
   ]
  },
  {
   "cell_type": "markdown",
   "metadata": {},
   "source": [
    "# 6. Training & Testing using SAGEMAKER"
   ]
  },
  {
   "cell_type": "code",
   "execution_count": 43,
   "metadata": {},
   "outputs": [
    {
     "name": "stdout",
     "output_type": "stream",
     "text": [
      "arn:aws:iam::429937773353:role/service-role/AmazonSageMaker-ExecutionRole-20210616T232011\n"
     ]
    }
   ],
   "source": [
    "# Boto3 is the Amazon Web Services (AWS) Software Development Kit (SDK) for Python\n",
    "# Boto3 allows Python developer to write software that makes use of services like Amazon S3 and Amazon EC2\n",
    "\n",
    "import sagemaker\n",
    "import boto3\n",
    "from sagemaker import Session\n",
    "\n",
    "# Let's create a Sagemaker session\n",
    "sagemaker_session = sagemaker.Session()\n",
    "bucket = 'sagemaker-premium' \n",
    "prefix = 'linear-learner' # prefix is the subfolder within the bucket.\n",
    "\n",
    "role = sagemaker.get_execution_role()\n",
    "print(role)"
   ]
  },
  {
   "cell_type": "code",
   "execution_count": 44,
   "metadata": {},
   "outputs": [
    {
     "data": {
      "text/plain": [
       "(268, 8)"
      ]
     },
     "execution_count": 44,
     "metadata": {},
     "output_type": "execute_result"
    }
   ],
   "source": [
    "X_test.shape"
   ]
  },
  {
   "cell_type": "code",
   "execution_count": 45,
   "metadata": {},
   "outputs": [
    {
     "data": {
      "text/plain": [
       "(268, 1)"
      ]
     },
     "execution_count": 45,
     "metadata": {},
     "output_type": "execute_result"
    }
   ],
   "source": [
    "y_test.shape"
   ]
  },
  {
   "cell_type": "code",
   "execution_count": 46,
   "metadata": {},
   "outputs": [
    {
     "data": {
      "text/plain": [
       "(1070, 8)"
      ]
     },
     "execution_count": 46,
     "metadata": {},
     "output_type": "execute_result"
    }
   ],
   "source": [
    "X_train.shape"
   ]
  },
  {
   "cell_type": "code",
   "execution_count": 47,
   "metadata": {},
   "outputs": [],
   "source": [
    "y_train = y_train[:,0]"
   ]
  },
  {
   "cell_type": "code",
   "execution_count": 48,
   "metadata": {},
   "outputs": [
    {
     "data": {
      "text/plain": [
       "(1070,)"
      ]
     },
     "execution_count": 48,
     "metadata": {},
     "output_type": "execute_result"
    }
   ],
   "source": [
    "y_train.shape"
   ]
  },
  {
   "cell_type": "code",
   "execution_count": 49,
   "metadata": {},
   "outputs": [
    {
     "data": {
      "text/plain": [
       "0"
      ]
     },
     "execution_count": 49,
     "metadata": {},
     "output_type": "execute_result"
    }
   ],
   "source": [
    "import io\n",
    "import numpy as np \n",
    "import sagemaker.amazon.common as smac\n",
    "\n",
    "buf = io.BytesIO()\n",
    "smac.write_numpy_to_dense_tensor(buf,X_train,y_train)\n",
    "buf.seek(0)"
   ]
  },
  {
   "cell_type": "code",
   "execution_count": 50,
   "metadata": {},
   "outputs": [],
   "source": [
    "import os\n",
    "\n",
    "key = \"linear_train_data\"\n",
    "boto3.resource('s3').Bucket(bucket).Object(os.path.join(prefix, 'train', key)).upload_fileobj(buf)"
   ]
  },
  {
   "cell_type": "code",
   "execution_count": 51,
   "metadata": {},
   "outputs": [],
   "source": [
    "s3_train_data = 's3://{}/{}/train/{}'.format(bucket, prefix, key)"
   ]
  },
  {
   "cell_type": "code",
   "execution_count": 52,
   "metadata": {},
   "outputs": [],
   "source": [
    "output_location = 's3://{}/{}/output'.format(bucket, prefix)"
   ]
  },
  {
   "cell_type": "code",
   "execution_count": 53,
   "metadata": {},
   "outputs": [
    {
     "name": "stderr",
     "output_type": "stream",
     "text": [
      "The method get_image_uri has been renamed in sagemaker>=2.\n",
      "See: https://sagemaker.readthedocs.io/en/stable/v2.html for details.\n",
      "Defaulting to the only supported framework/algorithm version: 1. Ignoring framework/algorithm version: 1.\n"
     ]
    }
   ],
   "source": [
    "from sagemaker.amazon.amazon_estimator import get_image_uri\n",
    "\n",
    "container = get_image_uri(boto3.Session().region_name, 'linear-learner')"
   ]
  },
  {
   "cell_type": "code",
   "execution_count": 54,
   "metadata": {},
   "outputs": [
    {
     "name": "stderr",
     "output_type": "stream",
     "text": [
      "train_instance_count has been renamed in sagemaker>=2.\n",
      "See: https://sagemaker.readthedocs.io/en/stable/v2.html for details.\n",
      "train_instance_type has been renamed in sagemaker>=2.\n",
      "See: https://sagemaker.readthedocs.io/en/stable/v2.html for details.\n"
     ]
    },
    {
     "name": "stdout",
     "output_type": "stream",
     "text": [
      "2021-06-17 13:49:02 Starting - Starting the training job...\n",
      "2021-06-17 13:49:25 Starting - Launching requested ML instancesProfilerReport-1623937742: InProgress\n",
      "......\n",
      "2021-06-17 13:50:26 Starting - Preparing the instances for training.........\n",
      "2021-06-17 13:52:03 Downloading - Downloading input data...\n",
      "2021-06-17 13:52:28 Training - Training image download completed. Training in progress..\u001b[34mDocker entrypoint called with argument(s): train\u001b[0m\n",
      "\u001b[34mRunning default environment configuration script\u001b[0m\n",
      "\u001b[34m[06/17/2021 13:52:32 INFO 139985458161472] Reading default configuration from /opt/amazon/lib/python3.7/site-packages/algorithm/resources/default-input.json: {'mini_batch_size': '1000', 'epochs': '15', 'feature_dim': 'auto', 'use_bias': 'true', 'binary_classifier_model_selection_criteria': 'accuracy', 'f_beta': '1.0', 'target_recall': '0.8', 'target_precision': '0.8', 'num_models': 'auto', 'num_calibration_samples': '10000000', 'init_method': 'uniform', 'init_scale': '0.07', 'init_sigma': '0.01', 'init_bias': '0.0', 'optimizer': 'auto', 'loss': 'auto', 'margin': '1.0', 'quantile': '0.5', 'loss_insensitivity': '0.01', 'huber_delta': '1.0', 'num_classes': '1', 'accuracy_top_k': '3', 'wd': 'auto', 'l1': 'auto', 'momentum': 'auto', 'learning_rate': 'auto', 'beta_1': 'auto', 'beta_2': 'auto', 'bias_lr_mult': 'auto', 'bias_wd_mult': 'auto', 'use_lr_scheduler': 'true', 'lr_scheduler_step': 'auto', 'lr_scheduler_factor': 'auto', 'lr_scheduler_minimum_lr': 'auto', 'positive_example_weight_mult': '1.0', 'balance_multiclass_weights': 'false', 'normalize_data': 'true', 'normalize_label': 'auto', 'unbias_data': 'auto', 'unbias_label': 'auto', 'num_point_for_scaler': '10000', '_kvstore': 'auto', '_num_gpus': 'auto', '_num_kv_servers': 'auto', '_log_level': 'info', '_tuning_objective_metric': '', 'early_stopping_patience': '3', 'early_stopping_tolerance': '0.001', '_enable_profiler': 'false'}\u001b[0m\n",
      "\u001b[34m[06/17/2021 13:52:32 INFO 139985458161472] Merging with provided configuration from /opt/ml/input/config/hyperparameters.json: {'loss': 'absolute_loss', 'feature_dim': '8', 'num_models': '10', 'predictor_type': 'regressor', 'epochs': '100', 'mini_batch_size': '100'}\u001b[0m\n",
      "\u001b[34m[06/17/2021 13:52:32 INFO 139985458161472] Final configuration: {'mini_batch_size': '100', 'epochs': '100', 'feature_dim': '8', 'use_bias': 'true', 'binary_classifier_model_selection_criteria': 'accuracy', 'f_beta': '1.0', 'target_recall': '0.8', 'target_precision': '0.8', 'num_models': '10', 'num_calibration_samples': '10000000', 'init_method': 'uniform', 'init_scale': '0.07', 'init_sigma': '0.01', 'init_bias': '0.0', 'optimizer': 'auto', 'loss': 'absolute_loss', 'margin': '1.0', 'quantile': '0.5', 'loss_insensitivity': '0.01', 'huber_delta': '1.0', 'num_classes': '1', 'accuracy_top_k': '3', 'wd': 'auto', 'l1': 'auto', 'momentum': 'auto', 'learning_rate': 'auto', 'beta_1': 'auto', 'beta_2': 'auto', 'bias_lr_mult': 'auto', 'bias_wd_mult': 'auto', 'use_lr_scheduler': 'true', 'lr_scheduler_step': 'auto', 'lr_scheduler_factor': 'auto', 'lr_scheduler_minimum_lr': 'auto', 'positive_example_weight_mult': '1.0', 'balance_multiclass_weights': 'false', 'normalize_data': 'true', 'normalize_label': 'auto', 'unbias_data': 'auto', 'unbias_label': 'auto', 'num_point_for_scaler': '10000', '_kvstore': 'auto', '_num_gpus': 'auto', '_num_kv_servers': 'auto', '_log_level': 'info', '_tuning_objective_metric': '', 'early_stopping_patience': '3', 'early_stopping_tolerance': '0.001', '_enable_profiler': 'false', 'predictor_type': 'regressor'}\u001b[0m\n",
      "\u001b[34m[06/17/2021 13:52:32 WARNING 139985458161472] Loggers have already been setup.\u001b[0m\n",
      "\u001b[34mProcess 1 is a worker.\u001b[0m\n",
      "\u001b[34m[06/17/2021 13:52:32 INFO 139985458161472] Using default worker.\u001b[0m\n",
      "\u001b[34m[06/17/2021 13:52:33 INFO 139985458161472] Checkpoint loading and saving are disabled.\u001b[0m\n",
      "\u001b[34m[2021-06-17 13:52:33.112] [tensorio] [info] epoch_stats={\"data_pipeline\": \"/opt/ml/input/data/train\", \"epoch\": 0, \"duration\": 18, \"num_examples\": 1, \"num_bytes\": 7600}\u001b[0m\n",
      "\u001b[34m[06/17/2021 13:52:33 INFO 139985458161472] Create Store: local\u001b[0m\n",
      "\u001b[34m[2021-06-17 13:52:33.203] [tensorio] [info] epoch_stats={\"data_pipeline\": \"/opt/ml/input/data/train\", \"epoch\": 1, \"duration\": 90, \"num_examples\": 11, \"num_bytes\": 81320}\u001b[0m\n",
      "\u001b[34m[06/17/2021 13:52:33 INFO 139985458161472] Scaler algorithm parameters\n",
      " <algorithm.scaler.ScalerAlgorithmStable object at 0x7f5082805850>\u001b[0m\n",
      "\u001b[34m[06/17/2021 13:52:33 INFO 139985458161472] Scaling model computed with parameters:\n",
      " {'stdev_label': \u001b[0m\n",
      "\u001b[34m[11812.023]\u001b[0m\n",
      "\u001b[34m<NDArray 1 @cpu(0)>, 'stdev_weight': \u001b[0m\n",
      "\u001b[34m[14.113579    0.49985597  6.1736546   1.2141894   0.4037016   0.4270831\n",
      "  0.44801342  0.43416122]\u001b[0m\n",
      "\u001b[34m<NDArray 8 @cpu(0)>, 'mean_label': \u001b[0m\n",
      "\u001b[34m[13138.322]\u001b[0m\n",
      "\u001b[34m<NDArray 1 @cpu(0)>, 'mean_weight': \u001b[0m\n",
      "\u001b[34m[39.07        0.48800004 30.78595     1.088       0.20500003  0.23999998\n",
      "  0.278       0.25199997]\u001b[0m\n",
      "\u001b[34m<NDArray 8 @cpu(0)>}\u001b[0m\n",
      "\u001b[34m[06/17/2021 13:52:33 INFO 139985458161472] nvidia-smi: took 0.030 seconds to run.\u001b[0m\n",
      "\u001b[34m[06/17/2021 13:52:33 INFO 139985458161472] nvidia-smi identified 0 GPUs.\u001b[0m\n",
      "\u001b[34m[06/17/2021 13:52:33 INFO 139985458161472] Number of GPUs being used: 0\u001b[0m\n",
      "\u001b[34m#metrics {\"StartTime\": 1623937953.2596498, \"EndTime\": 1623937953.2596824, \"Dimensions\": {\"Algorithm\": \"Linear Learner\", \"Host\": \"algo-1\", \"Operation\": \"training\", \"Meta\": \"init_train_data_iter\"}, \"Metrics\": {\"Total Records Seen\": {\"sum\": 1170.0, \"count\": 1, \"min\": 1170, \"max\": 1170}, \"Total Batches Seen\": {\"sum\": 12.0, \"count\": 1, \"min\": 12, \"max\": 12}, \"Max Records Seen Between Resets\": {\"sum\": 1070.0, \"count\": 1, \"min\": 1070, \"max\": 1070}, \"Max Batches Seen Between Resets\": {\"sum\": 11.0, \"count\": 1, \"min\": 11, \"max\": 11}, \"Reset Count\": {\"sum\": 2.0, \"count\": 1, \"min\": 2, \"max\": 2}, \"Number of Records Since Last Reset\": {\"sum\": 0.0, \"count\": 1, \"min\": 0, \"max\": 0}, \"Number of Batches Since Last Reset\": {\"sum\": 0.0, \"count\": 1, \"min\": 0, \"max\": 0}}}\n",
      "\u001b[0m\n",
      "\u001b[34m[2021-06-17 13:52:33.344] [tensorio] [info] epoch_stats={\"data_pipeline\": \"/opt/ml/input/data/train\", \"epoch\": 4, \"duration\": 83, \"num_examples\": 11, \"num_bytes\": 81320}\u001b[0m\n",
      "\u001b[34m#metrics {\"StartTime\": 1623937953.3440382, \"EndTime\": 1623937953.344092, \"Dimensions\": {\"Algorithm\": \"Linear Learner\", \"Host\": \"algo-1\", \"Operation\": \"training\", \"epoch\": 0, \"model\": 0}, \"Metrics\": {\"train_absolute_loss_objective\": {\"sum\": 0.6875226097106933, \"count\": 1, \"min\": 0.6875226097106933, \"max\": 0.6875226097106933}}}\n",
      "\u001b[0m\n",
      "\u001b[34m#metrics {\"StartTime\": 1623937953.3441825, \"EndTime\": 1623937953.3442028, \"Dimensions\": {\"Algorithm\": \"Linear Learner\", \"Host\": \"algo-1\", \"Operation\": \"training\", \"epoch\": 0, \"model\": 1}, \"Metrics\": {\"train_absolute_loss_objective\": {\"sum\": 0.7039765014648437, \"count\": 1, \"min\": 0.7039765014648437, \"max\": 0.7039765014648437}}}\n",
      "\u001b[0m\n",
      "\u001b[34m#metrics {\"StartTime\": 1623937953.3442574, \"EndTime\": 1623937953.3442693, \"Dimensions\": {\"Algorithm\": \"Linear Learner\", \"Host\": \"algo-1\", \"Operation\": \"training\", \"epoch\": 0, \"model\": 2}, \"Metrics\": {\"train_absolute_loss_objective\": {\"sum\": 0.6507203559875488, \"count\": 1, \"min\": 0.6507203559875488, \"max\": 0.6507203559875488}}}\n",
      "\u001b[0m\n",
      "\u001b[34m#metrics {\"StartTime\": 1623937953.344299, \"EndTime\": 1623937953.3443077, \"Dimensions\": {\"Algorithm\": \"Linear Learner\", \"Host\": \"algo-1\", \"Operation\": \"training\", \"epoch\": 0, \"model\": 3}, \"Metrics\": {\"train_absolute_loss_objective\": {\"sum\": 0.7293560485839844, \"count\": 1, \"min\": 0.7293560485839844, \"max\": 0.7293560485839844}}}\n",
      "\u001b[0m\n",
      "\u001b[34m#metrics {\"StartTime\": 1623937953.3443613, \"EndTime\": 1623937953.344378, \"Dimensions\": {\"Algorithm\": \"Linear Learner\", \"Host\": \"algo-1\", \"Operation\": \"training\", \"epoch\": 0, \"model\": 4}, \"Metrics\": {\"train_absolute_loss_objective\": {\"sum\": 0.6458587570190429, \"count\": 1, \"min\": 0.6458587570190429, \"max\": 0.6458587570190429}}}\n",
      "\u001b[0m\n",
      "\u001b[34m#metrics {\"StartTime\": 1623937953.344438, \"EndTime\": 1623937953.3444555, \"Dimensions\": {\"Algorithm\": \"Linear Learner\", \"Host\": \"algo-1\", \"Operation\": \"training\", \"epoch\": 0, \"model\": 5}, \"Metrics\": {\"train_absolute_loss_objective\": {\"sum\": 0.6353733673095703, \"count\": 1, \"min\": 0.6353733673095703, \"max\": 0.6353733673095703}}}\n",
      "\u001b[0m\n",
      "\u001b[34m#metrics {\"StartTime\": 1623937953.3445072, \"EndTime\": 1623937953.3445244, \"Dimensions\": {\"Algorithm\": \"Linear Learner\", \"Host\": \"algo-1\", \"Operation\": \"training\", \"epoch\": 0, \"model\": 6}, \"Metrics\": {\"train_absolute_loss_objective\": {\"sum\": 0.6419988708496094, \"count\": 1, \"min\": 0.6419988708496094, \"max\": 0.6419988708496094}}}\n",
      "\u001b[0m\n",
      "\u001b[34m#metrics {\"StartTime\": 1623937953.344574, \"EndTime\": 1623937953.3445902, \"Dimensions\": {\"Algorithm\": \"Linear Learner\", \"Host\": \"algo-1\", \"Operation\": \"training\", \"epoch\": 0, \"model\": 7}, \"Metrics\": {\"train_absolute_loss_objective\": {\"sum\": 0.6396298332214355, \"count\": 1, \"min\": 0.6396298332214355, \"max\": 0.6396298332214355}}}\n",
      "\u001b[0m\n",
      "\u001b[34m#metrics {\"StartTime\": 1623937953.344631, \"EndTime\": 1623937953.3446407, \"Dimensions\": {\"Algorithm\": \"Linear Learner\", \"Host\": \"algo-1\", \"Operation\": \"training\", \"epoch\": 0, \"model\": 8}, \"Metrics\": {\"train_absolute_loss_objective\": {\"sum\": 0.7379338912963868, \"count\": 1, \"min\": 0.7379338912963868, \"max\": 0.7379338912963868}}}\n",
      "\u001b[0m\n",
      "\u001b[34m#metrics {\"StartTime\": 1623937953.3446658, \"EndTime\": 1623937953.3446736, \"Dimensions\": {\"Algorithm\": \"Linear Learner\", \"Host\": \"algo-1\", \"Operation\": \"training\", \"epoch\": 0, \"model\": 9}, \"Metrics\": {\"train_absolute_loss_objective\": {\"sum\": 0.6546136016845703, \"count\": 1, \"min\": 0.6546136016845703, \"max\": 0.6546136016845703}}}\n",
      "\u001b[0m\n",
      "\u001b[34m[06/17/2021 13:52:33 INFO 139985458161472] #quality_metric: host=algo-1, epoch=0, train absolute_loss_objective <loss>=0.6875226097106933\u001b[0m\n",
      "\u001b[34m[06/17/2021 13:52:33 INFO 139985458161472] #early_stopping_criteria_metric: host=algo-1, epoch=0, criteria=absolute_loss_objective, value=0.6353733673095703\u001b[0m\n",
      "\u001b[34m[06/17/2021 13:52:33 INFO 139985458161472] Epoch 0: Loss improved. Updating best model\u001b[0m\n",
      "\u001b[34m[06/17/2021 13:52:33 INFO 139985458161472] Saving model for epoch: 0\u001b[0m\n",
      "\u001b[34m[06/17/2021 13:52:33 INFO 139985458161472] Saved checkpoint to \"/tmp/tmp00yh_hi_/mx-mod-0000.params\"\u001b[0m\n",
      "\u001b[34m[06/17/2021 13:52:33 INFO 139985458161472] #progress_metric: host=algo-1, completed 1.0 % of epochs\u001b[0m\n",
      "\u001b[34m#metrics {\"StartTime\": 1623937953.259918, \"EndTime\": 1623937953.356726, \"Dimensions\": {\"Algorithm\": \"Linear Learner\", \"Host\": \"algo-1\", \"Operation\": \"training\", \"epoch\": 0, \"Meta\": \"training_data_iter\"}, \"Metrics\": {\"Total Records Seen\": {\"sum\": 2240.0, \"count\": 1, \"min\": 2240, \"max\": 2240}, \"Total Batches Seen\": {\"sum\": 23.0, \"count\": 1, \"min\": 23, \"max\": 23}, \"Max Records Seen Between Resets\": {\"sum\": 1070.0, \"count\": 1, \"min\": 1070, \"max\": 1070}, \"Max Batches Seen Between Resets\": {\"sum\": 11.0, \"count\": 1, \"min\": 11, \"max\": 11}, \"Reset Count\": {\"sum\": 3.0, \"count\": 1, \"min\": 3, \"max\": 3}, \"Number of Records Since Last Reset\": {\"sum\": 1070.0, \"count\": 1, \"min\": 1070, \"max\": 1070}, \"Number of Batches Since Last Reset\": {\"sum\": 11.0, \"count\": 1, \"min\": 11, \"max\": 11}}}\n",
      "\u001b[0m\n",
      "\u001b[34m[06/17/2021 13:52:33 INFO 139985458161472] #throughput_metric: host=algo-1, train throughput=11039.216809087377 records/second\u001b[0m\n",
      "\u001b[34m[2021-06-17 13:52:33.422] [tensorio] [info] epoch_stats={\"data_pipeline\": \"/opt/ml/input/data/train\", \"epoch\": 6, \"duration\": 65, \"num_examples\": 11, \"num_bytes\": 81320}\u001b[0m\n",
      "\u001b[34m#metrics {\"StartTime\": 1623937953.4224627, \"EndTime\": 1623937953.4225194, \"Dimensions\": {\"Algorithm\": \"Linear Learner\", \"Host\": \"algo-1\", \"Operation\": \"training\", \"epoch\": 1, \"model\": 0}, \"Metrics\": {\"train_absolute_loss_objective\": {\"sum\": 0.618189582824707, \"count\": 1, \"min\": 0.618189582824707, \"max\": 0.618189582824707}}}\n",
      "\u001b[0m\n",
      "\u001b[34m#metrics {\"StartTime\": 1623937953.4226038, \"EndTime\": 1623937953.4226215, \"Dimensions\": {\"Algorithm\": \"Linear Learner\", \"Host\": \"algo-1\", \"Operation\": \"training\", \"epoch\": 1, \"model\": 1}, \"Metrics\": {\"train_absolute_loss_objective\": {\"sum\": 0.6369511260986328, \"count\": 1, \"min\": 0.6369511260986328, \"max\": 0.6369511260986328}}}\n",
      "\u001b[0m\n",
      "\u001b[34m#metrics {\"StartTime\": 1623937953.4226737, \"EndTime\": 1623937953.4226913, \"Dimensions\": {\"Algorithm\": \"Linear Learner\", \"Host\": \"algo-1\", \"Operation\": \"training\", \"epoch\": 1, \"model\": 2}, \"Metrics\": {\"train_absolute_loss_objective\": {\"sum\": 0.5785174789428711, \"count\": 1, \"min\": 0.5785174789428711, \"max\": 0.5785174789428711}}}\n",
      "\u001b[0m\n",
      "\u001b[34m#metrics {\"StartTime\": 1623937953.422758, \"EndTime\": 1623937953.4227755, \"Dimensions\": {\"Algorithm\": \"Linear Learner\", \"Host\": \"algo-1\", \"Operation\": \"training\", \"epoch\": 1, \"model\": 3}, \"Metrics\": {\"train_absolute_loss_objective\": {\"sum\": 0.6534642486572265, \"count\": 1, \"min\": 0.6534642486572265, \"max\": 0.6534642486572265}}}\n",
      "\u001b[0m\n",
      "\u001b[34m#metrics {\"StartTime\": 1623937953.4228313, \"EndTime\": 1623937953.4228487, \"Dimensions\": {\"Algorithm\": \"Linear Learner\", \"Host\": \"algo-1\", \"Operation\": \"training\", \"epoch\": 1, \"model\": 4}, \"Metrics\": {\"train_absolute_loss_objective\": {\"sum\": 0.4409631767272949, \"count\": 1, \"min\": 0.4409631767272949, \"max\": 0.4409631767272949}}}\n",
      "\u001b[0m\n",
      "\u001b[34m#metrics {\"StartTime\": 1623937953.4229026, \"EndTime\": 1623937953.4229198, \"Dimensions\": {\"Algorithm\": \"Linear Learner\", \"Host\": \"algo-1\", \"Operation\": \"training\", \"epoch\": 1, \"model\": 5}, \"Metrics\": {\"train_absolute_loss_objective\": {\"sum\": 0.41534764099121096, \"count\": 1, \"min\": 0.41534764099121096, \"max\": 0.41534764099121096}}}\n",
      "\u001b[0m\n",
      "\u001b[34m#metrics {\"StartTime\": 1623937953.4229724, \"EndTime\": 1623937953.4229898, \"Dimensions\": {\"Algorithm\": \"Linear Learner\", \"Host\": \"algo-1\", \"Operation\": \"training\", \"epoch\": 1, \"model\": 6}, \"Metrics\": {\"train_absolute_loss_objective\": {\"sum\": 0.42500201988220215, \"count\": 1, \"min\": 0.42500201988220215, \"max\": 0.42500201988220215}}}\n",
      "\u001b[0m\n",
      "\u001b[34m#metrics {\"StartTime\": 1623937953.4230418, \"EndTime\": 1623937953.4230576, \"Dimensions\": {\"Algorithm\": \"Linear Learner\", \"Host\": \"algo-1\", \"Operation\": \"training\", \"epoch\": 1, \"model\": 7}, \"Metrics\": {\"train_absolute_loss_objective\": {\"sum\": 0.4228419303894043, \"count\": 1, \"min\": 0.4228419303894043, \"max\": 0.4228419303894043}}}\n",
      "\u001b[0m\n",
      "\u001b[34m#metrics {\"StartTime\": 1623937953.4231086, \"EndTime\": 1623937953.4231532, \"Dimensions\": {\"Algorithm\": \"Linear Learner\", \"Host\": \"algo-1\", \"Operation\": \"training\", \"epoch\": 1, \"model\": 8}, \"Metrics\": {\"train_absolute_loss_objective\": {\"sum\": 0.6677224311828613, \"count\": 1, \"min\": 0.6677224311828613, \"max\": 0.6677224311828613}}}\n",
      "\u001b[0m\n",
      "\u001b[34m#metrics {\"StartTime\": 1623937953.4232094, \"EndTime\": 1623937953.4232266, \"Dimensions\": {\"Algorithm\": \"Linear Learner\", \"Host\": \"algo-1\", \"Operation\": \"training\", \"epoch\": 1, \"model\": 9}, \"Metrics\": {\"train_absolute_loss_objective\": {\"sum\": 0.5876212387084961, \"count\": 1, \"min\": 0.5876212387084961, \"max\": 0.5876212387084961}}}\n",
      "\u001b[0m\n",
      "\u001b[34m[06/17/2021 13:52:33 INFO 139985458161472] #quality_metric: host=algo-1, epoch=1, train absolute_loss_objective <loss>=0.618189582824707\u001b[0m\n",
      "\u001b[34m[06/17/2021 13:52:33 INFO 139985458161472] #early_stopping_criteria_metric: host=algo-1, epoch=1, criteria=absolute_loss_objective, value=0.41534764099121096\u001b[0m\n",
      "\u001b[34m[06/17/2021 13:52:33 INFO 139985458161472] Epoch 1: Loss improved. Updating best model\u001b[0m\n",
      "\u001b[34m[06/17/2021 13:52:33 INFO 139985458161472] Saving model for epoch: 1\u001b[0m\n",
      "\u001b[34m[06/17/2021 13:52:33 INFO 139985458161472] Saved checkpoint to \"/tmp/tmpv26tg9ct/mx-mod-0000.params\"\u001b[0m\n",
      "\u001b[34m[06/17/2021 13:52:33 INFO 139985458161472] #progress_metric: host=algo-1, completed 2.0 % of epochs\u001b[0m\n",
      "\u001b[34m#metrics {\"StartTime\": 1623937953.357013, \"EndTime\": 1623937953.4333456, \"Dimensions\": {\"Algorithm\": \"Linear Learner\", \"Host\": \"algo-1\", \"Operation\": \"training\", \"epoch\": 1, \"Meta\": \"training_data_iter\"}, \"Metrics\": {\"Total Records Seen\": {\"sum\": 3310.0, \"count\": 1, \"min\": 3310, \"max\": 3310}, \"Total Batches Seen\": {\"sum\": 34.0, \"count\": 1, \"min\": 34, \"max\": 34}, \"Max Records Seen Between Resets\": {\"sum\": 1070.0, \"count\": 1, \"min\": 1070, \"max\": 1070}, \"Max Batches Seen Between Resets\": {\"sum\": 11.0, \"count\": 1, \"min\": 11, \"max\": 11}, \"Reset Count\": {\"sum\": 4.0, \"count\": 1, \"min\": 4, \"max\": 4}, \"Number of Records Since Last Reset\": {\"sum\": 1070.0, \"count\": 1, \"min\": 1070, \"max\": 1070}, \"Number of Batches Since Last Reset\": {\"sum\": 11.0, \"count\": 1, \"min\": 11, \"max\": 11}}}\n",
      "\u001b[0m\n",
      "\u001b[34m[06/17/2021 13:52:33 INFO 139985458161472] #throughput_metric: host=algo-1, train throughput=13992.172199635846 records/second\u001b[0m\n",
      "\u001b[34m[2021-06-17 13:52:33.508] [tensorio] [info] epoch_stats={\"data_pipeline\": \"/opt/ml/input/data/train\", \"epoch\": 8, \"duration\": 74, \"num_examples\": 11, \"num_bytes\": 81320}\u001b[0m\n",
      "\u001b[34m#metrics {\"StartTime\": 1623937953.5081856, \"EndTime\": 1623937953.5082405, \"Dimensions\": {\"Algorithm\": \"Linear Learner\", \"Host\": \"algo-1\", \"Operation\": \"training\", \"epoch\": 2, \"model\": 0}, \"Metrics\": {\"train_absolute_loss_objective\": {\"sum\": 0.563394458770752, \"count\": 1, \"min\": 0.563394458770752, \"max\": 0.563394458770752}}}\n",
      "\u001b[0m\n",
      "\u001b[34m#metrics {\"StartTime\": 1623937953.508318, \"EndTime\": 1623937953.5083356, \"Dimensions\": {\"Algorithm\": \"Linear Learner\", \"Host\": \"algo-1\", \"Operation\": \"training\", \"epoch\": 2, \"model\": 1}, \"Metrics\": {\"train_absolute_loss_objective\": {\"sum\": 0.5823578453063964, \"count\": 1, \"min\": 0.5823578453063964, \"max\": 0.5823578453063964}}}\n",
      "\u001b[0m\n",
      "\u001b[34m#metrics {\"StartTime\": 1623937953.5083883, \"EndTime\": 1623937953.5084043, \"Dimensions\": {\"Algorithm\": \"Linear Learner\", \"Host\": \"algo-1\", \"Operation\": \"training\", \"epoch\": 2, \"model\": 2}, \"Metrics\": {\"train_absolute_loss_objective\": {\"sum\": 0.5221930770874024, \"count\": 1, \"min\": 0.5221930770874024, \"max\": 0.5221930770874024}}}\n",
      "\u001b[0m\n",
      "\u001b[34m#metrics {\"StartTime\": 1623937953.5084567, \"EndTime\": 1623937953.5084727, \"Dimensions\": {\"Algorithm\": \"Linear Learner\", \"Host\": \"algo-1\", \"Operation\": \"training\", \"epoch\": 2, \"model\": 3}, \"Metrics\": {\"train_absolute_loss_objective\": {\"sum\": 0.5967044715881348, \"count\": 1, \"min\": 0.5967044715881348, \"max\": 0.5967044715881348}}}\n",
      "\u001b[0m\n",
      "\u001b[34m#metrics {\"StartTime\": 1623937953.5085235, \"EndTime\": 1623937953.50854, \"Dimensions\": {\"Algorithm\": \"Linear Learner\", \"Host\": \"algo-1\", \"Operation\": \"training\", \"epoch\": 2, \"model\": 4}, \"Metrics\": {\"train_absolute_loss_objective\": {\"sum\": 0.38479436683654783, \"count\": 1, \"min\": 0.38479436683654783, \"max\": 0.38479436683654783}}}\n",
      "\u001b[0m\n",
      "\u001b[34m#metrics {\"StartTime\": 1623937953.5085993, \"EndTime\": 1623937953.5086162, \"Dimensions\": {\"Algorithm\": \"Linear Learner\", \"Host\": \"algo-1\", \"Operation\": \"training\", \"epoch\": 2, \"model\": 5}, \"Metrics\": {\"train_absolute_loss_objective\": {\"sum\": 0.36943955993652344, \"count\": 1, \"min\": 0.36943955993652344, \"max\": 0.36943955993652344}}}\n",
      "\u001b[0m\n",
      "\u001b[34m#metrics {\"StartTime\": 1623937953.5086644, \"EndTime\": 1623937953.5086796, \"Dimensions\": {\"Algorithm\": \"Linear Learner\", \"Host\": \"algo-1\", \"Operation\": \"training\", \"epoch\": 2, \"model\": 6}, \"Metrics\": {\"train_absolute_loss_objective\": {\"sum\": 0.36641038703918455, \"count\": 1, \"min\": 0.36641038703918455, \"max\": 0.36641038703918455}}}\n",
      "\u001b[0m\n",
      "\u001b[34m#metrics {\"StartTime\": 1623937953.5087273, \"EndTime\": 1623937953.5087433, \"Dimensions\": {\"Algorithm\": \"Linear Learner\", \"Host\": \"algo-1\", \"Operation\": \"training\", \"epoch\": 2, \"model\": 7}, \"Metrics\": {\"train_absolute_loss_objective\": {\"sum\": 0.3925910472869873, \"count\": 1, \"min\": 0.3925910472869873, \"max\": 0.3925910472869873}}}\n",
      "\u001b[0m\n",
      "\u001b[34m#metrics {\"StartTime\": 1623937953.508793, \"EndTime\": 1623937953.50881, \"Dimensions\": {\"Algorithm\": \"Linear Learner\", \"Host\": \"algo-1\", \"Operation\": \"training\", \"epoch\": 2, \"model\": 8}, \"Metrics\": {\"train_absolute_loss_objective\": {\"sum\": 0.6107158012390137, \"count\": 1, \"min\": 0.6107158012390137, \"max\": 0.6107158012390137}}}\n",
      "\u001b[0m\n",
      "\u001b[34m#metrics {\"StartTime\": 1623937953.5088596, \"EndTime\": 1623937953.508875, \"Dimensions\": {\"Algorithm\": \"Linear Learner\", \"Host\": \"algo-1\", \"Operation\": \"training\", \"epoch\": 2, \"model\": 9}, \"Metrics\": {\"train_absolute_loss_objective\": {\"sum\": 0.5327111625671387, \"count\": 1, \"min\": 0.5327111625671387, \"max\": 0.5327111625671387}}}\n",
      "\u001b[0m\n",
      "\u001b[34m[06/17/2021 13:52:33 INFO 139985458161472] #quality_metric: host=algo-1, epoch=2, train absolute_loss_objective <loss>=0.563394458770752\u001b[0m\n",
      "\u001b[34m[06/17/2021 13:52:33 INFO 139985458161472] #early_stopping_criteria_metric: host=algo-1, epoch=2, criteria=absolute_loss_objective, value=0.36641038703918455\u001b[0m\n",
      "\u001b[34m[06/17/2021 13:52:33 INFO 139985458161472] Epoch 2: Loss improved. Updating best model\u001b[0m\n",
      "\u001b[34m[06/17/2021 13:52:33 INFO 139985458161472] Saving model for epoch: 2\u001b[0m\n",
      "\u001b[34m[06/17/2021 13:52:33 INFO 139985458161472] Saved checkpoint to \"/tmp/tmpmd_wnvey/mx-mod-0000.params\"\u001b[0m\n",
      "\u001b[34m[06/17/2021 13:52:33 INFO 139985458161472] #progress_metric: host=algo-1, completed 3.0 % of epochs\u001b[0m\n",
      "\u001b[34m#metrics {\"StartTime\": 1623937953.433626, \"EndTime\": 1623937953.516074, \"Dimensions\": {\"Algorithm\": \"Linear Learner\", \"Host\": \"algo-1\", \"Operation\": \"training\", \"epoch\": 2, \"Meta\": \"training_data_iter\"}, \"Metrics\": {\"Total Records Seen\": {\"sum\": 4380.0, \"count\": 1, \"min\": 4380, \"max\": 4380}, \"Total Batches Seen\": {\"sum\": 45.0, \"count\": 1, \"min\": 45, \"max\": 45}, \"Max Records Seen Between Resets\": {\"sum\": 1070.0, \"count\": 1, \"min\": 1070, \"max\": 1070}, \"Max Batches Seen Between Resets\": {\"sum\": 11.0, \"count\": 1, \"min\": 11, \"max\": 11}, \"Reset Count\": {\"sum\": 5.0, \"count\": 1, \"min\": 5, \"max\": 5}, \"Number of Records Since Last Reset\": {\"sum\": 1070.0, \"count\": 1, \"min\": 1070, \"max\": 1070}, \"Number of Batches Since Last Reset\": {\"sum\": 11.0, \"count\": 1, \"min\": 11, \"max\": 11}}}\n",
      "\u001b[0m\n",
      "\u001b[34m[06/17/2021 13:52:33 INFO 139985458161472] #throughput_metric: host=algo-1, train throughput=12957.268060584014 records/second\u001b[0m\n",
      "\u001b[34m[2021-06-17 13:52:33.592] [tensorio] [info] epoch_stats={\"data_pipeline\": \"/opt/ml/input/data/train\", \"epoch\": 10, \"duration\": 76, \"num_examples\": 11, \"num_bytes\": 81320}\u001b[0m\n",
      "\u001b[34m#metrics {\"StartTime\": 1623937953.5928612, \"EndTime\": 1623937953.592917, \"Dimensions\": {\"Algorithm\": \"Linear Learner\", \"Host\": \"algo-1\", \"Operation\": \"training\", \"epoch\": 3, \"model\": 0}, \"Metrics\": {\"train_absolute_loss_objective\": {\"sum\": 0.516443431854248, \"count\": 1, \"min\": 0.516443431854248, \"max\": 0.516443431854248}}}\n",
      "\u001b[0m\n",
      "\u001b[34m#metrics {\"StartTime\": 1623937953.5930111, \"EndTime\": 1623937953.5930302, \"Dimensions\": {\"Algorithm\": \"Linear Learner\", \"Host\": \"algo-1\", \"Operation\": \"training\", \"epoch\": 3, \"model\": 1}, \"Metrics\": {\"train_absolute_loss_objective\": {\"sum\": 0.5351259841918945, \"count\": 1, \"min\": 0.5351259841918945, \"max\": 0.5351259841918945}}}\n",
      "\u001b[0m\n",
      "\u001b[34m#metrics {\"StartTime\": 1623937953.593081, \"EndTime\": 1623937953.593096, \"Dimensions\": {\"Algorithm\": \"Linear Learner\", \"Host\": \"algo-1\", \"Operation\": \"training\", \"epoch\": 3, \"model\": 2}, \"Metrics\": {\"train_absolute_loss_objective\": {\"sum\": 0.47645058631896975, \"count\": 1, \"min\": 0.47645058631896975, \"max\": 0.47645058631896975}}}\n",
      "\u001b[0m\n",
      "\u001b[34m#metrics {\"StartTime\": 1623937953.5931425, \"EndTime\": 1623937953.5931573, \"Dimensions\": {\"Algorithm\": \"Linear Learner\", \"Host\": \"algo-1\", \"Operation\": \"training\", \"epoch\": 3, \"model\": 3}, \"Metrics\": {\"train_absolute_loss_objective\": {\"sum\": 0.5522416343688965, \"count\": 1, \"min\": 0.5522416343688965, \"max\": 0.5522416343688965}}}\n",
      "\u001b[0m\n",
      "\u001b[34m#metrics {\"StartTime\": 1623937953.5932026, \"EndTime\": 1623937953.5932171, \"Dimensions\": {\"Algorithm\": \"Linear Learner\", \"Host\": \"algo-1\", \"Operation\": \"training\", \"epoch\": 3, \"model\": 4}, \"Metrics\": {\"train_absolute_loss_objective\": {\"sum\": 0.3350433692932129, \"count\": 1, \"min\": 0.3350433692932129, \"max\": 0.3350433692932129}}}\n",
      "\u001b[0m\n",
      "\u001b[34m#metrics {\"StartTime\": 1623937953.593263, \"EndTime\": 1623937953.5932763, \"Dimensions\": {\"Algorithm\": \"Linear Learner\", \"Host\": \"algo-1\", \"Operation\": \"training\", \"epoch\": 3, \"model\": 5}, \"Metrics\": {\"train_absolute_loss_objective\": {\"sum\": 0.3334439239501953, \"count\": 1, \"min\": 0.3334439239501953, \"max\": 0.3334439239501953}}}\n",
      "\u001b[0m\n",
      "\u001b[34m#metrics {\"StartTime\": 1623937953.5933194, \"EndTime\": 1623937953.5933325, \"Dimensions\": {\"Algorithm\": \"Linear Learner\", \"Host\": \"algo-1\", \"Operation\": \"training\", \"epoch\": 3, \"model\": 6}, \"Metrics\": {\"train_absolute_loss_objective\": {\"sum\": 0.3338783645629883, \"count\": 1, \"min\": 0.3338783645629883, \"max\": 0.3338783645629883}}}\n",
      "\u001b[0m\n",
      "\u001b[34m#metrics {\"StartTime\": 1623937953.5933743, \"EndTime\": 1623937953.593386, \"Dimensions\": {\"Algorithm\": \"Linear Learner\", \"Host\": \"algo-1\", \"Operation\": \"training\", \"epoch\": 3, \"model\": 7}, \"Metrics\": {\"train_absolute_loss_objective\": {\"sum\": 0.34847944259643554, \"count\": 1, \"min\": 0.34847944259643554, \"max\": 0.34847944259643554}}}\n",
      "\u001b[0m\n",
      "\u001b[34m#metrics {\"StartTime\": 1623937953.5934267, \"EndTime\": 1623937953.5934398, \"Dimensions\": {\"Algorithm\": \"Linear Learner\", \"Host\": \"algo-1\", \"Operation\": \"training\", \"epoch\": 3, \"model\": 8}, \"Metrics\": {\"train_absolute_loss_objective\": {\"sum\": 0.5660284042358399, \"count\": 1, \"min\": 0.5660284042358399, \"max\": 0.5660284042358399}}}\n",
      "\u001b[0m\n",
      "\u001b[34m#metrics {\"StartTime\": 1623937953.593497, \"EndTime\": 1623937953.5935142, \"Dimensions\": {\"Algorithm\": \"Linear Learner\", \"Host\": \"algo-1\", \"Operation\": \"training\", \"epoch\": 3, \"model\": 9}, \"Metrics\": {\"train_absolute_loss_objective\": {\"sum\": 0.4843062286376953, \"count\": 1, \"min\": 0.4843062286376953, \"max\": 0.4843062286376953}}}\n",
      "\u001b[0m\n",
      "\u001b[34m[06/17/2021 13:52:33 INFO 139985458161472] #quality_metric: host=algo-1, epoch=3, train absolute_loss_objective <loss>=0.516443431854248\u001b[0m\n",
      "\u001b[34m[06/17/2021 13:52:33 INFO 139985458161472] #early_stopping_criteria_metric: host=algo-1, epoch=3, criteria=absolute_loss_objective, value=0.3334439239501953\u001b[0m\n",
      "\u001b[34m[06/17/2021 13:52:33 INFO 139985458161472] Epoch 3: Loss improved. Updating best model\u001b[0m\n",
      "\u001b[34m[06/17/2021 13:52:33 INFO 139985458161472] Saving model for epoch: 3\u001b[0m\n",
      "\u001b[34m[06/17/2021 13:52:33 INFO 139985458161472] Saved checkpoint to \"/tmp/tmpd08g6bgx/mx-mod-0000.params\"\u001b[0m\n",
      "\u001b[34m[06/17/2021 13:52:33 INFO 139985458161472] #progress_metric: host=algo-1, completed 4.0 % of epochs\u001b[0m\n",
      "\u001b[34m#metrics {\"StartTime\": 1623937953.5163603, \"EndTime\": 1623937953.6017659, \"Dimensions\": {\"Algorithm\": \"Linear Learner\", \"Host\": \"algo-1\", \"Operation\": \"training\", \"epoch\": 3, \"Meta\": \"training_data_iter\"}, \"Metrics\": {\"Total Records Seen\": {\"sum\": 5450.0, \"count\": 1, \"min\": 5450, \"max\": 5450}, \"Total Batches Seen\": {\"sum\": 56.0, \"count\": 1, \"min\": 56, \"max\": 56}, \"Max Records Seen Between Resets\": {\"sum\": 1070.0, \"count\": 1, \"min\": 1070, \"max\": 1070}, \"Max Batches Seen Between Resets\": {\"sum\": 11.0, \"count\": 1, \"min\": 11, \"max\": 11}, \"Reset Count\": {\"sum\": 6.0, \"count\": 1, \"min\": 6, \"max\": 6}, \"Number of Records Since Last Reset\": {\"sum\": 1070.0, \"count\": 1, \"min\": 1070, \"max\": 1070}, \"Number of Batches Since Last Reset\": {\"sum\": 11.0, \"count\": 1, \"min\": 11, \"max\": 11}}}\n",
      "\u001b[0m\n",
      "\u001b[34m[06/17/2021 13:52:33 INFO 139985458161472] #throughput_metric: host=algo-1, train throughput=12512.03773763755 records/second\u001b[0m\n",
      "\u001b[34m[2021-06-17 13:52:33.689] [tensorio] [info] epoch_stats={\"data_pipeline\": \"/opt/ml/input/data/train\", \"epoch\": 12, \"duration\": 86, \"num_examples\": 11, \"num_bytes\": 81320}\u001b[0m\n",
      "\u001b[34m#metrics {\"StartTime\": 1623937953.6891065, \"EndTime\": 1623937953.6891613, \"Dimensions\": {\"Algorithm\": \"Linear Learner\", \"Host\": \"algo-1\", \"Operation\": \"training\", \"epoch\": 4, \"model\": 0}, \"Metrics\": {\"train_absolute_loss_objective\": {\"sum\": 0.4656443824768066, \"count\": 1, \"min\": 0.4656443824768066, \"max\": 0.4656443824768066}}}\n",
      "\u001b[0m\n",
      "\u001b[34m#metrics {\"StartTime\": 1623937953.6892433, \"EndTime\": 1623937953.689261, \"Dimensions\": {\"Algorithm\": \"Linear Learner\", \"Host\": \"algo-1\", \"Operation\": \"training\", \"epoch\": 4, \"model\": 1}, \"Metrics\": {\"train_absolute_loss_objective\": {\"sum\": 0.4834402389526367, \"count\": 1, \"min\": 0.4834402389526367, \"max\": 0.4834402389526367}}}\n",
      "\u001b[0m\n",
      "\u001b[34m#metrics {\"StartTime\": 1623937953.689311, \"EndTime\": 1623937953.689326, \"Dimensions\": {\"Algorithm\": \"Linear Learner\", \"Host\": \"algo-1\", \"Operation\": \"training\", \"epoch\": 4, \"model\": 2}, \"Metrics\": {\"train_absolute_loss_objective\": {\"sum\": 0.42801154708862305, \"count\": 1, \"min\": 0.42801154708862305, \"max\": 0.42801154708862305}}}\n",
      "\u001b[0m\n",
      "\u001b[34m#metrics {\"StartTime\": 1623937953.6893723, \"EndTime\": 1623937953.6893876, \"Dimensions\": {\"Algorithm\": \"Linear Learner\", \"Host\": \"algo-1\", \"Operation\": \"training\", \"epoch\": 4, \"model\": 3}, \"Metrics\": {\"train_absolute_loss_objective\": {\"sum\": 0.49986690139770507, \"count\": 1, \"min\": 0.49986690139770507, \"max\": 0.49986690139770507}}}\n",
      "\u001b[0m\n",
      "\u001b[34m#metrics {\"StartTime\": 1623937953.6894393, \"EndTime\": 1623937953.6894548, \"Dimensions\": {\"Algorithm\": \"Linear Learner\", \"Host\": \"algo-1\", \"Operation\": \"training\", \"epoch\": 4, \"model\": 4}, \"Metrics\": {\"train_absolute_loss_objective\": {\"sum\": 0.3266754245758057, \"count\": 1, \"min\": 0.3266754245758057, \"max\": 0.3266754245758057}}}\n",
      "\u001b[0m\n",
      "\u001b[34m#metrics {\"StartTime\": 1623937953.6895065, \"EndTime\": 1623937953.6895223, \"Dimensions\": {\"Algorithm\": \"Linear Learner\", \"Host\": \"algo-1\", \"Operation\": \"training\", \"epoch\": 4, \"model\": 5}, \"Metrics\": {\"train_absolute_loss_objective\": {\"sum\": 0.32633323860168456, \"count\": 1, \"min\": 0.32633323860168456, \"max\": 0.32633323860168456}}}\n",
      "\u001b[0m\n",
      "\u001b[34m#metrics {\"StartTime\": 1623937953.6895728, \"EndTime\": 1623937953.6895885, \"Dimensions\": {\"Algorithm\": \"Linear Learner\", \"Host\": \"algo-1\", \"Operation\": \"training\", \"epoch\": 4, \"model\": 6}, \"Metrics\": {\"train_absolute_loss_objective\": {\"sum\": 0.31857727432250976, \"count\": 1, \"min\": 0.31857727432250976, \"max\": 0.31857727432250976}}}\n",
      "\u001b[0m\n",
      "\u001b[34m#metrics {\"StartTime\": 1623937953.6896381, \"EndTime\": 1623937953.6896532, \"Dimensions\": {\"Algorithm\": \"Linear Learner\", \"Host\": \"algo-1\", \"Operation\": \"training\", \"epoch\": 4, \"model\": 7}, \"Metrics\": {\"train_absolute_loss_objective\": {\"sum\": 0.33660220909118654, \"count\": 1, \"min\": 0.33660220909118654, \"max\": 0.33660220909118654}}}\n",
      "\u001b[0m\n",
      "\u001b[34m#metrics {\"StartTime\": 1623937953.6896996, \"EndTime\": 1623937953.689715, \"Dimensions\": {\"Algorithm\": \"Linear Learner\", \"Host\": \"algo-1\", \"Operation\": \"training\", \"epoch\": 4, \"model\": 8}, \"Metrics\": {\"train_absolute_loss_objective\": {\"sum\": 0.5152576332092285, \"count\": 1, \"min\": 0.5152576332092285, \"max\": 0.5152576332092285}}}\n",
      "\u001b[0m\n",
      "\u001b[34m#metrics {\"StartTime\": 1623937953.689764, \"EndTime\": 1623937953.6897798, \"Dimensions\": {\"Algorithm\": \"Linear Learner\", \"Host\": \"algo-1\", \"Operation\": \"training\", \"epoch\": 4, \"model\": 9}, \"Metrics\": {\"train_absolute_loss_objective\": {\"sum\": 0.43197202682495117, \"count\": 1, \"min\": 0.43197202682495117, \"max\": 0.43197202682495117}}}\n",
      "\u001b[0m\n",
      "\u001b[34m[06/17/2021 13:52:33 INFO 139985458161472] #quality_metric: host=algo-1, epoch=4, train absolute_loss_objective <loss>=0.4656443824768066\u001b[0m\n",
      "\u001b[34m[06/17/2021 13:52:33 INFO 139985458161472] #early_stopping_criteria_metric: host=algo-1, epoch=4, criteria=absolute_loss_objective, value=0.31857727432250976\u001b[0m\n",
      "\u001b[34m[06/17/2021 13:52:33 INFO 139985458161472] Epoch 4: Loss improved. Updating best model\u001b[0m\n",
      "\u001b[34m[06/17/2021 13:52:33 INFO 139985458161472] Saving model for epoch: 4\u001b[0m\n",
      "\u001b[34m[06/17/2021 13:52:33 INFO 139985458161472] Saved checkpoint to \"/tmp/tmpblqoj16p/mx-mod-0000.params\"\u001b[0m\n",
      "\u001b[34m[06/17/2021 13:52:33 INFO 139985458161472] #progress_metric: host=algo-1, completed 5.0 % of epochs\u001b[0m\n",
      "\u001b[34m#metrics {\"StartTime\": 1623937953.6020231, \"EndTime\": 1623937953.6998334, \"Dimensions\": {\"Algorithm\": \"Linear Learner\", \"Host\": \"algo-1\", \"Operation\": \"training\", \"epoch\": 4, \"Meta\": \"training_data_iter\"}, \"Metrics\": {\"Total Records Seen\": {\"sum\": 6520.0, \"count\": 1, \"min\": 6520, \"max\": 6520}, \"Total Batches Seen\": {\"sum\": 67.0, \"count\": 1, \"min\": 67, \"max\": 67}, \"Max Records Seen Between Resets\": {\"sum\": 1070.0, \"count\": 1, \"min\": 1070, \"max\": 1070}, \"Max Batches Seen Between Resets\": {\"sum\": 11.0, \"count\": 1, \"min\": 11, \"max\": 11}, \"Reset Count\": {\"sum\": 7.0, \"count\": 1, \"min\": 7, \"max\": 7}, \"Number of Records Since Last Reset\": {\"sum\": 1070.0, \"count\": 1, \"min\": 1070, \"max\": 1070}, \"Number of Batches Since Last Reset\": {\"sum\": 11.0, \"count\": 1, \"min\": 11, \"max\": 11}}}\n",
      "\u001b[0m\n",
      "\u001b[34m[06/17/2021 13:52:33 INFO 139985458161472] #throughput_metric: host=algo-1, train throughput=10925.112904953407 records/second\u001b[0m\n",
      "\u001b[34m[2021-06-17 13:52:33.780] [tensorio] [info] epoch_stats={\"data_pipeline\": \"/opt/ml/input/data/train\", \"epoch\": 14, \"duration\": 79, \"num_examples\": 11, \"num_bytes\": 81320}\u001b[0m\n",
      "\u001b[34m#metrics {\"StartTime\": 1623937953.7801604, \"EndTime\": 1623937953.7802167, \"Dimensions\": {\"Algorithm\": \"Linear Learner\", \"Host\": \"algo-1\", \"Operation\": \"training\", \"epoch\": 5, \"model\": 0}, \"Metrics\": {\"train_absolute_loss_objective\": {\"sum\": 0.421121374130249, \"count\": 1, \"min\": 0.421121374130249, \"max\": 0.421121374130249}}}\n",
      "\u001b[0m\n",
      "\u001b[34m#metrics {\"StartTime\": 1623937953.7802942, \"EndTime\": 1623937953.7803133, \"Dimensions\": {\"Algorithm\": \"Linear Learner\", \"Host\": \"algo-1\", \"Operation\": \"training\", \"epoch\": 5, \"model\": 1}, \"Metrics\": {\"train_absolute_loss_objective\": {\"sum\": 0.4370849418640137, \"count\": 1, \"min\": 0.4370849418640137, \"max\": 0.4370849418640137}}}\n",
      "\u001b[0m\n",
      "\u001b[34m#metrics {\"StartTime\": 1623937953.7803698, \"EndTime\": 1623937953.780386, \"Dimensions\": {\"Algorithm\": \"Linear Learner\", \"Host\": \"algo-1\", \"Operation\": \"training\", \"epoch\": 5, \"model\": 2}, \"Metrics\": {\"train_absolute_loss_objective\": {\"sum\": 0.3984587306976318, \"count\": 1, \"min\": 0.3984587306976318, \"max\": 0.3984587306976318}}}\n",
      "\u001b[0m\n",
      "\u001b[34m#metrics {\"StartTime\": 1623937953.7804449, \"EndTime\": 1623937953.780462, \"Dimensions\": {\"Algorithm\": \"Linear Learner\", \"Host\": \"algo-1\", \"Operation\": \"training\", \"epoch\": 5, \"model\": 3}, \"Metrics\": {\"train_absolute_loss_objective\": {\"sum\": 0.45520922470092773, \"count\": 1, \"min\": 0.45520922470092773, \"max\": 0.45520922470092773}}}\n",
      "\u001b[0m\n",
      "\u001b[34m#metrics {\"StartTime\": 1623937953.7805135, \"EndTime\": 1623937953.7805295, \"Dimensions\": {\"Algorithm\": \"Linear Learner\", \"Host\": \"algo-1\", \"Operation\": \"training\", \"epoch\": 5, \"model\": 4}, \"Metrics\": {\"train_absolute_loss_objective\": {\"sum\": 0.3338463592529297, \"count\": 1, \"min\": 0.3338463592529297, \"max\": 0.3338463592529297}}}\n",
      "\u001b[0m\n",
      "\u001b[34m#metrics {\"StartTime\": 1623937953.7805808, \"EndTime\": 1623937953.7805977, \"Dimensions\": {\"Algorithm\": \"Linear Learner\", \"Host\": \"algo-1\", \"Operation\": \"training\", \"epoch\": 5, \"model\": 5}, \"Metrics\": {\"train_absolute_loss_objective\": {\"sum\": 0.3250810470581055, \"count\": 1, \"min\": 0.3250810470581055, \"max\": 0.3250810470581055}}}\n",
      "\u001b[0m\n",
      "\u001b[34m#metrics {\"StartTime\": 1623937953.780656, \"EndTime\": 1623937953.7806735, \"Dimensions\": {\"Algorithm\": \"Linear Learner\", \"Host\": \"algo-1\", \"Operation\": \"training\", \"epoch\": 5, \"model\": 6}, \"Metrics\": {\"train_absolute_loss_objective\": {\"sum\": 0.3124347667694092, \"count\": 1, \"min\": 0.3124347667694092, \"max\": 0.3124347667694092}}}\n",
      "\u001b[0m\n",
      "\u001b[34m#metrics {\"StartTime\": 1623937953.7807257, \"EndTime\": 1623937953.780742, \"Dimensions\": {\"Algorithm\": \"Linear Learner\", \"Host\": \"algo-1\", \"Operation\": \"training\", \"epoch\": 5, \"model\": 7}, \"Metrics\": {\"train_absolute_loss_objective\": {\"sum\": 0.3318034896850586, \"count\": 1, \"min\": 0.3318034896850586, \"max\": 0.3318034896850586}}}\n",
      "\u001b[0m\n",
      "\u001b[34m#metrics {\"StartTime\": 1623937953.780791, \"EndTime\": 1623937953.780807, \"Dimensions\": {\"Algorithm\": \"Linear Learner\", \"Host\": \"algo-1\", \"Operation\": \"training\", \"epoch\": 5, \"model\": 8}, \"Metrics\": {\"train_absolute_loss_objective\": {\"sum\": 0.4696014842987061, \"count\": 1, \"min\": 0.4696014842987061, \"max\": 0.4696014842987061}}}\n",
      "\u001b[0m\n",
      "\u001b[34m#metrics {\"StartTime\": 1623937953.7808485, \"EndTime\": 1623937953.7808633, \"Dimensions\": {\"Algorithm\": \"Linear Learner\", \"Host\": \"algo-1\", \"Operation\": \"training\", \"epoch\": 5, \"model\": 9}, \"Metrics\": {\"train_absolute_loss_objective\": {\"sum\": 0.3877238121032715, \"count\": 1, \"min\": 0.3877238121032715, \"max\": 0.3877238121032715}}}\n",
      "\u001b[0m\n",
      "\u001b[34m[06/17/2021 13:52:33 INFO 139985458161472] #quality_metric: host=algo-1, epoch=5, train absolute_loss_objective <loss>=0.421121374130249\u001b[0m\n",
      "\u001b[34m[06/17/2021 13:52:33 INFO 139985458161472] #early_stopping_criteria_metric: host=algo-1, epoch=5, criteria=absolute_loss_objective, value=0.3124347667694092\u001b[0m\n",
      "\u001b[34m[06/17/2021 13:52:33 INFO 139985458161472] Epoch 5: Loss improved. Updating best model\u001b[0m\n",
      "\u001b[34m[06/17/2021 13:52:33 INFO 139985458161472] Saving model for epoch: 5\u001b[0m\n",
      "\u001b[34m[06/17/2021 13:52:33 INFO 139985458161472] Saved checkpoint to \"/tmp/tmp97vexv8d/mx-mod-0000.params\"\u001b[0m\n",
      "\u001b[34m[06/17/2021 13:52:33 INFO 139985458161472] #progress_metric: host=algo-1, completed 6.0 % of epochs\u001b[0m\n",
      "\u001b[34m#metrics {\"StartTime\": 1623937953.700102, \"EndTime\": 1623937953.7885082, \"Dimensions\": {\"Algorithm\": \"Linear Learner\", \"Host\": \"algo-1\", \"Operation\": \"training\", \"epoch\": 5, \"Meta\": \"training_data_iter\"}, \"Metrics\": {\"Total Records Seen\": {\"sum\": 7590.0, \"count\": 1, \"min\": 7590, \"max\": 7590}, \"Total Batches Seen\": {\"sum\": 78.0, \"count\": 1, \"min\": 78, \"max\": 78}, \"Max Records Seen Between Resets\": {\"sum\": 1070.0, \"count\": 1, \"min\": 1070, \"max\": 1070}, \"Max Batches Seen Between Resets\": {\"sum\": 11.0, \"count\": 1, \"min\": 11, \"max\": 11}, \"Reset Count\": {\"sum\": 8.0, \"count\": 1, \"min\": 8, \"max\": 8}, \"Number of Records Since Last Reset\": {\"sum\": 1070.0, \"count\": 1, \"min\": 1070, \"max\": 1070}, \"Number of Batches Since Last Reset\": {\"sum\": 11.0, \"count\": 1, \"min\": 11, \"max\": 11}}}\n",
      "\u001b[0m\n",
      "\u001b[34m[06/17/2021 13:52:33 INFO 139985458161472] #throughput_metric: host=algo-1, train throughput=12085.150623254713 records/second\u001b[0m\n",
      "\u001b[34m[2021-06-17 13:52:33.863] [tensorio] [info] epoch_stats={\"data_pipeline\": \"/opt/ml/input/data/train\", \"epoch\": 16, \"duration\": 74, \"num_examples\": 11, \"num_bytes\": 81320}\u001b[0m\n",
      "\u001b[34m#metrics {\"StartTime\": 1623937953.8636363, \"EndTime\": 1623937953.8636875, \"Dimensions\": {\"Algorithm\": \"Linear Learner\", \"Host\": \"algo-1\", \"Operation\": \"training\", \"epoch\": 6, \"model\": 0}, \"Metrics\": {\"train_absolute_loss_objective\": {\"sum\": 0.3880950050354004, \"count\": 1, \"min\": 0.3880950050354004, \"max\": 0.3880950050354004}}}\n",
      "\u001b[0m\n",
      "\u001b[34m#metrics {\"StartTime\": 1623937953.863772, \"EndTime\": 1623937953.863791, \"Dimensions\": {\"Algorithm\": \"Linear Learner\", \"Host\": \"algo-1\", \"Operation\": \"training\", \"epoch\": 6, \"model\": 1}, \"Metrics\": {\"train_absolute_loss_objective\": {\"sum\": 0.397035737991333, \"count\": 1, \"min\": 0.397035737991333, \"max\": 0.397035737991333}}}\n",
      "\u001b[0m\n",
      "\u001b[34m#metrics {\"StartTime\": 1623937953.8638387, \"EndTime\": 1623937953.8638532, \"Dimensions\": {\"Algorithm\": \"Linear Learner\", \"Host\": \"algo-1\", \"Operation\": \"training\", \"epoch\": 6, \"model\": 2}, \"Metrics\": {\"train_absolute_loss_objective\": {\"sum\": 0.3758342552185059, \"count\": 1, \"min\": 0.3758342552185059, \"max\": 0.3758342552185059}}}\n",
      "\u001b[0m\n",
      "\u001b[34m#metrics {\"StartTime\": 1623937953.8638842, \"EndTime\": 1623937953.8638978, \"Dimensions\": {\"Algorithm\": \"Linear Learner\", \"Host\": \"algo-1\", \"Operation\": \"training\", \"epoch\": 6, \"model\": 3}, \"Metrics\": {\"train_absolute_loss_objective\": {\"sum\": 0.4225438861846924, \"count\": 1, \"min\": 0.4225438861846924, \"max\": 0.4225438861846924}}}\n",
      "\u001b[0m\n",
      "\u001b[34m#metrics {\"StartTime\": 1623937953.8639538, \"EndTime\": 1623937953.8639703, \"Dimensions\": {\"Algorithm\": \"Linear Learner\", \"Host\": \"algo-1\", \"Operation\": \"training\", \"epoch\": 6, \"model\": 4}, \"Metrics\": {\"train_absolute_loss_objective\": {\"sum\": 0.33052448081970215, \"count\": 1, \"min\": 0.33052448081970215, \"max\": 0.33052448081970215}}}\n",
      "\u001b[0m\n",
      "\u001b[34m#metrics {\"StartTime\": 1623937953.8640258, \"EndTime\": 1623937953.8640425, \"Dimensions\": {\"Algorithm\": \"Linear Learner\", \"Host\": \"algo-1\", \"Operation\": \"training\", \"epoch\": 6, \"model\": 5}, \"Metrics\": {\"train_absolute_loss_objective\": {\"sum\": 0.3253223628997803, \"count\": 1, \"min\": 0.3253223628997803, \"max\": 0.3253223628997803}}}\n",
      "\u001b[0m\n",
      "\u001b[34m#metrics {\"StartTime\": 1623937953.864091, \"EndTime\": 1623937953.8641076, \"Dimensions\": {\"Algorithm\": \"Linear Learner\", \"Host\": \"algo-1\", \"Operation\": \"training\", \"epoch\": 6, \"model\": 6}, \"Metrics\": {\"train_absolute_loss_objective\": {\"sum\": 0.3113684482574463, \"count\": 1, \"min\": 0.3113684482574463, \"max\": 0.3113684482574463}}}\n",
      "\u001b[0m\n",
      "\u001b[34m#metrics {\"StartTime\": 1623937953.8642457, \"EndTime\": 1623937953.8642626, \"Dimensions\": {\"Algorithm\": \"Linear Learner\", \"Host\": \"algo-1\", \"Operation\": \"training\", \"epoch\": 6, \"model\": 7}, \"Metrics\": {\"train_absolute_loss_objective\": {\"sum\": 0.320417200088501, \"count\": 1, \"min\": 0.320417200088501, \"max\": 0.320417200088501}}}\n",
      "\u001b[0m\n",
      "\u001b[34m#metrics {\"StartTime\": 1623937953.8643136, \"EndTime\": 1623937953.8643289, \"Dimensions\": {\"Algorithm\": \"Linear Learner\", \"Host\": \"algo-1\", \"Operation\": \"training\", \"epoch\": 6, \"model\": 8}, \"Metrics\": {\"train_absolute_loss_objective\": {\"sum\": 0.43140761375427245, \"count\": 1, \"min\": 0.43140761375427245, \"max\": 0.43140761375427245}}}\n",
      "\u001b[0m\n",
      "\u001b[34m#metrics {\"StartTime\": 1623937953.8643825, \"EndTime\": 1623937953.8643992, \"Dimensions\": {\"Algorithm\": \"Linear Learner\", \"Host\": \"algo-1\", \"Operation\": \"training\", \"epoch\": 6, \"model\": 9}, \"Metrics\": {\"train_absolute_loss_objective\": {\"sum\": 0.36135584449768066, \"count\": 1, \"min\": 0.36135584449768066, \"max\": 0.36135584449768066}}}\n",
      "\u001b[0m\n",
      "\u001b[34m[06/17/2021 13:52:33 INFO 139985458161472] #quality_metric: host=algo-1, epoch=6, train absolute_loss_objective <loss>=0.3880950050354004\u001b[0m\n",
      "\u001b[34m[06/17/2021 13:52:33 INFO 139985458161472] #early_stopping_criteria_metric: host=algo-1, epoch=6, criteria=absolute_loss_objective, value=0.3113684482574463\u001b[0m\n",
      "\u001b[34m[06/17/2021 13:52:33 INFO 139985458161472] Epoch 6: Loss improved. Updating best model\u001b[0m\n",
      "\u001b[34m[06/17/2021 13:52:33 INFO 139985458161472] Saving model for epoch: 6\u001b[0m\n",
      "\u001b[34m[06/17/2021 13:52:33 INFO 139985458161472] Saved checkpoint to \"/tmp/tmpfxlaz40m/mx-mod-0000.params\"\u001b[0m\n",
      "\u001b[34m[06/17/2021 13:52:33 INFO 139985458161472] #progress_metric: host=algo-1, completed 7.0 % of epochs\u001b[0m\n",
      "\u001b[34m#metrics {\"StartTime\": 1623937953.7887897, \"EndTime\": 1623937953.871097, \"Dimensions\": {\"Algorithm\": \"Linear Learner\", \"Host\": \"algo-1\", \"Operation\": \"training\", \"epoch\": 6, \"Meta\": \"training_data_iter\"}, \"Metrics\": {\"Total Records Seen\": {\"sum\": 8660.0, \"count\": 1, \"min\": 8660, \"max\": 8660}, \"Total Batches Seen\": {\"sum\": 89.0, \"count\": 1, \"min\": 89, \"max\": 89}, \"Max Records Seen Between Resets\": {\"sum\": 1070.0, \"count\": 1, \"min\": 1070, \"max\": 1070}, \"Max Batches Seen Between Resets\": {\"sum\": 11.0, \"count\": 1, \"min\": 11, \"max\": 11}, \"Reset Count\": {\"sum\": 9.0, \"count\": 1, \"min\": 9, \"max\": 9}, \"Number of Records Since Last Reset\": {\"sum\": 1070.0, \"count\": 1, \"min\": 1070, \"max\": 1070}, \"Number of Batches Since Last Reset\": {\"sum\": 11.0, \"count\": 1, \"min\": 11, \"max\": 11}}}\n",
      "\u001b[0m\n",
      "\u001b[34m[06/17/2021 13:52:33 INFO 139985458161472] #throughput_metric: host=algo-1, train throughput=12980.090642742072 records/second\u001b[0m\n",
      "\u001b[34m[2021-06-17 13:52:33.958] [tensorio] [info] epoch_stats={\"data_pipeline\": \"/opt/ml/input/data/train\", \"epoch\": 18, \"duration\": 87, \"num_examples\": 11, \"num_bytes\": 81320}\u001b[0m\n",
      "\u001b[34m#metrics {\"StartTime\": 1623937953.9589653, \"EndTime\": 1623937953.9592857, \"Dimensions\": {\"Algorithm\": \"Linear Learner\", \"Host\": \"algo-1\", \"Operation\": \"training\", \"epoch\": 7, \"model\": 0}, \"Metrics\": {\"train_absolute_loss_objective\": {\"sum\": 0.36529508781433107, \"count\": 1, \"min\": 0.36529508781433107, \"max\": 0.36529508781433107}}}\n",
      "\u001b[0m\n",
      "\u001b[34m#metrics {\"StartTime\": 1623937953.9593701, \"EndTime\": 1623937953.9593868, \"Dimensions\": {\"Algorithm\": \"Linear Learner\", \"Host\": \"algo-1\", \"Operation\": \"training\", \"epoch\": 7, \"model\": 1}, \"Metrics\": {\"train_absolute_loss_objective\": {\"sum\": 0.37072139358520506, \"count\": 1, \"min\": 0.37072139358520506, \"max\": 0.37072139358520506}}}\n",
      "\u001b[0m\n",
      "\u001b[34m#metrics {\"StartTime\": 1623937953.9595535, \"EndTime\": 1623937953.9595687, \"Dimensions\": {\"Algorithm\": \"Linear Learner\", \"Host\": \"algo-1\", \"Operation\": \"training\", \"epoch\": 7, \"model\": 2}, \"Metrics\": {\"train_absolute_loss_objective\": {\"sum\": 0.3544868106842041, \"count\": 1, \"min\": 0.3544868106842041, \"max\": 0.3544868106842041}}}\n",
      "\u001b[0m\n",
      "\u001b[34m#metrics {\"StartTime\": 1623937953.9598525, \"EndTime\": 1623937953.9598932, \"Dimensions\": {\"Algorithm\": \"Linear Learner\", \"Host\": \"algo-1\", \"Operation\": \"training\", \"epoch\": 7, \"model\": 3}, \"Metrics\": {\"train_absolute_loss_objective\": {\"sum\": 0.3977806510925293, \"count\": 1, \"min\": 0.3977806510925293, \"max\": 0.3977806510925293}}}\n",
      "\u001b[0m\n",
      "\u001b[34m#metrics {\"StartTime\": 1623937953.95994, \"EndTime\": 1623937953.9599514, \"Dimensions\": {\"Algorithm\": \"Linear Learner\", \"Host\": \"algo-1\", \"Operation\": \"training\", \"epoch\": 7, \"model\": 4}, \"Metrics\": {\"train_absolute_loss_objective\": {\"sum\": 0.3348784313201904, \"count\": 1, \"min\": 0.3348784313201904, \"max\": 0.3348784313201904}}}\n",
      "\u001b[0m\n",
      "\u001b[34m#metrics {\"StartTime\": 1623937953.9599864, \"EndTime\": 1623937953.9599965, \"Dimensions\": {\"Algorithm\": \"Linear Learner\", \"Host\": \"algo-1\", \"Operation\": \"training\", \"epoch\": 7, \"model\": 5}, \"Metrics\": {\"train_absolute_loss_objective\": {\"sum\": 0.32482042121887206, \"count\": 1, \"min\": 0.32482042121887206, \"max\": 0.32482042121887206}}}\n",
      "\u001b[0m\n",
      "\u001b[34m#metrics {\"StartTime\": 1623937953.9600456, \"EndTime\": 1623937953.9600573, \"Dimensions\": {\"Algorithm\": \"Linear Learner\", \"Host\": \"algo-1\", \"Operation\": \"training\", \"epoch\": 7, \"model\": 6}, \"Metrics\": {\"train_absolute_loss_objective\": {\"sum\": 0.31267571830749513, \"count\": 1, \"min\": 0.31267571830749513, \"max\": 0.31267571830749513}}}\n",
      "\u001b[0m\n",
      "\u001b[34m#metrics {\"StartTime\": 1623937953.9600945, \"EndTime\": 1623937953.960104, \"Dimensions\": {\"Algorithm\": \"Linear Learner\", \"Host\": \"algo-1\", \"Operation\": \"training\", \"epoch\": 7, \"model\": 7}, \"Metrics\": {\"train_absolute_loss_objective\": {\"sum\": 0.320309476852417, \"count\": 1, \"min\": 0.320309476852417, \"max\": 0.320309476852417}}}\n",
      "\u001b[0m\n",
      "\u001b[34m#metrics {\"StartTime\": 1623937953.960137, \"EndTime\": 1623937953.9601462, \"Dimensions\": {\"Algorithm\": \"Linear Learner\", \"Host\": \"algo-1\", \"Operation\": \"training\", \"epoch\": 7, \"model\": 8}, \"Metrics\": {\"train_absolute_loss_objective\": {\"sum\": 0.40653003120422365, \"count\": 1, \"min\": 0.40653003120422365, \"max\": 0.40653003120422365}}}\n",
      "\u001b[0m\n",
      "\u001b[34m#metrics {\"StartTime\": 1623937953.9601786, \"EndTime\": 1623937953.9601882, \"Dimensions\": {\"Algorithm\": \"Linear Learner\", \"Host\": \"algo-1\", \"Operation\": \"training\", \"epoch\": 7, \"model\": 9}, \"Metrics\": {\"train_absolute_loss_objective\": {\"sum\": 0.340945873260498, \"count\": 1, \"min\": 0.340945873260498, \"max\": 0.340945873260498}}}\n",
      "\u001b[0m\n",
      "\u001b[34m[06/17/2021 13:52:33 INFO 139985458161472] #quality_metric: host=algo-1, epoch=7, train absolute_loss_objective <loss>=0.36529508781433107\u001b[0m\n",
      "\u001b[34m[06/17/2021 13:52:33 INFO 139985458161472] #early_stopping_criteria_metric: host=algo-1, epoch=7, criteria=absolute_loss_objective, value=0.31267571830749513\u001b[0m\n",
      "\u001b[34m[06/17/2021 13:52:33 INFO 139985458161472] Saving model for epoch: 7\u001b[0m\n",
      "\u001b[34m[06/17/2021 13:52:33 INFO 139985458161472] Saved checkpoint to \"/tmp/tmp028yb7mg/mx-mod-0000.params\"\u001b[0m\n",
      "\u001b[34m[06/17/2021 13:52:33 INFO 139985458161472] #progress_metric: host=algo-1, completed 8.0 % of epochs\u001b[0m\n",
      "\u001b[34m#metrics {\"StartTime\": 1623937953.8713825, \"EndTime\": 1623937953.9683604, \"Dimensions\": {\"Algorithm\": \"Linear Learner\", \"Host\": \"algo-1\", \"Operation\": \"training\", \"epoch\": 7, \"Meta\": \"training_data_iter\"}, \"Metrics\": {\"Total Records Seen\": {\"sum\": 9730.0, \"count\": 1, \"min\": 9730, \"max\": 9730}, \"Total Batches Seen\": {\"sum\": 100.0, \"count\": 1, \"min\": 100, \"max\": 100}, \"Max Records Seen Between Resets\": {\"sum\": 1070.0, \"count\": 1, \"min\": 1070, \"max\": 1070}, \"Max Batches Seen Between Resets\": {\"sum\": 11.0, \"count\": 1, \"min\": 11, \"max\": 11}, \"Reset Count\": {\"sum\": 10.0, \"count\": 1, \"min\": 10, \"max\": 10}, \"Number of Records Since Last Reset\": {\"sum\": 1070.0, \"count\": 1, \"min\": 1070, \"max\": 1070}, \"Number of Batches Since Last Reset\": {\"sum\": 11.0, \"count\": 1, \"min\": 11, \"max\": 11}}}\n",
      "\u001b[0m\n",
      "\u001b[34m[06/17/2021 13:52:33 INFO 139985458161472] #throughput_metric: host=algo-1, train throughput=11017.806801331591 records/second\u001b[0m\n",
      "\u001b[34m[2021-06-17 13:52:34.072] [tensorio] [info] epoch_stats={\"data_pipeline\": \"/opt/ml/input/data/train\", \"epoch\": 20, \"duration\": 102, \"num_examples\": 11, \"num_bytes\": 81320}\u001b[0m\n",
      "\u001b[34m#metrics {\"StartTime\": 1623937954.0720859, \"EndTime\": 1623937954.0721393, \"Dimensions\": {\"Algorithm\": \"Linear Learner\", \"Host\": \"algo-1\", \"Operation\": \"training\", \"epoch\": 8, \"model\": 0}, \"Metrics\": {\"train_absolute_loss_objective\": {\"sum\": 0.34543982696533204, \"count\": 1, \"min\": 0.34543982696533204, \"max\": 0.34543982696533204}}}\n",
      "\u001b[0m\n",
      "\u001b[34m#metrics {\"StartTime\": 1623937954.072228, \"EndTime\": 1623937954.072248, \"Dimensions\": {\"Algorithm\": \"Linear Learner\", \"Host\": \"algo-1\", \"Operation\": \"training\", \"epoch\": 8, \"model\": 1}, \"Metrics\": {\"train_absolute_loss_objective\": {\"sum\": 0.3497601547241211, \"count\": 1, \"min\": 0.3497601547241211, \"max\": 0.3497601547241211}}}\n",
      "\u001b[0m\n",
      "\u001b[34m#metrics {\"StartTime\": 1623937954.0723052, \"EndTime\": 1623937954.0723224, \"Dimensions\": {\"Algorithm\": \"Linear Learner\", \"Host\": \"algo-1\", \"Operation\": \"training\", \"epoch\": 8, \"model\": 2}, \"Metrics\": {\"train_absolute_loss_objective\": {\"sum\": 0.33625651359558106, \"count\": 1, \"min\": 0.33625651359558106, \"max\": 0.33625651359558106}}}\n",
      "\u001b[0m\n",
      "\u001b[34m#metrics {\"StartTime\": 1623937954.0723863, \"EndTime\": 1623937954.0724046, \"Dimensions\": {\"Algorithm\": \"Linear Learner\", \"Host\": \"algo-1\", \"Operation\": \"training\", \"epoch\": 8, \"model\": 3}, \"Metrics\": {\"train_absolute_loss_objective\": {\"sum\": 0.3734291954040527, \"count\": 1, \"min\": 0.3734291954040527, \"max\": 0.3734291954040527}}}\n",
      "\u001b[0m\n",
      "\u001b[34m#metrics {\"StartTime\": 1623937954.0724664, \"EndTime\": 1623937954.0724833, \"Dimensions\": {\"Algorithm\": \"Linear Learner\", \"Host\": \"algo-1\", \"Operation\": \"training\", \"epoch\": 8, \"model\": 4}, \"Metrics\": {\"train_absolute_loss_objective\": {\"sum\": 0.3259781551361084, \"count\": 1, \"min\": 0.3259781551361084, \"max\": 0.3259781551361084}}}\n",
      "\u001b[0m\n",
      "\u001b[34m#metrics {\"StartTime\": 1623937954.0725453, \"EndTime\": 1623937954.0725625, \"Dimensions\": {\"Algorithm\": \"Linear Learner\", \"Host\": \"algo-1\", \"Operation\": \"training\", \"epoch\": 8, \"model\": 5}, \"Metrics\": {\"train_absolute_loss_objective\": {\"sum\": 0.3292455348968506, \"count\": 1, \"min\": 0.3292455348968506, \"max\": 0.3292455348968506}}}\n",
      "\u001b[0m\n",
      "\u001b[34m#metrics {\"StartTime\": 1623937954.0726206, \"EndTime\": 1623937954.0726361, \"Dimensions\": {\"Algorithm\": \"Linear Learner\", \"Host\": \"algo-1\", \"Operation\": \"training\", \"epoch\": 8, \"model\": 6}, \"Metrics\": {\"train_absolute_loss_objective\": {\"sum\": 0.31587332153320313, \"count\": 1, \"min\": 0.31587332153320313, \"max\": 0.31587332153320313}}}\n",
      "\u001b[0m\n",
      "\u001b[34m#metrics {\"StartTime\": 1623937954.0726967, \"EndTime\": 1623937954.0727131, \"Dimensions\": {\"Algorithm\": \"Linear Learner\", \"Host\": \"algo-1\", \"Operation\": \"training\", \"epoch\": 8, \"model\": 7}, \"Metrics\": {\"train_absolute_loss_objective\": {\"sum\": 0.32022408485412596, \"count\": 1, \"min\": 0.32022408485412596, \"max\": 0.32022408485412596}}}\n",
      "\u001b[0m\n",
      "\u001b[34m#metrics {\"StartTime\": 1623937954.0727646, \"EndTime\": 1623937954.0727801, \"Dimensions\": {\"Algorithm\": \"Linear Learner\", \"Host\": \"algo-1\", \"Operation\": \"training\", \"epoch\": 8, \"model\": 8}, \"Metrics\": {\"train_absolute_loss_objective\": {\"sum\": 0.3843613033294678, \"count\": 1, \"min\": 0.3843613033294678, \"max\": 0.3843613033294678}}}\n",
      "\u001b[0m\n",
      "\u001b[34m#metrics {\"StartTime\": 1623937954.0728307, \"EndTime\": 1623937954.0728464, \"Dimensions\": {\"Algorithm\": \"Linear Learner\", \"Host\": \"algo-1\", \"Operation\": \"training\", \"epoch\": 8, \"model\": 9}, \"Metrics\": {\"train_absolute_loss_objective\": {\"sum\": 0.325090705871582, \"count\": 1, \"min\": 0.325090705871582, \"max\": 0.325090705871582}}}\n",
      "\u001b[0m\n",
      "\u001b[34m[06/17/2021 13:52:34 INFO 139985458161472] #quality_metric: host=algo-1, epoch=8, train absolute_loss_objective <loss>=0.34543982696533204\u001b[0m\n",
      "\u001b[34m[06/17/2021 13:52:34 INFO 139985458161472] #early_stopping_criteria_metric: host=algo-1, epoch=8, criteria=absolute_loss_objective, value=0.31587332153320313\u001b[0m\n",
      "\u001b[34m[06/17/2021 13:52:34 INFO 139985458161472] Saving model for epoch: 8\u001b[0m\n",
      "\u001b[34m[06/17/2021 13:52:34 INFO 139985458161472] Saved checkpoint to \"/tmp/tmpim2qz730/mx-mod-0000.params\"\u001b[0m\n",
      "\u001b[34m[06/17/2021 13:52:34 INFO 139985458161472] #progress_metric: host=algo-1, completed 9.0 % of epochs\u001b[0m\n",
      "\u001b[34m#metrics {\"StartTime\": 1623937953.9686549, \"EndTime\": 1623937954.0793943, \"Dimensions\": {\"Algorithm\": \"Linear Learner\", \"Host\": \"algo-1\", \"Operation\": \"training\", \"epoch\": 8, \"Meta\": \"training_data_iter\"}, \"Metrics\": {\"Total Records Seen\": {\"sum\": 10800.0, \"count\": 1, \"min\": 10800, \"max\": 10800}, \"Total Batches Seen\": {\"sum\": 111.0, \"count\": 1, \"min\": 111, \"max\": 111}, \"Max Records Seen Between Resets\": {\"sum\": 1070.0, \"count\": 1, \"min\": 1070, \"max\": 1070}, \"Max Batches Seen Between Resets\": {\"sum\": 11.0, \"count\": 1, \"min\": 11, \"max\": 11}, \"Reset Count\": {\"sum\": 11.0, \"count\": 1, \"min\": 11, \"max\": 11}, \"Number of Records Since Last Reset\": {\"sum\": 1070.0, \"count\": 1, \"min\": 1070, \"max\": 1070}, \"Number of Batches Since Last Reset\": {\"sum\": 11.0, \"count\": 1, \"min\": 11, \"max\": 11}}}\n",
      "\u001b[0m\n",
      "\u001b[34m[06/17/2021 13:52:34 INFO 139985458161472] #throughput_metric: host=algo-1, train throughput=9650.454535680341 records/second\u001b[0m\n",
      "\u001b[34m[2021-06-17 13:52:34.153] [tensorio] [info] epoch_stats={\"data_pipeline\": \"/opt/ml/input/data/train\", \"epoch\": 22, \"duration\": 73, \"num_examples\": 11, \"num_bytes\": 81320}\u001b[0m\n",
      "\u001b[34m#metrics {\"StartTime\": 1623937954.153537, \"EndTime\": 1623937954.1535883, \"Dimensions\": {\"Algorithm\": \"Linear Learner\", \"Host\": \"algo-1\", \"Operation\": \"training\", \"epoch\": 9, \"model\": 0}, \"Metrics\": {\"train_absolute_loss_objective\": {\"sum\": 0.32953778648376464, \"count\": 1, \"min\": 0.32953778648376464, \"max\": 0.32953778648376464}}}\n",
      "\u001b[0m\n",
      "\u001b[34m#metrics {\"StartTime\": 1623937954.153677, \"EndTime\": 1623937954.1536946, \"Dimensions\": {\"Algorithm\": \"Linear Learner\", \"Host\": \"algo-1\", \"Operation\": \"training\", \"epoch\": 9, \"model\": 1}, \"Metrics\": {\"train_absolute_loss_objective\": {\"sum\": 0.3319505481719971, \"count\": 1, \"min\": 0.3319505481719971, \"max\": 0.3319505481719971}}}\n",
      "\u001b[0m\n",
      "\u001b[34m#metrics {\"StartTime\": 1623937954.153739, \"EndTime\": 1623937954.1537502, \"Dimensions\": {\"Algorithm\": \"Linear Learner\", \"Host\": \"algo-1\", \"Operation\": \"training\", \"epoch\": 9, \"model\": 2}, \"Metrics\": {\"train_absolute_loss_objective\": {\"sum\": 0.32314115715026853, \"count\": 1, \"min\": 0.32314115715026853, \"max\": 0.32314115715026853}}}\n",
      "\u001b[0m\n",
      "\u001b[34m#metrics {\"StartTime\": 1623937954.1537857, \"EndTime\": 1623937954.1537955, \"Dimensions\": {\"Algorithm\": \"Linear Learner\", \"Host\": \"algo-1\", \"Operation\": \"training\", \"epoch\": 9, \"model\": 3}, \"Metrics\": {\"train_absolute_loss_objective\": {\"sum\": 0.3512748832702637, \"count\": 1, \"min\": 0.3512748832702637, \"max\": 0.3512748832702637}}}\n",
      "\u001b[0m\n",
      "\u001b[34m#metrics {\"StartTime\": 1623937954.1538367, \"EndTime\": 1623937954.1538475, \"Dimensions\": {\"Algorithm\": \"Linear Learner\", \"Host\": \"algo-1\", \"Operation\": \"training\", \"epoch\": 9, \"model\": 4}, \"Metrics\": {\"train_absolute_loss_objective\": {\"sum\": 0.30840598106384276, \"count\": 1, \"min\": 0.30840598106384276, \"max\": 0.30840598106384276}}}\n",
      "\u001b[0m\n",
      "\u001b[34m#metrics {\"StartTime\": 1623937954.1538827, \"EndTime\": 1623937954.153892, \"Dimensions\": {\"Algorithm\": \"Linear Learner\", \"Host\": \"algo-1\", \"Operation\": \"training\", \"epoch\": 9, \"model\": 5}, \"Metrics\": {\"train_absolute_loss_objective\": {\"sum\": 0.3163158016204834, \"count\": 1, \"min\": 0.3163158016204834, \"max\": 0.3163158016204834}}}\n",
      "\u001b[0m\n",
      "\u001b[34m#metrics {\"StartTime\": 1623937954.15393, \"EndTime\": 1623937954.1539402, \"Dimensions\": {\"Algorithm\": \"Linear Learner\", \"Host\": \"algo-1\", \"Operation\": \"training\", \"epoch\": 9, \"model\": 6}, \"Metrics\": {\"train_absolute_loss_objective\": {\"sum\": 0.31716059684753417, \"count\": 1, \"min\": 0.31716059684753417, \"max\": 0.31716059684753417}}}\n",
      "\u001b[0m\n",
      "\u001b[34m#metrics {\"StartTime\": 1623937954.1539762, \"EndTime\": 1623937954.153986, \"Dimensions\": {\"Algorithm\": \"Linear Learner\", \"Host\": \"algo-1\", \"Operation\": \"training\", \"epoch\": 9, \"model\": 7}, \"Metrics\": {\"train_absolute_loss_objective\": {\"sum\": 0.3207893905639648, \"count\": 1, \"min\": 0.3207893905639648, \"max\": 0.3207893905639648}}}\n",
      "\u001b[0m\n",
      "\u001b[34m#metrics {\"StartTime\": 1623937954.154026, \"EndTime\": 1623937954.1540365, \"Dimensions\": {\"Algorithm\": \"Linear Learner\", \"Host\": \"algo-1\", \"Operation\": \"training\", \"epoch\": 9, \"model\": 8}, \"Metrics\": {\"train_absolute_loss_objective\": {\"sum\": 0.3623133945465088, \"count\": 1, \"min\": 0.3623133945465088, \"max\": 0.3623133945465088}}}\n",
      "\u001b[0m\n",
      "\u001b[34m#metrics {\"StartTime\": 1623937954.1540763, \"EndTime\": 1623937954.1540866, \"Dimensions\": {\"Algorithm\": \"Linear Learner\", \"Host\": \"algo-1\", \"Operation\": \"training\", \"epoch\": 9, \"model\": 9}, \"Metrics\": {\"train_absolute_loss_objective\": {\"sum\": 0.31539946365356447, \"count\": 1, \"min\": 0.31539946365356447, \"max\": 0.31539946365356447}}}\n",
      "\u001b[0m\n",
      "\u001b[34m[06/17/2021 13:52:34 INFO 139985458161472] #quality_metric: host=algo-1, epoch=9, train absolute_loss_objective <loss>=0.32953778648376464\u001b[0m\n",
      "\u001b[34m[06/17/2021 13:52:34 INFO 139985458161472] #early_stopping_criteria_metric: host=algo-1, epoch=9, criteria=absolute_loss_objective, value=0.30840598106384276\u001b[0m\n",
      "\u001b[34m[06/17/2021 13:52:34 INFO 139985458161472] Epoch 9: Loss improved. Updating best model\u001b[0m\n",
      "\u001b[34m[06/17/2021 13:52:34 INFO 139985458161472] Saving model for epoch: 9\u001b[0m\n",
      "\u001b[34m[06/17/2021 13:52:34 INFO 139985458161472] Saved checkpoint to \"/tmp/tmpgra7yy2t/mx-mod-0000.params\"\u001b[0m\n",
      "\u001b[34m[06/17/2021 13:52:34 INFO 139985458161472] #progress_metric: host=algo-1, completed 10.0 % of epochs\u001b[0m\n",
      "\u001b[34m#metrics {\"StartTime\": 1623937954.0796752, \"EndTime\": 1623937954.1619747, \"Dimensions\": {\"Algorithm\": \"Linear Learner\", \"Host\": \"algo-1\", \"Operation\": \"training\", \"epoch\": 9, \"Meta\": \"training_data_iter\"}, \"Metrics\": {\"Total Records Seen\": {\"sum\": 11870.0, \"count\": 1, \"min\": 11870, \"max\": 11870}, \"Total Batches Seen\": {\"sum\": 122.0, \"count\": 1, \"min\": 122, \"max\": 122}, \"Max Records Seen Between Resets\": {\"sum\": 1070.0, \"count\": 1, \"min\": 1070, \"max\": 1070}, \"Max Batches Seen Between Resets\": {\"sum\": 11.0, \"count\": 1, \"min\": 11, \"max\": 11}, \"Reset Count\": {\"sum\": 12.0, \"count\": 1, \"min\": 12, \"max\": 12}, \"Number of Records Since Last Reset\": {\"sum\": 1070.0, \"count\": 1, \"min\": 1070, \"max\": 1070}, \"Number of Batches Since Last Reset\": {\"sum\": 11.0, \"count\": 1, \"min\": 11, \"max\": 11}}}\n",
      "\u001b[0m\n",
      "\u001b[34m[06/17/2021 13:52:34 INFO 139985458161472] #throughput_metric: host=algo-1, train throughput=12980.27835302012 records/second\u001b[0m\n",
      "\u001b[34m[2021-06-17 13:52:34.229] [tensorio] [info] epoch_stats={\"data_pipeline\": \"/opt/ml/input/data/train\", \"epoch\": 24, \"duration\": 67, \"num_examples\": 11, \"num_bytes\": 81320}\u001b[0m\n",
      "\u001b[34m#metrics {\"StartTime\": 1623937954.2297342, \"EndTime\": 1623937954.2297926, \"Dimensions\": {\"Algorithm\": \"Linear Learner\", \"Host\": \"algo-1\", \"Operation\": \"training\", \"epoch\": 10, \"model\": 0}, \"Metrics\": {\"train_absolute_loss_objective\": {\"sum\": 0.3191191234588623, \"count\": 1, \"min\": 0.3191191234588623, \"max\": 0.3191191234588623}}}\n",
      "\u001b[0m\n",
      "\u001b[34m#metrics {\"StartTime\": 1623937954.2299254, \"EndTime\": 1623937954.2299469, \"Dimensions\": {\"Algorithm\": \"Linear Learner\", \"Host\": \"algo-1\", \"Operation\": \"training\", \"epoch\": 10, \"model\": 1}, \"Metrics\": {\"train_absolute_loss_objective\": {\"sum\": 0.32022511863708497, \"count\": 1, \"min\": 0.32022511863708497, \"max\": 0.32022511863708497}}}\n",
      "\u001b[0m\n",
      "\u001b[34m#metrics {\"StartTime\": 1623937954.230005, \"EndTime\": 1623937954.2300217, \"Dimensions\": {\"Algorithm\": \"Linear Learner\", \"Host\": \"algo-1\", \"Operation\": \"training\", \"epoch\": 10, \"model\": 2}, \"Metrics\": {\"train_absolute_loss_objective\": {\"sum\": 0.31522033309936526, \"count\": 1, \"min\": 0.31522033309936526, \"max\": 0.31522033309936526}}}\n",
      "\u001b[0m\n",
      "\u001b[34m#metrics {\"StartTime\": 1623937954.2300773, \"EndTime\": 1623937954.2300932, \"Dimensions\": {\"Algorithm\": \"Linear Learner\", \"Host\": \"algo-1\", \"Operation\": \"training\", \"epoch\": 10, \"model\": 3}, \"Metrics\": {\"train_absolute_loss_objective\": {\"sum\": 0.3330919380187988, \"count\": 1, \"min\": 0.3330919380187988, \"max\": 0.3330919380187988}}}\n",
      "\u001b[0m\n",
      "\u001b[34m#metrics {\"StartTime\": 1623937954.2301445, \"EndTime\": 1623937954.2301607, \"Dimensions\": {\"Algorithm\": \"Linear Learner\", \"Host\": \"algo-1\", \"Operation\": \"training\", \"epoch\": 10, \"model\": 4}, \"Metrics\": {\"train_absolute_loss_objective\": {\"sum\": 0.31884595489501955, \"count\": 1, \"min\": 0.31884595489501955, \"max\": 0.31884595489501955}}}\n",
      "\u001b[0m\n",
      "\u001b[34m#metrics {\"StartTime\": 1623937954.230214, \"EndTime\": 1623937954.2302308, \"Dimensions\": {\"Algorithm\": \"Linear Learner\", \"Host\": \"algo-1\", \"Operation\": \"training\", \"epoch\": 10, \"model\": 5}, \"Metrics\": {\"train_absolute_loss_objective\": {\"sum\": 0.3074624919891357, \"count\": 1, \"min\": 0.3074624919891357, \"max\": 0.3074624919891357}}}\n",
      "\u001b[0m\n",
      "\u001b[34m#metrics {\"StartTime\": 1623937954.2302825, \"EndTime\": 1623937954.2302978, \"Dimensions\": {\"Algorithm\": \"Linear Learner\", \"Host\": \"algo-1\", \"Operation\": \"training\", \"epoch\": 10, \"model\": 6}, \"Metrics\": {\"train_absolute_loss_objective\": {\"sum\": 0.3189782295227051, \"count\": 1, \"min\": 0.3189782295227051, \"max\": 0.3189782295227051}}}\n",
      "\u001b[0m\n",
      "\u001b[34m#metrics {\"StartTime\": 1623937954.2303488, \"EndTime\": 1623937954.2303638, \"Dimensions\": {\"Algorithm\": \"Linear Learner\", \"Host\": \"algo-1\", \"Operation\": \"training\", \"epoch\": 10, \"model\": 7}, \"Metrics\": {\"train_absolute_loss_objective\": {\"sum\": 0.3212877178192139, \"count\": 1, \"min\": 0.3212877178192139, \"max\": 0.3212877178192139}}}\n",
      "\u001b[0m\n",
      "\u001b[34m#metrics {\"StartTime\": 1623937954.2304132, \"EndTime\": 1623937954.2304285, \"Dimensions\": {\"Algorithm\": \"Linear Learner\", \"Host\": \"algo-1\", \"Operation\": \"training\", \"epoch\": 10, \"model\": 8}, \"Metrics\": {\"train_absolute_loss_objective\": {\"sum\": 0.34364757347106933, \"count\": 1, \"min\": 0.34364757347106933, \"max\": 0.34364757347106933}}}\n",
      "\u001b[0m\n",
      "\u001b[34m#metrics {\"StartTime\": 1623937954.2304783, \"EndTime\": 1623937954.2304947, \"Dimensions\": {\"Algorithm\": \"Linear Learner\", \"Host\": \"algo-1\", \"Operation\": \"training\", \"epoch\": 10, \"model\": 9}, \"Metrics\": {\"train_absolute_loss_objective\": {\"sum\": 0.310392614364624, \"count\": 1, \"min\": 0.310392614364624, \"max\": 0.310392614364624}}}\n",
      "\u001b[0m\n",
      "\u001b[34m[06/17/2021 13:52:34 INFO 139985458161472] #quality_metric: host=algo-1, epoch=10, train absolute_loss_objective <loss>=0.3191191234588623\u001b[0m\n",
      "\u001b[34m[06/17/2021 13:52:34 INFO 139985458161472] #early_stopping_criteria_metric: host=algo-1, epoch=10, criteria=absolute_loss_objective, value=0.3074624919891357\u001b[0m\n",
      "\u001b[34m[06/17/2021 13:52:34 INFO 139985458161472] Epoch 10: Loss improved. Updating best model\u001b[0m\n",
      "\u001b[34m[06/17/2021 13:52:34 INFO 139985458161472] Saving model for epoch: 10\u001b[0m\n",
      "\u001b[34m[06/17/2021 13:52:34 INFO 139985458161472] Saved checkpoint to \"/tmp/tmpehk5kkqf/mx-mod-0000.params\"\u001b[0m\n",
      "\u001b[34m[06/17/2021 13:52:34 INFO 139985458161472] #progress_metric: host=algo-1, completed 11.0 % of epochs\u001b[0m\n",
      "\u001b[34m#metrics {\"StartTime\": 1623937954.1622481, \"EndTime\": 1623937954.2409973, \"Dimensions\": {\"Algorithm\": \"Linear Learner\", \"Host\": \"algo-1\", \"Operation\": \"training\", \"epoch\": 10, \"Meta\": \"training_data_iter\"}, \"Metrics\": {\"Total Records Seen\": {\"sum\": 12940.0, \"count\": 1, \"min\": 12940, \"max\": 12940}, \"Total Batches Seen\": {\"sum\": 133.0, \"count\": 1, \"min\": 133, \"max\": 133}, \"Max Records Seen Between Resets\": {\"sum\": 1070.0, \"count\": 1, \"min\": 1070, \"max\": 1070}, \"Max Batches Seen Between Resets\": {\"sum\": 11.0, \"count\": 1, \"min\": 11, \"max\": 11}, \"Reset Count\": {\"sum\": 13.0, \"count\": 1, \"min\": 13, \"max\": 13}, \"Number of Records Since Last Reset\": {\"sum\": 1070.0, \"count\": 1, \"min\": 1070, \"max\": 1070}, \"Number of Batches Since Last Reset\": {\"sum\": 11.0, \"count\": 1, \"min\": 11, \"max\": 11}}}\n",
      "\u001b[0m\n",
      "\u001b[34m[06/17/2021 13:52:34 INFO 139985458161472] #throughput_metric: host=algo-1, train throughput=13558.54429882599 records/second\u001b[0m\n",
      "\u001b[34m[2021-06-17 13:52:34.326] [tensorio] [info] epoch_stats={\"data_pipeline\": \"/opt/ml/input/data/train\", \"epoch\": 26, \"duration\": 84, \"num_examples\": 11, \"num_bytes\": 81320}\u001b[0m\n",
      "\u001b[34m#metrics {\"StartTime\": 1623937954.3261032, \"EndTime\": 1623937954.3261595, \"Dimensions\": {\"Algorithm\": \"Linear Learner\", \"Host\": \"algo-1\", \"Operation\": \"training\", \"epoch\": 11, \"model\": 0}, \"Metrics\": {\"train_absolute_loss_objective\": {\"sum\": 0.31304163932800294, \"count\": 1, \"min\": 0.31304163932800294, \"max\": 0.31304163932800294}}}\n",
      "\u001b[0m\n",
      "\u001b[34m#metrics {\"StartTime\": 1623937954.3262458, \"EndTime\": 1623937954.3262658, \"Dimensions\": {\"Algorithm\": \"Linear Learner\", \"Host\": \"algo-1\", \"Operation\": \"training\", \"epoch\": 11, \"model\": 1}, \"Metrics\": {\"train_absolute_loss_objective\": {\"sum\": 0.31294042778015135, \"count\": 1, \"min\": 0.31294042778015135, \"max\": 0.31294042778015135}}}\n",
      "\u001b[0m\n",
      "\u001b[34m#metrics {\"StartTime\": 1623937954.3263183, \"EndTime\": 1623937954.3263352, \"Dimensions\": {\"Algorithm\": \"Linear Learner\", \"Host\": \"algo-1\", \"Operation\": \"training\", \"epoch\": 11, \"model\": 2}, \"Metrics\": {\"train_absolute_loss_objective\": {\"sum\": 0.3106386489868164, \"count\": 1, \"min\": 0.3106386489868164, \"max\": 0.3106386489868164}}}\n",
      "\u001b[0m\n",
      "\u001b[34m#metrics {\"StartTime\": 1623937954.3263829, \"EndTime\": 1623937954.3263996, \"Dimensions\": {\"Algorithm\": \"Linear Learner\", \"Host\": \"algo-1\", \"Operation\": \"training\", \"epoch\": 11, \"model\": 3}, \"Metrics\": {\"train_absolute_loss_objective\": {\"sum\": 0.3204269599914551, \"count\": 1, \"min\": 0.3204269599914551, \"max\": 0.3204269599914551}}}\n",
      "\u001b[0m\n",
      "\u001b[34m#metrics {\"StartTime\": 1623937954.3264518, \"EndTime\": 1623937954.326468, \"Dimensions\": {\"Algorithm\": \"Linear Learner\", \"Host\": \"algo-1\", \"Operation\": \"training\", \"epoch\": 11, \"model\": 4}, \"Metrics\": {\"train_absolute_loss_objective\": {\"sum\": 0.3236345272064209, \"count\": 1, \"min\": 0.3236345272064209, \"max\": 0.3236345272064209}}}\n",
      "\u001b[0m\n",
      "\u001b[34m#metrics {\"StartTime\": 1623937954.3265197, \"EndTime\": 1623937954.326536, \"Dimensions\": {\"Algorithm\": \"Linear Learner\", \"Host\": \"algo-1\", \"Operation\": \"training\", \"epoch\": 11, \"model\": 5}, \"Metrics\": {\"train_absolute_loss_objective\": {\"sum\": 0.3146136074066162, \"count\": 1, \"min\": 0.3146136074066162, \"max\": 0.3146136074066162}}}\n",
      "\u001b[0m\n",
      "\u001b[34m#metrics {\"StartTime\": 1623937954.3265846, \"EndTime\": 1623937954.3266008, \"Dimensions\": {\"Algorithm\": \"Linear Learner\", \"Host\": \"algo-1\", \"Operation\": \"training\", \"epoch\": 11, \"model\": 6}, \"Metrics\": {\"train_absolute_loss_objective\": {\"sum\": 0.32691661262512206, \"count\": 1, \"min\": 0.32691661262512206, \"max\": 0.32691661262512206}}}\n",
      "\u001b[0m\n",
      "\u001b[34m#metrics {\"StartTime\": 1623937954.3266497, \"EndTime\": 1623937954.326665, \"Dimensions\": {\"Algorithm\": \"Linear Learner\", \"Host\": \"algo-1\", \"Operation\": \"training\", \"epoch\": 11, \"model\": 7}, \"Metrics\": {\"train_absolute_loss_objective\": {\"sum\": 0.32041186714172365, \"count\": 1, \"min\": 0.32041186714172365, \"max\": 0.32041186714172365}}}\n",
      "\u001b[0m\n",
      "\u001b[34m#metrics {\"StartTime\": 1623937954.3267467, \"EndTime\": 1623937954.3267639, \"Dimensions\": {\"Algorithm\": \"Linear Learner\", \"Host\": \"algo-1\", \"Operation\": \"training\", \"epoch\": 11, \"model\": 8}, \"Metrics\": {\"train_absolute_loss_objective\": {\"sum\": 0.32858899879455566, \"count\": 1, \"min\": 0.32858899879455566, \"max\": 0.32858899879455566}}}\n",
      "\u001b[0m\n",
      "\u001b[34m#metrics {\"StartTime\": 1623937954.3268118, \"EndTime\": 1623937954.3268273, \"Dimensions\": {\"Algorithm\": \"Linear Learner\", \"Host\": \"algo-1\", \"Operation\": \"training\", \"epoch\": 11, \"model\": 9}, \"Metrics\": {\"train_absolute_loss_objective\": {\"sum\": 0.3079063472747803, \"count\": 1, \"min\": 0.3079063472747803, \"max\": 0.3079063472747803}}}\n",
      "\u001b[0m\n",
      "\u001b[34m[06/17/2021 13:52:34 INFO 139985458161472] #quality_metric: host=algo-1, epoch=11, train absolute_loss_objective <loss>=0.31304163932800294\u001b[0m\n",
      "\u001b[34m[06/17/2021 13:52:34 INFO 139985458161472] #early_stopping_criteria_metric: host=algo-1, epoch=11, criteria=absolute_loss_objective, value=0.3079063472747803\u001b[0m\n",
      "\u001b[34m[06/17/2021 13:52:34 INFO 139985458161472] Saving model for epoch: 11\u001b[0m\n",
      "\u001b[34m[06/17/2021 13:52:34 INFO 139985458161472] Saved checkpoint to \"/tmp/tmpupe2y1lc/mx-mod-0000.params\"\u001b[0m\n",
      "\u001b[34m[06/17/2021 13:52:34 INFO 139985458161472] #progress_metric: host=algo-1, completed 12.0 % of epochs\u001b[0m\n",
      "\u001b[34m#metrics {\"StartTime\": 1623937954.2413251, \"EndTime\": 1623937954.3363135, \"Dimensions\": {\"Algorithm\": \"Linear Learner\", \"Host\": \"algo-1\", \"Operation\": \"training\", \"epoch\": 11, \"Meta\": \"training_data_iter\"}, \"Metrics\": {\"Total Records Seen\": {\"sum\": 14010.0, \"count\": 1, \"min\": 14010, \"max\": 14010}, \"Total Batches Seen\": {\"sum\": 144.0, \"count\": 1, \"min\": 144, \"max\": 144}, \"Max Records Seen Between Resets\": {\"sum\": 1070.0, \"count\": 1, \"min\": 1070, \"max\": 1070}, \"Max Batches Seen Between Resets\": {\"sum\": 11.0, \"count\": 1, \"min\": 11, \"max\": 11}, \"Reset Count\": {\"sum\": 14.0, \"count\": 1, \"min\": 14, \"max\": 14}, \"Number of Records Since Last Reset\": {\"sum\": 1070.0, \"count\": 1, \"min\": 1070, \"max\": 1070}, \"Number of Batches Since Last Reset\": {\"sum\": 11.0, \"count\": 1, \"min\": 11, \"max\": 11}}}\n",
      "\u001b[0m\n",
      "\u001b[34m[06/17/2021 13:52:34 INFO 139985458161472] #throughput_metric: host=algo-1, train throughput=11247.882907268171 records/second\u001b[0m\n",
      "\u001b[34m[2021-06-17 13:52:34.428] [tensorio] [info] epoch_stats={\"data_pipeline\": \"/opt/ml/input/data/train\", \"epoch\": 28, \"duration\": 92, \"num_examples\": 11, \"num_bytes\": 81320}\u001b[0m\n",
      "\u001b[34m#metrics {\"StartTime\": 1623937954.428922, \"EndTime\": 1623937954.428977, \"Dimensions\": {\"Algorithm\": \"Linear Learner\", \"Host\": \"algo-1\", \"Operation\": \"training\", \"epoch\": 12, \"model\": 0}, \"Metrics\": {\"train_absolute_loss_objective\": {\"sum\": 0.30931779289245603, \"count\": 1, \"min\": 0.30931779289245603, \"max\": 0.30931779289245603}}}\n",
      "\u001b[0m\n",
      "\u001b[34m#metrics {\"StartTime\": 1623937954.429273, \"EndTime\": 1623937954.429296, \"Dimensions\": {\"Algorithm\": \"Linear Learner\", \"Host\": \"algo-1\", \"Operation\": \"training\", \"epoch\": 12, \"model\": 1}, \"Metrics\": {\"train_absolute_loss_objective\": {\"sum\": 0.30908143043518066, \"count\": 1, \"min\": 0.30908143043518066, \"max\": 0.30908143043518066}}}\n",
      "\u001b[0m\n",
      "\u001b[34m#metrics {\"StartTime\": 1623937954.429354, \"EndTime\": 1623937954.4295433, \"Dimensions\": {\"Algorithm\": \"Linear Learner\", \"Host\": \"algo-1\", \"Operation\": \"training\", \"epoch\": 12, \"model\": 2}, \"Metrics\": {\"train_absolute_loss_objective\": {\"sum\": 0.3084422588348389, \"count\": 1, \"min\": 0.3084422588348389, \"max\": 0.3084422588348389}}}\n",
      "\u001b[0m\n",
      "\u001b[34m#metrics {\"StartTime\": 1623937954.429615, \"EndTime\": 1623937954.4296324, \"Dimensions\": {\"Algorithm\": \"Linear Learner\", \"Host\": \"algo-1\", \"Operation\": \"training\", \"epoch\": 12, \"model\": 3}, \"Metrics\": {\"train_absolute_loss_objective\": {\"sum\": 0.3133000545501709, \"count\": 1, \"min\": 0.3133000545501709, \"max\": 0.3133000545501709}}}\n",
      "\u001b[0m\n",
      "\u001b[34m#metrics {\"StartTime\": 1623937954.429796, \"EndTime\": 1623937954.429816, \"Dimensions\": {\"Algorithm\": \"Linear Learner\", \"Host\": \"algo-1\", \"Operation\": \"training\", \"epoch\": 12, \"model\": 4}, \"Metrics\": {\"train_absolute_loss_objective\": {\"sum\": 0.3190076198577881, \"count\": 1, \"min\": 0.3190076198577881, \"max\": 0.3190076198577881}}}\n",
      "\u001b[0m\n",
      "\u001b[34m#metrics {\"StartTime\": 1623937954.4299798, \"EndTime\": 1623937954.43, \"Dimensions\": {\"Algorithm\": \"Linear Learner\", \"Host\": \"algo-1\", \"Operation\": \"training\", \"epoch\": 12, \"model\": 5}, \"Metrics\": {\"train_absolute_loss_objective\": {\"sum\": 0.3129268264770508, \"count\": 1, \"min\": 0.3129268264770508, \"max\": 0.3129268264770508}}}\n",
      "\u001b[0m\n",
      "\u001b[34m#metrics {\"StartTime\": 1623937954.43016, \"EndTime\": 1623937954.430179, \"Dimensions\": {\"Algorithm\": \"Linear Learner\", \"Host\": \"algo-1\", \"Operation\": \"training\", \"epoch\": 12, \"model\": 6}, \"Metrics\": {\"train_absolute_loss_objective\": {\"sum\": 0.32680582809448244, \"count\": 1, \"min\": 0.32680582809448244, \"max\": 0.32680582809448244}}}\n",
      "\u001b[0m\n",
      "\u001b[34m#metrics {\"StartTime\": 1623937954.4303854, \"EndTime\": 1623937954.4304078, \"Dimensions\": {\"Algorithm\": \"Linear Learner\", \"Host\": \"algo-1\", \"Operation\": \"training\", \"epoch\": 12, \"model\": 7}, \"Metrics\": {\"train_absolute_loss_objective\": {\"sum\": 0.3173647975921631, \"count\": 1, \"min\": 0.3173647975921631, \"max\": 0.3173647975921631}}}\n",
      "\u001b[0m\n",
      "\u001b[34m#metrics {\"StartTime\": 1623937954.430555, \"EndTime\": 1623937954.4305744, \"Dimensions\": {\"Algorithm\": \"Linear Learner\", \"Host\": \"algo-1\", \"Operation\": \"training\", \"epoch\": 12, \"model\": 8}, \"Metrics\": {\"train_absolute_loss_objective\": {\"sum\": 0.3188960952758789, \"count\": 1, \"min\": 0.3188960952758789, \"max\": 0.3188960952758789}}}\n",
      "\u001b[0m\n",
      "\u001b[34m#metrics {\"StartTime\": 1623937954.4306247, \"EndTime\": 1623937954.4308176, \"Dimensions\": {\"Algorithm\": \"Linear Learner\", \"Host\": \"algo-1\", \"Operation\": \"training\", \"epoch\": 12, \"model\": 9}, \"Metrics\": {\"train_absolute_loss_objective\": {\"sum\": 0.30709612464904784, \"count\": 1, \"min\": 0.30709612464904784, \"max\": 0.30709612464904784}}}\n",
      "\u001b[0m\n",
      "\u001b[34m[06/17/2021 13:52:34 INFO 139985458161472] #quality_metric: host=algo-1, epoch=12, train absolute_loss_objective <loss>=0.30931779289245603\u001b[0m\n",
      "\u001b[34m[06/17/2021 13:52:34 INFO 139985458161472] #early_stopping_criteria_metric: host=algo-1, epoch=12, criteria=absolute_loss_objective, value=0.30709612464904784\u001b[0m\n",
      "\u001b[34m[06/17/2021 13:52:34 INFO 139985458161472] Epoch 12: Loss improved. Updating best model\u001b[0m\n",
      "\u001b[34m[06/17/2021 13:52:34 INFO 139985458161472] Saving model for epoch: 12\u001b[0m\n",
      "\u001b[34m[06/17/2021 13:52:34 INFO 139985458161472] Saved checkpoint to \"/tmp/tmp4d6m51ka/mx-mod-0000.params\"\u001b[0m\n",
      "\u001b[34m[06/17/2021 13:52:34 INFO 139985458161472] #progress_metric: host=algo-1, completed 13.0 % of epochs\u001b[0m\n",
      "\u001b[34m#metrics {\"StartTime\": 1623937954.3366005, \"EndTime\": 1623937954.4398086, \"Dimensions\": {\"Algorithm\": \"Linear Learner\", \"Host\": \"algo-1\", \"Operation\": \"training\", \"epoch\": 12, \"Meta\": \"training_data_iter\"}, \"Metrics\": {\"Total Records Seen\": {\"sum\": 15080.0, \"count\": 1, \"min\": 15080, \"max\": 15080}, \"Total Batches Seen\": {\"sum\": 155.0, \"count\": 1, \"min\": 155, \"max\": 155}, \"Max Records Seen Between Resets\": {\"sum\": 1070.0, \"count\": 1, \"min\": 1070, \"max\": 1070}, \"Max Batches Seen Between Resets\": {\"sum\": 11.0, \"count\": 1, \"min\": 11, \"max\": 11}, \"Reset Count\": {\"sum\": 15.0, \"count\": 1, \"min\": 15, \"max\": 15}, \"Number of Records Since Last Reset\": {\"sum\": 1070.0, \"count\": 1, \"min\": 1070, \"max\": 1070}, \"Number of Batches Since Last Reset\": {\"sum\": 11.0, \"count\": 1, \"min\": 11, \"max\": 11}}}\n",
      "\u001b[0m\n",
      "\u001b[34m[06/17/2021 13:52:34 INFO 139985458161472] #throughput_metric: host=algo-1, train throughput=10358.314014946938 records/second\u001b[0m\n",
      "\u001b[34m[2021-06-17 13:52:34.521] [tensorio] [info] epoch_stats={\"data_pipeline\": \"/opt/ml/input/data/train\", \"epoch\": 30, \"duration\": 81, \"num_examples\": 11, \"num_bytes\": 81320}\u001b[0m\n",
      "\u001b[34m#metrics {\"StartTime\": 1623937954.5218458, \"EndTime\": 1623937954.521896, \"Dimensions\": {\"Algorithm\": \"Linear Learner\", \"Host\": \"algo-1\", \"Operation\": \"training\", \"epoch\": 13, \"model\": 0}, \"Metrics\": {\"train_absolute_loss_objective\": {\"sum\": 0.3076241779327393, \"count\": 1, \"min\": 0.3076241779327393, \"max\": 0.3076241779327393}}}\n",
      "\u001b[0m\n",
      "\u001b[34m#metrics {\"StartTime\": 1623937954.5221725, \"EndTime\": 1623937954.5221925, \"Dimensions\": {\"Algorithm\": \"Linear Learner\", \"Host\": \"algo-1\", \"Operation\": \"training\", \"epoch\": 13, \"model\": 1}, \"Metrics\": {\"train_absolute_loss_objective\": {\"sum\": 0.30768116760253905, \"count\": 1, \"min\": 0.30768116760253905, \"max\": 0.30768116760253905}}}\n",
      "\u001b[0m\n",
      "\u001b[34m#metrics {\"StartTime\": 1623937954.522437, \"EndTime\": 1623937954.5224555, \"Dimensions\": {\"Algorithm\": \"Linear Learner\", \"Host\": \"algo-1\", \"Operation\": \"training\", \"epoch\": 13, \"model\": 2}, \"Metrics\": {\"train_absolute_loss_objective\": {\"sum\": 0.30737325477600097, \"count\": 1, \"min\": 0.30737325477600097, \"max\": 0.30737325477600097}}}\n",
      "\u001b[0m\n",
      "\u001b[34m#metrics {\"StartTime\": 1623937954.5226524, \"EndTime\": 1623937954.5226958, \"Dimensions\": {\"Algorithm\": \"Linear Learner\", \"Host\": \"algo-1\", \"Operation\": \"training\", \"epoch\": 13, \"model\": 3}, \"Metrics\": {\"train_absolute_loss_objective\": {\"sum\": 0.3092720775604248, \"count\": 1, \"min\": 0.3092720775604248, \"max\": 0.3092720775604248}}}\n",
      "\u001b[0m\n",
      "\u001b[34m#metrics {\"StartTime\": 1623937954.5229023, \"EndTime\": 1623937954.5229514, \"Dimensions\": {\"Algorithm\": \"Linear Learner\", \"Host\": \"algo-1\", \"Operation\": \"training\", \"epoch\": 13, \"model\": 4}, \"Metrics\": {\"train_absolute_loss_objective\": {\"sum\": 0.31233183860778807, \"count\": 1, \"min\": 0.31233183860778807, \"max\": 0.31233183860778807}}}\n",
      "\u001b[0m\n",
      "\u001b[34m#metrics {\"StartTime\": 1623937954.5232415, \"EndTime\": 1623937954.523265, \"Dimensions\": {\"Algorithm\": \"Linear Learner\", \"Host\": \"algo-1\", \"Operation\": \"training\", \"epoch\": 13, \"model\": 5}, \"Metrics\": {\"train_absolute_loss_objective\": {\"sum\": 0.31410922241210937, \"count\": 1, \"min\": 0.31410922241210937, \"max\": 0.31410922241210937}}}\n",
      "\u001b[0m\n",
      "\u001b[34m#metrics {\"StartTime\": 1623937954.5235496, \"EndTime\": 1623937954.5235724, \"Dimensions\": {\"Algorithm\": \"Linear Learner\", \"Host\": \"algo-1\", \"Operation\": \"training\", \"epoch\": 13, \"model\": 6}, \"Metrics\": {\"train_absolute_loss_objective\": {\"sum\": 0.3303789348602295, \"count\": 1, \"min\": 0.3303789348602295, \"max\": 0.3303789348602295}}}\n",
      "\u001b[0m\n",
      "\u001b[34m#metrics {\"StartTime\": 1623937954.523866, \"EndTime\": 1623937954.5238879, \"Dimensions\": {\"Algorithm\": \"Linear Learner\", \"Host\": \"algo-1\", \"Operation\": \"training\", \"epoch\": 13, \"model\": 7}, \"Metrics\": {\"train_absolute_loss_objective\": {\"sum\": 0.3190178050994873, \"count\": 1, \"min\": 0.3190178050994873, \"max\": 0.3190178050994873}}}\n",
      "\u001b[0m\n",
      "\u001b[34m#metrics {\"StartTime\": 1623937954.5241456, \"EndTime\": 1623937954.5241666, \"Dimensions\": {\"Algorithm\": \"Linear Learner\", \"Host\": \"algo-1\", \"Operation\": \"training\", \"epoch\": 13, \"model\": 8}, \"Metrics\": {\"train_absolute_loss_objective\": {\"sum\": 0.3131363830566406, \"count\": 1, \"min\": 0.3131363830566406, \"max\": 0.3131363830566406}}}\n",
      "\u001b[0m\n",
      "\u001b[34m#metrics {\"StartTime\": 1623937954.5244193, \"EndTime\": 1623937954.5244434, \"Dimensions\": {\"Algorithm\": \"Linear Learner\", \"Host\": \"algo-1\", \"Operation\": \"training\", \"epoch\": 13, \"model\": 9}, \"Metrics\": {\"train_absolute_loss_objective\": {\"sum\": 0.3068004360198975, \"count\": 1, \"min\": 0.3068004360198975, \"max\": 0.3068004360198975}}}\n",
      "\u001b[0m\n",
      "\u001b[34m[06/17/2021 13:52:34 INFO 139985458161472] #quality_metric: host=algo-1, epoch=13, train absolute_loss_objective <loss>=0.3076241779327393\u001b[0m\n",
      "\u001b[34m[06/17/2021 13:52:34 INFO 139985458161472] #early_stopping_criteria_metric: host=algo-1, epoch=13, criteria=absolute_loss_objective, value=0.3068004360198975\u001b[0m\n",
      "\u001b[34m[06/17/2021 13:52:34 INFO 139985458161472] Saving model for epoch: 13\u001b[0m\n",
      "\u001b[34m[06/17/2021 13:52:34 INFO 139985458161472] Saved checkpoint to \"/tmp/tmprigy8bl6/mx-mod-0000.params\"\u001b[0m\n",
      "\u001b[34m[06/17/2021 13:52:34 INFO 139985458161472] #progress_metric: host=algo-1, completed 14.0 % of epochs\u001b[0m\n",
      "\u001b[34m#metrics {\"StartTime\": 1623937954.440041, \"EndTime\": 1623937954.5343528, \"Dimensions\": {\"Algorithm\": \"Linear Learner\", \"Host\": \"algo-1\", \"Operation\": \"training\", \"epoch\": 13, \"Meta\": \"training_data_iter\"}, \"Metrics\": {\"Total Records Seen\": {\"sum\": 16150.0, \"count\": 1, \"min\": 16150, \"max\": 16150}, \"Total Batches Seen\": {\"sum\": 166.0, \"count\": 1, \"min\": 166, \"max\": 166}, \"Max Records Seen Between Resets\": {\"sum\": 1070.0, \"count\": 1, \"min\": 1070, \"max\": 1070}, \"Max Batches Seen Between Resets\": {\"sum\": 11.0, \"count\": 1, \"min\": 11, \"max\": 11}, \"Reset Count\": {\"sum\": 16.0, \"count\": 1, \"min\": 16, \"max\": 16}, \"Number of Records Since Last Reset\": {\"sum\": 1070.0, \"count\": 1, \"min\": 1070, \"max\": 1070}, \"Number of Batches Since Last Reset\": {\"sum\": 11.0, \"count\": 1, \"min\": 11, \"max\": 11}}}\n",
      "\u001b[0m\n",
      "\u001b[34m[06/17/2021 13:52:34 INFO 139985458161472] #throughput_metric: host=algo-1, train throughput=11325.572359771162 records/second\u001b[0m\n",
      "\u001b[34m[2021-06-17 13:52:34.612] [tensorio] [info] epoch_stats={\"data_pipeline\": \"/opt/ml/input/data/train\", \"epoch\": 32, \"duration\": 77, \"num_examples\": 11, \"num_bytes\": 81320}\u001b[0m\n",
      "\u001b[34m#metrics {\"StartTime\": 1623937954.6123004, \"EndTime\": 1623937954.61235, \"Dimensions\": {\"Algorithm\": \"Linear Learner\", \"Host\": \"algo-1\", \"Operation\": \"training\", \"epoch\": 14, \"model\": 0}, \"Metrics\": {\"train_absolute_loss_objective\": {\"sum\": 0.30723837471008303, \"count\": 1, \"min\": 0.30723837471008303, \"max\": 0.30723837471008303}}}\n",
      "\u001b[0m\n",
      "\u001b[34m#metrics {\"StartTime\": 1623937954.6124246, \"EndTime\": 1623937954.6124384, \"Dimensions\": {\"Algorithm\": \"Linear Learner\", \"Host\": \"algo-1\", \"Operation\": \"training\", \"epoch\": 14, \"model\": 1}, \"Metrics\": {\"train_absolute_loss_objective\": {\"sum\": 0.3072721996307373, \"count\": 1, \"min\": 0.3072721996307373, \"max\": 0.3072721996307373}}}\n",
      "\u001b[0m\n",
      "\u001b[34m#metrics {\"StartTime\": 1623937954.612476, \"EndTime\": 1623937954.6124864, \"Dimensions\": {\"Algorithm\": \"Linear Learner\", \"Host\": \"algo-1\", \"Operation\": \"training\", \"epoch\": 14, \"model\": 2}, \"Metrics\": {\"train_absolute_loss_objective\": {\"sum\": 0.3073556842803955, \"count\": 1, \"min\": 0.3073556842803955, \"max\": 0.3073556842803955}}}\n",
      "\u001b[0m\n",
      "\u001b[34m#metrics {\"StartTime\": 1623937954.6125205, \"EndTime\": 1623937954.6125302, \"Dimensions\": {\"Algorithm\": \"Linear Learner\", \"Host\": \"algo-1\", \"Operation\": \"training\", \"epoch\": 14, \"model\": 3}, \"Metrics\": {\"train_absolute_loss_objective\": {\"sum\": 0.3080074043273926, \"count\": 1, \"min\": 0.3080074043273926, \"max\": 0.3080074043273926}}}\n",
      "\u001b[0m\n",
      "\u001b[34m#metrics {\"StartTime\": 1623937954.612563, \"EndTime\": 1623937954.6125724, \"Dimensions\": {\"Algorithm\": \"Linear Learner\", \"Host\": \"algo-1\", \"Operation\": \"training\", \"epoch\": 14, \"model\": 4}, \"Metrics\": {\"train_absolute_loss_objective\": {\"sum\": 0.3190775604248047, \"count\": 1, \"min\": 0.3190775604248047, \"max\": 0.3190775604248047}}}\n",
      "\u001b[0m\n",
      "\u001b[34m#metrics {\"StartTime\": 1623937954.6126046, \"EndTime\": 1623937954.6126142, \"Dimensions\": {\"Algorithm\": \"Linear Learner\", \"Host\": \"algo-1\", \"Operation\": \"training\", \"epoch\": 14, \"model\": 5}, \"Metrics\": {\"train_absolute_loss_objective\": {\"sum\": 0.3154054336547852, \"count\": 1, \"min\": 0.3154054336547852, \"max\": 0.3154054336547852}}}\n",
      "\u001b[0m\n",
      "\u001b[34m#metrics {\"StartTime\": 1623937954.6126463, \"EndTime\": 1623937954.6126556, \"Dimensions\": {\"Algorithm\": \"Linear Learner\", \"Host\": \"algo-1\", \"Operation\": \"training\", \"epoch\": 14, \"model\": 6}, \"Metrics\": {\"train_absolute_loss_objective\": {\"sum\": 0.3352309627532959, \"count\": 1, \"min\": 0.3352309627532959, \"max\": 0.3352309627532959}}}\n",
      "\u001b[0m\n",
      "\u001b[34m#metrics {\"StartTime\": 1623937954.6126878, \"EndTime\": 1623937954.6126986, \"Dimensions\": {\"Algorithm\": \"Linear Learner\", \"Host\": \"algo-1\", \"Operation\": \"training\", \"epoch\": 14, \"model\": 7}, \"Metrics\": {\"train_absolute_loss_objective\": {\"sum\": 0.31850850677490233, \"count\": 1, \"min\": 0.31850850677490233, \"max\": 0.31850850677490233}}}\n",
      "\u001b[0m\n",
      "\u001b[34m#metrics {\"StartTime\": 1623937954.6127384, \"EndTime\": 1623937954.6127489, \"Dimensions\": {\"Algorithm\": \"Linear Learner\", \"Host\": \"algo-1\", \"Operation\": \"training\", \"epoch\": 14, \"model\": 8}, \"Metrics\": {\"train_absolute_loss_objective\": {\"sum\": 0.30961620140075685, \"count\": 1, \"min\": 0.30961620140075685, \"max\": 0.30961620140075685}}}\n",
      "\u001b[0m\n",
      "\u001b[34m#metrics {\"StartTime\": 1623937954.6127822, \"EndTime\": 1623937954.6127915, \"Dimensions\": {\"Algorithm\": \"Linear Learner\", \"Host\": \"algo-1\", \"Operation\": \"training\", \"epoch\": 14, \"model\": 9}, \"Metrics\": {\"train_absolute_loss_objective\": {\"sum\": 0.3073025016784668, \"count\": 1, \"min\": 0.3073025016784668, \"max\": 0.3073025016784668}}}\n",
      "\u001b[0m\n",
      "\u001b[34m[06/17/2021 13:52:34 INFO 139985458161472] #quality_metric: host=algo-1, epoch=14, train absolute_loss_objective <loss>=0.30723837471008303\u001b[0m\n",
      "\u001b[34m[06/17/2021 13:52:34 INFO 139985458161472] #early_stopping_criteria_metric: host=algo-1, epoch=14, criteria=absolute_loss_objective, value=0.30723837471008303\u001b[0m\n",
      "\u001b[34m[06/17/2021 13:52:34 INFO 139985458161472] Saving model for epoch: 14\u001b[0m\n",
      "\u001b[34m[06/17/2021 13:52:34 INFO 139985458161472] Saved checkpoint to \"/tmp/tmpajd0csi8/mx-mod-0000.params\"\u001b[0m\n",
      "\u001b[34m[06/17/2021 13:52:34 INFO 139985458161472] #progress_metric: host=algo-1, completed 15.0 % of epochs\u001b[0m\n",
      "\u001b[34m#metrics {\"StartTime\": 1623937954.534664, \"EndTime\": 1623937954.622005, \"Dimensions\": {\"Algorithm\": \"Linear Learner\", \"Host\": \"algo-1\", \"Operation\": \"training\", \"epoch\": 14, \"Meta\": \"training_data_iter\"}, \"Metrics\": {\"Total Records Seen\": {\"sum\": 17220.0, \"count\": 1, \"min\": 17220, \"max\": 17220}, \"Total Batches Seen\": {\"sum\": 177.0, \"count\": 1, \"min\": 177, \"max\": 177}, \"Max Records Seen Between Resets\": {\"sum\": 1070.0, \"count\": 1, \"min\": 1070, \"max\": 1070}, \"Max Batches Seen Between Resets\": {\"sum\": 11.0, \"count\": 1, \"min\": 11, \"max\": 11}, \"Reset Count\": {\"sum\": 17.0, \"count\": 1, \"min\": 17, \"max\": 17}, \"Number of Records Since Last Reset\": {\"sum\": 1070.0, \"count\": 1, \"min\": 1070, \"max\": 1070}, \"Number of Batches Since Last Reset\": {\"sum\": 11.0, \"count\": 1, \"min\": 11, \"max\": 11}}}\n",
      "\u001b[0m\n",
      "\u001b[34m[06/17/2021 13:52:34 INFO 139985458161472] #throughput_metric: host=algo-1, train throughput=12232.691194347984 records/second\u001b[0m\n",
      "\u001b[34m[2021-06-17 13:52:34.722] [tensorio] [info] epoch_stats={\"data_pipeline\": \"/opt/ml/input/data/train\", \"epoch\": 34, \"duration\": 100, \"num_examples\": 11, \"num_bytes\": 81320}\u001b[0m\n",
      "\u001b[34m#metrics {\"StartTime\": 1623937954.722916, \"EndTime\": 1623937954.722973, \"Dimensions\": {\"Algorithm\": \"Linear Learner\", \"Host\": \"algo-1\", \"Operation\": \"training\", \"epoch\": 15, \"model\": 0}, \"Metrics\": {\"train_absolute_loss_objective\": {\"sum\": 0.30718976974487305, \"count\": 1, \"min\": 0.30718976974487305, \"max\": 0.30718976974487305}}}\n",
      "\u001b[0m\n",
      "\u001b[34m#metrics {\"StartTime\": 1623937954.723061, \"EndTime\": 1623937954.723081, \"Dimensions\": {\"Algorithm\": \"Linear Learner\", \"Host\": \"algo-1\", \"Operation\": \"training\", \"epoch\": 15, \"model\": 1}, \"Metrics\": {\"train_absolute_loss_objective\": {\"sum\": 0.3073700313568115, \"count\": 1, \"min\": 0.3073700313568115, \"max\": 0.3073700313568115}}}\n",
      "\u001b[0m\n",
      "\u001b[34m#metrics {\"StartTime\": 1623937954.7231584, \"EndTime\": 1623937954.7231815, \"Dimensions\": {\"Algorithm\": \"Linear Learner\", \"Host\": \"algo-1\", \"Operation\": \"training\", \"epoch\": 15, \"model\": 2}, \"Metrics\": {\"train_absolute_loss_objective\": {\"sum\": 0.3071283836364746, \"count\": 1, \"min\": 0.3071283836364746, \"max\": 0.3071283836364746}}}\n",
      "\u001b[0m\n",
      "\u001b[34m#metrics {\"StartTime\": 1623937954.723234, \"EndTime\": 1623937954.7232478, \"Dimensions\": {\"Algorithm\": \"Linear Learner\", \"Host\": \"algo-1\", \"Operation\": \"training\", \"epoch\": 15, \"model\": 3}, \"Metrics\": {\"train_absolute_loss_objective\": {\"sum\": 0.3077578620910644, \"count\": 1, \"min\": 0.3077578620910644, \"max\": 0.3077578620910644}}}\n",
      "\u001b[0m\n",
      "\u001b[34m#metrics {\"StartTime\": 1623937954.7232873, \"EndTime\": 1623937954.7232988, \"Dimensions\": {\"Algorithm\": \"Linear Learner\", \"Host\": \"algo-1\", \"Operation\": \"training\", \"epoch\": 15, \"model\": 4}, \"Metrics\": {\"train_absolute_loss_objective\": {\"sum\": 0.3209473438262939, \"count\": 1, \"min\": 0.3209473438262939, \"max\": 0.3209473438262939}}}\n",
      "\u001b[0m\n",
      "\u001b[34m#metrics {\"StartTime\": 1623937954.7233367, \"EndTime\": 1623937954.7233486, \"Dimensions\": {\"Algorithm\": \"Linear Learner\", \"Host\": \"algo-1\", \"Operation\": \"training\", \"epoch\": 15, \"model\": 5}, \"Metrics\": {\"train_absolute_loss_objective\": {\"sum\": 0.3335702304840088, \"count\": 1, \"min\": 0.3335702304840088, \"max\": 0.3335702304840088}}}\n",
      "\u001b[0m\n",
      "\u001b[34m#metrics {\"StartTime\": 1623937954.7233858, \"EndTime\": 1623937954.723397, \"Dimensions\": {\"Algorithm\": \"Linear Learner\", \"Host\": \"algo-1\", \"Operation\": \"training\", \"epoch\": 15, \"model\": 6}, \"Metrics\": {\"train_absolute_loss_objective\": {\"sum\": 0.3159833221435547, \"count\": 1, \"min\": 0.3159833221435547, \"max\": 0.3159833221435547}}}\n",
      "\u001b[0m\n",
      "\u001b[34m#metrics {\"StartTime\": 1623937954.7234347, \"EndTime\": 1623937954.723448, \"Dimensions\": {\"Algorithm\": \"Linear Learner\", \"Host\": \"algo-1\", \"Operation\": \"training\", \"epoch\": 15, \"model\": 7}, \"Metrics\": {\"train_absolute_loss_objective\": {\"sum\": 0.3211774711608887, \"count\": 1, \"min\": 0.3211774711608887, \"max\": 0.3211774711608887}}}\n",
      "\u001b[0m\n",
      "\u001b[34m#metrics {\"StartTime\": 1623937954.7234943, \"EndTime\": 1623937954.72351, \"Dimensions\": {\"Algorithm\": \"Linear Learner\", \"Host\": \"algo-1\", \"Operation\": \"training\", \"epoch\": 15, \"model\": 8}, \"Metrics\": {\"train_absolute_loss_objective\": {\"sum\": 0.30834385299682615, \"count\": 1, \"min\": 0.30834385299682615, \"max\": 0.30834385299682615}}}\n",
      "\u001b[0m\n",
      "\u001b[34m#metrics {\"StartTime\": 1623937954.7235603, \"EndTime\": 1623937954.723576, \"Dimensions\": {\"Algorithm\": \"Linear Learner\", \"Host\": \"algo-1\", \"Operation\": \"training\", \"epoch\": 15, \"model\": 9}, \"Metrics\": {\"train_absolute_loss_objective\": {\"sum\": 0.3074329814910889, \"count\": 1, \"min\": 0.3074329814910889, \"max\": 0.3074329814910889}}}\n",
      "\u001b[0m\n",
      "\u001b[34m[06/17/2021 13:52:34 INFO 139985458161472] #quality_metric: host=algo-1, epoch=15, train absolute_loss_objective <loss>=0.30718976974487305\u001b[0m\n",
      "\u001b[34m[06/17/2021 13:52:34 INFO 139985458161472] #early_stopping_criteria_metric: host=algo-1, epoch=15, criteria=absolute_loss_objective, value=0.3071283836364746\u001b[0m\n",
      "\u001b[34m[06/17/2021 13:52:34 INFO 139985458161472] Saving model for epoch: 15\u001b[0m\n",
      "\u001b[34m[06/17/2021 13:52:34 INFO 139985458161472] Saved checkpoint to \"/tmp/tmpuxij_sau/mx-mod-0000.params\"\u001b[0m\n",
      "\u001b[34m[06/17/2021 13:52:34 INFO 139985458161472] #progress_metric: host=algo-1, completed 16.0 % of epochs\u001b[0m\n",
      "\u001b[34m#metrics {\"StartTime\": 1623937954.6222854, \"EndTime\": 1623937954.7307484, \"Dimensions\": {\"Algorithm\": \"Linear Learner\", \"Host\": \"algo-1\", \"Operation\": \"training\", \"epoch\": 15, \"Meta\": \"training_data_iter\"}, \"Metrics\": {\"Total Records Seen\": {\"sum\": 18290.0, \"count\": 1, \"min\": 18290, \"max\": 18290}, \"Total Batches Seen\": {\"sum\": 188.0, \"count\": 1, \"min\": 188, \"max\": 188}, \"Max Records Seen Between Resets\": {\"sum\": 1070.0, \"count\": 1, \"min\": 1070, \"max\": 1070}, \"Max Batches Seen Between Resets\": {\"sum\": 11.0, \"count\": 1, \"min\": 11, \"max\": 11}, \"Reset Count\": {\"sum\": 18.0, \"count\": 1, \"min\": 18, \"max\": 18}, \"Number of Records Since Last Reset\": {\"sum\": 1070.0, \"count\": 1, \"min\": 1070, \"max\": 1070}, \"Number of Batches Since Last Reset\": {\"sum\": 11.0, \"count\": 1, \"min\": 11, \"max\": 11}}}\n",
      "\u001b[0m\n",
      "\u001b[34m[06/17/2021 13:52:34 INFO 139985458161472] #throughput_metric: host=algo-1, train throughput=9854.19367588065 records/second\u001b[0m\n",
      "\u001b[34m[2021-06-17 13:52:34.824] [tensorio] [info] epoch_stats={\"data_pipeline\": \"/opt/ml/input/data/train\", \"epoch\": 36, \"duration\": 93, \"num_examples\": 11, \"num_bytes\": 81320}\u001b[0m\n",
      "\u001b[34m#metrics {\"StartTime\": 1623937954.8247426, \"EndTime\": 1623937954.8247976, \"Dimensions\": {\"Algorithm\": \"Linear Learner\", \"Host\": \"algo-1\", \"Operation\": \"training\", \"epoch\": 16, \"model\": 0}, \"Metrics\": {\"train_absolute_loss_objective\": {\"sum\": 0.3072193584442139, \"count\": 1, \"min\": 0.3072193584442139, \"max\": 0.3072193584442139}}}\n",
      "\u001b[0m\n",
      "\u001b[34m#metrics {\"StartTime\": 1623937954.824899, \"EndTime\": 1623937954.8249145, \"Dimensions\": {\"Algorithm\": \"Linear Learner\", \"Host\": \"algo-1\", \"Operation\": \"training\", \"epoch\": 16, \"model\": 1}, \"Metrics\": {\"train_absolute_loss_objective\": {\"sum\": 0.3074148998260498, \"count\": 1, \"min\": 0.3074148998260498, \"max\": 0.3074148998260498}}}\n",
      "\u001b[0m\n",
      "\u001b[34m#metrics {\"StartTime\": 1623937954.824953, \"EndTime\": 1623937954.8249636, \"Dimensions\": {\"Algorithm\": \"Linear Learner\", \"Host\": \"algo-1\", \"Operation\": \"training\", \"epoch\": 16, \"model\": 2}, \"Metrics\": {\"train_absolute_loss_objective\": {\"sum\": 0.3066725673675537, \"count\": 1, \"min\": 0.3066725673675537, \"max\": 0.3066725673675537}}}\n",
      "\u001b[0m\n",
      "\u001b[34m#metrics {\"StartTime\": 1623937954.8249981, \"EndTime\": 1623937954.825008, \"Dimensions\": {\"Algorithm\": \"Linear Learner\", \"Host\": \"algo-1\", \"Operation\": \"training\", \"epoch\": 16, \"model\": 3}, \"Metrics\": {\"train_absolute_loss_objective\": {\"sum\": 0.30775391769409177, \"count\": 1, \"min\": 0.30775391769409177, \"max\": 0.30775391769409177}}}\n",
      "\u001b[0m\n",
      "\u001b[34m#metrics {\"StartTime\": 1623937954.8252146, \"EndTime\": 1623937954.8252301, \"Dimensions\": {\"Algorithm\": \"Linear Learner\", \"Host\": \"algo-1\", \"Operation\": \"training\", \"epoch\": 16, \"model\": 4}, \"Metrics\": {\"train_absolute_loss_objective\": {\"sum\": 0.31353973388671874, \"count\": 1, \"min\": 0.31353973388671874, \"max\": 0.31353973388671874}}}\n",
      "\u001b[0m\n",
      "\u001b[34m#metrics {\"StartTime\": 1623937954.8252783, \"EndTime\": 1623937954.82529, \"Dimensions\": {\"Algorithm\": \"Linear Learner\", \"Host\": \"algo-1\", \"Operation\": \"training\", \"epoch\": 16, \"model\": 5}, \"Metrics\": {\"train_absolute_loss_objective\": {\"sum\": 0.326835205078125, \"count\": 1, \"min\": 0.326835205078125, \"max\": 0.326835205078125}}}\n",
      "\u001b[0m\n",
      "\u001b[34m#metrics {\"StartTime\": 1623937954.8253279, \"EndTime\": 1623937954.8253381, \"Dimensions\": {\"Algorithm\": \"Linear Learner\", \"Host\": \"algo-1\", \"Operation\": \"training\", \"epoch\": 16, \"model\": 6}, \"Metrics\": {\"train_absolute_loss_objective\": {\"sum\": 0.3389888916015625, \"count\": 1, \"min\": 0.3389888916015625, \"max\": 0.3389888916015625}}}\n",
      "\u001b[0m\n",
      "\u001b[34m#metrics {\"StartTime\": 1623937954.8253717, \"EndTime\": 1623937954.825381, \"Dimensions\": {\"Algorithm\": \"Linear Learner\", \"Host\": \"algo-1\", \"Operation\": \"training\", \"epoch\": 16, \"model\": 7}, \"Metrics\": {\"train_absolute_loss_objective\": {\"sum\": 0.333384557723999, \"count\": 1, \"min\": 0.333384557723999, \"max\": 0.333384557723999}}}\n",
      "\u001b[0m\n",
      "\u001b[34m#metrics {\"StartTime\": 1623937954.825414, \"EndTime\": 1623937954.825423, \"Dimensions\": {\"Algorithm\": \"Linear Learner\", \"Host\": \"algo-1\", \"Operation\": \"training\", \"epoch\": 16, \"model\": 8}, \"Metrics\": {\"train_absolute_loss_objective\": {\"sum\": 0.3075163040161133, \"count\": 1, \"min\": 0.3075163040161133, \"max\": 0.3075163040161133}}}\n",
      "\u001b[0m\n",
      "\u001b[34m#metrics {\"StartTime\": 1623937954.825457, \"EndTime\": 1623937954.8254669, \"Dimensions\": {\"Algorithm\": \"Linear Learner\", \"Host\": \"algo-1\", \"Operation\": \"training\", \"epoch\": 16, \"model\": 9}, \"Metrics\": {\"train_absolute_loss_objective\": {\"sum\": 0.3072030334472656, \"count\": 1, \"min\": 0.3072030334472656, \"max\": 0.3072030334472656}}}\n",
      "\u001b[0m\n",
      "\u001b[34m[06/17/2021 13:52:34 INFO 139985458161472] #quality_metric: host=algo-1, epoch=16, train absolute_loss_objective <loss>=0.3072193584442139\u001b[0m\n",
      "\u001b[34m[06/17/2021 13:52:34 INFO 139985458161472] #early_stopping_criteria_metric: host=algo-1, epoch=16, criteria=absolute_loss_objective, value=0.3066725673675537\u001b[0m\n",
      "\u001b[34m[06/17/2021 13:52:34 INFO 139985458161472] Saving model for epoch: 16\u001b[0m\n",
      "\u001b[34m[06/17/2021 13:52:34 INFO 139985458161472] Saved checkpoint to \"/tmp/tmpe47kw3a3/mx-mod-0000.params\"\u001b[0m\n",
      "\u001b[34m[06/17/2021 13:52:34 INFO 139985458161472] Early stop condition met. Stopping training.\u001b[0m\n",
      "\u001b[34m[06/17/2021 13:52:34 INFO 139985458161472] #progress_metric: host=algo-1, completed 100 % epochs\u001b[0m\n",
      "\u001b[34m#metrics {\"StartTime\": 1623937954.7310288, \"EndTime\": 1623937954.8337774, \"Dimensions\": {\"Algorithm\": \"Linear Learner\", \"Host\": \"algo-1\", \"Operation\": \"training\", \"epoch\": 16, \"Meta\": \"training_data_iter\"}, \"Metrics\": {\"Total Records Seen\": {\"sum\": 19360.0, \"count\": 1, \"min\": 19360, \"max\": 19360}, \"Total Batches Seen\": {\"sum\": 199.0, \"count\": 1, \"min\": 199, \"max\": 199}, \"Max Records Seen Between Resets\": {\"sum\": 1070.0, \"count\": 1, \"min\": 1070, \"max\": 1070}, \"Max Batches Seen Between Resets\": {\"sum\": 11.0, \"count\": 1, \"min\": 11, \"max\": 11}, \"Reset Count\": {\"sum\": 19.0, \"count\": 1, \"min\": 19, \"max\": 19}, \"Number of Records Since Last Reset\": {\"sum\": 1070.0, \"count\": 1, \"min\": 1070, \"max\": 1070}, \"Number of Batches Since Last Reset\": {\"sum\": 11.0, \"count\": 1, \"min\": 11, \"max\": 11}}}\n",
      "\u001b[0m\n",
      "\u001b[34m[06/17/2021 13:52:34 INFO 139985458161472] #throughput_metric: host=algo-1, train throughput=10396.033486682696 records/second\u001b[0m\n",
      "\u001b[34m[06/17/2021 13:52:34 WARNING 139985458161472] wait_for_all_workers will not sync workers since the kv store is not running distributed\u001b[0m\n",
      "\u001b[34m[06/17/2021 13:52:34 WARNING 139985458161472] wait_for_all_workers will not sync workers since the kv store is not running distributed\u001b[0m\n",
      "\u001b[34m[2021-06-17 13:52:34.835] [tensorio] [info] epoch_stats={\"data_pipeline\": \"/opt/ml/input/data/train\", \"epoch\": 38, \"duration\": 0, \"num_examples\": 1, \"num_bytes\": 7600}\u001b[0m\n",
      "\u001b[34m[2021-06-17 13:52:34.863] [tensorio] [info] epoch_stats={\"data_pipeline\": \"/opt/ml/input/data/train\", \"epoch\": 40, \"duration\": 22, \"num_examples\": 11, \"num_bytes\": 81320}\u001b[0m\n",
      "\u001b[34m[06/17/2021 13:52:34 INFO 139985458161472] #train_score (algo-1) : ('absolute_loss_objective', 3683.072984813084)\u001b[0m\n",
      "\u001b[34m[06/17/2021 13:52:34 INFO 139985458161472] #train_score (algo-1) : ('mse', 57261518.47476636)\u001b[0m\n",
      "\u001b[34m[06/17/2021 13:52:34 INFO 139985458161472] #train_score (algo-1) : ('absolute_loss', 3683.072984813084)\u001b[0m\n",
      "\u001b[34m[06/17/2021 13:52:34 INFO 139985458161472] #quality_metric: host=algo-1, train absolute_loss_objective <loss>=3683.072984813084\u001b[0m\n",
      "\u001b[34m[06/17/2021 13:52:34 INFO 139985458161472] #quality_metric: host=algo-1, train mse <loss>=57261518.47476636\u001b[0m\n",
      "\u001b[34m[06/17/2021 13:52:34 INFO 139985458161472] #quality_metric: host=algo-1, train absolute_loss <loss>=3683.072984813084\u001b[0m\n",
      "\u001b[34m[06/17/2021 13:52:34 INFO 139985458161472] Best model found for hyperparameters: {\"optimizer\": \"adam\", \"learning_rate\": 0.005, \"wd\": 0.01, \"l1\": 0.0, \"lr_scheduler_step\": 100, \"lr_scheduler_factor\": 0.99, \"lr_scheduler_minimum_lr\": 1e-05}\u001b[0m\n",
      "\u001b[34m[06/17/2021 13:52:34 INFO 139985458161472] Saved checkpoint to \"/tmp/tmpkilwetxq/mx-mod-0000.params\"\u001b[0m\n",
      "\u001b[34m[06/17/2021 13:52:34 INFO 139985458161472] Test data is not provided.\u001b[0m\n",
      "\u001b[34m#metrics {\"StartTime\": 1623937953.0933604, \"EndTime\": 1623937954.8695676, \"Dimensions\": {\"Algorithm\": \"Linear Learner\", \"Host\": \"algo-1\", \"Operation\": \"training\"}, \"Metrics\": {\"initialize.time\": {\"sum\": 165.30632972717285, \"count\": 1, \"min\": 165.30632972717285, \"max\": 165.30632972717285}, \"epochs\": {\"sum\": 100.0, \"count\": 1, \"min\": 100, \"max\": 100}, \"check_early_stopping.time\": {\"sum\": 13.624191284179688, \"count\": 17, \"min\": 0.17762184143066406, \"max\": 1.5265941619873047}, \"update.time\": {\"sum\": 1512.115240097046, \"count\": 17, \"min\": 73.1801986694336, \"max\": 108.08730125427246}, \"finalize.time\": {\"sum\": 30.441761016845703, \"count\": 1, \"min\": 30.441761016845703, \"max\": 30.441761016845703}, \"setuptime\": {\"sum\": 22.310256958007812, \"count\": 1, \"min\": 22.310256958007812, \"max\": 22.310256958007812}, \"totaltime\": {\"sum\": 1984.4293594360352, \"count\": 1, \"min\": 1984.4293594360352, \"max\": 1984.4293594360352}}}\n",
      "\u001b[0m\n",
      "\n",
      "2021-06-17 13:52:47 Uploading - Uploading generated training model\n",
      "2021-06-17 13:52:47 Completed - Training job completed\n",
      "Training seconds: 44\n",
      "Billable seconds: 44\n"
     ]
    }
   ],
   "source": [
    "linear = sagemaker.estimator.Estimator(container,\n",
    "                                       role, \n",
    "                                       train_instance_count = 1, \n",
    "                                       train_instance_type = 'ml.c4.xlarge',\n",
    "                                       output_path = output_location,\n",
    "                                       sagemaker_session = sagemaker_session)\n",
    "\n",
    "linear.set_hyperparameters(feature_dim = 8,\n",
    "                           predictor_type = 'regressor',\n",
    "                           mini_batch_size = 100,\n",
    "                           epochs = 100,\n",
    "                           num_models = 10,\n",
    "                           loss = 'absolute_loss')\n",
    "\n",
    "linear.fit({'train': s3_train_data})"
   ]
  },
  {
   "cell_type": "code",
   "execution_count": 55,
   "metadata": {},
   "outputs": [
    {
     "name": "stdout",
     "output_type": "stream",
     "text": [
      "---------------!"
     ]
    }
   ],
   "source": [
    "linear_regressor = linear.deploy(initial_instance_count = 1, instance_type = 'ml.m4.xlarge')"
   ]
  },
  {
   "cell_type": "code",
   "execution_count": 56,
   "metadata": {},
   "outputs": [],
   "source": [
    "from sagemaker.predictor import csv_serializer, json_deserializer\n",
    "from sagemaker.serializers import CSVSerializer"
   ]
  },
  {
   "cell_type": "code",
   "execution_count": 57,
   "metadata": {},
   "outputs": [],
   "source": [
    "linear_regressor.serializer = CSVSerializer()\n",
    "linear_regressor.deserializer = json_deserializer"
   ]
  },
  {
   "cell_type": "code",
   "execution_count": 58,
   "metadata": {},
   "outputs": [
    {
     "name": "stderr",
     "output_type": "stream",
     "text": [
      "The json_deserializer has been renamed in sagemaker>=2.\n",
      "See: https://sagemaker.readthedocs.io/en/stable/v2.html for details.\n"
     ]
    }
   ],
   "source": [
    "result = linear_regressor.predict(X_test)"
   ]
  },
  {
   "cell_type": "code",
   "execution_count": 59,
   "metadata": {},
   "outputs": [],
   "source": [
    "predictions = np.array([r['score'] for r in result['predictions']])"
   ]
  },
  {
   "cell_type": "code",
   "execution_count": 61,
   "metadata": {},
   "outputs": [],
   "source": [
    "#Uncomment to print\n",
    "#predictions"
   ]
  },
  {
   "cell_type": "code",
   "execution_count": 62,
   "metadata": {},
   "outputs": [
    {
     "name": "stderr",
     "output_type": "stream",
     "text": [
      "The endpoint attribute has been renamed in sagemaker>=2.\n",
      "See: https://sagemaker.readthedocs.io/en/stable/v2.html for details.\n"
     ]
    },
    {
     "data": {
      "text/plain": [
       "'linear-learner-2021-06-17-13-53-15-241'"
      ]
     },
     "execution_count": 62,
     "metadata": {},
     "output_type": "execute_result"
    }
   ],
   "source": [
    "linear_regressor.endpoint"
   ]
  },
  {
   "cell_type": "code",
   "execution_count": 72,
   "metadata": {},
   "outputs": [],
   "source": [
    "linear_regressor.delete_endpoint()"
   ]
  }
 ],
 "metadata": {
  "colab": {
   "collapsed_sections": [],
   "name": "Graduate_Admission_Prediction.ipynb",
   "provenance": [],
   "toc_visible": true
  },
  "instance_type": "ml.t3.medium",
  "kernelspec": {
   "display_name": "Python 3 (Data Science)",
   "language": "python",
   "name": "python3__SAGEMAKER_INTERNAL__arn:aws:sagemaker:us-east-2:429704687514:image/datascience-1.0"
  },
  "language_info": {
   "codemirror_mode": {
    "name": "ipython",
    "version": 3
   },
   "file_extension": ".py",
   "mimetype": "text/x-python",
   "name": "python",
   "nbconvert_exporter": "python",
   "pygments_lexer": "ipython3",
   "version": "3.7.10"
  }
 },
 "nbformat": 4,
 "nbformat_minor": 4
}

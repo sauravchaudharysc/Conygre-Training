{
 "cells": [
  {
   "cell_type": "markdown",
   "metadata": {
    "colab_type": "text",
    "id": "M27qF7CTrBqc"
   },
   "source": [
    "# 1. UNDERSTANDING THE BUISNESS PROBLEM"
   ]
  },
  {
   "cell_type": "markdown",
   "metadata": {
    "colab_type": "text",
    "id": "xNl52nl3qiyL"
   },
   "source": [
    "\n",
    "The aim of the problem is to predict the insurance premium charge for an employee.\n",
    "\n",
    "- Features available are:\n",
    " \n",
    " **Categorical**\n",
    "    - smoker: yes/no\n",
    "    - region: residential area.\n",
    "    - sex: male/female\n",
    "  \n",
    "  **Numeric**\n",
    "    - bmi: Body mass index (18.5 to 24.9)\n",
    "    - children: No of childrens \n",
    "    - charges: Insurance Premium Charges\n",
    "\n",
    "\n",
    "Data Source:https://www.kaggle.com/mirichoi0218/insurance"
   ]
  },
  {
   "cell_type": "markdown",
   "metadata": {
    "colab_type": "text",
    "id": "zKmFmyaGunc7"
   },
   "source": [
    "# 2. IMPORT LIBRARIES AND DATASETS"
   ]
  },
  {
   "cell_type": "code",
   "execution_count": 1,
   "metadata": {
    "colab": {
     "base_uri": "https://localhost:8080/",
     "height": 71
    },
    "colab_type": "code",
    "id": "S0Cx3743urFY",
    "outputId": "b820039b-7ccb-4a68-8206-77bae97680dc",
    "scrolled": true
   },
   "outputs": [],
   "source": [
    "import pandas as pd\n",
    "import numpy as np\n",
    "import seaborn as sns\n",
    "import matplotlib.pyplot as plt"
   ]
  },
  {
   "cell_type": "code",
   "execution_count": 2,
   "metadata": {
    "colab": {},
    "colab_type": "code",
    "id": "tjIiJdM4u1IE"
   },
   "outputs": [],
   "source": [
    "# read the csv file \n",
    "insurance_df = pd.read_csv('insurance.csv')"
   ]
  },
  {
   "cell_type": "code",
   "execution_count": 3,
   "metadata": {
    "colab": {
     "base_uri": "https://localhost:8080/",
     "height": 204
    },
    "colab_type": "code",
    "id": "q4_wPDKCu5Uc",
    "outputId": "886d2aaf-0205-4f46-96a7-629d0f367d2f"
   },
   "outputs": [
    {
     "data": {
      "text/html": [
       "<div>\n",
       "<style scoped>\n",
       "    .dataframe tbody tr th:only-of-type {\n",
       "        vertical-align: middle;\n",
       "    }\n",
       "\n",
       "    .dataframe tbody tr th {\n",
       "        vertical-align: top;\n",
       "    }\n",
       "\n",
       "    .dataframe thead th {\n",
       "        text-align: right;\n",
       "    }\n",
       "</style>\n",
       "<table border=\"1\" class=\"dataframe\">\n",
       "  <thead>\n",
       "    <tr style=\"text-align: right;\">\n",
       "      <th></th>\n",
       "      <th>age</th>\n",
       "      <th>sex</th>\n",
       "      <th>bmi</th>\n",
       "      <th>children</th>\n",
       "      <th>smoker</th>\n",
       "      <th>region</th>\n",
       "      <th>charges</th>\n",
       "    </tr>\n",
       "  </thead>\n",
       "  <tbody>\n",
       "    <tr>\n",
       "      <th>0</th>\n",
       "      <td>19</td>\n",
       "      <td>female</td>\n",
       "      <td>27.900</td>\n",
       "      <td>0</td>\n",
       "      <td>yes</td>\n",
       "      <td>southwest</td>\n",
       "      <td>16884.92400</td>\n",
       "    </tr>\n",
       "    <tr>\n",
       "      <th>1</th>\n",
       "      <td>18</td>\n",
       "      <td>male</td>\n",
       "      <td>33.770</td>\n",
       "      <td>1</td>\n",
       "      <td>no</td>\n",
       "      <td>southeast</td>\n",
       "      <td>1725.55230</td>\n",
       "    </tr>\n",
       "    <tr>\n",
       "      <th>2</th>\n",
       "      <td>28</td>\n",
       "      <td>male</td>\n",
       "      <td>33.000</td>\n",
       "      <td>3</td>\n",
       "      <td>no</td>\n",
       "      <td>southeast</td>\n",
       "      <td>4449.46200</td>\n",
       "    </tr>\n",
       "    <tr>\n",
       "      <th>3</th>\n",
       "      <td>33</td>\n",
       "      <td>male</td>\n",
       "      <td>22.705</td>\n",
       "      <td>0</td>\n",
       "      <td>no</td>\n",
       "      <td>northwest</td>\n",
       "      <td>21984.47061</td>\n",
       "    </tr>\n",
       "    <tr>\n",
       "      <th>4</th>\n",
       "      <td>32</td>\n",
       "      <td>male</td>\n",
       "      <td>28.880</td>\n",
       "      <td>0</td>\n",
       "      <td>no</td>\n",
       "      <td>northwest</td>\n",
       "      <td>3866.85520</td>\n",
       "    </tr>\n",
       "  </tbody>\n",
       "</table>\n",
       "</div>"
      ],
      "text/plain": [
       "   age     sex     bmi  children smoker     region      charges\n",
       "0   19  female  27.900         0    yes  southwest  16884.92400\n",
       "1   18    male  33.770         1     no  southeast   1725.55230\n",
       "2   28    male  33.000         3     no  southeast   4449.46200\n",
       "3   33    male  22.705         0     no  northwest  21984.47061\n",
       "4   32    male  28.880         0     no  northwest   3866.85520"
      ]
     },
     "execution_count": 3,
     "metadata": {},
     "output_type": "execute_result"
    }
   ],
   "source": [
    "insurance_df.head()"
   ]
  },
  {
   "cell_type": "markdown",
   "metadata": {
    "colab_type": "text",
    "id": "tMcr7xqMQre2"
   },
   "source": [
    "# 3. Data Pre-Processing"
   ]
  },
  {
   "cell_type": "markdown",
   "metadata": {},
   "source": [
    "## Data Cleaning"
   ]
  },
  {
   "cell_type": "code",
   "execution_count": 5,
   "metadata": {},
   "outputs": [
    {
     "data": {
      "text/plain": [
       "age         0\n",
       "sex         0\n",
       "bmi         0\n",
       "children    0\n",
       "smoker      0\n",
       "region      0\n",
       "charges     0\n",
       "dtype: int64"
      ]
     },
     "execution_count": 5,
     "metadata": {},
     "output_type": "execute_result"
    }
   ],
   "source": [
    "insurance_df.isnull().sum()"
   ]
  },
  {
   "cell_type": "code",
   "execution_count": 6,
   "metadata": {},
   "outputs": [
    {
     "data": {
      "text/plain": [
       "<matplotlib.axes._subplots.AxesSubplot at 0x7f9869253850>"
      ]
     },
     "execution_count": 6,
     "metadata": {},
     "output_type": "execute_result"
    },
    {
     "data": {
      "image/png": "[encoded data removed]",
      "text/plain": [
       "<Figure size 432x288 with 2 Axes>"
      ]
     },
     "metadata": {
      "needs_background": "light"
     },
     "output_type": "display_data"
    }
   ],
   "source": [
    "# check if there are any Null values\n",
    "sns.heatmap(insurance_df.isnull(), yticklabels = False, cmap=sns.diverging_palette(50, 500, n=500))\n"
   ]
  },
  {
   "cell_type": "markdown",
   "metadata": {},
   "source": [
    "## Data Relation"
   ]
  },
  {
   "cell_type": "code",
   "execution_count": 7,
   "metadata": {
    "scrolled": true
   },
   "outputs": [
    {
     "data": {
      "text/html": [
       "<div>\n",
       "<style scoped>\n",
       "    .dataframe tbody tr th:only-of-type {\n",
       "        vertical-align: middle;\n",
       "    }\n",
       "\n",
       "    .dataframe tbody tr th {\n",
       "        vertical-align: top;\n",
       "    }\n",
       "\n",
       "    .dataframe thead th {\n",
       "        text-align: right;\n",
       "    }\n",
       "</style>\n",
       "<table border=\"1\" class=\"dataframe\">\n",
       "  <thead>\n",
       "    <tr style=\"text-align: right;\">\n",
       "      <th></th>\n",
       "      <th>age</th>\n",
       "      <th>bmi</th>\n",
       "      <th>children</th>\n",
       "      <th>charges</th>\n",
       "    </tr>\n",
       "    <tr>\n",
       "      <th>region</th>\n",
       "      <th></th>\n",
       "      <th></th>\n",
       "      <th></th>\n",
       "      <th></th>\n",
       "    </tr>\n",
       "  </thead>\n",
       "  <tbody>\n",
       "    <tr>\n",
       "      <th>northeast</th>\n",
       "      <td>39.268519</td>\n",
       "      <td>29.173503</td>\n",
       "      <td>1.046296</td>\n",
       "      <td>13406.384516</td>\n",
       "    </tr>\n",
       "    <tr>\n",
       "      <th>northwest</th>\n",
       "      <td>39.196923</td>\n",
       "      <td>29.199785</td>\n",
       "      <td>1.147692</td>\n",
       "      <td>12417.575374</td>\n",
       "    </tr>\n",
       "    <tr>\n",
       "      <th>southeast</th>\n",
       "      <td>38.939560</td>\n",
       "      <td>33.355989</td>\n",
       "      <td>1.049451</td>\n",
       "      <td>14735.411438</td>\n",
       "    </tr>\n",
       "    <tr>\n",
       "      <th>southwest</th>\n",
       "      <td>39.455385</td>\n",
       "      <td>30.596615</td>\n",
       "      <td>1.141538</td>\n",
       "      <td>12346.937377</td>\n",
       "    </tr>\n",
       "  </tbody>\n",
       "</table>\n",
       "</div>"
      ],
      "text/plain": [
       "                 age        bmi  children       charges\n",
       "region                                                 \n",
       "northeast  39.268519  29.173503  1.046296  13406.384516\n",
       "northwest  39.196923  29.199785  1.147692  12417.575374\n",
       "southeast  38.939560  33.355989  1.049451  14735.411438\n",
       "southwest  39.455385  30.596615  1.141538  12346.937377"
      ]
     },
     "execution_count": 7,
     "metadata": {},
     "output_type": "execute_result"
    }
   ],
   "source": [
    "# Grouping by region to see any relationship between region and charges\n",
    "# Seems like south east region has the highest charges and body mass index\n",
    "df_region = insurance_df.groupby(by='region').mean()\n",
    "df_region"
   ]
  },
  {
   "cell_type": "code",
   "execution_count": 8,
   "metadata": {},
   "outputs": [
    {
     "data": {
      "text/html": [
       "<div>\n",
       "<style scoped>\n",
       "    .dataframe tbody tr th:only-of-type {\n",
       "        vertical-align: middle;\n",
       "    }\n",
       "\n",
       "    .dataframe tbody tr th {\n",
       "        vertical-align: top;\n",
       "    }\n",
       "\n",
       "    .dataframe thead th {\n",
       "        text-align: right;\n",
       "    }\n",
       "</style>\n",
       "<table border=\"1\" class=\"dataframe\">\n",
       "  <thead>\n",
       "    <tr style=\"text-align: right;\">\n",
       "      <th></th>\n",
       "      <th>bmi</th>\n",
       "      <th>children</th>\n",
       "      <th>charges</th>\n",
       "    </tr>\n",
       "    <tr>\n",
       "      <th>age</th>\n",
       "      <th></th>\n",
       "      <th></th>\n",
       "      <th></th>\n",
       "    </tr>\n",
       "  </thead>\n",
       "  <tbody>\n",
       "    <tr>\n",
       "      <th>43</th>\n",
       "      <td>30.204444</td>\n",
       "      <td>1.629630</td>\n",
       "      <td>19267.278653</td>\n",
       "    </tr>\n",
       "    <tr>\n",
       "      <th>63</th>\n",
       "      <td>31.923478</td>\n",
       "      <td>0.565217</td>\n",
       "      <td>19884.998461</td>\n",
       "    </tr>\n",
       "    <tr>\n",
       "      <th>60</th>\n",
       "      <td>30.332826</td>\n",
       "      <td>0.347826</td>\n",
       "      <td>21979.418507</td>\n",
       "    </tr>\n",
       "    <tr>\n",
       "      <th>61</th>\n",
       "      <td>32.548261</td>\n",
       "      <td>0.739130</td>\n",
       "      <td>22024.457609</td>\n",
       "    </tr>\n",
       "    <tr>\n",
       "      <th>64</th>\n",
       "      <td>32.976136</td>\n",
       "      <td>0.772727</td>\n",
       "      <td>23275.530837</td>\n",
       "    </tr>\n",
       "  </tbody>\n",
       "</table>\n",
       "</div>"
      ],
      "text/plain": [
       "           bmi  children       charges\n",
       "age                                   \n",
       "43   30.204444  1.629630  19267.278653\n",
       "63   31.923478  0.565217  19884.998461\n",
       "60   30.332826  0.347826  21979.418507\n",
       "61   32.548261  0.739130  22024.457609\n",
       "64   32.976136  0.772727  23275.530837"
      ]
     },
     "execution_count": 8,
     "metadata": {},
     "output_type": "execute_result"
    }
   ],
   "source": [
    "# Grouping data by 'age' to see the relationship between 'age' and 'charges'\n",
    "# Seems like age 64 has the highest charges\n",
    "df_region = insurance_df.groupby(by='age').mean()\n",
    "df_region = df_region.sort_values(by='charges')\n",
    "df_region.tail()"
   ]
  },
  {
   "cell_type": "markdown",
   "metadata": {},
   "source": [
    "## Encoding\n",
    "Machine only understand one language that is numbers . So we need to convert the categorical data into numbers. So here we deal with that. \n",
    "\n",
    "We use one-hot or getdummies for column which have higher number of categories to prevent ordering."
   ]
  },
  {
   "cell_type": "markdown",
   "metadata": {},
   "source": [
    "### Label Encoding"
   ]
  },
  {
   "cell_type": "code",
   "execution_count": 9,
   "metadata": {},
   "outputs": [],
   "source": [
    "sex = {\n",
    "  \"male\": \"1\",\n",
    "  \"female\": \"0\"\n",
    "}\n",
    "smoker = {\n",
    "  \"Yes\": \"1\",\n",
    "  \"No\": \"0\"\n",
    "}"
   ]
  },
  {
   "cell_type": "code",
   "execution_count": 10,
   "metadata": {},
   "outputs": [
    {
     "name": "stdout",
     "output_type": "stream",
     "text": [
      "['female' 'male']\n",
      "['yes' 'no']\n"
     ]
    }
   ],
   "source": [
    "# Check unique values in the 'sex' column\n",
    "print(insurance_df['sex'].unique())\n",
    "# Check the unique values in the 'smoker' column\n",
    "print(insurance_df['smoker'].unique())"
   ]
  },
  {
   "cell_type": "code",
   "execution_count": 11,
   "metadata": {},
   "outputs": [],
   "source": [
    "# convert categorical variable to numerical\n",
    "insurance_df['sex'] = insurance_df['sex'].apply(lambda x: 0 if x == 'female' else 1)\n",
    "insurance_df['smoker'] = insurance_df['smoker'].apply(lambda x: 0 if x == 'no' else 1)"
   ]
  },
  {
   "cell_type": "code",
   "execution_count": 12,
   "metadata": {},
   "outputs": [
    {
     "data": {
      "text/html": [
       "<div>\n",
       "<style scoped>\n",
       "    .dataframe tbody tr th:only-of-type {\n",
       "        vertical-align: middle;\n",
       "    }\n",
       "\n",
       "    .dataframe tbody tr th {\n",
       "        vertical-align: top;\n",
       "    }\n",
       "\n",
       "    .dataframe thead th {\n",
       "        text-align: right;\n",
       "    }\n",
       "</style>\n",
       "<table border=\"1\" class=\"dataframe\">\n",
       "  <thead>\n",
       "    <tr style=\"text-align: right;\">\n",
       "      <th></th>\n",
       "      <th>age</th>\n",
       "      <th>sex</th>\n",
       "      <th>bmi</th>\n",
       "      <th>children</th>\n",
       "      <th>smoker</th>\n",
       "      <th>region</th>\n",
       "      <th>charges</th>\n",
       "    </tr>\n",
       "  </thead>\n",
       "  <tbody>\n",
       "    <tr>\n",
       "      <th>0</th>\n",
       "      <td>19</td>\n",
       "      <td>0</td>\n",
       "      <td>27.900</td>\n",
       "      <td>0</td>\n",
       "      <td>1</td>\n",
       "      <td>southwest</td>\n",
       "      <td>16884.92400</td>\n",
       "    </tr>\n",
       "    <tr>\n",
       "      <th>1</th>\n",
       "      <td>18</td>\n",
       "      <td>1</td>\n",
       "      <td>33.770</td>\n",
       "      <td>1</td>\n",
       "      <td>0</td>\n",
       "      <td>southeast</td>\n",
       "      <td>1725.55230</td>\n",
       "    </tr>\n",
       "    <tr>\n",
       "      <th>2</th>\n",
       "      <td>28</td>\n",
       "      <td>1</td>\n",
       "      <td>33.000</td>\n",
       "      <td>3</td>\n",
       "      <td>0</td>\n",
       "      <td>southeast</td>\n",
       "      <td>4449.46200</td>\n",
       "    </tr>\n",
       "    <tr>\n",
       "      <th>3</th>\n",
       "      <td>33</td>\n",
       "      <td>1</td>\n",
       "      <td>22.705</td>\n",
       "      <td>0</td>\n",
       "      <td>0</td>\n",
       "      <td>northwest</td>\n",
       "      <td>21984.47061</td>\n",
       "    </tr>\n",
       "    <tr>\n",
       "      <th>4</th>\n",
       "      <td>32</td>\n",
       "      <td>1</td>\n",
       "      <td>28.880</td>\n",
       "      <td>0</td>\n",
       "      <td>0</td>\n",
       "      <td>northwest</td>\n",
       "      <td>3866.85520</td>\n",
       "    </tr>\n",
       "  </tbody>\n",
       "</table>\n",
       "</div>"
      ],
      "text/plain": [
       "   age  sex     bmi  children  smoker     region      charges\n",
       "0   19    0  27.900         0       1  southwest  16884.92400\n",
       "1   18    1  33.770         1       0  southeast   1725.55230\n",
       "2   28    1  33.000         3       0  southeast   4449.46200\n",
       "3   33    1  22.705         0       0  northwest  21984.47061\n",
       "4   32    1  28.880         0       0  northwest   3866.85520"
      ]
     },
     "execution_count": 12,
     "metadata": {},
     "output_type": "execute_result"
    }
   ],
   "source": [
    "insurance_df.head()"
   ]
  },
  {
   "cell_type": "code",
   "execution_count": 13,
   "metadata": {
    "scrolled": true
   },
   "outputs": [
    {
     "data": {
      "text/plain": [
       "array(['southwest', 'southeast', 'northwest', 'northeast'], dtype=object)"
      ]
     },
     "execution_count": 13,
     "metadata": {},
     "output_type": "execute_result"
    }
   ],
   "source": [
    "# Check unique values in 'region' column\n",
    "insurance_df['region'].unique()"
   ]
  },
  {
   "cell_type": "markdown",
   "metadata": {},
   "source": [
    "### Dummies\n",
    "\n",
    "Dummy Variable Trap : \n",
    "When Two Columns are highly correlated. So we drop the first column to remove this problem."
   ]
  },
  {
   "cell_type": "code",
   "execution_count": 14,
   "metadata": {},
   "outputs": [],
   "source": [
    "def dummy_df(dataset,columnname):\n",
    "    dummies = pd.get_dummies(dataset[columnname],drop_first=True)\n",
    "    dataset = dataset.drop(columnname,1)\n",
    "    dataset = pd.concat([dataset,dummies],axis=1)\n",
    "    return dataset"
   ]
  },
  {
   "cell_type": "code",
   "execution_count": 15,
   "metadata": {},
   "outputs": [],
   "source": [
    "insurance_df = dummy_df(insurance_df,'region')"
   ]
  },
  {
   "cell_type": "code",
   "execution_count": 16,
   "metadata": {},
   "outputs": [
    {
     "data": {
      "text/html": [
       "<div>\n",
       "<style scoped>\n",
       "    .dataframe tbody tr th:only-of-type {\n",
       "        vertical-align: middle;\n",
       "    }\n",
       "\n",
       "    .dataframe tbody tr th {\n",
       "        vertical-align: top;\n",
       "    }\n",
       "\n",
       "    .dataframe thead th {\n",
       "        text-align: right;\n",
       "    }\n",
       "</style>\n",
       "<table border=\"1\" class=\"dataframe\">\n",
       "  <thead>\n",
       "    <tr style=\"text-align: right;\">\n",
       "      <th></th>\n",
       "      <th>age</th>\n",
       "      <th>sex</th>\n",
       "      <th>bmi</th>\n",
       "      <th>children</th>\n",
       "      <th>smoker</th>\n",
       "      <th>charges</th>\n",
       "      <th>northwest</th>\n",
       "      <th>southeast</th>\n",
       "      <th>southwest</th>\n",
       "    </tr>\n",
       "  </thead>\n",
       "  <tbody>\n",
       "    <tr>\n",
       "      <th>0</th>\n",
       "      <td>19</td>\n",
       "      <td>0</td>\n",
       "      <td>27.900</td>\n",
       "      <td>0</td>\n",
       "      <td>1</td>\n",
       "      <td>16884.92400</td>\n",
       "      <td>0</td>\n",
       "      <td>0</td>\n",
       "      <td>1</td>\n",
       "    </tr>\n",
       "    <tr>\n",
       "      <th>1</th>\n",
       "      <td>18</td>\n",
       "      <td>1</td>\n",
       "      <td>33.770</td>\n",
       "      <td>1</td>\n",
       "      <td>0</td>\n",
       "      <td>1725.55230</td>\n",
       "      <td>0</td>\n",
       "      <td>1</td>\n",
       "      <td>0</td>\n",
       "    </tr>\n",
       "    <tr>\n",
       "      <th>2</th>\n",
       "      <td>28</td>\n",
       "      <td>1</td>\n",
       "      <td>33.000</td>\n",
       "      <td>3</td>\n",
       "      <td>0</td>\n",
       "      <td>4449.46200</td>\n",
       "      <td>0</td>\n",
       "      <td>1</td>\n",
       "      <td>0</td>\n",
       "    </tr>\n",
       "    <tr>\n",
       "      <th>3</th>\n",
       "      <td>33</td>\n",
       "      <td>1</td>\n",
       "      <td>22.705</td>\n",
       "      <td>0</td>\n",
       "      <td>0</td>\n",
       "      <td>21984.47061</td>\n",
       "      <td>1</td>\n",
       "      <td>0</td>\n",
       "      <td>0</td>\n",
       "    </tr>\n",
       "    <tr>\n",
       "      <th>4</th>\n",
       "      <td>32</td>\n",
       "      <td>1</td>\n",
       "      <td>28.880</td>\n",
       "      <td>0</td>\n",
       "      <td>0</td>\n",
       "      <td>3866.85520</td>\n",
       "      <td>1</td>\n",
       "      <td>0</td>\n",
       "      <td>0</td>\n",
       "    </tr>\n",
       "  </tbody>\n",
       "</table>\n",
       "</div>"
      ],
      "text/plain": [
       "   age  sex     bmi  children  smoker      charges  northwest  southeast  \\\n",
       "0   19    0  27.900         0       1  16884.92400          0          0   \n",
       "1   18    1  33.770         1       0   1725.55230          0          1   \n",
       "2   28    1  33.000         3       0   4449.46200          0          1   \n",
       "3   33    1  22.705         0       0  21984.47061          1          0   \n",
       "4   32    1  28.880         0       0   3866.85520          1          0   \n",
       "\n",
       "   southwest  \n",
       "0          1  \n",
       "1          0  \n",
       "2          0  \n",
       "3          0  \n",
       "4          0  "
      ]
     },
     "execution_count": 16,
     "metadata": {},
     "output_type": "execute_result"
    }
   ],
   "source": [
    "insurance_df.head()"
   ]
  },
  {
   "cell_type": "markdown",
   "metadata": {},
   "source": [
    "### Statistical Analysis"
   ]
  },
  {
   "cell_type": "code",
   "execution_count": 17,
   "metadata": {
    "colab": {
     "base_uri": "https://localhost:8080/",
     "height": 297
    },
    "colab_type": "code",
    "id": "Nn1Oxk2SzPX3",
    "outputId": "95f0265a-5e75-4a32-d771-4b3d15850c3c"
   },
   "outputs": [
    {
     "data": {
      "text/html": [
       "<div>\n",
       "<style scoped>\n",
       "    .dataframe tbody tr th:only-of-type {\n",
       "        vertical-align: middle;\n",
       "    }\n",
       "\n",
       "    .dataframe tbody tr th {\n",
       "        vertical-align: top;\n",
       "    }\n",
       "\n",
       "    .dataframe thead th {\n",
       "        text-align: right;\n",
       "    }\n",
       "</style>\n",
       "<table border=\"1\" class=\"dataframe\">\n",
       "  <thead>\n",
       "    <tr style=\"text-align: right;\">\n",
       "      <th></th>\n",
       "      <th>age</th>\n",
       "      <th>sex</th>\n",
       "      <th>bmi</th>\n",
       "      <th>children</th>\n",
       "      <th>smoker</th>\n",
       "      <th>charges</th>\n",
       "      <th>northwest</th>\n",
       "      <th>southeast</th>\n",
       "      <th>southwest</th>\n",
       "    </tr>\n",
       "  </thead>\n",
       "  <tbody>\n",
       "    <tr>\n",
       "      <th>count</th>\n",
       "      <td>1338.000000</td>\n",
       "      <td>1338.000000</td>\n",
       "      <td>1338.000000</td>\n",
       "      <td>1338.000000</td>\n",
       "      <td>1338.000000</td>\n",
       "      <td>1338.000000</td>\n",
       "      <td>1338.000000</td>\n",
       "      <td>1338.000000</td>\n",
       "      <td>1338.000000</td>\n",
       "    </tr>\n",
       "    <tr>\n",
       "      <th>mean</th>\n",
       "      <td>39.207025</td>\n",
       "      <td>0.505232</td>\n",
       "      <td>30.663397</td>\n",
       "      <td>1.094918</td>\n",
       "      <td>0.204783</td>\n",
       "      <td>13270.422265</td>\n",
       "      <td>0.242900</td>\n",
       "      <td>0.272048</td>\n",
       "      <td>0.242900</td>\n",
       "    </tr>\n",
       "    <tr>\n",
       "      <th>std</th>\n",
       "      <td>14.049960</td>\n",
       "      <td>0.500160</td>\n",
       "      <td>6.098187</td>\n",
       "      <td>1.205493</td>\n",
       "      <td>0.403694</td>\n",
       "      <td>12110.011237</td>\n",
       "      <td>0.428995</td>\n",
       "      <td>0.445181</td>\n",
       "      <td>0.428995</td>\n",
       "    </tr>\n",
       "    <tr>\n",
       "      <th>min</th>\n",
       "      <td>18.000000</td>\n",
       "      <td>0.000000</td>\n",
       "      <td>15.960000</td>\n",
       "      <td>0.000000</td>\n",
       "      <td>0.000000</td>\n",
       "      <td>1121.873900</td>\n",
       "      <td>0.000000</td>\n",
       "      <td>0.000000</td>\n",
       "      <td>0.000000</td>\n",
       "    </tr>\n",
       "    <tr>\n",
       "      <th>25%</th>\n",
       "      <td>27.000000</td>\n",
       "      <td>0.000000</td>\n",
       "      <td>26.296250</td>\n",
       "      <td>0.000000</td>\n",
       "      <td>0.000000</td>\n",
       "      <td>4740.287150</td>\n",
       "      <td>0.000000</td>\n",
       "      <td>0.000000</td>\n",
       "      <td>0.000000</td>\n",
       "    </tr>\n",
       "    <tr>\n",
       "      <th>50%</th>\n",
       "      <td>39.000000</td>\n",
       "      <td>1.000000</td>\n",
       "      <td>30.400000</td>\n",
       "      <td>1.000000</td>\n",
       "      <td>0.000000</td>\n",
       "      <td>9382.033000</td>\n",
       "      <td>0.000000</td>\n",
       "      <td>0.000000</td>\n",
       "      <td>0.000000</td>\n",
       "    </tr>\n",
       "    <tr>\n",
       "      <th>75%</th>\n",
       "      <td>51.000000</td>\n",
       "      <td>1.000000</td>\n",
       "      <td>34.693750</td>\n",
       "      <td>2.000000</td>\n",
       "      <td>0.000000</td>\n",
       "      <td>16639.912515</td>\n",
       "      <td>0.000000</td>\n",
       "      <td>1.000000</td>\n",
       "      <td>0.000000</td>\n",
       "    </tr>\n",
       "    <tr>\n",
       "      <th>max</th>\n",
       "      <td>64.000000</td>\n",
       "      <td>1.000000</td>\n",
       "      <td>53.130000</td>\n",
       "      <td>5.000000</td>\n",
       "      <td>1.000000</td>\n",
       "      <td>63770.428010</td>\n",
       "      <td>1.000000</td>\n",
       "      <td>1.000000</td>\n",
       "      <td>1.000000</td>\n",
       "    </tr>\n",
       "  </tbody>\n",
       "</table>\n",
       "</div>"
      ],
      "text/plain": [
       "               age          sex          bmi     children       smoker  \\\n",
       "count  1338.000000  1338.000000  1338.000000  1338.000000  1338.000000   \n",
       "mean     39.207025     0.505232    30.663397     1.094918     0.204783   \n",
       "std      14.049960     0.500160     6.098187     1.205493     0.403694   \n",
       "min      18.000000     0.000000    15.960000     0.000000     0.000000   \n",
       "25%      27.000000     0.000000    26.296250     0.000000     0.000000   \n",
       "50%      39.000000     1.000000    30.400000     1.000000     0.000000   \n",
       "75%      51.000000     1.000000    34.693750     2.000000     0.000000   \n",
       "max      64.000000     1.000000    53.130000     5.000000     1.000000   \n",
       "\n",
       "            charges    northwest    southeast    southwest  \n",
       "count   1338.000000  1338.000000  1338.000000  1338.000000  \n",
       "mean   13270.422265     0.242900     0.272048     0.242900  \n",
       "std    12110.011237     0.428995     0.445181     0.428995  \n",
       "min     1121.873900     0.000000     0.000000     0.000000  \n",
       "25%     4740.287150     0.000000     0.000000     0.000000  \n",
       "50%     9382.033000     0.000000     0.000000     0.000000  \n",
       "75%    16639.912515     0.000000     1.000000     0.000000  \n",
       "max    63770.428010     1.000000     1.000000     1.000000  "
      ]
     },
     "execution_count": 17,
     "metadata": {},
     "output_type": "execute_result"
    }
   ],
   "source": [
    "insurance_df.describe()"
   ]
  },
  {
   "cell_type": "code",
   "execution_count": 18,
   "metadata": {},
   "outputs": [
    {
     "name": "stdout",
     "output_type": "stream",
     "text": [
      "39.20702541106129\n",
      "30.663396860986538\n",
      "13270.422265141257\n"
     ]
    }
   ],
   "source": [
    "print(insurance_df['age'].mean())\n",
    "print(insurance_df['bmi'].mean())\n",
    "print(insurance_df['charges'].mean())"
   ]
  },
  {
   "cell_type": "markdown",
   "metadata": {
    "colab_type": "text",
    "id": "Y0GmpAjG3GiH"
   },
   "source": [
    "# 4. Data Visualization"
   ]
  },
  {
   "cell_type": "code",
   "execution_count": 19,
   "metadata": {
    "scrolled": true
   },
   "outputs": [
    {
     "name": "stdout",
     "output_type": "stream",
     "text": [
      "{'Yes': '1', 'No': '0'}\n"
     ]
    },
    {
     "data": {
      "image/png": "[encoded data removed]",
      "text/plain": [
       "<Figure size 432x288 with 1 Axes>"
      ]
     },
     "metadata": {
      "needs_background": "light"
     },
     "output_type": "display_data"
    }
   ],
   "source": [
    "print(smoker)\n",
    "sns.countplot(insurance_df['smoker'])\n",
    "plt.show()"
   ]
  },
  {
   "cell_type": "code",
   "execution_count": 20,
   "metadata": {},
   "outputs": [
    {
     "data": {
      "image/png": "[encoded data removed]",
      "text/plain": [
       "<Figure size 432x288 with 1 Axes>"
      ]
     },
     "metadata": {
      "needs_background": "light"
     },
     "output_type": "display_data"
    }
   ],
   "source": [
    "sns.countplot(insurance_df['children'])\n",
    "plt.show()"
   ]
  },
  {
   "cell_type": "code",
   "execution_count": 21,
   "metadata": {},
   "outputs": [
    {
     "data": {
      "text/plain": [
       "<matplotlib.axes._subplots.AxesSubplot at 0x7f985e7c2410>"
      ]
     },
     "execution_count": 21,
     "metadata": {},
     "output_type": "execute_result"
    },
    {
     "data": {
      "image/png": "[encoded data removed]",
      "text/plain": [
       "<Figure size 432x288 with 1 Axes>"
      ]
     },
     "metadata": {
      "needs_background": "light"
     },
     "output_type": "display_data"
    }
   ],
   "source": [
    "sns.distplot(insurance_df['age'])"
   ]
  },
  {
   "cell_type": "code",
   "execution_count": 22,
   "metadata": {
    "scrolled": true
   },
   "outputs": [
    {
     "data": {
      "text/plain": [
       "<matplotlib.axes._subplots.AxesSubplot at 0x7f985e7aff50>"
      ]
     },
     "execution_count": 22,
     "metadata": {},
     "output_type": "execute_result"
    },
    {
     "data": {
      "image/png": "[encoded data removed]",
      "text/plain": [
       "<Figure size 432x288 with 1 Axes>"
      ]
     },
     "metadata": {
      "needs_background": "light"
     },
     "output_type": "display_data"
    }
   ],
   "source": [
    "sns.distplot(insurance_df['bmi'])"
   ]
  },
  {
   "cell_type": "code",
   "execution_count": 25,
   "metadata": {},
   "outputs": [
    {
     "data": {
      "image/png": "[encoded data removed]",
      "text/plain": [
       "<Figure size 1440x1440 with 6 Axes>"
      ]
     },
     "metadata": {
      "needs_background": "light"
     },
     "output_type": "display_data"
    }
   ],
   "source": [
    "insurance_df[['age', 'sex', 'bmi', 'children', 'smoker', 'charges']].hist(bins = 30, figsize = (20,20), color = 'r')\n",
    "plt.show()"
   ]
  },
  {
   "cell_type": "code",
   "execution_count": 26,
   "metadata": {
    "colab": {
     "base_uri": "https://localhost:8080/",
     "height": 1000
    },
    "colab_type": "code",
    "id": "1OiGun0tvU7W",
    "outputId": "22204cf6-1a4d-46c7-af61-a27511873584"
   },
   "outputs": [
    {
     "data": {
      "image/png": "[encoded data removed]",
      "text/plain": [
       "<Figure size 432x288 with 1 Axes>"
      ]
     },
     "metadata": {
      "needs_background": "light"
     },
     "output_type": "display_data"
    }
   ],
   "source": [
    "#Try to Fit a Decision Boundary\n",
    "sns.regplot(x = 'age', y = 'charges', data = insurance_df)\n",
    "plt.show()"
   ]
  },
  {
   "cell_type": "code",
   "execution_count": 27,
   "metadata": {},
   "outputs": [
    {
     "data": {
      "image/png": "[encoded data removed]",
      "text/plain": [
       "<Figure size 432x288 with 1 Axes>"
      ]
     },
     "metadata": {
      "needs_background": "light"
     },
     "output_type": "display_data"
    }
   ],
   "source": [
    "#Try to Fit a Decision Boundary\n",
    "sns.regplot(x = 'bmi', y = 'charges', data = insurance_df)\n",
    "plt.show()"
   ]
  },
  {
   "cell_type": "markdown",
   "metadata": {},
   "source": [
    "**Co-relation Matrix**"
   ]
  },
  {
   "cell_type": "code",
   "execution_count": 28,
   "metadata": {
    "colab": {
     "base_uri": "https://localhost:8080/",
     "height": 297
    },
    "colab_type": "code",
    "id": "9q-tFxvskWDa",
    "outputId": "8834e9ec-7676-4e86-c5e7-20f4e9eccbcb"
   },
   "outputs": [
    {
     "data": {
      "text/html": [
       "<div>\n",
       "<style scoped>\n",
       "    .dataframe tbody tr th:only-of-type {\n",
       "        vertical-align: middle;\n",
       "    }\n",
       "\n",
       "    .dataframe tbody tr th {\n",
       "        vertical-align: top;\n",
       "    }\n",
       "\n",
       "    .dataframe thead th {\n",
       "        text-align: right;\n",
       "    }\n",
       "</style>\n",
       "<table border=\"1\" class=\"dataframe\">\n",
       "  <thead>\n",
       "    <tr style=\"text-align: right;\">\n",
       "      <th></th>\n",
       "      <th>age</th>\n",
       "      <th>sex</th>\n",
       "      <th>bmi</th>\n",
       "      <th>children</th>\n",
       "      <th>smoker</th>\n",
       "      <th>charges</th>\n",
       "      <th>northwest</th>\n",
       "      <th>southeast</th>\n",
       "      <th>southwest</th>\n",
       "    </tr>\n",
       "  </thead>\n",
       "  <tbody>\n",
       "    <tr>\n",
       "      <th>age</th>\n",
       "      <td>1.000000</td>\n",
       "      <td>-0.020856</td>\n",
       "      <td>0.109272</td>\n",
       "      <td>0.042469</td>\n",
       "      <td>-0.025019</td>\n",
       "      <td>0.299008</td>\n",
       "      <td>-0.000407</td>\n",
       "      <td>-0.011642</td>\n",
       "      <td>0.010016</td>\n",
       "    </tr>\n",
       "    <tr>\n",
       "      <th>sex</th>\n",
       "      <td>-0.020856</td>\n",
       "      <td>1.000000</td>\n",
       "      <td>0.046371</td>\n",
       "      <td>0.017163</td>\n",
       "      <td>0.076185</td>\n",
       "      <td>0.057292</td>\n",
       "      <td>-0.011156</td>\n",
       "      <td>0.017117</td>\n",
       "      <td>-0.004184</td>\n",
       "    </tr>\n",
       "    <tr>\n",
       "      <th>bmi</th>\n",
       "      <td>0.109272</td>\n",
       "      <td>0.046371</td>\n",
       "      <td>1.000000</td>\n",
       "      <td>0.012759</td>\n",
       "      <td>0.003750</td>\n",
       "      <td>0.198341</td>\n",
       "      <td>-0.135996</td>\n",
       "      <td>0.270025</td>\n",
       "      <td>-0.006205</td>\n",
       "    </tr>\n",
       "    <tr>\n",
       "      <th>children</th>\n",
       "      <td>0.042469</td>\n",
       "      <td>0.017163</td>\n",
       "      <td>0.012759</td>\n",
       "      <td>1.000000</td>\n",
       "      <td>0.007673</td>\n",
       "      <td>0.067998</td>\n",
       "      <td>0.024806</td>\n",
       "      <td>-0.023066</td>\n",
       "      <td>0.021914</td>\n",
       "    </tr>\n",
       "    <tr>\n",
       "      <th>smoker</th>\n",
       "      <td>-0.025019</td>\n",
       "      <td>0.076185</td>\n",
       "      <td>0.003750</td>\n",
       "      <td>0.007673</td>\n",
       "      <td>1.000000</td>\n",
       "      <td>0.787251</td>\n",
       "      <td>-0.036945</td>\n",
       "      <td>0.068498</td>\n",
       "      <td>-0.036945</td>\n",
       "    </tr>\n",
       "    <tr>\n",
       "      <th>charges</th>\n",
       "      <td>0.299008</td>\n",
       "      <td>0.057292</td>\n",
       "      <td>0.198341</td>\n",
       "      <td>0.067998</td>\n",
       "      <td>0.787251</td>\n",
       "      <td>1.000000</td>\n",
       "      <td>-0.039905</td>\n",
       "      <td>0.073982</td>\n",
       "      <td>-0.043210</td>\n",
       "    </tr>\n",
       "    <tr>\n",
       "      <th>northwest</th>\n",
       "      <td>-0.000407</td>\n",
       "      <td>-0.011156</td>\n",
       "      <td>-0.135996</td>\n",
       "      <td>0.024806</td>\n",
       "      <td>-0.036945</td>\n",
       "      <td>-0.039905</td>\n",
       "      <td>1.000000</td>\n",
       "      <td>-0.346265</td>\n",
       "      <td>-0.320829</td>\n",
       "    </tr>\n",
       "    <tr>\n",
       "      <th>southeast</th>\n",
       "      <td>-0.011642</td>\n",
       "      <td>0.017117</td>\n",
       "      <td>0.270025</td>\n",
       "      <td>-0.023066</td>\n",
       "      <td>0.068498</td>\n",
       "      <td>0.073982</td>\n",
       "      <td>-0.346265</td>\n",
       "      <td>1.000000</td>\n",
       "      <td>-0.346265</td>\n",
       "    </tr>\n",
       "    <tr>\n",
       "      <th>southwest</th>\n",
       "      <td>0.010016</td>\n",
       "      <td>-0.004184</td>\n",
       "      <td>-0.006205</td>\n",
       "      <td>0.021914</td>\n",
       "      <td>-0.036945</td>\n",
       "      <td>-0.043210</td>\n",
       "      <td>-0.320829</td>\n",
       "      <td>-0.346265</td>\n",
       "      <td>1.000000</td>\n",
       "    </tr>\n",
       "  </tbody>\n",
       "</table>\n",
       "</div>"
      ],
      "text/plain": [
       "                age       sex       bmi  children    smoker   charges  \\\n",
       "age        1.000000 -0.020856  0.109272  0.042469 -0.025019  0.299008   \n",
       "sex       -0.020856  1.000000  0.046371  0.017163  0.076185  0.057292   \n",
       "bmi        0.109272  0.046371  1.000000  0.012759  0.003750  0.198341   \n",
       "children   0.042469  0.017163  0.012759  1.000000  0.007673  0.067998   \n",
       "smoker    -0.025019  0.076185  0.003750  0.007673  1.000000  0.787251   \n",
       "charges    0.299008  0.057292  0.198341  0.067998  0.787251  1.000000   \n",
       "northwest -0.000407 -0.011156 -0.135996  0.024806 -0.036945 -0.039905   \n",
       "southeast -0.011642  0.017117  0.270025 -0.023066  0.068498  0.073982   \n",
       "southwest  0.010016 -0.004184 -0.006205  0.021914 -0.036945 -0.043210   \n",
       "\n",
       "           northwest  southeast  southwest  \n",
       "age        -0.000407  -0.011642   0.010016  \n",
       "sex        -0.011156   0.017117  -0.004184  \n",
       "bmi        -0.135996   0.270025  -0.006205  \n",
       "children    0.024806  -0.023066   0.021914  \n",
       "smoker     -0.036945   0.068498  -0.036945  \n",
       "charges    -0.039905   0.073982  -0.043210  \n",
       "northwest   1.000000  -0.346265  -0.320829  \n",
       "southeast  -0.346265   1.000000  -0.346265  \n",
       "southwest  -0.320829  -0.346265   1.000000  "
      ]
     },
     "execution_count": 28,
     "metadata": {},
     "output_type": "execute_result"
    }
   ],
   "source": [
    "corr = insurance_df.corr()\n",
    "corr"
   ]
  },
  {
   "cell_type": "code",
   "execution_count": 29,
   "metadata": {
    "colab": {
     "base_uri": "https://localhost:8080/",
     "height": 932
    },
    "colab_type": "code",
    "id": "clmblKfur8rm",
    "outputId": "760b0882-8993-4aed-9c38-866ef8a7c6cd"
   },
   "outputs": [
    {
     "data": {
      "text/plain": [
       "<matplotlib.axes._subplots.AxesSubplot at 0x7f9857bd0550>"
      ]
     },
     "execution_count": 29,
     "metadata": {},
     "output_type": "execute_result"
    },
    {
     "data": {
      "image/png": "[encoded data removed]",
      "text/plain": [
       "<Figure size 1080x720 with 2 Axes>"
      ]
     },
     "metadata": {
      "needs_background": "light"
     },
     "output_type": "display_data"
    }
   ],
   "source": [
    "plt.figure(figsize=(15,10))\n",
    "sns.heatmap(corr,cmap='coolwarm',annot=True,linecolor='black', linewidths=2)"
   ]
  },
  {
   "cell_type": "markdown",
   "metadata": {
    "colab_type": "text",
    "id": "53qDZFRn3-S1"
   },
   "source": [
    "# 5. Data Splitting"
   ]
  },
  {
   "cell_type": "markdown",
   "metadata": {},
   "source": [
    "## Splitting Independent & Dependent Variables "
   ]
  },
  {
   "cell_type": "code",
   "execution_count": 30,
   "metadata": {
    "colab": {
     "base_uri": "https://localhost:8080/",
     "height": 68
    },
    "colab_type": "code",
    "id": "8QQTkOBL1yUR",
    "outputId": "e79771c7-a34d-430f-db8a-fa4c1253af78"
   },
   "outputs": [
    {
     "data": {
      "text/plain": [
       "Index(['age', 'sex', 'bmi', 'children', 'smoker', 'charges', 'northwest',\n",
       "       'southeast', 'southwest'],\n",
       "      dtype='object')"
      ]
     },
     "execution_count": 30,
     "metadata": {},
     "output_type": "execute_result"
    }
   ],
   "source": [
    "insurance_df.columns"
   ]
  },
  {
   "cell_type": "code",
   "execution_count": 31,
   "metadata": {
    "colab": {},
    "colab_type": "code",
    "id": "4OXZB2F21e4H"
   },
   "outputs": [],
   "source": [
    "#X Contain the Independent Variables\n",
    "X = insurance_df.drop(columns =['charges'])\n",
    "#y Contain the dependent Variables\n",
    "y = insurance_df['charges']"
   ]
  },
  {
   "cell_type": "code",
   "execution_count": 32,
   "metadata": {
    "colab": {
     "base_uri": "https://localhost:8080/",
     "height": 34
    },
    "colab_type": "code",
    "id": "XpGU63Ne1e9P",
    "outputId": "e16c74ca-dc1c-416c-dc44-7f927bb99bc6"
   },
   "outputs": [
    {
     "name": "stdout",
     "output_type": "stream",
     "text": [
      "(1338, 8)\n",
      "(1338,)\n"
     ]
    }
   ],
   "source": [
    "print(X.shape)\n",
    "print(y.shape)"
   ]
  },
  {
   "cell_type": "code",
   "execution_count": 33,
   "metadata": {
    "colab": {},
    "colab_type": "code",
    "id": "jIeiK1maA6mm"
   },
   "outputs": [],
   "source": [
    "X = np.array(X).astype('float32')\n",
    "y = np.array(y).astype('float32')"
   ]
  },
  {
   "cell_type": "code",
   "execution_count": 34,
   "metadata": {},
   "outputs": [],
   "source": [
    "y = y.reshape(-1,1)"
   ]
  },
  {
   "cell_type": "code",
   "execution_count": 35,
   "metadata": {},
   "outputs": [
    {
     "data": {
      "text/plain": [
       "array([[19.  ,  0.  , 27.9 , ...,  0.  ,  0.  ,  1.  ],\n",
       "       [18.  ,  1.  , 33.77, ...,  0.  ,  1.  ,  0.  ],\n",
       "       [28.  ,  1.  , 33.  , ...,  0.  ,  1.  ,  0.  ],\n",
       "       ...,\n",
       "       [18.  ,  0.  , 36.85, ...,  0.  ,  1.  ,  0.  ],\n",
       "       [21.  ,  0.  , 25.8 , ...,  0.  ,  0.  ,  1.  ],\n",
       "       [61.  ,  0.  , 29.07, ...,  1.  ,  0.  ,  0.  ]], dtype=float32)"
      ]
     },
     "execution_count": 35,
     "metadata": {},
     "output_type": "execute_result"
    }
   ],
   "source": [
    "# Only take the numerical variables and scale them\n",
    "X "
   ]
  },
  {
   "cell_type": "markdown",
   "metadata": {},
   "source": [
    "## Splitting Data Into Training & Testing Set"
   ]
  },
  {
   "cell_type": "code",
   "execution_count": 36,
   "metadata": {},
   "outputs": [],
   "source": [
    "from sklearn.model_selection import train_test_split\n",
    "\n",
    "X_train, X_test, y_train, y_test = train_test_split( X, y, test_size=0.2, random_state=0)"
   ]
  },
  {
   "cell_type": "code",
   "execution_count": 37,
   "metadata": {
    "colab": {},
    "colab_type": "code",
    "id": "m6V7goNiA6xG"
   },
   "outputs": [],
   "source": [
    "#scaling the data before feeding the model\n",
    "from sklearn.preprocessing import StandardScaler, MinMaxScaler\n",
    "\n",
    "scaler_x = StandardScaler()\n",
    "X_train = scaler_x.fit_transform(X_train)\n",
    "X_test = scaler_x.transform(X_test)\n",
    "\n",
    "scaler_y = StandardScaler()\n",
    "y_train = scaler_y.fit_transform(y_train)\n",
    "y_test = scaler_y.transform(y_test)\n"
   ]
  },
  {
   "cell_type": "code",
   "execution_count": 38,
   "metadata": {},
   "outputs": [
    {
     "data": {
      "text/plain": [
       "array([[-0.14853305,  1.0150667 ,  0.54530454, ..., -0.5579198 ,\n",
       "        -0.6155209 ,  1.7086293 ],\n",
       "       [-1.4978079 ,  1.0150667 ,  0.59867185, ..., -0.5579198 ,\n",
       "         1.6246402 , -0.5852645 ],\n",
       "       [-1.1427356 , -0.9851569 ,  0.96092033, ..., -0.5579198 ,\n",
       "        -0.6155209 , -0.5852645 ],\n",
       "       ...,\n",
       "       [ 0.06451033,  1.0150667 , -0.9133936 , ..., -0.5579198 ,\n",
       "         1.6246402 , -0.5852645 ],\n",
       "       [-1.4267933 ,  1.0150667 ,  0.7765617 , ...,  1.7923723 ,\n",
       "        -0.6155209 , -0.5852645 ],\n",
       "       [-0.4325909 , -0.9851569 , -1.9774995 , ..., -0.5579198 ,\n",
       "        -0.6155209 ,  1.7086293 ]], dtype=float32)"
      ]
     },
     "execution_count": 38,
     "metadata": {},
     "output_type": "execute_result"
    }
   ],
   "source": [
    "X_train"
   ]
  },
  {
   "cell_type": "markdown",
   "metadata": {
    "colab_type": "text",
    "id": "idWHLv5alF4C"
   },
   "source": [
    "# 6. Training & Testing using SK-LEARN"
   ]
  },
  {
   "cell_type": "code",
   "execution_count": 39,
   "metadata": {
    "colab": {
     "base_uri": "https://localhost:8080/",
     "height": 34
    },
    "colab_type": "code",
    "id": "yHL-6mKwBURs",
    "outputId": "10d71b6d-9c2b-4bab-8b27-d3c5883e6a25",
    "scrolled": true
   },
   "outputs": [
    {
     "data": {
      "text/plain": [
       "LinearRegression(copy_X=True, fit_intercept=True, n_jobs=None, normalize=False)"
      ]
     },
     "execution_count": 39,
     "metadata": {},
     "output_type": "execute_result"
    }
   ],
   "source": [
    "# using linear regression model\n",
    "from sklearn.linear_model import LinearRegression\n",
    "from sklearn.metrics import mean_squared_error, accuracy_score\n",
    "\n",
    "classifier = LinearRegression()\n",
    "classifier.fit(X_train, y_train)\n"
   ]
  },
  {
   "cell_type": "code",
   "execution_count": 40,
   "metadata": {
    "colab": {
     "base_uri": "https://localhost:8080/",
     "height": 34
    },
    "colab_type": "code",
    "id": "elD8m5N0BgEY",
    "outputId": "16a1813d-a0f1-4d1f-dc02-d7ad5a445417"
   },
   "outputs": [
    {
     "name": "stdout",
     "output_type": "stream",
     "text": [
      "79.99876868341491\n"
     ]
    }
   ],
   "source": [
    "accuracy = classifier.score(X_test, y_test)\n",
    "print(accuracy*100)"
   ]
  },
  {
   "cell_type": "code",
   "execution_count": 41,
   "metadata": {},
   "outputs": [],
   "source": [
    "y_predict = classifier.predict(X_test)"
   ]
  },
  {
   "cell_type": "code",
   "execution_count": 42,
   "metadata": {},
   "outputs": [],
   "source": [
    "#Since the Output is Scaled , So we need to convert it in original form"
   ]
  },
  {
   "cell_type": "code",
   "execution_count": 43,
   "metadata": {},
   "outputs": [],
   "source": [
    "y_predict_orig = scaler_y.inverse_transform(y_predict)\n",
    "y_test_orig = scaler_y.inverse_transform(y_test)"
   ]
  },
  {
   "cell_type": "code",
   "execution_count": 44,
   "metadata": {},
   "outputs": [
    {
     "data": {
      "text/plain": [
       "array([[ 9724.53  ],\n",
       "       [ 8547.691 ],\n",
       "       [45702.023 ],\n",
       "       [12950.071 ],\n",
       "       [ 9644.253 ],\n",
       "       [ 4500.3394],\n",
       "       [ 2198.19  ],\n",
       "       [11436.738 ],\n",
       "       [ 7537.164 ],\n",
       "       [ 5425.023 ],\n",
       "       [ 6753.038 ],\n",
       "       [10493.945 ],\n",
       "       [ 7337.748 ],\n",
       "       [ 4185.098 ],\n",
       "       [18310.742 ],\n",
       "       [10702.643 ],\n",
       "       [12523.6045],\n",
       "       [ 3490.5493],\n",
       "       [ 6457.8433],\n",
       "       [33475.816 ],\n",
       "       [23967.383 ],\n",
       "       [12643.378 ],\n",
       "       [23045.566 ],\n",
       "       [23065.42  ],\n",
       "       [ 1674.6322],\n",
       "       [ 4667.608 ],\n",
       "       [ 3732.6255],\n",
       "       [ 7682.67  ],\n",
       "       [ 3756.6216],\n",
       "       [ 8413.463 ],\n",
       "       [ 8059.679 ],\n",
       "       [48970.246 ],\n",
       "       [12979.358 ],\n",
       "       [20630.283 ],\n",
       "       [14571.891 ],\n",
       "       [ 4137.523 ],\n",
       "       [ 8347.164 ],\n",
       "       [51194.56  ],\n",
       "       [40003.336 ],\n",
       "       [ 1880.4867],\n",
       "       [ 5458.0464],\n",
       "       [ 2867.1196],\n",
       "       [20149.322 ],\n",
       "       [47496.496 ],\n",
       "       [36149.484 ],\n",
       "       [26018.951 ],\n",
       "       [19749.383 ],\n",
       "       [ 6940.9097],\n",
       "       [ 4718.2036],\n",
       "       [22192.438 ],\n",
       "       [ 2899.4897],\n",
       "       [18838.703 ],\n",
       "       [23568.271 ],\n",
       "       [46255.113 ],\n",
       "       [24227.338 ],\n",
       "       [ 3268.8472],\n",
       "       [ 2322.6216],\n",
       "       [ 8827.21  ],\n",
       "       [14478.33  ],\n",
       "       [13112.6045],\n",
       "       [ 1253.9359],\n",
       "       [46718.164 ],\n",
       "       [13919.823 ],\n",
       "       [ 9630.397 ],\n",
       "       [10736.871 ],\n",
       "       [ 9880.068 ],\n",
       "       [32548.34  ],\n",
       "       [38746.355 ],\n",
       "       [ 3180.5103],\n",
       "       [ 8162.7163],\n",
       "       [13041.921 ],\n",
       "       [11554.224 ],\n",
       "       [16232.847 ],\n",
       "       [13887.969 ],\n",
       "       [13012.209 ],\n",
       "       [13217.095 ],\n",
       "       [ 7147.1045],\n",
       "       [ 7731.4272],\n",
       "       [20296.863 ],\n",
       "       [47403.88  ],\n",
       "       [11658.379 ],\n",
       "       [45863.203 ],\n",
       "       [ 2055.3247],\n",
       "       [ 7441.053 ],\n",
       "       [41034.223 ],\n",
       "       [18972.494 ],\n",
       "       [ 3410.3237],\n",
       "       [ 2699.5688],\n",
       "       [12333.828 ],\n",
       "       [36837.47  ],\n",
       "       [ 6334.344 ],\n",
       "       [10214.636 ],\n",
       "       [17878.9   ],\n",
       "       [ 8515.759 ],\n",
       "       [ 4518.8267],\n",
       "       [ 5148.5527],\n",
       "       [42303.69  ],\n",
       "       [38998.547 ],\n",
       "       [ 5327.4004],\n",
       "       [10602.385 ],\n",
       "       [ 1824.2855],\n",
       "       [ 5377.458 ],\n",
       "       [ 4349.4624],\n",
       "       [37742.58  ],\n",
       "       [32787.457 ],\n",
       "       [ 3353.4702],\n",
       "       [10577.087 ],\n",
       "       [ 3556.9224],\n",
       "       [11944.595 ],\n",
       "       [52590.83  ],\n",
       "       [12475.352 ],\n",
       "       [ 4266.1665],\n",
       "       [ 9249.495 ],\n",
       "       [33732.688 ],\n",
       "       [48675.52  ],\n",
       "       [ 7729.6455],\n",
       "       [ 1964.7797],\n",
       "       [ 8444.474 ],\n",
       "       [12347.172 ],\n",
       "       [ 9301.894 ],\n",
       "       [42124.516 ],\n",
       "       [ 9991.038 ],\n",
       "       [14319.031 ],\n",
       "       [ 5428.728 ],\n",
       "       [ 7626.993 ],\n",
       "       [ 4906.4097],\n",
       "       [23401.307 ],\n",
       "       [21098.555 ],\n",
       "       [48173.36  ],\n",
       "       [ 1917.3187],\n",
       "       [ 8219.204 ],\n",
       "       [ 1725.5521],\n",
       "       [ 5976.831 ],\n",
       "       [ 9361.327 ],\n",
       "       [22144.031 ],\n",
       "       [35491.64  ],\n",
       "       [19515.541 ],\n",
       "       [10107.221 ],\n",
       "       [23244.791 ],\n",
       "       [ 2789.0571],\n",
       "       [ 2261.5688],\n",
       "       [10594.502 ],\n",
       "       [ 9304.702 ],\n",
       "       [10435.065 ],\n",
       "       [ 4894.7534],\n",
       "       [14313.847 ],\n",
       "       [28287.898 ],\n",
       "       [14426.074 ],\n",
       "       [ 1627.2826],\n",
       "       [25517.113 ],\n",
       "       [ 6555.0703],\n",
       "       [39611.758 ],\n",
       "       [ 9964.06  ],\n",
       "       [ 1720.3539],\n",
       "       [ 2730.108 ],\n",
       "       [ 6500.236 ],\n",
       "       [ 2643.269 ],\n",
       "       [ 1719.4359],\n",
       "       [11085.587 ],\n",
       "       [10115.009 ],\n",
       "       [ 4846.9204],\n",
       "       [12982.875 ],\n",
       "       [28923.137 ],\n",
       "       [ 9391.346 ],\n",
       "       [ 4544.235 ],\n",
       "       [17128.426 ],\n",
       "       [13844.506 ],\n",
       "       [ 6113.231 ],\n",
       "       [ 4441.2134],\n",
       "       [ 1633.9613],\n",
       "       [ 4058.7124],\n",
       "       [ 4435.094 ],\n",
       "       [ 8310.839 ],\n",
       "       [ 1986.933 ],\n",
       "       [ 4260.7446],\n",
       "       [ 4504.6626],\n",
       "       [ 4428.888 ],\n",
       "       [ 6117.4946],\n",
       "       [30184.938 ],\n",
       "       [ 1708.9261],\n",
       "       [11187.656 ],\n",
       "       [ 6796.8633],\n",
       "       [11356.661 ],\n",
       "       [ 2498.4146],\n",
       "       [27375.906 ],\n",
       "       [28101.336 ],\n",
       "       [ 2254.7964],\n",
       "       [ 2597.7788],\n",
       "       [14692.669 ],\n",
       "       [10370.912 ],\n",
       "       [41097.16  ],\n",
       "       [ 3981.977 ],\n",
       "       [ 5472.449 ],\n",
       "       [21223.676 ],\n",
       "       [ 2534.394 ],\n",
       "       [ 1972.9496],\n",
       "       [ 6406.4106],\n",
       "       [ 6551.75  ],\n",
       "       [ 4058.1167],\n",
       "       [ 4243.5903],\n",
       "       [11512.405 ],\n",
       "       [46889.26  ],\n",
       "       [12268.632 ],\n",
       "       [19199.943 ],\n",
       "       [ 4433.388 ],\n",
       "       [42969.85  ],\n",
       "       [23241.475 ],\n",
       "       [ 9140.951 ],\n",
       "       [ 5836.52  ],\n",
       "       [ 1149.3969],\n",
       "       [ 8765.249 ],\n",
       "       [14043.477 ],\n",
       "       [ 5312.17  ],\n",
       "       [10795.9375],\n",
       "       [ 6282.235 ],\n",
       "       [ 1969.6136],\n",
       "       [ 6746.7427],\n",
       "       [ 5354.0747],\n",
       "       [14001.287 ],\n",
       "       [ 6877.9795],\n",
       "       [ 6196.448 ],\n",
       "       [ 7986.475 ],\n",
       "       [ 8277.523 ],\n",
       "       [ 3206.4917],\n",
       "       [11848.141 ],\n",
       "       [14210.536 ],\n",
       "       [12265.507 ],\n",
       "       [11837.16  ],\n",
       "       [ 6652.529 ],\n",
       "       [ 2137.6538],\n",
       "       [ 1131.5062],\n",
       "       [ 8342.909 ],\n",
       "       [12244.531 ],\n",
       "       [ 4561.189 ],\n",
       "       [17626.24  ],\n",
       "       [ 6875.9604],\n",
       "       [ 9447.383 ],\n",
       "       [34254.055 ],\n",
       "       [ 6067.1265],\n",
       "       [11729.68  ],\n",
       "       [ 5383.536 ],\n",
       "       [37465.348 ],\n",
       "       [ 7371.772 ],\n",
       "       [ 7325.0483],\n",
       "       [ 8410.047 ],\n",
       "       [10461.9795],\n",
       "       [ 3279.8687],\n",
       "       [ 7727.2534],\n",
       "       [ 2731.9126],\n",
       "       [ 6858.48  ],\n",
       "       [19521.969 ],\n",
       "       [47305.305 ],\n",
       "       [ 3987.9263],\n",
       "       [ 3238.436 ],\n",
       "       [ 7323.735 ],\n",
       "       [ 1704.5677],\n",
       "       [ 7445.918 ],\n",
       "       [ 1629.8334],\n",
       "       [ 4877.981 ],\n",
       "       [ 3561.8892],\n",
       "       [ 8605.361 ],\n",
       "       [24520.264 ],\n",
       "       [45710.21  ],\n",
       "       [15019.76  ],\n",
       "       [ 6664.6855],\n",
       "       [20709.02  ],\n",
       "       [40932.43  ],\n",
       "       [ 9500.573 ]], dtype=float32)"
      ]
     },
     "execution_count": 44,
     "metadata": {},
     "output_type": "execute_result"
    }
   ],
   "source": [
    "y_test_orig"
   ]
  },
  {
   "cell_type": "markdown",
   "metadata": {},
   "source": [
    "# 6. Training & Testing using SAGEMAKER"
   ]
  },
  {
   "cell_type": "code",
   "execution_count": 45,
   "metadata": {},
   "outputs": [
    {
     "name": "stdout",
     "output_type": "stream",
     "text": [
      "arn:aws:iam::429937773353:role/service-role/AmazonSageMaker-ExecutionRole-20210616T232011\n"
     ]
    }
   ],
   "source": [
    "# Boto3 is the Amazon Web Services (AWS) Software Development Kit (SDK) for Python\n",
    "# Boto3 allows Python developer to write software that makes use of services like Amazon S3 and Amazon EC2\n",
    "\n",
    "import sagemaker\n",
    "import boto3\n",
    "from sagemaker import Session\n",
    "\n",
    "# Let's create a Sagemaker session\n",
    "sagemaker_session = sagemaker.Session()\n",
    "bucket = 'sagemaker-premium' \n",
    "prefix = 'linear-learner' # prefix is the subfolder within the bucket.\n",
    "\n",
    "role = sagemaker.get_execution_role()\n",
    "print(role)"
   ]
  },
  {
   "cell_type": "code",
   "execution_count": 46,
   "metadata": {},
   "outputs": [
    {
     "data": {
      "text/plain": [
       "(268, 8)"
      ]
     },
     "execution_count": 46,
     "metadata": {},
     "output_type": "execute_result"
    }
   ],
   "source": [
    "X_test.shape"
   ]
  },
  {
   "cell_type": "code",
   "execution_count": 47,
   "metadata": {},
   "outputs": [
    {
     "data": {
      "text/plain": [
       "(268, 1)"
      ]
     },
     "execution_count": 47,
     "metadata": {},
     "output_type": "execute_result"
    }
   ],
   "source": [
    "y_test.shape"
   ]
  },
  {
   "cell_type": "code",
   "execution_count": 48,
   "metadata": {},
   "outputs": [
    {
     "data": {
      "text/plain": [
       "(1070, 8)"
      ]
     },
     "execution_count": 48,
     "metadata": {},
     "output_type": "execute_result"
    }
   ],
   "source": [
    "X_train.shape"
   ]
  },
  {
   "cell_type": "code",
   "execution_count": 49,
   "metadata": {},
   "outputs": [],
   "source": [
    "y_train = y_train[:,0]"
   ]
  },
  {
   "cell_type": "code",
   "execution_count": 50,
   "metadata": {},
   "outputs": [
    {
     "data": {
      "text/plain": [
       "(1070,)"
      ]
     },
     "execution_count": 50,
     "metadata": {},
     "output_type": "execute_result"
    }
   ],
   "source": [
    "y_train.shape"
   ]
  },
  {
   "cell_type": "code",
   "execution_count": 51,
   "metadata": {},
   "outputs": [
    {
     "data": {
      "text/plain": [
       "0"
      ]
     },
     "execution_count": 51,
     "metadata": {},
     "output_type": "execute_result"
    }
   ],
   "source": [
    "import io\n",
    "import numpy as np \n",
    "import sagemaker.amazon.common as smac\n",
    "\n",
    "buf = io.BytesIO()\n",
    "smac.write_numpy_to_dense_tensor(buf,X_train,y_train)\n",
    "buf.seek(0)"
   ]
  },
  {
   "cell_type": "code",
   "execution_count": 52,
   "metadata": {},
   "outputs": [],
   "source": [
    "import os\n",
    "\n",
    "key = \"linear_train_data\"\n",
    "boto3.resource('s3').Bucket(bucket).Object(os.path.join(prefix, 'train', key)).upload_fileobj(buf)"
   ]
  },
  {
   "cell_type": "code",
   "execution_count": 53,
   "metadata": {},
   "outputs": [],
   "source": [
    "s3_train_data = 's3://{}/{}/train/{}'.format(bucket, prefix, key)"
   ]
  },
  {
   "cell_type": "code",
   "execution_count": 54,
   "metadata": {},
   "outputs": [],
   "source": [
    "output_location = 's3://{}/{}/output'.format(bucket, prefix)"
   ]
  },
  {
   "cell_type": "code",
   "execution_count": 55,
   "metadata": {},
   "outputs": [
    {
     "name": "stderr",
     "output_type": "stream",
     "text": [
      "The method get_image_uri has been renamed in sagemaker>=2.\n",
      "See: https://sagemaker.readthedocs.io/en/stable/v2.html for details.\n",
      "Defaulting to the only supported framework/algorithm version: 1. Ignoring framework/algorithm version: 1.\n"
     ]
    }
   ],
   "source": [
    "from sagemaker.amazon.amazon_estimator import get_image_uri\n",
    "\n",
    "container = get_image_uri(boto3.Session().region_name, 'linear-learner')"
   ]
  },
  {
   "cell_type": "code",
   "execution_count": 56,
   "metadata": {},
   "outputs": [
    {
     "name": "stderr",
     "output_type": "stream",
     "text": [
      "train_instance_count has been renamed in sagemaker>=2.\n",
      "See: https://sagemaker.readthedocs.io/en/stable/v2.html for details.\n",
      "train_instance_type has been renamed in sagemaker>=2.\n",
      "See: https://sagemaker.readthedocs.io/en/stable/v2.html for details.\n"
     ]
    },
    {
     "name": "stdout",
     "output_type": "stream",
     "text": [
      "2021-06-17 11:33:57 Starting - Starting the training job...\n",
      "2021-06-17 11:34:20 Starting - Launching requested ML instancesProfilerReport-1623929636: InProgress\n",
      "......\n",
      "2021-06-17 11:35:20 Starting - Preparing the instances for training......\n",
      "2021-06-17 11:36:21 Downloading - Downloading input data...\n",
      "2021-06-17 11:36:53 Training - Downloading the training image...\n",
      "2021-06-17 11:37:25 Uploading - Uploading generated training model\u001b[34mDocker entrypoint called with argument(s): train\u001b[0m\n",
      "\u001b[34mRunning default environment configuration script\u001b[0m\n",
      "\u001b[34m[06/17/2021 11:37:19 INFO 140011042391872] Reading default configuration from /opt/amazon/lib/python3.7/site-packages/algorithm/resources/default-input.json: {'mini_batch_size': '1000', 'epochs': '15', 'feature_dim': 'auto', 'use_bias': 'true', 'binary_classifier_model_selection_criteria': 'accuracy', 'f_beta': '1.0', 'target_recall': '0.8', 'target_precision': '0.8', 'num_models': 'auto', 'num_calibration_samples': '10000000', 'init_method': 'uniform', 'init_scale': '0.07', 'init_sigma': '0.01', 'init_bias': '0.0', 'optimizer': 'auto', 'loss': 'auto', 'margin': '1.0', 'quantile': '0.5', 'loss_insensitivity': '0.01', 'huber_delta': '1.0', 'num_classes': '1', 'accuracy_top_k': '3', 'wd': 'auto', 'l1': 'auto', 'momentum': 'auto', 'learning_rate': 'auto', 'beta_1': 'auto', 'beta_2': 'auto', 'bias_lr_mult': 'auto', 'bias_wd_mult': 'auto', 'use_lr_scheduler': 'true', 'lr_scheduler_step': 'auto', 'lr_scheduler_factor': 'auto', 'lr_scheduler_minimum_lr': 'auto', 'positive_example_weight_mult': '1.0', 'balance_multiclass_weights': 'false', 'normalize_data': 'true', 'normalize_label': 'auto', 'unbias_data': 'auto', 'unbias_label': 'auto', 'num_point_for_scaler': '10000', '_kvstore': 'auto', '_num_gpus': 'auto', '_num_kv_servers': 'auto', '_log_level': 'info', '_tuning_objective_metric': '', 'early_stopping_patience': '3', 'early_stopping_tolerance': '0.001', '_enable_profiler': 'false'}\u001b[0m\n",
      "\u001b[34m[06/17/2021 11:37:19 INFO 140011042391872] Merging with provided configuration from /opt/ml/input/config/hyperparameters.json: {'loss': 'absolute_loss', 'feature_dim': '8', 'num_models': '10', 'predictor_type': 'regressor', 'epochs': '100', 'mini_batch_size': '100'}\u001b[0m\n",
      "\u001b[34m[06/17/2021 11:37:19 INFO 140011042391872] Final configuration: {'mini_batch_size': '100', 'epochs': '100', 'feature_dim': '8', 'use_bias': 'true', 'binary_classifier_model_selection_criteria': 'accuracy', 'f_beta': '1.0', 'target_recall': '0.8', 'target_precision': '0.8', 'num_models': '10', 'num_calibration_samples': '10000000', 'init_method': 'uniform', 'init_scale': '0.07', 'init_sigma': '0.01', 'init_bias': '0.0', 'optimizer': 'auto', 'loss': 'absolute_loss', 'margin': '1.0', 'quantile': '0.5', 'loss_insensitivity': '0.01', 'huber_delta': '1.0', 'num_classes': '1', 'accuracy_top_k': '3', 'wd': 'auto', 'l1': 'auto', 'momentum': 'auto', 'learning_rate': 'auto', 'beta_1': 'auto', 'beta_2': 'auto', 'bias_lr_mult': 'auto', 'bias_wd_mult': 'auto', 'use_lr_scheduler': 'true', 'lr_scheduler_step': 'auto', 'lr_scheduler_factor': 'auto', 'lr_scheduler_minimum_lr': 'auto', 'positive_example_weight_mult': '1.0', 'balance_multiclass_weights': 'false', 'normalize_data': 'true', 'normalize_label': 'auto', 'unbias_data': 'auto', 'unbias_label': 'auto', 'num_point_for_scaler': '10000', '_kvstore': 'auto', '_num_gpus': 'auto', '_num_kv_servers': 'auto', '_log_level': 'info', '_tuning_objective_metric': '', 'early_stopping_patience': '3', 'early_stopping_tolerance': '0.001', '_enable_profiler': 'false', 'predictor_type': 'regressor'}\u001b[0m\n",
      "\u001b[34m[06/17/2021 11:37:19 WARNING 140011042391872] Loggers have already been setup.\u001b[0m\n",
      "\u001b[34mProcess 1 is a worker.\u001b[0m\n",
      "\u001b[34m[06/17/2021 11:37:19 INFO 140011042391872] Using default worker.\u001b[0m\n",
      "\u001b[34m[06/17/2021 11:37:20 INFO 140011042391872] Checkpoint loading and saving are disabled.\u001b[0m\n",
      "\u001b[34m[2021-06-17 11:37:20.070] [tensorio] [info] epoch_stats={\"data_pipeline\": \"/opt/ml/input/data/train\", \"epoch\": 0, \"duration\": 15, \"num_examples\": 1, \"num_bytes\": 7600}\u001b[0m\n",
      "\u001b[34m[06/17/2021 11:37:20 INFO 140011042391872] Create Store: local\u001b[0m\n",
      "\u001b[34m[2021-06-17 11:37:20.167] [tensorio] [info] epoch_stats={\"data_pipeline\": \"/opt/ml/input/data/train\", \"epoch\": 1, \"duration\": 96, \"num_examples\": 11, \"num_bytes\": 81320}\u001b[0m\n",
      "\u001b[34m[06/17/2021 11:37:20 INFO 140011042391872] Scaler algorithm parameters\n",
      " <algorithm.scaler.ScalerAlgorithmStable object at 0x7f56777d69d0>\u001b[0m\n",
      "\u001b[34m[06/17/2021 11:37:20 INFO 140011042391872] Scaling model computed with parameters:\n",
      " {'stdev_label': \u001b[0m\n",
      "\u001b[34m[0.9865089]\u001b[0m\n",
      "\u001b[34m<NDArray 1 @cpu(0)>, 'stdev_weight': \u001b[0m\n",
      "\u001b[34m[1.0022683  0.9998238  0.99839234 1.003571   1.0005931  1.0037701\n",
      " 1.0036222  0.9959198 ]\u001b[0m\n",
      "\u001b[34m<NDArray 8 @cpu(0)>, 'mean_label': \u001b[0m\n",
      "\u001b[34m[-0.00524992]\u001b[0m\n",
      "\u001b[34m<NDArray 1 @cpu(0)>, 'mean_weight': \u001b[0m\n",
      "\u001b[34m[-0.00153311 -0.00904779  0.00936251  0.00707575  0.00081072  0.00615034\n",
      "  0.00724389 -0.00720332]\u001b[0m\n",
      "\u001b[34m<NDArray 8 @cpu(0)>}\u001b[0m\n",
      "\u001b[34m[06/17/2021 11:37:20 INFO 140011042391872] nvidia-smi: took 0.030 seconds to run.\u001b[0m\n",
      "\u001b[34m[06/17/2021 11:37:20 INFO 140011042391872] nvidia-smi identified 0 GPUs.\u001b[0m\n",
      "\u001b[34m[06/17/2021 11:37:20 INFO 140011042391872] Number of GPUs being used: 0\u001b[0m\n",
      "\u001b[34m#metrics {\"StartTime\": 1623929840.2243826, \"EndTime\": 1623929840.224441, \"Dimensions\": {\"Algorithm\": \"Linear Learner\", \"Host\": \"algo-1\", \"Operation\": \"training\", \"Meta\": \"init_train_data_iter\"}, \"Metrics\": {\"Total Records Seen\": {\"sum\": 1170.0, \"count\": 1, \"min\": 1170, \"max\": 1170}, \"Total Batches Seen\": {\"sum\": 12.0, \"count\": 1, \"min\": 12, \"max\": 12}, \"Max Records Seen Between Resets\": {\"sum\": 1070.0, \"count\": 1, \"min\": 1070, \"max\": 1070}, \"Max Batches Seen Between Resets\": {\"sum\": 11.0, \"count\": 1, \"min\": 11, \"max\": 11}, \"Reset Count\": {\"sum\": 2.0, \"count\": 1, \"min\": 2, \"max\": 2}, \"Number of Records Since Last Reset\": {\"sum\": 0.0, \"count\": 1, \"min\": 0, \"max\": 0}, \"Number of Batches Since Last Reset\": {\"sum\": 0.0, \"count\": 1, \"min\": 0, \"max\": 0}}}\n",
      "\u001b[0m\n",
      "\u001b[34m[2021-06-17 11:37:20.322] [tensorio] [info] epoch_stats={\"data_pipeline\": \"/opt/ml/input/data/train\", \"epoch\": 4, \"duration\": 97, \"num_examples\": 11, \"num_bytes\": 81320}\u001b[0m\n",
      "\u001b[34m#metrics {\"StartTime\": 1623929840.3223934, \"EndTime\": 1623929840.3226058, \"Dimensions\": {\"Algorithm\": \"Linear Learner\", \"Host\": \"algo-1\", \"Operation\": \"training\", \"epoch\": 0, \"model\": 0}, \"Metrics\": {\"train_absolute_loss_objective\": {\"sum\": 0.6875225791931152, \"count\": 1, \"min\": 0.6875225791931152, \"max\": 0.6875225791931152}}}\n",
      "\u001b[0m\n",
      "\u001b[34m#metrics {\"StartTime\": 1623929840.3227007, \"EndTime\": 1623929840.3227162, \"Dimensions\": {\"Algorithm\": \"Linear Learner\", \"Host\": \"algo-1\", \"Operation\": \"training\", \"epoch\": 0, \"model\": 1}, \"Metrics\": {\"train_absolute_loss_objective\": {\"sum\": 0.7039764556884766, \"count\": 1, \"min\": 0.7039764556884766, \"max\": 0.7039764556884766}}}\n",
      "\u001b[0m\n",
      "\u001b[34m#metrics {\"StartTime\": 1623929840.3227587, \"EndTime\": 1623929840.3227696, \"Dimensions\": {\"Algorithm\": \"Linear Learner\", \"Host\": \"algo-1\", \"Operation\": \"training\", \"epoch\": 0, \"model\": 2}, \"Metrics\": {\"train_absolute_loss_objective\": {\"sum\": 0.6507203216552735, \"count\": 1, \"min\": 0.6507203216552735, \"max\": 0.6507203216552735}}}\n",
      "\u001b[0m\n",
      "\u001b[34m#metrics {\"StartTime\": 1623929840.3228061, \"EndTime\": 1623929840.3228166, \"Dimensions\": {\"Algorithm\": \"Linear Learner\", \"Host\": \"algo-1\", \"Operation\": \"training\", \"epoch\": 0, \"model\": 3}, \"Metrics\": {\"train_absolute_loss_objective\": {\"sum\": 0.729356014251709, \"count\": 1, \"min\": 0.729356014251709, \"max\": 0.729356014251709}}}\n",
      "\u001b[0m\n",
      "\u001b[34m#metrics {\"StartTime\": 1623929840.3228512, \"EndTime\": 1623929840.3228612, \"Dimensions\": {\"Algorithm\": \"Linear Learner\", \"Host\": \"algo-1\", \"Operation\": \"training\", \"epoch\": 0, \"model\": 4}, \"Metrics\": {\"train_absolute_loss_objective\": {\"sum\": 0.6458587379455566, \"count\": 1, \"min\": 0.6458587379455566, \"max\": 0.6458587379455566}}}\n",
      "\u001b[0m\n",
      "\u001b[34m#metrics {\"StartTime\": 1623929840.3228953, \"EndTime\": 1623929840.322905, \"Dimensions\": {\"Algorithm\": \"Linear Learner\", \"Host\": \"algo-1\", \"Operation\": \"training\", \"epoch\": 0, \"model\": 5}, \"Metrics\": {\"train_absolute_loss_objective\": {\"sum\": 0.6353733634948731, \"count\": 1, \"min\": 0.6353733634948731, \"max\": 0.6353733634948731}}}\n",
      "\u001b[0m\n",
      "\u001b[34m#metrics {\"StartTime\": 1623929840.3229384, \"EndTime\": 1623929840.322948, \"Dimensions\": {\"Algorithm\": \"Linear Learner\", \"Host\": \"algo-1\", \"Operation\": \"training\", \"epoch\": 0, \"model\": 6}, \"Metrics\": {\"train_absolute_loss_objective\": {\"sum\": 0.6419988670349122, \"count\": 1, \"min\": 0.6419988670349122, \"max\": 0.6419988670349122}}}\n",
      "\u001b[0m\n",
      "\u001b[34m#metrics {\"StartTime\": 1623929840.3229814, \"EndTime\": 1623929840.322991, \"Dimensions\": {\"Algorithm\": \"Linear Learner\", \"Host\": \"algo-1\", \"Operation\": \"training\", \"epoch\": 0, \"model\": 7}, \"Metrics\": {\"train_absolute_loss_objective\": {\"sum\": 0.6396298141479492, \"count\": 1, \"min\": 0.6396298141479492, \"max\": 0.6396298141479492}}}\n",
      "\u001b[0m\n",
      "\u001b[34m#metrics {\"StartTime\": 1623929840.3230264, \"EndTime\": 1623929840.3230367, \"Dimensions\": {\"Algorithm\": \"Linear Learner\", \"Host\": \"algo-1\", \"Operation\": \"training\", \"epoch\": 0, \"model\": 8}, \"Metrics\": {\"train_absolute_loss_objective\": {\"sum\": 0.7379338455200195, \"count\": 1, \"min\": 0.7379338455200195, \"max\": 0.7379338455200195}}}\n",
      "\u001b[0m\n",
      "\u001b[34m#metrics {\"StartTime\": 1623929840.3230705, \"EndTime\": 1623929840.3230803, \"Dimensions\": {\"Algorithm\": \"Linear Learner\", \"Host\": \"algo-1\", \"Operation\": \"training\", \"epoch\": 0, \"model\": 9}, \"Metrics\": {\"train_absolute_loss_objective\": {\"sum\": 0.6546135826110839, \"count\": 1, \"min\": 0.6546135826110839, \"max\": 0.6546135826110839}}}\n",
      "\u001b[0m\n",
      "\u001b[34m[06/17/2021 11:37:20 INFO 140011042391872] #quality_metric: host=algo-1, epoch=0, train absolute_loss_objective <loss>=0.6875225791931152\u001b[0m\n",
      "\u001b[34m[06/17/2021 11:37:20 INFO 140011042391872] #early_stopping_criteria_metric: host=algo-1, epoch=0, criteria=absolute_loss_objective, value=0.6353733634948731\u001b[0m\n",
      "\u001b[34m[06/17/2021 11:37:20 INFO 140011042391872] Epoch 0: Loss improved. Updating best model\u001b[0m\n",
      "\u001b[34m[06/17/2021 11:37:20 INFO 140011042391872] Saving model for epoch: 0\u001b[0m\n",
      "\u001b[34m[06/17/2021 11:37:20 INFO 140011042391872] Saved checkpoint to \"/tmp/tmp5w2v0fro/mx-mod-0000.params\"\u001b[0m\n",
      "\u001b[34m[06/17/2021 11:37:20 INFO 140011042391872] #progress_metric: host=algo-1, completed 1.0 % of epochs\u001b[0m\n",
      "\u001b[34m#metrics {\"StartTime\": 1623929840.2247033, \"EndTime\": 1623929840.3365018, \"Dimensions\": {\"Algorithm\": \"Linear Learner\", \"Host\": \"algo-1\", \"Operation\": \"training\", \"epoch\": 0, \"Meta\": \"training_data_iter\"}, \"Metrics\": {\"Total Records Seen\": {\"sum\": 2240.0, \"count\": 1, \"min\": 2240, \"max\": 2240}, \"Total Batches Seen\": {\"sum\": 23.0, \"count\": 1, \"min\": 23, \"max\": 23}, \"Max Records Seen Between Resets\": {\"sum\": 1070.0, \"count\": 1, \"min\": 1070, \"max\": 1070}, \"Max Batches Seen Between Resets\": {\"sum\": 11.0, \"count\": 1, \"min\": 11, \"max\": 11}, \"Reset Count\": {\"sum\": 3.0, \"count\": 1, \"min\": 3, \"max\": 3}, \"Number of Records Since Last Reset\": {\"sum\": 1070.0, \"count\": 1, \"min\": 1070, \"max\": 1070}, \"Number of Batches Since Last Reset\": {\"sum\": 11.0, \"count\": 1, \"min\": 11, \"max\": 11}}}\n",
      "\u001b[0m\n",
      "\u001b[34m[06/17/2021 11:37:20 INFO 140011042391872] #throughput_metric: host=algo-1, train throughput=9559.555241251799 records/second\u001b[0m\n",
      "\u001b[34m[2021-06-17 11:37:20.412] [tensorio] [info] epoch_stats={\"data_pipeline\": \"/opt/ml/input/data/train\", \"epoch\": 6, \"duration\": 75, \"num_examples\": 11, \"num_bytes\": 81320}\u001b[0m\n",
      "\u001b[34m#metrics {\"StartTime\": 1623929840.4121876, \"EndTime\": 1623929840.4122446, \"Dimensions\": {\"Algorithm\": \"Linear Learner\", \"Host\": \"algo-1\", \"Operation\": \"training\", \"epoch\": 1, \"model\": 0}, \"Metrics\": {\"train_absolute_loss_objective\": {\"sum\": 0.6181895713806153, \"count\": 1, \"min\": 0.6181895713806153, \"max\": 0.6181895713806153}}}\n",
      "\u001b[0m\n",
      "\u001b[34m#metrics {\"StartTime\": 1623929840.4123333, \"EndTime\": 1623929840.4123504, \"Dimensions\": {\"Algorithm\": \"Linear Learner\", \"Host\": \"algo-1\", \"Operation\": \"training\", \"epoch\": 1, \"model\": 1}, \"Metrics\": {\"train_absolute_loss_objective\": {\"sum\": 0.636951114654541, \"count\": 1, \"min\": 0.636951114654541, \"max\": 0.636951114654541}}}\n",
      "\u001b[0m\n",
      "\u001b[34m#metrics {\"StartTime\": 1623929840.4124277, \"EndTime\": 1623929840.4124455, \"Dimensions\": {\"Algorithm\": \"Linear Learner\", \"Host\": \"algo-1\", \"Operation\": \"training\", \"epoch\": 1, \"model\": 2}, \"Metrics\": {\"train_absolute_loss_objective\": {\"sum\": 0.5785174713134765, \"count\": 1, \"min\": 0.5785174713134765, \"max\": 0.5785174713134765}}}\n",
      "\u001b[0m\n",
      "\u001b[34m#metrics {\"StartTime\": 1623929840.412495, \"EndTime\": 1623929840.4125092, \"Dimensions\": {\"Algorithm\": \"Linear Learner\", \"Host\": \"algo-1\", \"Operation\": \"training\", \"epoch\": 1, \"model\": 3}, \"Metrics\": {\"train_absolute_loss_objective\": {\"sum\": 0.6534642448425293, \"count\": 1, \"min\": 0.6534642448425293, \"max\": 0.6534642448425293}}}\n",
      "\u001b[0m\n",
      "\u001b[34m#metrics {\"StartTime\": 1623929840.4125628, \"EndTime\": 1623929840.4125798, \"Dimensions\": {\"Algorithm\": \"Linear Learner\", \"Host\": \"algo-1\", \"Operation\": \"training\", \"epoch\": 1, \"model\": 4}, \"Metrics\": {\"train_absolute_loss_objective\": {\"sum\": 0.4409631729125977, \"count\": 1, \"min\": 0.4409631729125977, \"max\": 0.4409631729125977}}}\n",
      "\u001b[0m\n",
      "\u001b[34m#metrics {\"StartTime\": 1623929840.4126263, \"EndTime\": 1623929840.4126415, \"Dimensions\": {\"Algorithm\": \"Linear Learner\", \"Host\": \"algo-1\", \"Operation\": \"training\", \"epoch\": 1, \"model\": 5}, \"Metrics\": {\"train_absolute_loss_objective\": {\"sum\": 0.4153476257324219, \"count\": 1, \"min\": 0.4153476257324219, \"max\": 0.4153476257324219}}}\n",
      "\u001b[0m\n",
      "\u001b[34m#metrics {\"StartTime\": 1623929840.4126933, \"EndTime\": 1623929840.4127088, \"Dimensions\": {\"Algorithm\": \"Linear Learner\", \"Host\": \"algo-1\", \"Operation\": \"training\", \"epoch\": 1, \"model\": 6}, \"Metrics\": {\"train_absolute_loss_objective\": {\"sum\": 0.4250019950866699, \"count\": 1, \"min\": 0.4250019950866699, \"max\": 0.4250019950866699}}}\n",
      "\u001b[0m\n",
      "\u001b[34m#metrics {\"StartTime\": 1623929840.412759, \"EndTime\": 1623929840.4127748, \"Dimensions\": {\"Algorithm\": \"Linear Learner\", \"Host\": \"algo-1\", \"Operation\": \"training\", \"epoch\": 1, \"model\": 7}, \"Metrics\": {\"train_absolute_loss_objective\": {\"sum\": 0.4228419036865234, \"count\": 1, \"min\": 0.4228419036865234, \"max\": 0.4228419036865234}}}\n",
      "\u001b[0m\n",
      "\u001b[34m#metrics {\"StartTime\": 1623929840.4128292, \"EndTime\": 1623929840.4128468, \"Dimensions\": {\"Algorithm\": \"Linear Learner\", \"Host\": \"algo-1\", \"Operation\": \"training\", \"epoch\": 1, \"model\": 8}, \"Metrics\": {\"train_absolute_loss_objective\": {\"sum\": 0.667722412109375, \"count\": 1, \"min\": 0.667722412109375, \"max\": 0.667722412109375}}}\n",
      "\u001b[0m\n",
      "\u001b[34m#metrics {\"StartTime\": 1623929840.4128993, \"EndTime\": 1623929840.4129164, \"Dimensions\": {\"Algorithm\": \"Linear Learner\", \"Host\": \"algo-1\", \"Operation\": \"training\", \"epoch\": 1, \"model\": 9}, \"Metrics\": {\"train_absolute_loss_objective\": {\"sum\": 0.5876212348937988, \"count\": 1, \"min\": 0.5876212348937988, \"max\": 0.5876212348937988}}}\n",
      "\u001b[0m\n",
      "\u001b[34m[06/17/2021 11:37:20 INFO 140011042391872] #quality_metric: host=algo-1, epoch=1, train absolute_loss_objective <loss>=0.6181895713806153\u001b[0m\n",
      "\u001b[34m[06/17/2021 11:37:20 INFO 140011042391872] #early_stopping_criteria_metric: host=algo-1, epoch=1, criteria=absolute_loss_objective, value=0.4153476257324219\u001b[0m\n",
      "\u001b[34m[06/17/2021 11:37:20 INFO 140011042391872] Epoch 1: Loss improved. Updating best model\u001b[0m\n",
      "\u001b[34m[06/17/2021 11:37:20 INFO 140011042391872] Saving model for epoch: 1\u001b[0m\n",
      "\u001b[34m[06/17/2021 11:37:20 INFO 140011042391872] Saved checkpoint to \"/tmp/tmpnwp5_a4m/mx-mod-0000.params\"\u001b[0m\n",
      "\u001b[34m[06/17/2021 11:37:20 INFO 140011042391872] #progress_metric: host=algo-1, completed 2.0 % of epochs\u001b[0m\n",
      "\u001b[34m#metrics {\"StartTime\": 1623929840.3368, \"EndTime\": 1623929840.420779, \"Dimensions\": {\"Algorithm\": \"Linear Learner\", \"Host\": \"algo-1\", \"Operation\": \"training\", \"epoch\": 1, \"Meta\": \"training_data_iter\"}, \"Metrics\": {\"Total Records Seen\": {\"sum\": 3310.0, \"count\": 1, \"min\": 3310, \"max\": 3310}, \"Total Batches Seen\": {\"sum\": 34.0, \"count\": 1, \"min\": 34, \"max\": 34}, \"Max Records Seen Between Resets\": {\"sum\": 1070.0, \"count\": 1, \"min\": 1070, \"max\": 1070}, \"Max Batches Seen Between Resets\": {\"sum\": 11.0, \"count\": 1, \"min\": 11, \"max\": 11}, \"Reset Count\": {\"sum\": 4.0, \"count\": 1, \"min\": 4, \"max\": 4}, \"Number of Records Since Last Reset\": {\"sum\": 1070.0, \"count\": 1, \"min\": 1070, \"max\": 1070}, \"Number of Batches Since Last Reset\": {\"sum\": 11.0, \"count\": 1, \"min\": 11, \"max\": 11}}}\n",
      "\u001b[0m\n",
      "\u001b[34m[06/17/2021 11:37:20 INFO 140011042391872] #throughput_metric: host=algo-1, train throughput=12719.81044588298 records/second\u001b[0m\n",
      "\u001b[34m[2021-06-17 11:37:20.499] [tensorio] [info] epoch_stats={\"data_pipeline\": \"/opt/ml/input/data/train\", \"epoch\": 8, \"duration\": 78, \"num_examples\": 11, \"num_bytes\": 81320}\u001b[0m\n",
      "\u001b[34m#metrics {\"StartTime\": 1623929840.4996016, \"EndTime\": 1623929840.4996624, \"Dimensions\": {\"Algorithm\": \"Linear Learner\", \"Host\": \"algo-1\", \"Operation\": \"training\", \"epoch\": 2, \"model\": 0}, \"Metrics\": {\"train_absolute_loss_objective\": {\"sum\": 0.5633944358825683, \"count\": 1, \"min\": 0.5633944358825683, \"max\": 0.5633944358825683}}}\n",
      "\u001b[0m\n",
      "\u001b[34m#metrics {\"StartTime\": 1623929840.4997547, \"EndTime\": 1623929840.499774, \"Dimensions\": {\"Algorithm\": \"Linear Learner\", \"Host\": \"algo-1\", \"Operation\": \"training\", \"epoch\": 2, \"model\": 1}, \"Metrics\": {\"train_absolute_loss_objective\": {\"sum\": 0.5823578414916992, \"count\": 1, \"min\": 0.5823578414916992, \"max\": 0.5823578414916992}}}\n",
      "\u001b[0m\n",
      "\u001b[34m#metrics {\"StartTime\": 1623929840.4998348, \"EndTime\": 1623929840.499851, \"Dimensions\": {\"Algorithm\": \"Linear Learner\", \"Host\": \"algo-1\", \"Operation\": \"training\", \"epoch\": 2, \"model\": 2}, \"Metrics\": {\"train_absolute_loss_objective\": {\"sum\": 0.5221930618286132, \"count\": 1, \"min\": 0.5221930618286132, \"max\": 0.5221930618286132}}}\n",
      "\u001b[0m\n",
      "\u001b[34m#metrics {\"StartTime\": 1623929840.499905, \"EndTime\": 1623929840.4999216, \"Dimensions\": {\"Algorithm\": \"Linear Learner\", \"Host\": \"algo-1\", \"Operation\": \"training\", \"epoch\": 2, \"model\": 3}, \"Metrics\": {\"train_absolute_loss_objective\": {\"sum\": 0.5967044563293457, \"count\": 1, \"min\": 0.5967044563293457, \"max\": 0.5967044563293457}}}\n",
      "\u001b[0m\n",
      "\u001b[34m#metrics {\"StartTime\": 1623929840.4999738, \"EndTime\": 1623929840.499991, \"Dimensions\": {\"Algorithm\": \"Linear Learner\", \"Host\": \"algo-1\", \"Operation\": \"training\", \"epoch\": 2, \"model\": 4}, \"Metrics\": {\"train_absolute_loss_objective\": {\"sum\": 0.38479434585571287, \"count\": 1, \"min\": 0.38479434585571287, \"max\": 0.38479434585571287}}}\n",
      "\u001b[0m\n",
      "\u001b[34m#metrics {\"StartTime\": 1623929840.5000427, \"EndTime\": 1623929840.5000596, \"Dimensions\": {\"Algorithm\": \"Linear Learner\", \"Host\": \"algo-1\", \"Operation\": \"training\", \"epoch\": 2, \"model\": 5}, \"Metrics\": {\"train_absolute_loss_objective\": {\"sum\": 0.36943955421447755, \"count\": 1, \"min\": 0.36943955421447755, \"max\": 0.36943955421447755}}}\n",
      "\u001b[0m\n",
      "\u001b[34m#metrics {\"StartTime\": 1623929840.5001142, \"EndTime\": 1623929840.5001304, \"Dimensions\": {\"Algorithm\": \"Linear Learner\", \"Host\": \"algo-1\", \"Operation\": \"training\", \"epoch\": 2, \"model\": 6}, \"Metrics\": {\"train_absolute_loss_objective\": {\"sum\": 0.3664104022979736, \"count\": 1, \"min\": 0.3664104022979736, \"max\": 0.3664104022979736}}}\n",
      "\u001b[0m\n",
      "\u001b[34m#metrics {\"StartTime\": 1623929840.500182, \"EndTime\": 1623929840.5001984, \"Dimensions\": {\"Algorithm\": \"Linear Learner\", \"Host\": \"algo-1\", \"Operation\": \"training\", \"epoch\": 2, \"model\": 7}, \"Metrics\": {\"train_absolute_loss_objective\": {\"sum\": 0.3925910377502441, \"count\": 1, \"min\": 0.3925910377502441, \"max\": 0.3925910377502441}}}\n",
      "\u001b[0m\n",
      "\u001b[34m#metrics {\"StartTime\": 1623929840.5002487, \"EndTime\": 1623929840.5002654, \"Dimensions\": {\"Algorithm\": \"Linear Learner\", \"Host\": \"algo-1\", \"Operation\": \"training\", \"epoch\": 2, \"model\": 8}, \"Metrics\": {\"train_absolute_loss_objective\": {\"sum\": 0.6107157897949219, \"count\": 1, \"min\": 0.6107157897949219, \"max\": 0.6107157897949219}}}\n",
      "\u001b[0m\n",
      "\u001b[34m#metrics {\"StartTime\": 1623929840.5003207, \"EndTime\": 1623929840.500338, \"Dimensions\": {\"Algorithm\": \"Linear Learner\", \"Host\": \"algo-1\", \"Operation\": \"training\", \"epoch\": 2, \"model\": 9}, \"Metrics\": {\"train_absolute_loss_objective\": {\"sum\": 0.5327111358642578, \"count\": 1, \"min\": 0.5327111358642578, \"max\": 0.5327111358642578}}}\n",
      "\u001b[0m\n",
      "\u001b[34m[06/17/2021 11:37:20 INFO 140011042391872] #quality_metric: host=algo-1, epoch=2, train absolute_loss_objective <loss>=0.5633944358825683\u001b[0m\n",
      "\u001b[34m[06/17/2021 11:37:20 INFO 140011042391872] #early_stopping_criteria_metric: host=algo-1, epoch=2, criteria=absolute_loss_objective, value=0.3664104022979736\u001b[0m\n",
      "\u001b[34m[06/17/2021 11:37:20 INFO 140011042391872] Epoch 2: Loss improved. Updating best model\u001b[0m\n",
      "\u001b[34m[06/17/2021 11:37:20 INFO 140011042391872] Saving model for epoch: 2\u001b[0m\n",
      "\u001b[34m[06/17/2021 11:37:20 INFO 140011042391872] Saved checkpoint to \"/tmp/tmpwpqq6we2/mx-mod-0000.params\"\u001b[0m\n",
      "\u001b[34m[06/17/2021 11:37:20 INFO 140011042391872] #progress_metric: host=algo-1, completed 3.0 % of epochs\u001b[0m\n",
      "\u001b[34m#metrics {\"StartTime\": 1623929840.4210384, \"EndTime\": 1623929840.5113602, \"Dimensions\": {\"Algorithm\": \"Linear Learner\", \"Host\": \"algo-1\", \"Operation\": \"training\", \"epoch\": 2, \"Meta\": \"training_data_iter\"}, \"Metrics\": {\"Total Records Seen\": {\"sum\": 4380.0, \"count\": 1, \"min\": 4380, \"max\": 4380}, \"Total Batches Seen\": {\"sum\": 45.0, \"count\": 1, \"min\": 45, \"max\": 45}, \"Max Records Seen Between Resets\": {\"sum\": 1070.0, \"count\": 1, \"min\": 1070, \"max\": 1070}, \"Max Batches Seen Between Resets\": {\"sum\": 11.0, \"count\": 1, \"min\": 11, \"max\": 11}, \"Reset Count\": {\"sum\": 5.0, \"count\": 1, \"min\": 5, \"max\": 5}, \"Number of Records Since Last Reset\": {\"sum\": 1070.0, \"count\": 1, \"min\": 1070, \"max\": 1070}, \"Number of Batches Since Last Reset\": {\"sum\": 11.0, \"count\": 1, \"min\": 11, \"max\": 11}}}\n",
      "\u001b[0m\n",
      "\u001b[34m[06/17/2021 11:37:20 INFO 140011042391872] #throughput_metric: host=algo-1, train throughput=11826.709954884682 records/second\u001b[0m\n",
      "\u001b[34m[2021-06-17 11:37:20.614] [tensorio] [info] epoch_stats={\"data_pipeline\": \"/opt/ml/input/data/train\", \"epoch\": 10, \"duration\": 102, \"num_examples\": 11, \"num_bytes\": 81320}\u001b[0m\n",
      "\u001b[34m#metrics {\"StartTime\": 1623929840.6149375, \"EndTime\": 1623929840.6149957, \"Dimensions\": {\"Algorithm\": \"Linear Learner\", \"Host\": \"algo-1\", \"Operation\": \"training\", \"epoch\": 3, \"model\": 0}, \"Metrics\": {\"train_absolute_loss_objective\": {\"sum\": 0.5164434394836426, \"count\": 1, \"min\": 0.5164434394836426, \"max\": 0.5164434394836426}}}\n",
      "\u001b[0m\n",
      "\u001b[34m#metrics {\"StartTime\": 1623929840.615078, \"EndTime\": 1623929840.615092, \"Dimensions\": {\"Algorithm\": \"Linear Learner\", \"Host\": \"algo-1\", \"Operation\": \"training\", \"epoch\": 3, \"model\": 1}, \"Metrics\": {\"train_absolute_loss_objective\": {\"sum\": 0.5351259765625, \"count\": 1, \"min\": 0.5351259765625, \"max\": 0.5351259765625}}}\n",
      "\u001b[0m\n",
      "\u001b[34m#metrics {\"StartTime\": 1623929840.6151319, \"EndTime\": 1623929840.615143, \"Dimensions\": {\"Algorithm\": \"Linear Learner\", \"Host\": \"algo-1\", \"Operation\": \"training\", \"epoch\": 3, \"model\": 2}, \"Metrics\": {\"train_absolute_loss_objective\": {\"sum\": 0.47645059585571287, \"count\": 1, \"min\": 0.47645059585571287, \"max\": 0.47645059585571287}}}\n",
      "\u001b[0m\n",
      "\u001b[34m#metrics {\"StartTime\": 1623929840.6151798, \"EndTime\": 1623929840.61519, \"Dimensions\": {\"Algorithm\": \"Linear Learner\", \"Host\": \"algo-1\", \"Operation\": \"training\", \"epoch\": 3, \"model\": 3}, \"Metrics\": {\"train_absolute_loss_objective\": {\"sum\": 0.5522416229248047, \"count\": 1, \"min\": 0.5522416229248047, \"max\": 0.5522416229248047}}}\n",
      "\u001b[0m\n",
      "\u001b[34m#metrics {\"StartTime\": 1623929840.6152246, \"EndTime\": 1623929840.6152346, \"Dimensions\": {\"Algorithm\": \"Linear Learner\", \"Host\": \"algo-1\", \"Operation\": \"training\", \"epoch\": 3, \"model\": 4}, \"Metrics\": {\"train_absolute_loss_objective\": {\"sum\": 0.3350433406829834, \"count\": 1, \"min\": 0.3350433406829834, \"max\": 0.3350433406829834}}}\n",
      "\u001b[0m\n",
      "\u001b[34m#metrics {\"StartTime\": 1623929840.6152692, \"EndTime\": 1623929840.615279, \"Dimensions\": {\"Algorithm\": \"Linear Learner\", \"Host\": \"algo-1\", \"Operation\": \"training\", \"epoch\": 3, \"model\": 5}, \"Metrics\": {\"train_absolute_loss_objective\": {\"sum\": 0.33344390296936033, \"count\": 1, \"min\": 0.33344390296936033, \"max\": 0.33344390296936033}}}\n",
      "\u001b[0m\n",
      "\u001b[34m#metrics {\"StartTime\": 1623929840.6153133, \"EndTime\": 1623929840.6153233, \"Dimensions\": {\"Algorithm\": \"Linear Learner\", \"Host\": \"algo-1\", \"Operation\": \"training\", \"epoch\": 3, \"model\": 6}, \"Metrics\": {\"train_absolute_loss_objective\": {\"sum\": 0.33387834358215335, \"count\": 1, \"min\": 0.33387834358215335, \"max\": 0.33387834358215335}}}\n",
      "\u001b[0m\n",
      "\u001b[34m#metrics {\"StartTime\": 1623929840.6153574, \"EndTime\": 1623929840.615367, \"Dimensions\": {\"Algorithm\": \"Linear Learner\", \"Host\": \"algo-1\", \"Operation\": \"training\", \"epoch\": 3, \"model\": 7}, \"Metrics\": {\"train_absolute_loss_objective\": {\"sum\": 0.34847942924499514, \"count\": 1, \"min\": 0.34847942924499514, \"max\": 0.34847942924499514}}}\n",
      "\u001b[0m\n",
      "\u001b[34m#metrics {\"StartTime\": 1623929840.6154006, \"EndTime\": 1623929840.6154103, \"Dimensions\": {\"Algorithm\": \"Linear Learner\", \"Host\": \"algo-1\", \"Operation\": \"training\", \"epoch\": 3, \"model\": 8}, \"Metrics\": {\"train_absolute_loss_objective\": {\"sum\": 0.566028392791748, \"count\": 1, \"min\": 0.566028392791748, \"max\": 0.566028392791748}}}\n",
      "\u001b[0m\n",
      "\u001b[34m#metrics {\"StartTime\": 1623929840.6154435, \"EndTime\": 1623929840.6154532, \"Dimensions\": {\"Algorithm\": \"Linear Learner\", \"Host\": \"algo-1\", \"Operation\": \"training\", \"epoch\": 3, \"model\": 9}, \"Metrics\": {\"train_absolute_loss_objective\": {\"sum\": 0.4843062133789062, \"count\": 1, \"min\": 0.4843062133789062, \"max\": 0.4843062133789062}}}\n",
      "\u001b[0m\n",
      "\u001b[34m[06/17/2021 11:37:20 INFO 140011042391872] #quality_metric: host=algo-1, epoch=3, train absolute_loss_objective <loss>=0.5164434394836426\u001b[0m\n",
      "\u001b[34m[06/17/2021 11:37:20 INFO 140011042391872] #early_stopping_criteria_metric: host=algo-1, epoch=3, criteria=absolute_loss_objective, value=0.33344390296936033\u001b[0m\n",
      "\u001b[34m[06/17/2021 11:37:20 INFO 140011042391872] Epoch 3: Loss improved. Updating best model\u001b[0m\n",
      "\u001b[34m[06/17/2021 11:37:20 INFO 140011042391872] Saving model for epoch: 3\u001b[0m\n",
      "\u001b[34m[06/17/2021 11:37:20 INFO 140011042391872] Saved checkpoint to \"/tmp/tmplnoj5rb7/mx-mod-0000.params\"\u001b[0m\n",
      "\u001b[34m[06/17/2021 11:37:20 INFO 140011042391872] #progress_metric: host=algo-1, completed 4.0 % of epochs\u001b[0m\n",
      "\u001b[34m#metrics {\"StartTime\": 1623929840.5116808, \"EndTime\": 1623929840.6256642, \"Dimensions\": {\"Algorithm\": \"Linear Learner\", \"Host\": \"algo-1\", \"Operation\": \"training\", \"epoch\": 3, \"Meta\": \"training_data_iter\"}, \"Metrics\": {\"Total Records Seen\": {\"sum\": 5450.0, \"count\": 1, \"min\": 5450, \"max\": 5450}, \"Total Batches Seen\": {\"sum\": 56.0, \"count\": 1, \"min\": 56, \"max\": 56}, \"Max Records Seen Between Resets\": {\"sum\": 1070.0, \"count\": 1, \"min\": 1070, \"max\": 1070}, \"Max Batches Seen Between Resets\": {\"sum\": 11.0, \"count\": 1, \"min\": 11, \"max\": 11}, \"Reset Count\": {\"sum\": 6.0, \"count\": 1, \"min\": 6, \"max\": 6}, \"Number of Records Since Last Reset\": {\"sum\": 1070.0, \"count\": 1, \"min\": 1070, \"max\": 1070}, \"Number of Batches Since Last Reset\": {\"sum\": 11.0, \"count\": 1, \"min\": 11, \"max\": 11}}}\n",
      "\u001b[0m\n",
      "\u001b[34m[06/17/2021 11:37:20 INFO 140011042391872] #throughput_metric: host=algo-1, train throughput=9374.645477181197 records/second\u001b[0m\n",
      "\u001b[34m[2021-06-17 11:37:20.736] [tensorio] [info] epoch_stats={\"data_pipeline\": \"/opt/ml/input/data/train\", \"epoch\": 12, \"duration\": 110, \"num_examples\": 11, \"num_bytes\": 81320}\u001b[0m\n",
      "\u001b[34m#metrics {\"StartTime\": 1623929840.737005, \"EndTime\": 1623929840.7370632, \"Dimensions\": {\"Algorithm\": \"Linear Learner\", \"Host\": \"algo-1\", \"Operation\": \"training\", \"epoch\": 4, \"model\": 0}, \"Metrics\": {\"train_absolute_loss_objective\": {\"sum\": 0.46564439582824707, \"count\": 1, \"min\": 0.46564439582824707, \"max\": 0.46564439582824707}}}\n",
      "\u001b[0m\n",
      "\u001b[34m#metrics {\"StartTime\": 1623929840.7371793, \"EndTime\": 1623929840.7371995, \"Dimensions\": {\"Algorithm\": \"Linear Learner\", \"Host\": \"algo-1\", \"Operation\": \"training\", \"epoch\": 4, \"model\": 1}, \"Metrics\": {\"train_absolute_loss_objective\": {\"sum\": 0.48344023513793943, \"count\": 1, \"min\": 0.48344023513793943, \"max\": 0.48344023513793943}}}\n",
      "\u001b[0m\n",
      "\u001b[34m#metrics {\"StartTime\": 1623929840.737264, \"EndTime\": 1623929840.7372823, \"Dimensions\": {\"Algorithm\": \"Linear Learner\", \"Host\": \"algo-1\", \"Operation\": \"training\", \"epoch\": 4, \"model\": 2}, \"Metrics\": {\"train_absolute_loss_objective\": {\"sum\": 0.4280115623474121, \"count\": 1, \"min\": 0.4280115623474121, \"max\": 0.4280115623474121}}}\n",
      "\u001b[0m\n",
      "\u001b[34m#metrics {\"StartTime\": 1623929840.7373374, \"EndTime\": 1623929840.7373552, \"Dimensions\": {\"Algorithm\": \"Linear Learner\", \"Host\": \"algo-1\", \"Operation\": \"training\", \"epoch\": 4, \"model\": 3}, \"Metrics\": {\"train_absolute_loss_objective\": {\"sum\": 0.49986690139770507, \"count\": 1, \"min\": 0.49986690139770507, \"max\": 0.49986690139770507}}}\n",
      "\u001b[0m\n",
      "\u001b[34m#metrics {\"StartTime\": 1623929840.7374096, \"EndTime\": 1623929840.7374275, \"Dimensions\": {\"Algorithm\": \"Linear Learner\", \"Host\": \"algo-1\", \"Operation\": \"training\", \"epoch\": 4, \"model\": 4}, \"Metrics\": {\"train_absolute_loss_objective\": {\"sum\": 0.32667543029785157, \"count\": 1, \"min\": 0.32667543029785157, \"max\": 0.32667543029785157}}}\n",
      "\u001b[0m\n",
      "\u001b[34m#metrics {\"StartTime\": 1623929840.737481, \"EndTime\": 1623929840.7374983, \"Dimensions\": {\"Algorithm\": \"Linear Learner\", \"Host\": \"algo-1\", \"Operation\": \"training\", \"epoch\": 4, \"model\": 5}, \"Metrics\": {\"train_absolute_loss_objective\": {\"sum\": 0.3263332118988037, \"count\": 1, \"min\": 0.3263332118988037, \"max\": 0.3263332118988037}}}\n",
      "\u001b[0m\n",
      "\u001b[34m#metrics {\"StartTime\": 1623929840.7375498, \"EndTime\": 1623929840.7375665, \"Dimensions\": {\"Algorithm\": \"Linear Learner\", \"Host\": \"algo-1\", \"Operation\": \"training\", \"epoch\": 4, \"model\": 6}, \"Metrics\": {\"train_absolute_loss_objective\": {\"sum\": 0.3185772457122803, \"count\": 1, \"min\": 0.3185772457122803, \"max\": 0.3185772457122803}}}\n",
      "\u001b[0m\n",
      "\u001b[34m#metrics {\"StartTime\": 1623929840.7376182, \"EndTime\": 1623929840.7376354, \"Dimensions\": {\"Algorithm\": \"Linear Learner\", \"Host\": \"algo-1\", \"Operation\": \"training\", \"epoch\": 4, \"model\": 7}, \"Metrics\": {\"train_absolute_loss_objective\": {\"sum\": 0.3366021976470947, \"count\": 1, \"min\": 0.3366021976470947, \"max\": 0.3366021976470947}}}\n",
      "\u001b[0m\n",
      "\u001b[34m#metrics {\"StartTime\": 1623929840.7376869, \"EndTime\": 1623929840.7377024, \"Dimensions\": {\"Algorithm\": \"Linear Learner\", \"Host\": \"algo-1\", \"Operation\": \"training\", \"epoch\": 4, \"model\": 8}, \"Metrics\": {\"train_absolute_loss_objective\": {\"sum\": 0.5152576332092285, \"count\": 1, \"min\": 0.5152576332092285, \"max\": 0.5152576332092285}}}\n",
      "\u001b[0m\n",
      "\u001b[34m#metrics {\"StartTime\": 1623929840.7377548, \"EndTime\": 1623929840.737771, \"Dimensions\": {\"Algorithm\": \"Linear Learner\", \"Host\": \"algo-1\", \"Operation\": \"training\", \"epoch\": 4, \"model\": 9}, \"Metrics\": {\"train_absolute_loss_objective\": {\"sum\": 0.4319720211029053, \"count\": 1, \"min\": 0.4319720211029053, \"max\": 0.4319720211029053}}}\n",
      "\u001b[0m\n",
      "\u001b[34m[06/17/2021 11:37:20 INFO 140011042391872] #quality_metric: host=algo-1, epoch=4, train absolute_loss_objective <loss>=0.46564439582824707\u001b[0m\n",
      "\u001b[34m[06/17/2021 11:37:20 INFO 140011042391872] #early_stopping_criteria_metric: host=algo-1, epoch=4, criteria=absolute_loss_objective, value=0.3185772457122803\u001b[0m\n",
      "\u001b[34m[06/17/2021 11:37:20 INFO 140011042391872] Epoch 4: Loss improved. Updating best model\u001b[0m\n",
      "\u001b[34m[06/17/2021 11:37:20 INFO 140011042391872] Saving model for epoch: 4\u001b[0m\n",
      "\u001b[34m[06/17/2021 11:37:20 INFO 140011042391872] Saved checkpoint to \"/tmp/tmpx3iijf1p/mx-mod-0000.params\"\u001b[0m\n",
      "\u001b[34m[06/17/2021 11:37:20 INFO 140011042391872] #progress_metric: host=algo-1, completed 5.0 % of epochs\u001b[0m\n",
      "\u001b[34m#metrics {\"StartTime\": 1623929840.625977, \"EndTime\": 1623929840.7465777, \"Dimensions\": {\"Algorithm\": \"Linear Learner\", \"Host\": \"algo-1\", \"Operation\": \"training\", \"epoch\": 4, \"Meta\": \"training_data_iter\"}, \"Metrics\": {\"Total Records Seen\": {\"sum\": 6520.0, \"count\": 1, \"min\": 6520, \"max\": 6520}, \"Total Batches Seen\": {\"sum\": 67.0, \"count\": 1, \"min\": 67, \"max\": 67}, \"Max Records Seen Between Resets\": {\"sum\": 1070.0, \"count\": 1, \"min\": 1070, \"max\": 1070}, \"Max Batches Seen Between Resets\": {\"sum\": 11.0, \"count\": 1, \"min\": 11, \"max\": 11}, \"Reset Count\": {\"sum\": 7.0, \"count\": 1, \"min\": 7, \"max\": 7}, \"Number of Records Since Last Reset\": {\"sum\": 1070.0, \"count\": 1, \"min\": 1070, \"max\": 1070}, \"Number of Batches Since Last Reset\": {\"sum\": 11.0, \"count\": 1, \"min\": 11, \"max\": 11}}}\n",
      "\u001b[0m\n",
      "\u001b[34m[06/17/2021 11:37:20 INFO 140011042391872] #throughput_metric: host=algo-1, train throughput=8861.322276191604 records/second\u001b[0m\n",
      "\u001b[34m[2021-06-17 11:37:20.827] [tensorio] [info] epoch_stats={\"data_pipeline\": \"/opt/ml/input/data/train\", \"epoch\": 14, \"duration\": 80, \"num_examples\": 11, \"num_bytes\": 81320}\u001b[0m\n",
      "\u001b[34m#metrics {\"StartTime\": 1623929840.8273928, \"EndTime\": 1623929840.827451, \"Dimensions\": {\"Algorithm\": \"Linear Learner\", \"Host\": \"algo-1\", \"Operation\": \"training\", \"epoch\": 5, \"model\": 0}, \"Metrics\": {\"train_absolute_loss_objective\": {\"sum\": 0.42112138175964353, \"count\": 1, \"min\": 0.42112138175964353, \"max\": 0.42112138175964353}}}\n",
      "\u001b[0m\n",
      "\u001b[34m#metrics {\"StartTime\": 1623929840.8275392, \"EndTime\": 1623929840.8277588, \"Dimensions\": {\"Algorithm\": \"Linear Learner\", \"Host\": \"algo-1\", \"Operation\": \"training\", \"epoch\": 5, \"model\": 1}, \"Metrics\": {\"train_absolute_loss_objective\": {\"sum\": 0.43708493041992186, \"count\": 1, \"min\": 0.43708493041992186, \"max\": 0.43708493041992186}}}\n",
      "\u001b[0m\n",
      "\u001b[34m#metrics {\"StartTime\": 1623929840.828123, \"EndTime\": 1623929840.8281436, \"Dimensions\": {\"Algorithm\": \"Linear Learner\", \"Host\": \"algo-1\", \"Operation\": \"training\", \"epoch\": 5, \"model\": 2}, \"Metrics\": {\"train_absolute_loss_objective\": {\"sum\": 0.3984587306976318, \"count\": 1, \"min\": 0.3984587306976318, \"max\": 0.3984587306976318}}}\n",
      "\u001b[0m\n",
      "\u001b[34m#metrics {\"StartTime\": 1623929840.8285086, \"EndTime\": 1623929840.8285284, \"Dimensions\": {\"Algorithm\": \"Linear Learner\", \"Host\": \"algo-1\", \"Operation\": \"training\", \"epoch\": 5, \"model\": 3}, \"Metrics\": {\"train_absolute_loss_objective\": {\"sum\": 0.45520920944213866, \"count\": 1, \"min\": 0.45520920944213866, \"max\": 0.45520920944213866}}}\n",
      "\u001b[0m\n",
      "\u001b[34m#metrics {\"StartTime\": 1623929840.8288198, \"EndTime\": 1623929840.828839, \"Dimensions\": {\"Algorithm\": \"Linear Learner\", \"Host\": \"algo-1\", \"Operation\": \"training\", \"epoch\": 5, \"model\": 4}, \"Metrics\": {\"train_absolute_loss_objective\": {\"sum\": 0.33384634590148926, \"count\": 1, \"min\": 0.33384634590148926, \"max\": 0.33384634590148926}}}\n",
      "\u001b[0m\n",
      "\u001b[34m#metrics {\"StartTime\": 1623929840.829052, \"EndTime\": 1623929840.8290975, \"Dimensions\": {\"Algorithm\": \"Linear Learner\", \"Host\": \"algo-1\", \"Operation\": \"training\", \"epoch\": 5, \"model\": 5}, \"Metrics\": {\"train_absolute_loss_objective\": {\"sum\": 0.3250810317993164, \"count\": 1, \"min\": 0.3250810317993164, \"max\": 0.3250810317993164}}}\n",
      "\u001b[0m\n",
      "\u001b[34m#metrics {\"StartTime\": 1623929840.8293536, \"EndTime\": 1623929840.8293762, \"Dimensions\": {\"Algorithm\": \"Linear Learner\", \"Host\": \"algo-1\", \"Operation\": \"training\", \"epoch\": 5, \"model\": 6}, \"Metrics\": {\"train_absolute_loss_objective\": {\"sum\": 0.3124347629547119, \"count\": 1, \"min\": 0.3124347629547119, \"max\": 0.3124347629547119}}}\n",
      "\u001b[0m\n",
      "\u001b[34m#metrics {\"StartTime\": 1623929840.8296313, \"EndTime\": 1623929840.8296533, \"Dimensions\": {\"Algorithm\": \"Linear Learner\", \"Host\": \"algo-1\", \"Operation\": \"training\", \"epoch\": 5, \"model\": 7}, \"Metrics\": {\"train_absolute_loss_objective\": {\"sum\": 0.33180348587036135, \"count\": 1, \"min\": 0.33180348587036135, \"max\": 0.33180348587036135}}}\n",
      "\u001b[0m\n",
      "\u001b[34m#metrics {\"StartTime\": 1623929840.829909, \"EndTime\": 1623929840.82993, \"Dimensions\": {\"Algorithm\": \"Linear Learner\", \"Host\": \"algo-1\", \"Operation\": \"training\", \"epoch\": 5, \"model\": 8}, \"Metrics\": {\"train_absolute_loss_objective\": {\"sum\": 0.4696014766693115, \"count\": 1, \"min\": 0.4696014766693115, \"max\": 0.4696014766693115}}}\n",
      "\u001b[0m\n",
      "\u001b[34m#metrics {\"StartTime\": 1623929840.830182, \"EndTime\": 1623929840.8302026, \"Dimensions\": {\"Algorithm\": \"Linear Learner\", \"Host\": \"algo-1\", \"Operation\": \"training\", \"epoch\": 5, \"model\": 9}, \"Metrics\": {\"train_absolute_loss_objective\": {\"sum\": 0.38772379112243655, \"count\": 1, \"min\": 0.38772379112243655, \"max\": 0.38772379112243655}}}\n",
      "\u001b[0m\n",
      "\u001b[34m[06/17/2021 11:37:20 INFO 140011042391872] #quality_metric: host=algo-1, epoch=5, train absolute_loss_objective <loss>=0.42112138175964353\u001b[0m\n",
      "\u001b[34m[06/17/2021 11:37:20 INFO 140011042391872] #early_stopping_criteria_metric: host=algo-1, epoch=5, criteria=absolute_loss_objective, value=0.3124347629547119\u001b[0m\n",
      "\u001b[34m[06/17/2021 11:37:20 INFO 140011042391872] Epoch 5: Loss improved. Updating best model\u001b[0m\n",
      "\u001b[34m[06/17/2021 11:37:20 INFO 140011042391872] Saving model for epoch: 5\u001b[0m\n",
      "\u001b[34m[06/17/2021 11:37:20 INFO 140011042391872] Saved checkpoint to \"/tmp/tmpnxkmrm33/mx-mod-0000.params\"\u001b[0m\n",
      "\u001b[34m[06/17/2021 11:37:20 INFO 140011042391872] #progress_metric: host=algo-1, completed 6.0 % of epochs\u001b[0m\n",
      "\u001b[34m#metrics {\"StartTime\": 1623929840.7468843, \"EndTime\": 1623929840.8398874, \"Dimensions\": {\"Algorithm\": \"Linear Learner\", \"Host\": \"algo-1\", \"Operation\": \"training\", \"epoch\": 5, \"Meta\": \"training_data_iter\"}, \"Metrics\": {\"Total Records Seen\": {\"sum\": 7590.0, \"count\": 1, \"min\": 7590, \"max\": 7590}, \"Total Batches Seen\": {\"sum\": 78.0, \"count\": 1, \"min\": 78, \"max\": 78}, \"Max Records Seen Between Resets\": {\"sum\": 1070.0, \"count\": 1, \"min\": 1070, \"max\": 1070}, \"Max Batches Seen Between Resets\": {\"sum\": 11.0, \"count\": 1, \"min\": 11, \"max\": 11}, \"Reset Count\": {\"sum\": 8.0, \"count\": 1, \"min\": 8, \"max\": 8}, \"Number of Records Since Last Reset\": {\"sum\": 1070.0, \"count\": 1, \"min\": 1070, \"max\": 1070}, \"Number of Batches Since Last Reset\": {\"sum\": 11.0, \"count\": 1, \"min\": 11, \"max\": 11}}}\n",
      "\u001b[0m\n",
      "\u001b[34m[06/17/2021 11:37:20 INFO 140011042391872] #throughput_metric: host=algo-1, train throughput=11485.950093414891 records/second\u001b[0m\n",
      "\u001b[34m[2021-06-17 11:37:20.919] [tensorio] [info] epoch_stats={\"data_pipeline\": \"/opt/ml/input/data/train\", \"epoch\": 16, \"duration\": 79, \"num_examples\": 11, \"num_bytes\": 81320}\u001b[0m\n",
      "\u001b[34m#metrics {\"StartTime\": 1623929840.9197998, \"EndTime\": 1623929840.9198525, \"Dimensions\": {\"Algorithm\": \"Linear Learner\", \"Host\": \"algo-1\", \"Operation\": \"training\", \"epoch\": 6, \"model\": 0}, \"Metrics\": {\"train_absolute_loss_objective\": {\"sum\": 0.3880950107574463, \"count\": 1, \"min\": 0.3880950107574463, \"max\": 0.3880950107574463}}}\n",
      "\u001b[0m\n",
      "\u001b[34m#metrics {\"StartTime\": 1623929840.92013, \"EndTime\": 1623929840.9201505, \"Dimensions\": {\"Algorithm\": \"Linear Learner\", \"Host\": \"algo-1\", \"Operation\": \"training\", \"epoch\": 6, \"model\": 1}, \"Metrics\": {\"train_absolute_loss_objective\": {\"sum\": 0.39703571701049806, \"count\": 1, \"min\": 0.39703571701049806, \"max\": 0.39703571701049806}}}\n",
      "\u001b[0m\n",
      "\u001b[34m#metrics {\"StartTime\": 1623929840.9203615, \"EndTime\": 1623929840.92042, \"Dimensions\": {\"Algorithm\": \"Linear Learner\", \"Host\": \"algo-1\", \"Operation\": \"training\", \"epoch\": 6, \"model\": 2}, \"Metrics\": {\"train_absolute_loss_objective\": {\"sum\": 0.3758342399597168, \"count\": 1, \"min\": 0.3758342399597168, \"max\": 0.3758342399597168}}}\n",
      "\u001b[0m\n",
      "\u001b[34m#metrics {\"StartTime\": 1623929840.9206529, \"EndTime\": 1623929840.920684, \"Dimensions\": {\"Algorithm\": \"Linear Learner\", \"Host\": \"algo-1\", \"Operation\": \"training\", \"epoch\": 6, \"model\": 3}, \"Metrics\": {\"train_absolute_loss_objective\": {\"sum\": 0.4225438690185547, \"count\": 1, \"min\": 0.4225438690185547, \"max\": 0.4225438690185547}}}\n",
      "\u001b[0m\n",
      "\u001b[34m#metrics {\"StartTime\": 1623929840.9208827, \"EndTime\": 1623929840.9209287, \"Dimensions\": {\"Algorithm\": \"Linear Learner\", \"Host\": \"algo-1\", \"Operation\": \"training\", \"epoch\": 6, \"model\": 4}, \"Metrics\": {\"train_absolute_loss_objective\": {\"sum\": 0.33052447509765626, \"count\": 1, \"min\": 0.33052447509765626, \"max\": 0.33052447509765626}}}\n",
      "\u001b[0m\n",
      "\u001b[34m#metrics {\"StartTime\": 1623929840.920981, \"EndTime\": 1623929840.9210207, \"Dimensions\": {\"Algorithm\": \"Linear Learner\", \"Host\": \"algo-1\", \"Operation\": \"training\", \"epoch\": 6, \"model\": 5}, \"Metrics\": {\"train_absolute_loss_objective\": {\"sum\": 0.32532234001159666, \"count\": 1, \"min\": 0.32532234001159666, \"max\": 0.32532234001159666}}}\n",
      "\u001b[0m\n",
      "\u001b[34m#metrics {\"StartTime\": 1623929840.9210901, \"EndTime\": 1623929840.9211087, \"Dimensions\": {\"Algorithm\": \"Linear Learner\", \"Host\": \"algo-1\", \"Operation\": \"training\", \"epoch\": 6, \"model\": 6}, \"Metrics\": {\"train_absolute_loss_objective\": {\"sum\": 0.3113684482574463, \"count\": 1, \"min\": 0.3113684482574463, \"max\": 0.3113684482574463}}}\n",
      "\u001b[0m\n",
      "\u001b[34m#metrics {\"StartTime\": 1623929840.9211931, \"EndTime\": 1623929840.9212136, \"Dimensions\": {\"Algorithm\": \"Linear Learner\", \"Host\": \"algo-1\", \"Operation\": \"training\", \"epoch\": 6, \"model\": 7}, \"Metrics\": {\"train_absolute_loss_objective\": {\"sum\": 0.32041718482971193, \"count\": 1, \"min\": 0.32041718482971193, \"max\": 0.32041718482971193}}}\n",
      "\u001b[0m\n",
      "\u001b[34m#metrics {\"StartTime\": 1623929840.9212961, \"EndTime\": 1623929840.921315, \"Dimensions\": {\"Algorithm\": \"Linear Learner\", \"Host\": \"algo-1\", \"Operation\": \"training\", \"epoch\": 6, \"model\": 8}, \"Metrics\": {\"train_absolute_loss_objective\": {\"sum\": 0.4314076099395752, \"count\": 1, \"min\": 0.4314076099395752, \"max\": 0.4314076099395752}}}\n",
      "\u001b[0m\n",
      "\u001b[34m#metrics {\"StartTime\": 1623929840.92137, \"EndTime\": 1623929840.9213867, \"Dimensions\": {\"Algorithm\": \"Linear Learner\", \"Host\": \"algo-1\", \"Operation\": \"training\", \"epoch\": 6, \"model\": 9}, \"Metrics\": {\"train_absolute_loss_objective\": {\"sum\": 0.3613558197021484, \"count\": 1, \"min\": 0.3613558197021484, \"max\": 0.3613558197021484}}}\n",
      "\u001b[0m\n",
      "\u001b[34m[06/17/2021 11:37:20 INFO 140011042391872] #quality_metric: host=algo-1, epoch=6, train absolute_loss_objective <loss>=0.3880950107574463\u001b[0m\n",
      "\u001b[34m[06/17/2021 11:37:20 INFO 140011042391872] #early_stopping_criteria_metric: host=algo-1, epoch=6, criteria=absolute_loss_objective, value=0.3113684482574463\u001b[0m\n",
      "\u001b[34m[06/17/2021 11:37:20 INFO 140011042391872] Epoch 6: Loss improved. Updating best model\u001b[0m\n",
      "\u001b[34m[06/17/2021 11:37:20 INFO 140011042391872] Saving model for epoch: 6\u001b[0m\n",
      "\u001b[34m[06/17/2021 11:37:20 INFO 140011042391872] Saved checkpoint to \"/tmp/tmp345d9aw_/mx-mod-0000.params\"\u001b[0m\n",
      "\u001b[34m[06/17/2021 11:37:20 INFO 140011042391872] #progress_metric: host=algo-1, completed 7.0 % of epochs\u001b[0m\n",
      "\u001b[34m#metrics {\"StartTime\": 1623929840.8402033, \"EndTime\": 1623929840.931373, \"Dimensions\": {\"Algorithm\": \"Linear Learner\", \"Host\": \"algo-1\", \"Operation\": \"training\", \"epoch\": 6, \"Meta\": \"training_data_iter\"}, \"Metrics\": {\"Total Records Seen\": {\"sum\": 8660.0, \"count\": 1, \"min\": 8660, \"max\": 8660}, \"Total Batches Seen\": {\"sum\": 89.0, \"count\": 1, \"min\": 89, \"max\": 89}, \"Max Records Seen Between Resets\": {\"sum\": 1070.0, \"count\": 1, \"min\": 1070, \"max\": 1070}, \"Max Batches Seen Between Resets\": {\"sum\": 11.0, \"count\": 1, \"min\": 11, \"max\": 11}, \"Reset Count\": {\"sum\": 9.0, \"count\": 1, \"min\": 9, \"max\": 9}, \"Number of Records Since Last Reset\": {\"sum\": 1070.0, \"count\": 1, \"min\": 1070, \"max\": 1070}, \"Number of Batches Since Last Reset\": {\"sum\": 11.0, \"count\": 1, \"min\": 11, \"max\": 11}}}\n",
      "\u001b[0m\n",
      "\u001b[34m[06/17/2021 11:37:20 INFO 140011042391872] #throughput_metric: host=algo-1, train throughput=11717.034128409709 records/second\u001b[0m\n",
      "\u001b[34m[2021-06-17 11:37:21.018] [tensorio] [info] epoch_stats={\"data_pipeline\": \"/opt/ml/input/data/train\", \"epoch\": 18, \"duration\": 87, \"num_examples\": 11, \"num_bytes\": 81320}\u001b[0m\n",
      "\u001b[34m#metrics {\"StartTime\": 1623929841.0190344, \"EndTime\": 1623929841.0190916, \"Dimensions\": {\"Algorithm\": \"Linear Learner\", \"Host\": \"algo-1\", \"Operation\": \"training\", \"epoch\": 7, \"model\": 0}, \"Metrics\": {\"train_absolute_loss_objective\": {\"sum\": 0.3652950763702393, \"count\": 1, \"min\": 0.3652950763702393, \"max\": 0.3652950763702393}}}\n",
      "\u001b[0m\n",
      "\u001b[34m#metrics {\"StartTime\": 1623929841.0192165, \"EndTime\": 1623929841.019237, \"Dimensions\": {\"Algorithm\": \"Linear Learner\", \"Host\": \"algo-1\", \"Operation\": \"training\", \"epoch\": 7, \"model\": 1}, \"Metrics\": {\"train_absolute_loss_objective\": {\"sum\": 0.37072137451171877, \"count\": 1, \"min\": 0.37072137451171877, \"max\": 0.37072137451171877}}}\n",
      "\u001b[0m\n",
      "\u001b[34m#metrics {\"StartTime\": 1623929841.0193186, \"EndTime\": 1623929841.0193396, \"Dimensions\": {\"Algorithm\": \"Linear Learner\", \"Host\": \"algo-1\", \"Operation\": \"training\", \"epoch\": 7, \"model\": 2}, \"Metrics\": {\"train_absolute_loss_objective\": {\"sum\": 0.35448680496215823, \"count\": 1, \"min\": 0.35448680496215823, \"max\": 0.35448680496215823}}}\n",
      "\u001b[0m\n",
      "\u001b[34m#metrics {\"StartTime\": 1623929841.0193977, \"EndTime\": 1623929841.0194154, \"Dimensions\": {\"Algorithm\": \"Linear Learner\", \"Host\": \"algo-1\", \"Operation\": \"training\", \"epoch\": 7, \"model\": 3}, \"Metrics\": {\"train_absolute_loss_objective\": {\"sum\": 0.3977806587219238, \"count\": 1, \"min\": 0.3977806587219238, \"max\": 0.3977806587219238}}}\n",
      "\u001b[0m\n",
      "\u001b[34m#metrics {\"StartTime\": 1623929841.0194983, \"EndTime\": 1623929841.0195396, \"Dimensions\": {\"Algorithm\": \"Linear Learner\", \"Host\": \"algo-1\", \"Operation\": \"training\", \"epoch\": 7, \"model\": 4}, \"Metrics\": {\"train_absolute_loss_objective\": {\"sum\": 0.3348784255981445, \"count\": 1, \"min\": 0.3348784255981445, \"max\": 0.3348784255981445}}}\n",
      "\u001b[0m\n",
      "\u001b[34m#metrics {\"StartTime\": 1623929841.0196, \"EndTime\": 1623929841.019618, \"Dimensions\": {\"Algorithm\": \"Linear Learner\", \"Host\": \"algo-1\", \"Operation\": \"training\", \"epoch\": 7, \"model\": 5}, \"Metrics\": {\"train_absolute_loss_objective\": {\"sum\": 0.32482040786743166, \"count\": 1, \"min\": 0.32482040786743166, \"max\": 0.32482040786743166}}}\n",
      "\u001b[0m\n",
      "\u001b[34m#metrics {\"StartTime\": 1623929841.0197117, \"EndTime\": 1623929841.0197542, \"Dimensions\": {\"Algorithm\": \"Linear Learner\", \"Host\": \"algo-1\", \"Operation\": \"training\", \"epoch\": 7, \"model\": 6}, \"Metrics\": {\"train_absolute_loss_objective\": {\"sum\": 0.3126756973266602, \"count\": 1, \"min\": 0.3126756973266602, \"max\": 0.3126756973266602}}}\n",
      "\u001b[0m\n",
      "\u001b[34m#metrics {\"StartTime\": 1623929841.019812, \"EndTime\": 1623929841.0198293, \"Dimensions\": {\"Algorithm\": \"Linear Learner\", \"Host\": \"algo-1\", \"Operation\": \"training\", \"epoch\": 7, \"model\": 7}, \"Metrics\": {\"train_absolute_loss_objective\": {\"sum\": 0.3203094596862793, \"count\": 1, \"min\": 0.3203094596862793, \"max\": 0.3203094596862793}}}\n",
      "\u001b[0m\n",
      "\u001b[34m#metrics {\"StartTime\": 1623929841.019915, \"EndTime\": 1623929841.0199351, \"Dimensions\": {\"Algorithm\": \"Linear Learner\", \"Host\": \"algo-1\", \"Operation\": \"training\", \"epoch\": 7, \"model\": 8}, \"Metrics\": {\"train_absolute_loss_objective\": {\"sum\": 0.4065300235748291, \"count\": 1, \"min\": 0.4065300235748291, \"max\": 0.4065300235748291}}}\n",
      "\u001b[0m\n",
      "\u001b[34m#metrics {\"StartTime\": 1623929841.0200193, \"EndTime\": 1623929841.0200384, \"Dimensions\": {\"Algorithm\": \"Linear Learner\", \"Host\": \"algo-1\", \"Operation\": \"training\", \"epoch\": 7, \"model\": 9}, \"Metrics\": {\"train_absolute_loss_objective\": {\"sum\": 0.34094585418701173, \"count\": 1, \"min\": 0.34094585418701173, \"max\": 0.34094585418701173}}}\n",
      "\u001b[0m\n",
      "\u001b[34m[06/17/2021 11:37:21 INFO 140011042391872] #quality_metric: host=algo-1, epoch=7, train absolute_loss_objective <loss>=0.3652950763702393\u001b[0m\n",
      "\u001b[34m[06/17/2021 11:37:21 INFO 140011042391872] #early_stopping_criteria_metric: host=algo-1, epoch=7, criteria=absolute_loss_objective, value=0.3126756973266602\u001b[0m\n",
      "\u001b[34m[06/17/2021 11:37:21 INFO 140011042391872] Saving model for epoch: 7\u001b[0m\n",
      "\u001b[34m[06/17/2021 11:37:21 INFO 140011042391872] Saved checkpoint to \"/tmp/tmp2m5iqg4o/mx-mod-0000.params\"\u001b[0m\n",
      "\u001b[34m[06/17/2021 11:37:21 INFO 140011042391872] #progress_metric: host=algo-1, completed 8.0 % of epochs\u001b[0m\n",
      "\u001b[34m#metrics {\"StartTime\": 1623929840.931691, \"EndTime\": 1623929841.0278015, \"Dimensions\": {\"Algorithm\": \"Linear Learner\", \"Host\": \"algo-1\", \"Operation\": \"training\", \"epoch\": 7, \"Meta\": \"training_data_iter\"}, \"Metrics\": {\"Total Records Seen\": {\"sum\": 9730.0, \"count\": 1, \"min\": 9730, \"max\": 9730}, \"Total Batches Seen\": {\"sum\": 100.0, \"count\": 1, \"min\": 100, \"max\": 100}, \"Max Records Seen Between Resets\": {\"sum\": 1070.0, \"count\": 1, \"min\": 1070, \"max\": 1070}, \"Max Batches Seen Between Resets\": {\"sum\": 11.0, \"count\": 1, \"min\": 11, \"max\": 11}, \"Reset Count\": {\"sum\": 10.0, \"count\": 1, \"min\": 10, \"max\": 10}, \"Number of Records Since Last Reset\": {\"sum\": 1070.0, \"count\": 1, \"min\": 1070, \"max\": 1070}, \"Number of Batches Since Last Reset\": {\"sum\": 11.0, \"count\": 1, \"min\": 11, \"max\": 11}}}\n",
      "\u001b[0m\n",
      "\u001b[34m[06/17/2021 11:37:21 INFO 140011042391872] #throughput_metric: host=algo-1, train throughput=11120.292186392717 records/second\u001b[0m\n",
      "\u001b[34m[2021-06-17 11:37:21.120] [tensorio] [info] epoch_stats={\"data_pipeline\": \"/opt/ml/input/data/train\", \"epoch\": 20, \"duration\": 92, \"num_examples\": 11, \"num_bytes\": 81320}\u001b[0m\n",
      "\u001b[34m#metrics {\"StartTime\": 1623929841.120659, \"EndTime\": 1623929841.120717, \"Dimensions\": {\"Algorithm\": \"Linear Learner\", \"Host\": \"algo-1\", \"Operation\": \"training\", \"epoch\": 8, \"model\": 0}, \"Metrics\": {\"train_absolute_loss_objective\": {\"sum\": 0.34543982696533204, \"count\": 1, \"min\": 0.34543982696533204, \"max\": 0.34543982696533204}}}\n",
      "\u001b[0m\n",
      "\u001b[34m#metrics {\"StartTime\": 1623929841.1208096, \"EndTime\": 1623929841.1208296, \"Dimensions\": {\"Algorithm\": \"Linear Learner\", \"Host\": \"algo-1\", \"Operation\": \"training\", \"epoch\": 8, \"model\": 1}, \"Metrics\": {\"train_absolute_loss_objective\": {\"sum\": 0.3497601413726807, \"count\": 1, \"min\": 0.3497601413726807, \"max\": 0.3497601413726807}}}\n",
      "\u001b[0m\n",
      "\u001b[34m#metrics {\"StartTime\": 1623929841.120881, \"EndTime\": 1623929841.120896, \"Dimensions\": {\"Algorithm\": \"Linear Learner\", \"Host\": \"algo-1\", \"Operation\": \"training\", \"epoch\": 8, \"model\": 2}, \"Metrics\": {\"train_absolute_loss_objective\": {\"sum\": 0.33625651741027834, \"count\": 1, \"min\": 0.33625651741027834, \"max\": 0.33625651741027834}}}\n",
      "\u001b[0m\n",
      "\u001b[34m#metrics {\"StartTime\": 1623929841.1209424, \"EndTime\": 1623929841.1209579, \"Dimensions\": {\"Algorithm\": \"Linear Learner\", \"Host\": \"algo-1\", \"Operation\": \"training\", \"epoch\": 8, \"model\": 3}, \"Metrics\": {\"train_absolute_loss_objective\": {\"sum\": 0.37342919731140134, \"count\": 1, \"min\": 0.37342919731140134, \"max\": 0.37342919731140134}}}\n",
      "\u001b[0m\n",
      "\u001b[34m#metrics {\"StartTime\": 1623929841.1210086, \"EndTime\": 1623929841.1210246, \"Dimensions\": {\"Algorithm\": \"Linear Learner\", \"Host\": \"algo-1\", \"Operation\": \"training\", \"epoch\": 8, \"model\": 4}, \"Metrics\": {\"train_absolute_loss_objective\": {\"sum\": 0.3259781494140625, \"count\": 1, \"min\": 0.3259781494140625, \"max\": 0.3259781494140625}}}\n",
      "\u001b[0m\n",
      "\u001b[34m#metrics {\"StartTime\": 1623929841.1210861, \"EndTime\": 1623929841.1211028, \"Dimensions\": {\"Algorithm\": \"Linear Learner\", \"Host\": \"algo-1\", \"Operation\": \"training\", \"epoch\": 8, \"model\": 5}, \"Metrics\": {\"train_absolute_loss_objective\": {\"sum\": 0.3292455234527588, \"count\": 1, \"min\": 0.3292455234527588, \"max\": 0.3292455234527588}}}\n",
      "\u001b[0m\n",
      "\u001b[34m#metrics {\"StartTime\": 1623929841.1211517, \"EndTime\": 1623929841.121168, \"Dimensions\": {\"Algorithm\": \"Linear Learner\", \"Host\": \"algo-1\", \"Operation\": \"training\", \"epoch\": 8, \"model\": 6}, \"Metrics\": {\"train_absolute_loss_objective\": {\"sum\": 0.3158732852935791, \"count\": 1, \"min\": 0.3158732852935791, \"max\": 0.3158732852935791}}}\n",
      "\u001b[0m\n",
      "\u001b[34m#metrics {\"StartTime\": 1623929841.121268, \"EndTime\": 1623929841.121287, \"Dimensions\": {\"Algorithm\": \"Linear Learner\", \"Host\": \"algo-1\", \"Operation\": \"training\", \"epoch\": 8, \"model\": 7}, \"Metrics\": {\"train_absolute_loss_objective\": {\"sum\": 0.3202240676879883, \"count\": 1, \"min\": 0.3202240676879883, \"max\": 0.3202240676879883}}}\n",
      "\u001b[0m\n",
      "\u001b[34m#metrics {\"StartTime\": 1623929841.1213422, \"EndTime\": 1623929841.1213584, \"Dimensions\": {\"Algorithm\": \"Linear Learner\", \"Host\": \"algo-1\", \"Operation\": \"training\", \"epoch\": 8, \"model\": 8}, \"Metrics\": {\"train_absolute_loss_objective\": {\"sum\": 0.3843613033294678, \"count\": 1, \"min\": 0.3843613033294678, \"max\": 0.3843613033294678}}}\n",
      "\u001b[0m\n",
      "\u001b[34m#metrics {\"StartTime\": 1623929841.121409, \"EndTime\": 1623929841.1214252, \"Dimensions\": {\"Algorithm\": \"Linear Learner\", \"Host\": \"algo-1\", \"Operation\": \"training\", \"epoch\": 8, \"model\": 9}, \"Metrics\": {\"train_absolute_loss_objective\": {\"sum\": 0.32509068298339844, \"count\": 1, \"min\": 0.32509068298339844, \"max\": 0.32509068298339844}}}\n",
      "\u001b[0m\n",
      "\u001b[34m[06/17/2021 11:37:21 INFO 140011042391872] #quality_metric: host=algo-1, epoch=8, train absolute_loss_objective <loss>=0.34543982696533204\u001b[0m\n",
      "\u001b[34m[06/17/2021 11:37:21 INFO 140011042391872] #early_stopping_criteria_metric: host=algo-1, epoch=8, criteria=absolute_loss_objective, value=0.3158732852935791\u001b[0m\n",
      "\u001b[34m[06/17/2021 11:37:21 INFO 140011042391872] Saving model for epoch: 8\u001b[0m\n",
      "\u001b[34m[06/17/2021 11:37:21 INFO 140011042391872] Saved checkpoint to \"/tmp/tmpicbfmmkq/mx-mod-0000.params\"\u001b[0m\n",
      "\u001b[34m[06/17/2021 11:37:21 INFO 140011042391872] #progress_metric: host=algo-1, completed 9.0 % of epochs\u001b[0m\n",
      "\u001b[34m#metrics {\"StartTime\": 1623929841.02799, \"EndTime\": 1623929841.1294467, \"Dimensions\": {\"Algorithm\": \"Linear Learner\", \"Host\": \"algo-1\", \"Operation\": \"training\", \"epoch\": 8, \"Meta\": \"training_data_iter\"}, \"Metrics\": {\"Total Records Seen\": {\"sum\": 10800.0, \"count\": 1, \"min\": 10800, \"max\": 10800}, \"Total Batches Seen\": {\"sum\": 111.0, \"count\": 1, \"min\": 111, \"max\": 111}, \"Max Records Seen Between Resets\": {\"sum\": 1070.0, \"count\": 1, \"min\": 1070, \"max\": 1070}, \"Max Batches Seen Between Resets\": {\"sum\": 11.0, \"count\": 1, \"min\": 11, \"max\": 11}, \"Reset Count\": {\"sum\": 11.0, \"count\": 1, \"min\": 11, \"max\": 11}, \"Number of Records Since Last Reset\": {\"sum\": 1070.0, \"count\": 1, \"min\": 1070, \"max\": 1070}, \"Number of Batches Since Last Reset\": {\"sum\": 11.0, \"count\": 1, \"min\": 11, \"max\": 11}}}\n",
      "\u001b[0m\n",
      "\u001b[34m[06/17/2021 11:37:21 INFO 140011042391872] #throughput_metric: host=algo-1, train throughput=10532.046869536443 records/second\u001b[0m\n",
      "\u001b[34m[2021-06-17 11:37:21.220] [tensorio] [info] epoch_stats={\"data_pipeline\": \"/opt/ml/input/data/train\", \"epoch\": 22, \"duration\": 90, \"num_examples\": 11, \"num_bytes\": 81320}\u001b[0m\n",
      "\u001b[34m#metrics {\"StartTime\": 1623929841.220158, \"EndTime\": 1623929841.220216, \"Dimensions\": {\"Algorithm\": \"Linear Learner\", \"Host\": \"algo-1\", \"Operation\": \"training\", \"epoch\": 9, \"model\": 0}, \"Metrics\": {\"train_absolute_loss_objective\": {\"sum\": 0.3295377902984619, \"count\": 1, \"min\": 0.3295377902984619, \"max\": 0.3295377902984619}}}\n",
      "\u001b[0m\n",
      "\u001b[34m#metrics {\"StartTime\": 1623929841.2203016, \"EndTime\": 1623929841.2205107, \"Dimensions\": {\"Algorithm\": \"Linear Learner\", \"Host\": \"algo-1\", \"Operation\": \"training\", \"epoch\": 9, \"model\": 1}, \"Metrics\": {\"train_absolute_loss_objective\": {\"sum\": 0.33195053291320803, \"count\": 1, \"min\": 0.33195053291320803, \"max\": 0.33195053291320803}}}\n",
      "\u001b[0m\n",
      "\u001b[34m#metrics {\"StartTime\": 1623929841.2205875, \"EndTime\": 1623929841.220608, \"Dimensions\": {\"Algorithm\": \"Linear Learner\", \"Host\": \"algo-1\", \"Operation\": \"training\", \"epoch\": 9, \"model\": 2}, \"Metrics\": {\"train_absolute_loss_objective\": {\"sum\": 0.32314115715026853, \"count\": 1, \"min\": 0.32314115715026853, \"max\": 0.32314115715026853}}}\n",
      "\u001b[0m\n",
      "\u001b[34m#metrics {\"StartTime\": 1623929841.2206666, \"EndTime\": 1623929841.2207446, \"Dimensions\": {\"Algorithm\": \"Linear Learner\", \"Host\": \"algo-1\", \"Operation\": \"training\", \"epoch\": 9, \"model\": 3}, \"Metrics\": {\"train_absolute_loss_objective\": {\"sum\": 0.35127488708496096, \"count\": 1, \"min\": 0.35127488708496096, \"max\": 0.35127488708496096}}}\n",
      "\u001b[0m\n",
      "\u001b[34m#metrics {\"StartTime\": 1623929841.2208078, \"EndTime\": 1623929841.2208264, \"Dimensions\": {\"Algorithm\": \"Linear Learner\", \"Host\": \"algo-1\", \"Operation\": \"training\", \"epoch\": 9, \"model\": 4}, \"Metrics\": {\"train_absolute_loss_objective\": {\"sum\": 0.30840598678588865, \"count\": 1, \"min\": 0.30840598678588865, \"max\": 0.30840598678588865}}}\n",
      "\u001b[0m\n",
      "\u001b[34m#metrics {\"StartTime\": 1623929841.220942, \"EndTime\": 1623929841.2209613, \"Dimensions\": {\"Algorithm\": \"Linear Learner\", \"Host\": \"algo-1\", \"Operation\": \"training\", \"epoch\": 9, \"model\": 5}, \"Metrics\": {\"train_absolute_loss_objective\": {\"sum\": 0.3163157939910889, \"count\": 1, \"min\": 0.3163157939910889, \"max\": 0.3163157939910889}}}\n",
      "\u001b[0m\n",
      "\u001b[34m#metrics {\"StartTime\": 1623929841.221108, \"EndTime\": 1623929841.2211323, \"Dimensions\": {\"Algorithm\": \"Linear Learner\", \"Host\": \"algo-1\", \"Operation\": \"training\", \"epoch\": 9, \"model\": 6}, \"Metrics\": {\"train_absolute_loss_objective\": {\"sum\": 0.3171605758666992, \"count\": 1, \"min\": 0.3171605758666992, \"max\": 0.3171605758666992}}}\n",
      "\u001b[0m\n",
      "\u001b[34m#metrics {\"StartTime\": 1623929841.2211924, \"EndTime\": 1623929841.2212105, \"Dimensions\": {\"Algorithm\": \"Linear Learner\", \"Host\": \"algo-1\", \"Operation\": \"training\", \"epoch\": 9, \"model\": 7}, \"Metrics\": {\"train_absolute_loss_objective\": {\"sum\": 0.32078937530517576, \"count\": 1, \"min\": 0.32078937530517576, \"max\": 0.32078937530517576}}}\n",
      "\u001b[0m\n",
      "\u001b[34m#metrics {\"StartTime\": 1623929841.2213604, \"EndTime\": 1623929841.221385, \"Dimensions\": {\"Algorithm\": \"Linear Learner\", \"Host\": \"algo-1\", \"Operation\": \"training\", \"epoch\": 9, \"model\": 8}, \"Metrics\": {\"train_absolute_loss_objective\": {\"sum\": 0.3623133926391602, \"count\": 1, \"min\": 0.3623133926391602, \"max\": 0.3623133926391602}}}\n",
      "\u001b[0m\n",
      "\u001b[34m#metrics {\"StartTime\": 1623929841.2214437, \"EndTime\": 1623929841.2214613, \"Dimensions\": {\"Algorithm\": \"Linear Learner\", \"Host\": \"algo-1\", \"Operation\": \"training\", \"epoch\": 9, \"model\": 9}, \"Metrics\": {\"train_absolute_loss_objective\": {\"sum\": 0.31539944648742674, \"count\": 1, \"min\": 0.31539944648742674, \"max\": 0.31539944648742674}}}\n",
      "\u001b[0m\n",
      "\u001b[34m[06/17/2021 11:37:21 INFO 140011042391872] #quality_metric: host=algo-1, epoch=9, train absolute_loss_objective <loss>=0.3295377902984619\u001b[0m\n",
      "\u001b[34m[06/17/2021 11:37:21 INFO 140011042391872] #early_stopping_criteria_metric: host=algo-1, epoch=9, criteria=absolute_loss_objective, value=0.30840598678588865\u001b[0m\n",
      "\u001b[34m[06/17/2021 11:37:21 INFO 140011042391872] Epoch 9: Loss improved. Updating best model\u001b[0m\n",
      "\u001b[34m[06/17/2021 11:37:21 INFO 140011042391872] Saving model for epoch: 9\u001b[0m\n",
      "\u001b[34m[06/17/2021 11:37:21 INFO 140011042391872] Saved checkpoint to \"/tmp/tmp75yrvsrn/mx-mod-0000.params\"\u001b[0m\n",
      "\u001b[34m[06/17/2021 11:37:21 INFO 140011042391872] #progress_metric: host=algo-1, completed 10.0 % of epochs\u001b[0m\n",
      "\u001b[34m#metrics {\"StartTime\": 1623929841.1297557, \"EndTime\": 1623929841.2306342, \"Dimensions\": {\"Algorithm\": \"Linear Learner\", \"Host\": \"algo-1\", \"Operation\": \"training\", \"epoch\": 9, \"Meta\": \"training_data_iter\"}, \"Metrics\": {\"Total Records Seen\": {\"sum\": 11870.0, \"count\": 1, \"min\": 11870, \"max\": 11870}, \"Total Batches Seen\": {\"sum\": 122.0, \"count\": 1, \"min\": 122, \"max\": 122}, \"Max Records Seen Between Resets\": {\"sum\": 1070.0, \"count\": 1, \"min\": 1070, \"max\": 1070}, \"Max Batches Seen Between Resets\": {\"sum\": 11.0, \"count\": 1, \"min\": 11, \"max\": 11}, \"Reset Count\": {\"sum\": 12.0, \"count\": 1, \"min\": 12, \"max\": 12}, \"Number of Records Since Last Reset\": {\"sum\": 1070.0, \"count\": 1, \"min\": 1070, \"max\": 1070}, \"Number of Batches Since Last Reset\": {\"sum\": 11.0, \"count\": 1, \"min\": 11, \"max\": 11}}}\n",
      "\u001b[0m\n",
      "\u001b[34m[06/17/2021 11:37:21 INFO 140011042391872] #throughput_metric: host=algo-1, train throughput=10590.776956550468 records/second\u001b[0m\n",
      "\u001b[34m[2021-06-17 11:37:21.332] [tensorio] [info] epoch_stats={\"data_pipeline\": \"/opt/ml/input/data/train\", \"epoch\": 24, \"duration\": 100, \"num_examples\": 11, \"num_bytes\": 81320}\u001b[0m\n",
      "\u001b[34m#metrics {\"StartTime\": 1623929841.332051, \"EndTime\": 1623929841.3321073, \"Dimensions\": {\"Algorithm\": \"Linear Learner\", \"Host\": \"algo-1\", \"Operation\": \"training\", \"epoch\": 10, \"model\": 0}, \"Metrics\": {\"train_absolute_loss_objective\": {\"sum\": 0.3191191177368164, \"count\": 1, \"min\": 0.3191191177368164, \"max\": 0.3191191177368164}}}\n",
      "\u001b[0m\n",
      "\u001b[34m#metrics {\"StartTime\": 1623929841.3321927, \"EndTime\": 1623929841.33221, \"Dimensions\": {\"Algorithm\": \"Linear Learner\", \"Host\": \"algo-1\", \"Operation\": \"training\", \"epoch\": 10, \"model\": 1}, \"Metrics\": {\"train_absolute_loss_objective\": {\"sum\": 0.32022509384155273, \"count\": 1, \"min\": 0.32022509384155273, \"max\": 0.32022509384155273}}}\n",
      "\u001b[0m\n",
      "\u001b[34m#metrics {\"StartTime\": 1623929841.332268, \"EndTime\": 1623929841.3322861, \"Dimensions\": {\"Algorithm\": \"Linear Learner\", \"Host\": \"algo-1\", \"Operation\": \"training\", \"epoch\": 10, \"model\": 2}, \"Metrics\": {\"train_absolute_loss_objective\": {\"sum\": 0.315220329284668, \"count\": 1, \"min\": 0.315220329284668, \"max\": 0.315220329284668}}}\n",
      "\u001b[0m\n",
      "\u001b[34m#metrics {\"StartTime\": 1623929841.3323343, \"EndTime\": 1623929841.3323483, \"Dimensions\": {\"Algorithm\": \"Linear Learner\", \"Host\": \"algo-1\", \"Operation\": \"training\", \"epoch\": 10, \"model\": 3}, \"Metrics\": {\"train_absolute_loss_objective\": {\"sum\": 0.33309193992614744, \"count\": 1, \"min\": 0.33309193992614744, \"max\": 0.33309193992614744}}}\n",
      "\u001b[0m\n",
      "\u001b[34m#metrics {\"StartTime\": 1623929841.3324254, \"EndTime\": 1623929841.3324425, \"Dimensions\": {\"Algorithm\": \"Linear Learner\", \"Host\": \"algo-1\", \"Operation\": \"training\", \"epoch\": 10, \"model\": 4}, \"Metrics\": {\"train_absolute_loss_objective\": {\"sum\": 0.3188459453582764, \"count\": 1, \"min\": 0.3188459453582764, \"max\": 0.3188459453582764}}}\n",
      "\u001b[0m\n",
      "\u001b[34m#metrics {\"StartTime\": 1623929841.3324904, \"EndTime\": 1623929841.332504, \"Dimensions\": {\"Algorithm\": \"Linear Learner\", \"Host\": \"algo-1\", \"Operation\": \"training\", \"epoch\": 10, \"model\": 5}, \"Metrics\": {\"train_absolute_loss_objective\": {\"sum\": 0.30746248626708983, \"count\": 1, \"min\": 0.30746248626708983, \"max\": 0.30746248626708983}}}\n",
      "\u001b[0m\n",
      "\u001b[34m#metrics {\"StartTime\": 1623929841.332545, \"EndTime\": 1623929841.3325586, \"Dimensions\": {\"Algorithm\": \"Linear Learner\", \"Host\": \"algo-1\", \"Operation\": \"training\", \"epoch\": 10, \"model\": 6}, \"Metrics\": {\"train_absolute_loss_objective\": {\"sum\": 0.31897822380065916, \"count\": 1, \"min\": 0.31897822380065916, \"max\": 0.31897822380065916}}}\n",
      "\u001b[0m\n",
      "\u001b[34m#metrics {\"StartTime\": 1623929841.3326128, \"EndTime\": 1623929841.3326302, \"Dimensions\": {\"Algorithm\": \"Linear Learner\", \"Host\": \"algo-1\", \"Operation\": \"training\", \"epoch\": 10, \"model\": 7}, \"Metrics\": {\"train_absolute_loss_objective\": {\"sum\": 0.32128771209716794, \"count\": 1, \"min\": 0.32128771209716794, \"max\": 0.32128771209716794}}}\n",
      "\u001b[0m\n",
      "\u001b[34m#metrics {\"StartTime\": 1623929841.3326747, \"EndTime\": 1623929841.332691, \"Dimensions\": {\"Algorithm\": \"Linear Learner\", \"Host\": \"algo-1\", \"Operation\": \"training\", \"epoch\": 10, \"model\": 8}, \"Metrics\": {\"train_absolute_loss_objective\": {\"sum\": 0.3436475868225098, \"count\": 1, \"min\": 0.3436475868225098, \"max\": 0.3436475868225098}}}\n",
      "\u001b[0m\n",
      "\u001b[34m#metrics {\"StartTime\": 1623929841.3327286, \"EndTime\": 1623929841.3327441, \"Dimensions\": {\"Algorithm\": \"Linear Learner\", \"Host\": \"algo-1\", \"Operation\": \"training\", \"epoch\": 10, \"model\": 9}, \"Metrics\": {\"train_absolute_loss_objective\": {\"sum\": 0.31039260482788084, \"count\": 1, \"min\": 0.31039260482788084, \"max\": 0.31039260482788084}}}\n",
      "\u001b[0m\n",
      "\u001b[34m[06/17/2021 11:37:21 INFO 140011042391872] #quality_metric: host=algo-1, epoch=10, train absolute_loss_objective <loss>=0.3191191177368164\u001b[0m\n",
      "\u001b[34m[06/17/2021 11:37:21 INFO 140011042391872] #early_stopping_criteria_metric: host=algo-1, epoch=10, criteria=absolute_loss_objective, value=0.30746248626708983\u001b[0m\n",
      "\u001b[34m[06/17/2021 11:37:21 INFO 140011042391872] Epoch 10: Loss improved. Updating best model\u001b[0m\n",
      "\u001b[34m[06/17/2021 11:37:21 INFO 140011042391872] Saving model for epoch: 10\u001b[0m\n",
      "\u001b[34m[06/17/2021 11:37:21 INFO 140011042391872] Saved checkpoint to \"/tmp/tmp207wvovd/mx-mod-0000.params\"\u001b[0m\n",
      "\u001b[34m[06/17/2021 11:37:21 INFO 140011042391872] #progress_metric: host=algo-1, completed 11.0 % of epochs\u001b[0m\n",
      "\u001b[34m#metrics {\"StartTime\": 1623929841.230979, \"EndTime\": 1623929841.3405597, \"Dimensions\": {\"Algorithm\": \"Linear Learner\", \"Host\": \"algo-1\", \"Operation\": \"training\", \"epoch\": 10, \"Meta\": \"training_data_iter\"}, \"Metrics\": {\"Total Records Seen\": {\"sum\": 12940.0, \"count\": 1, \"min\": 12940, \"max\": 12940}, \"Total Batches Seen\": {\"sum\": 133.0, \"count\": 1, \"min\": 133, \"max\": 133}, \"Max Records Seen Between Resets\": {\"sum\": 1070.0, \"count\": 1, \"min\": 1070, \"max\": 1070}, \"Max Batches Seen Between Resets\": {\"sum\": 11.0, \"count\": 1, \"min\": 11, \"max\": 11}, \"Reset Count\": {\"sum\": 13.0, \"count\": 1, \"min\": 13, \"max\": 13}, \"Number of Records Since Last Reset\": {\"sum\": 1070.0, \"count\": 1, \"min\": 1070, \"max\": 1070}, \"Number of Batches Since Last Reset\": {\"sum\": 11.0, \"count\": 1, \"min\": 11, \"max\": 11}}}\n",
      "\u001b[0m\n",
      "\u001b[34m[06/17/2021 11:37:21 INFO 140011042391872] #throughput_metric: host=algo-1, train throughput=9751.88507830138 records/second\u001b[0m\n",
      "\u001b[34m[2021-06-17 11:37:21.439] [tensorio] [info] epoch_stats={\"data_pipeline\": \"/opt/ml/input/data/train\", \"epoch\": 26, \"duration\": 98, \"num_examples\": 11, \"num_bytes\": 81320}\u001b[0m\n",
      "\u001b[34m#metrics {\"StartTime\": 1623929841.4400074, \"EndTime\": 1623929841.4400659, \"Dimensions\": {\"Algorithm\": \"Linear Learner\", \"Host\": \"algo-1\", \"Operation\": \"training\", \"epoch\": 11, \"model\": 0}, \"Metrics\": {\"train_absolute_loss_objective\": {\"sum\": 0.3130416431427002, \"count\": 1, \"min\": 0.3130416431427002, \"max\": 0.3130416431427002}}}\n",
      "\u001b[0m\n",
      "\u001b[34m#metrics {\"StartTime\": 1623929841.4402192, \"EndTime\": 1623929841.440241, \"Dimensions\": {\"Algorithm\": \"Linear Learner\", \"Host\": \"algo-1\", \"Operation\": \"training\", \"epoch\": 11, \"model\": 1}, \"Metrics\": {\"train_absolute_loss_objective\": {\"sum\": 0.3129404048919678, \"count\": 1, \"min\": 0.3129404048919678, \"max\": 0.3129404048919678}}}\n",
      "\u001b[0m\n",
      "\u001b[34m#metrics {\"StartTime\": 1623929841.4402993, \"EndTime\": 1623929841.4403174, \"Dimensions\": {\"Algorithm\": \"Linear Learner\", \"Host\": \"algo-1\", \"Operation\": \"training\", \"epoch\": 11, \"model\": 2}, \"Metrics\": {\"train_absolute_loss_objective\": {\"sum\": 0.31063863563537597, \"count\": 1, \"min\": 0.31063863563537597, \"max\": 0.31063863563537597}}}\n",
      "\u001b[0m\n",
      "\u001b[34m#metrics {\"StartTime\": 1623929841.4403746, \"EndTime\": 1623929841.440416, \"Dimensions\": {\"Algorithm\": \"Linear Learner\", \"Host\": \"algo-1\", \"Operation\": \"training\", \"epoch\": 11, \"model\": 3}, \"Metrics\": {\"train_absolute_loss_objective\": {\"sum\": 0.3204269599914551, \"count\": 1, \"min\": 0.3204269599914551, \"max\": 0.3204269599914551}}}\n",
      "\u001b[0m\n",
      "\u001b[34m#metrics {\"StartTime\": 1623929841.4404757, \"EndTime\": 1623929841.4404938, \"Dimensions\": {\"Algorithm\": \"Linear Learner\", \"Host\": \"algo-1\", \"Operation\": \"training\", \"epoch\": 11, \"model\": 4}, \"Metrics\": {\"train_absolute_loss_objective\": {\"sum\": 0.3236345100402832, \"count\": 1, \"min\": 0.3236345100402832, \"max\": 0.3236345100402832}}}\n",
      "\u001b[0m\n",
      "\u001b[34m#metrics {\"StartTime\": 1623929841.440559, \"EndTime\": 1623929841.440578, \"Dimensions\": {\"Algorithm\": \"Linear Learner\", \"Host\": \"algo-1\", \"Operation\": \"training\", \"epoch\": 11, \"model\": 5}, \"Metrics\": {\"train_absolute_loss_objective\": {\"sum\": 0.31461359214782714, \"count\": 1, \"min\": 0.31461359214782714, \"max\": 0.31461359214782714}}}\n",
      "\u001b[0m\n",
      "\u001b[34m#metrics {\"StartTime\": 1623929841.440632, \"EndTime\": 1623929841.440649, \"Dimensions\": {\"Algorithm\": \"Linear Learner\", \"Host\": \"algo-1\", \"Operation\": \"training\", \"epoch\": 11, \"model\": 6}, \"Metrics\": {\"train_absolute_loss_objective\": {\"sum\": 0.32691657638549804, \"count\": 1, \"min\": 0.32691657638549804, \"max\": 0.32691657638549804}}}\n",
      "\u001b[0m\n",
      "\u001b[34m#metrics {\"StartTime\": 1623929841.440702, \"EndTime\": 1623929841.4407191, \"Dimensions\": {\"Algorithm\": \"Linear Learner\", \"Host\": \"algo-1\", \"Operation\": \"training\", \"epoch\": 11, \"model\": 7}, \"Metrics\": {\"train_absolute_loss_objective\": {\"sum\": 0.32041184425354, \"count\": 1, \"min\": 0.32041184425354, \"max\": 0.32041184425354}}}\n",
      "\u001b[0m\n",
      "\u001b[34m#metrics {\"StartTime\": 1623929841.4407735, \"EndTime\": 1623929841.4407904, \"Dimensions\": {\"Algorithm\": \"Linear Learner\", \"Host\": \"algo-1\", \"Operation\": \"training\", \"epoch\": 11, \"model\": 8}, \"Metrics\": {\"train_absolute_loss_objective\": {\"sum\": 0.32858900833129884, \"count\": 1, \"min\": 0.32858900833129884, \"max\": 0.32858900833129884}}}\n",
      "\u001b[0m\n",
      "\u001b[34m#metrics {\"StartTime\": 1623929841.440843, \"EndTime\": 1623929841.4408598, \"Dimensions\": {\"Algorithm\": \"Linear Learner\", \"Host\": \"algo-1\", \"Operation\": \"training\", \"epoch\": 11, \"model\": 9}, \"Metrics\": {\"train_absolute_loss_objective\": {\"sum\": 0.3079063358306885, \"count\": 1, \"min\": 0.3079063358306885, \"max\": 0.3079063358306885}}}\n",
      "\u001b[0m\n",
      "\u001b[34m[06/17/2021 11:37:21 INFO 140011042391872] #quality_metric: host=algo-1, epoch=11, train absolute_loss_objective <loss>=0.3130416431427002\u001b[0m\n",
      "\u001b[34m[06/17/2021 11:37:21 INFO 140011042391872] #early_stopping_criteria_metric: host=algo-1, epoch=11, criteria=absolute_loss_objective, value=0.3079063358306885\u001b[0m\n",
      "\u001b[34m[06/17/2021 11:37:21 INFO 140011042391872] Saving model for epoch: 11\u001b[0m\n",
      "\u001b[34m[06/17/2021 11:37:21 INFO 140011042391872] Saved checkpoint to \"/tmp/tmpmt95zj72/mx-mod-0000.params\"\u001b[0m\n",
      "\u001b[34m[06/17/2021 11:37:21 INFO 140011042391872] #progress_metric: host=algo-1, completed 12.0 % of epochs\u001b[0m\n",
      "\u001b[34m#metrics {\"StartTime\": 1623929841.3408484, \"EndTime\": 1623929841.4504306, \"Dimensions\": {\"Algorithm\": \"Linear Learner\", \"Host\": \"algo-1\", \"Operation\": \"training\", \"epoch\": 11, \"Meta\": \"training_data_iter\"}, \"Metrics\": {\"Total Records Seen\": {\"sum\": 14010.0, \"count\": 1, \"min\": 14010, \"max\": 14010}, \"Total Batches Seen\": {\"sum\": 144.0, \"count\": 1, \"min\": 144, \"max\": 144}, \"Max Records Seen Between Resets\": {\"sum\": 1070.0, \"count\": 1, \"min\": 1070, \"max\": 1070}, \"Max Batches Seen Between Resets\": {\"sum\": 11.0, \"count\": 1, \"min\": 11, \"max\": 11}, \"Reset Count\": {\"sum\": 14.0, \"count\": 1, \"min\": 14, \"max\": 14}, \"Number of Records Since Last Reset\": {\"sum\": 1070.0, \"count\": 1, \"min\": 1070, \"max\": 1070}, \"Number of Batches Since Last Reset\": {\"sum\": 11.0, \"count\": 1, \"min\": 11, \"max\": 11}}}\n",
      "\u001b[0m\n",
      "\u001b[34m[06/17/2021 11:37:21 INFO 140011042391872] #throughput_metric: host=algo-1, train throughput=9750.296078073538 records/second\u001b[0m\n",
      "\u001b[34m[2021-06-17 11:37:21.541] [tensorio] [info] epoch_stats={\"data_pipeline\": \"/opt/ml/input/data/train\", \"epoch\": 28, \"duration\": 90, \"num_examples\": 11, \"num_bytes\": 81320}\u001b[0m\n",
      "\u001b[34m#metrics {\"StartTime\": 1623929841.5417774, \"EndTime\": 1623929841.541829, \"Dimensions\": {\"Algorithm\": \"Linear Learner\", \"Host\": \"algo-1\", \"Operation\": \"training\", \"epoch\": 12, \"model\": 0}, \"Metrics\": {\"train_absolute_loss_objective\": {\"sum\": 0.3093177890777588, \"count\": 1, \"min\": 0.3093177890777588, \"max\": 0.3093177890777588}}}\n",
      "\u001b[0m\n",
      "\u001b[34m#metrics {\"StartTime\": 1623929841.5419075, \"EndTime\": 1623929841.542114, \"Dimensions\": {\"Algorithm\": \"Linear Learner\", \"Host\": \"algo-1\", \"Operation\": \"training\", \"epoch\": 12, \"model\": 1}, \"Metrics\": {\"train_absolute_loss_objective\": {\"sum\": 0.3090814094543457, \"count\": 1, \"min\": 0.3090814094543457, \"max\": 0.3090814094543457}}}\n",
      "\u001b[0m\n",
      "\u001b[34m#metrics {\"StartTime\": 1623929841.5421677, \"EndTime\": 1623929841.542201, \"Dimensions\": {\"Algorithm\": \"Linear Learner\", \"Host\": \"algo-1\", \"Operation\": \"training\", \"epoch\": 12, \"model\": 2}, \"Metrics\": {\"train_absolute_loss_objective\": {\"sum\": 0.30844224548339844, \"count\": 1, \"min\": 0.30844224548339844, \"max\": 0.30844224548339844}}}\n",
      "\u001b[0m\n",
      "\u001b[34m#metrics {\"StartTime\": 1623929841.5423286, \"EndTime\": 1623929841.5424511, \"Dimensions\": {\"Algorithm\": \"Linear Learner\", \"Host\": \"algo-1\", \"Operation\": \"training\", \"epoch\": 12, \"model\": 3}, \"Metrics\": {\"train_absolute_loss_objective\": {\"sum\": 0.3133000526428223, \"count\": 1, \"min\": 0.3133000526428223, \"max\": 0.3133000526428223}}}\n",
      "\u001b[0m\n",
      "\u001b[34m#metrics {\"StartTime\": 1623929841.5425103, \"EndTime\": 1623929841.5425441, \"Dimensions\": {\"Algorithm\": \"Linear Learner\", \"Host\": \"algo-1\", \"Operation\": \"training\", \"epoch\": 12, \"model\": 4}, \"Metrics\": {\"train_absolute_loss_objective\": {\"sum\": 0.3190075988769531, \"count\": 1, \"min\": 0.3190075988769531, \"max\": 0.3190075988769531}}}\n",
      "\u001b[0m\n",
      "\u001b[34m#metrics {\"StartTime\": 1623929841.5426712, \"EndTime\": 1623929841.5427094, \"Dimensions\": {\"Algorithm\": \"Linear Learner\", \"Host\": \"algo-1\", \"Operation\": \"training\", \"epoch\": 12, \"model\": 5}, \"Metrics\": {\"train_absolute_loss_objective\": {\"sum\": 0.3129268131256103, \"count\": 1, \"min\": 0.3129268131256103, \"max\": 0.3129268131256103}}}\n",
      "\u001b[0m\n",
      "\u001b[34m#metrics {\"StartTime\": 1623929841.5428424, \"EndTime\": 1623929841.5428765, \"Dimensions\": {\"Algorithm\": \"Linear Learner\", \"Host\": \"algo-1\", \"Operation\": \"training\", \"epoch\": 12, \"model\": 6}, \"Metrics\": {\"train_absolute_loss_objective\": {\"sum\": 0.32680582237243655, \"count\": 1, \"min\": 0.32680582237243655, \"max\": 0.32680582237243655}}}\n",
      "\u001b[0m\n",
      "\u001b[34m#metrics {\"StartTime\": 1623929841.543003, \"EndTime\": 1623929841.5431519, \"Dimensions\": {\"Algorithm\": \"Linear Learner\", \"Host\": \"algo-1\", \"Operation\": \"training\", \"epoch\": 12, \"model\": 7}, \"Metrics\": {\"train_absolute_loss_objective\": {\"sum\": 0.317364782333374, \"count\": 1, \"min\": 0.317364782333374, \"max\": 0.317364782333374}}}\n",
      "\u001b[0m\n",
      "\u001b[34m#metrics {\"StartTime\": 1623929841.5432212, \"EndTime\": 1623929841.5432649, \"Dimensions\": {\"Algorithm\": \"Linear Learner\", \"Host\": \"algo-1\", \"Operation\": \"training\", \"epoch\": 12, \"model\": 8}, \"Metrics\": {\"train_absolute_loss_objective\": {\"sum\": 0.3188960952758789, \"count\": 1, \"min\": 0.3188960952758789, \"max\": 0.3188960952758789}}}\n",
      "\u001b[0m\n",
      "\u001b[34m#metrics {\"StartTime\": 1623929841.5434268, \"EndTime\": 1623929841.5434477, \"Dimensions\": {\"Algorithm\": \"Linear Learner\", \"Host\": \"algo-1\", \"Operation\": \"training\", \"epoch\": 12, \"model\": 9}, \"Metrics\": {\"train_absolute_loss_objective\": {\"sum\": 0.30709610748291016, \"count\": 1, \"min\": 0.30709610748291016, \"max\": 0.30709610748291016}}}\n",
      "\u001b[0m\n",
      "\u001b[34m[06/17/2021 11:37:21 INFO 140011042391872] #quality_metric: host=algo-1, epoch=12, train absolute_loss_objective <loss>=0.3093177890777588\u001b[0m\n",
      "\u001b[34m[06/17/2021 11:37:21 INFO 140011042391872] #early_stopping_criteria_metric: host=algo-1, epoch=12, criteria=absolute_loss_objective, value=0.30709610748291016\u001b[0m\n",
      "\u001b[34m[06/17/2021 11:37:21 INFO 140011042391872] Epoch 12: Loss improved. Updating best model\u001b[0m\n",
      "\u001b[34m[06/17/2021 11:37:21 INFO 140011042391872] Saving model for epoch: 12\u001b[0m\n",
      "\u001b[34m[06/17/2021 11:37:21 INFO 140011042391872] Saved checkpoint to \"/tmp/tmpnmky4l7m/mx-mod-0000.params\"\u001b[0m\n",
      "\u001b[34m[06/17/2021 11:37:21 INFO 140011042391872] #progress_metric: host=algo-1, completed 13.0 % of epochs\u001b[0m\n",
      "\u001b[34m#metrics {\"StartTime\": 1623929841.4507651, \"EndTime\": 1623929841.5519083, \"Dimensions\": {\"Algorithm\": \"Linear Learner\", \"Host\": \"algo-1\", \"Operation\": \"training\", \"epoch\": 12, \"Meta\": \"training_data_iter\"}, \"Metrics\": {\"Total Records Seen\": {\"sum\": 15080.0, \"count\": 1, \"min\": 15080, \"max\": 15080}, \"Total Batches Seen\": {\"sum\": 155.0, \"count\": 1, \"min\": 155, \"max\": 155}, \"Max Records Seen Between Resets\": {\"sum\": 1070.0, \"count\": 1, \"min\": 1070, \"max\": 1070}, \"Max Batches Seen Between Resets\": {\"sum\": 11.0, \"count\": 1, \"min\": 11, \"max\": 11}, \"Reset Count\": {\"sum\": 15.0, \"count\": 1, \"min\": 15, \"max\": 15}, \"Number of Records Since Last Reset\": {\"sum\": 1070.0, \"count\": 1, \"min\": 1070, \"max\": 1070}, \"Number of Batches Since Last Reset\": {\"sum\": 11.0, \"count\": 1, \"min\": 11, \"max\": 11}}}\n",
      "\u001b[0m\n",
      "\u001b[34m[06/17/2021 11:37:21 INFO 140011042391872] #throughput_metric: host=algo-1, train throughput=10563.33137973483 records/second\u001b[0m\n",
      "\u001b[34m[2021-06-17 11:37:21.649] [tensorio] [info] epoch_stats={\"data_pipeline\": \"/opt/ml/input/data/train\", \"epoch\": 30, \"duration\": 96, \"num_examples\": 11, \"num_bytes\": 81320}\u001b[0m\n",
      "\u001b[34m#metrics {\"StartTime\": 1623929841.6493776, \"EndTime\": 1623929841.6494336, \"Dimensions\": {\"Algorithm\": \"Linear Learner\", \"Host\": \"algo-1\", \"Operation\": \"training\", \"epoch\": 13, \"model\": 0}, \"Metrics\": {\"train_absolute_loss_objective\": {\"sum\": 0.3076241645812988, \"count\": 1, \"min\": 0.3076241645812988, \"max\": 0.3076241645812988}}}\n",
      "\u001b[0m\n",
      "\u001b[34m#metrics {\"StartTime\": 1623929841.6495101, \"EndTime\": 1623929841.649611, \"Dimensions\": {\"Algorithm\": \"Linear Learner\", \"Host\": \"algo-1\", \"Operation\": \"training\", \"epoch\": 13, \"model\": 1}, \"Metrics\": {\"train_absolute_loss_objective\": {\"sum\": 0.3076811370849609, \"count\": 1, \"min\": 0.3076811370849609, \"max\": 0.3076811370849609}}}\n",
      "\u001b[0m\n",
      "\u001b[34m#metrics {\"StartTime\": 1623929841.6496701, \"EndTime\": 1623929841.6496875, \"Dimensions\": {\"Algorithm\": \"Linear Learner\", \"Host\": \"algo-1\", \"Operation\": \"training\", \"epoch\": 13, \"model\": 2}, \"Metrics\": {\"train_absolute_loss_objective\": {\"sum\": 0.3073732452392578, \"count\": 1, \"min\": 0.3073732452392578, \"max\": 0.3073732452392578}}}\n",
      "\u001b[0m\n",
      "\u001b[34m#metrics {\"StartTime\": 1623929841.649748, \"EndTime\": 1623929841.649851, \"Dimensions\": {\"Algorithm\": \"Linear Learner\", \"Host\": \"algo-1\", \"Operation\": \"training\", \"epoch\": 13, \"model\": 3}, \"Metrics\": {\"train_absolute_loss_objective\": {\"sum\": 0.3092720680236816, \"count\": 1, \"min\": 0.3092720680236816, \"max\": 0.3092720680236816}}}\n",
      "\u001b[0m\n",
      "\u001b[34m#metrics {\"StartTime\": 1623929841.6499124, \"EndTime\": 1623929841.6499305, \"Dimensions\": {\"Algorithm\": \"Linear Learner\", \"Host\": \"algo-1\", \"Operation\": \"training\", \"epoch\": 13, \"model\": 4}, \"Metrics\": {\"train_absolute_loss_objective\": {\"sum\": 0.31233180809020994, \"count\": 1, \"min\": 0.31233180809020994, \"max\": 0.31233180809020994}}}\n",
      "\u001b[0m\n",
      "\u001b[34m#metrics {\"StartTime\": 1623929841.650049, \"EndTime\": 1623929841.65007, \"Dimensions\": {\"Algorithm\": \"Linear Learner\", \"Host\": \"algo-1\", \"Operation\": \"training\", \"epoch\": 13, \"model\": 5}, \"Metrics\": {\"train_absolute_loss_objective\": {\"sum\": 0.3141092128753662, \"count\": 1, \"min\": 0.3141092128753662, \"max\": 0.3141092128753662}}}\n",
      "\u001b[0m\n",
      "\u001b[34m#metrics {\"StartTime\": 1623929841.650127, \"EndTime\": 1623929841.650144, \"Dimensions\": {\"Algorithm\": \"Linear Learner\", \"Host\": \"algo-1\", \"Operation\": \"training\", \"epoch\": 13, \"model\": 6}, \"Metrics\": {\"train_absolute_loss_objective\": {\"sum\": 0.330378942489624, \"count\": 1, \"min\": 0.330378942489624, \"max\": 0.330378942489624}}}\n",
      "\u001b[0m\n",
      "\u001b[34m#metrics {\"StartTime\": 1623929841.650274, \"EndTime\": 1623929841.650292, \"Dimensions\": {\"Algorithm\": \"Linear Learner\", \"Host\": \"algo-1\", \"Operation\": \"training\", \"epoch\": 13, \"model\": 7}, \"Metrics\": {\"train_absolute_loss_objective\": {\"sum\": 0.3190177974700928, \"count\": 1, \"min\": 0.3190177974700928, \"max\": 0.3190177974700928}}}\n",
      "\u001b[0m\n",
      "\u001b[34m#metrics {\"StartTime\": 1623929841.6504197, \"EndTime\": 1623929841.650441, \"Dimensions\": {\"Algorithm\": \"Linear Learner\", \"Host\": \"algo-1\", \"Operation\": \"training\", \"epoch\": 13, \"model\": 8}, \"Metrics\": {\"train_absolute_loss_objective\": {\"sum\": 0.3131363773345947, \"count\": 1, \"min\": 0.3131363773345947, \"max\": 0.3131363773345947}}}\n",
      "\u001b[0m\n",
      "\u001b[34m#metrics {\"StartTime\": 1623929841.6504986, \"EndTime\": 1623929841.6505158, \"Dimensions\": {\"Algorithm\": \"Linear Learner\", \"Host\": \"algo-1\", \"Operation\": \"training\", \"epoch\": 13, \"model\": 9}, \"Metrics\": {\"train_absolute_loss_objective\": {\"sum\": 0.30680041885375975, \"count\": 1, \"min\": 0.30680041885375975, \"max\": 0.30680041885375975}}}\n",
      "\u001b[0m\n",
      "\u001b[34m[06/17/2021 11:37:21 INFO 140011042391872] #quality_metric: host=algo-1, epoch=13, train absolute_loss_objective <loss>=0.3076241645812988\u001b[0m\n",
      "\u001b[34m[06/17/2021 11:37:21 INFO 140011042391872] #early_stopping_criteria_metric: host=algo-1, epoch=13, criteria=absolute_loss_objective, value=0.30680041885375975\u001b[0m\n",
      "\u001b[34m[06/17/2021 11:37:21 INFO 140011042391872] Saving model for epoch: 13\u001b[0m\n",
      "\u001b[34m[06/17/2021 11:37:21 INFO 140011042391872] Saved checkpoint to \"/tmp/tmpi80_kia7/mx-mod-0000.params\"\u001b[0m\n",
      "\u001b[34m[06/17/2021 11:37:21 INFO 140011042391872] #progress_metric: host=algo-1, completed 14.0 % of epochs\u001b[0m\n",
      "\u001b[34m#metrics {\"StartTime\": 1623929841.5522156, \"EndTime\": 1623929841.6580572, \"Dimensions\": {\"Algorithm\": \"Linear Learner\", \"Host\": \"algo-1\", \"Operation\": \"training\", \"epoch\": 13, \"Meta\": \"training_data_iter\"}, \"Metrics\": {\"Total Records Seen\": {\"sum\": 16150.0, \"count\": 1, \"min\": 16150, \"max\": 16150}, \"Total Batches Seen\": {\"sum\": 166.0, \"count\": 1, \"min\": 166, \"max\": 166}, \"Max Records Seen Between Resets\": {\"sum\": 1070.0, \"count\": 1, \"min\": 1070, \"max\": 1070}, \"Max Batches Seen Between Resets\": {\"sum\": 11.0, \"count\": 1, \"min\": 11, \"max\": 11}, \"Reset Count\": {\"sum\": 16.0, \"count\": 1, \"min\": 16, \"max\": 16}, \"Number of Records Since Last Reset\": {\"sum\": 1070.0, \"count\": 1, \"min\": 1070, \"max\": 1070}, \"Number of Batches Since Last Reset\": {\"sum\": 11.0, \"count\": 1, \"min\": 11, \"max\": 11}}}\n",
      "\u001b[0m\n",
      "\u001b[34m[06/17/2021 11:37:21 INFO 140011042391872] #throughput_metric: host=algo-1, train throughput=10096.297676092776 records/second\u001b[0m\n",
      "\u001b[34m[2021-06-17 11:37:21.769] [tensorio] [info] epoch_stats={\"data_pipeline\": \"/opt/ml/input/data/train\", \"epoch\": 32, \"duration\": 111, \"num_examples\": 11, \"num_bytes\": 81320}\u001b[0m\n",
      "\u001b[34m#metrics {\"StartTime\": 1623929841.7697942, \"EndTime\": 1623929841.769852, \"Dimensions\": {\"Algorithm\": \"Linear Learner\", \"Host\": \"algo-1\", \"Operation\": \"training\", \"epoch\": 14, \"model\": 0}, \"Metrics\": {\"train_absolute_loss_objective\": {\"sum\": 0.30723836708068847, \"count\": 1, \"min\": 0.30723836708068847, \"max\": 0.30723836708068847}}}\n",
      "\u001b[0m\n",
      "\u001b[34m#metrics {\"StartTime\": 1623929841.76994, \"EndTime\": 1623929841.7699585, \"Dimensions\": {\"Algorithm\": \"Linear Learner\", \"Host\": \"algo-1\", \"Operation\": \"training\", \"epoch\": 14, \"model\": 1}, \"Metrics\": {\"train_absolute_loss_objective\": {\"sum\": 0.3072721748352051, \"count\": 1, \"min\": 0.3072721748352051, \"max\": 0.3072721748352051}}}\n",
      "\u001b[0m\n",
      "\u001b[34m#metrics {\"StartTime\": 1623929841.770011, \"EndTime\": 1623929841.7700262, \"Dimensions\": {\"Algorithm\": \"Linear Learner\", \"Host\": \"algo-1\", \"Operation\": \"training\", \"epoch\": 14, \"model\": 2}, \"Metrics\": {\"train_absolute_loss_objective\": {\"sum\": 0.30735566902160644, \"count\": 1, \"min\": 0.30735566902160644, \"max\": 0.30735566902160644}}}\n",
      "\u001b[0m\n",
      "\u001b[34m#metrics {\"StartTime\": 1623929841.7700734, \"EndTime\": 1623929841.770088, \"Dimensions\": {\"Algorithm\": \"Linear Learner\", \"Host\": \"algo-1\", \"Operation\": \"training\", \"epoch\": 14, \"model\": 3}, \"Metrics\": {\"train_absolute_loss_objective\": {\"sum\": 0.30800738525390625, \"count\": 1, \"min\": 0.30800738525390625, \"max\": 0.30800738525390625}}}\n",
      "\u001b[0m\n",
      "\u001b[34m#metrics {\"StartTime\": 1623929841.770136, \"EndTime\": 1623929841.7701516, \"Dimensions\": {\"Algorithm\": \"Linear Learner\", \"Host\": \"algo-1\", \"Operation\": \"training\", \"epoch\": 14, \"model\": 4}, \"Metrics\": {\"train_absolute_loss_objective\": {\"sum\": 0.3190775375366211, \"count\": 1, \"min\": 0.3190775375366211, \"max\": 0.3190775375366211}}}\n",
      "\u001b[0m\n",
      "\u001b[34m#metrics {\"StartTime\": 1623929841.7702036, \"EndTime\": 1623929841.7702193, \"Dimensions\": {\"Algorithm\": \"Linear Learner\", \"Host\": \"algo-1\", \"Operation\": \"training\", \"epoch\": 14, \"model\": 5}, \"Metrics\": {\"train_absolute_loss_objective\": {\"sum\": 0.315405424118042, \"count\": 1, \"min\": 0.315405424118042, \"max\": 0.315405424118042}}}\n",
      "\u001b[0m\n",
      "\u001b[34m#metrics {\"StartTime\": 1623929841.770271, \"EndTime\": 1623929841.7702875, \"Dimensions\": {\"Algorithm\": \"Linear Learner\", \"Host\": \"algo-1\", \"Operation\": \"training\", \"epoch\": 14, \"model\": 6}, \"Metrics\": {\"train_absolute_loss_objective\": {\"sum\": 0.3352309608459473, \"count\": 1, \"min\": 0.3352309608459473, \"max\": 0.3352309608459473}}}\n",
      "\u001b[0m\n",
      "\u001b[34m#metrics {\"StartTime\": 1623929841.7703385, \"EndTime\": 1623929841.7703543, \"Dimensions\": {\"Algorithm\": \"Linear Learner\", \"Host\": \"algo-1\", \"Operation\": \"training\", \"epoch\": 14, \"model\": 7}, \"Metrics\": {\"train_absolute_loss_objective\": {\"sum\": 0.3185084686279297, \"count\": 1, \"min\": 0.3185084686279297, \"max\": 0.3185084686279297}}}\n",
      "\u001b[0m\n",
      "\u001b[34m#metrics {\"StartTime\": 1623929841.770407, \"EndTime\": 1623929841.7704225, \"Dimensions\": {\"Algorithm\": \"Linear Learner\", \"Host\": \"algo-1\", \"Operation\": \"training\", \"epoch\": 14, \"model\": 8}, \"Metrics\": {\"train_absolute_loss_objective\": {\"sum\": 0.3096161937713623, \"count\": 1, \"min\": 0.3096161937713623, \"max\": 0.3096161937713623}}}\n",
      "\u001b[0m\n",
      "\u001b[34m#metrics {\"StartTime\": 1623929841.770471, \"EndTime\": 1623929841.7704864, \"Dimensions\": {\"Algorithm\": \"Linear Learner\", \"Host\": \"algo-1\", \"Operation\": \"training\", \"epoch\": 14, \"model\": 9}, \"Metrics\": {\"train_absolute_loss_objective\": {\"sum\": 0.3073024845123291, \"count\": 1, \"min\": 0.3073024845123291, \"max\": 0.3073024845123291}}}\n",
      "\u001b[0m\n",
      "\u001b[34m[06/17/2021 11:37:21 INFO 140011042391872] #quality_metric: host=algo-1, epoch=14, train absolute_loss_objective <loss>=0.30723836708068847\u001b[0m\n",
      "\u001b[34m[06/17/2021 11:37:21 INFO 140011042391872] #early_stopping_criteria_metric: host=algo-1, epoch=14, criteria=absolute_loss_objective, value=0.30723836708068847\u001b[0m\n",
      "\u001b[34m[06/17/2021 11:37:21 INFO 140011042391872] Saving model for epoch: 14\u001b[0m\n",
      "\u001b[34m[06/17/2021 11:37:21 INFO 140011042391872] Saved checkpoint to \"/tmp/tmpsle3eupn/mx-mod-0000.params\"\u001b[0m\n",
      "\u001b[34m[06/17/2021 11:37:21 INFO 140011042391872] #progress_metric: host=algo-1, completed 15.0 % of epochs\u001b[0m\n",
      "\u001b[34m#metrics {\"StartTime\": 1623929841.6583498, \"EndTime\": 1623929841.781877, \"Dimensions\": {\"Algorithm\": \"Linear Learner\", \"Host\": \"algo-1\", \"Operation\": \"training\", \"epoch\": 14, \"Meta\": \"training_data_iter\"}, \"Metrics\": {\"Total Records Seen\": {\"sum\": 17220.0, \"count\": 1, \"min\": 17220, \"max\": 17220}, \"Total Batches Seen\": {\"sum\": 177.0, \"count\": 1, \"min\": 177, \"max\": 177}, \"Max Records Seen Between Resets\": {\"sum\": 1070.0, \"count\": 1, \"min\": 1070, \"max\": 1070}, \"Max Batches Seen Between Resets\": {\"sum\": 11.0, \"count\": 1, \"min\": 11, \"max\": 11}, \"Reset Count\": {\"sum\": 17.0, \"count\": 1, \"min\": 17, \"max\": 17}, \"Number of Records Since Last Reset\": {\"sum\": 1070.0, \"count\": 1, \"min\": 1070, \"max\": 1070}, \"Number of Batches Since Last Reset\": {\"sum\": 11.0, \"count\": 1, \"min\": 11, \"max\": 11}}}\n",
      "\u001b[0m\n",
      "\u001b[34m[06/17/2021 11:37:21 INFO 140011042391872] #throughput_metric: host=algo-1, train throughput=8651.28360924982 records/second\u001b[0m\n",
      "\u001b[34m[2021-06-17 11:37:21.891] [tensorio] [info] epoch_stats={\"data_pipeline\": \"/opt/ml/input/data/train\", \"epoch\": 34, \"duration\": 109, \"num_examples\": 11, \"num_bytes\": 81320}\u001b[0m\n",
      "\u001b[34m#metrics {\"StartTime\": 1623929841.8915462, \"EndTime\": 1623929841.8916059, \"Dimensions\": {\"Algorithm\": \"Linear Learner\", \"Host\": \"algo-1\", \"Operation\": \"training\", \"epoch\": 15, \"model\": 0}, \"Metrics\": {\"train_absolute_loss_objective\": {\"sum\": 0.30718975830078127, \"count\": 1, \"min\": 0.30718975830078127, \"max\": 0.30718975830078127}}}\n",
      "\u001b[0m\n",
      "\u001b[34m#metrics {\"StartTime\": 1623929841.891697, \"EndTime\": 1623929841.8917177, \"Dimensions\": {\"Algorithm\": \"Linear Learner\", \"Host\": \"algo-1\", \"Operation\": \"training\", \"epoch\": 15, \"model\": 1}, \"Metrics\": {\"train_absolute_loss_objective\": {\"sum\": 0.30737001609802245, \"count\": 1, \"min\": 0.30737001609802245, \"max\": 0.30737001609802245}}}\n",
      "\u001b[0m\n",
      "\u001b[34m#metrics {\"StartTime\": 1623929841.8917818, \"EndTime\": 1623929841.8917975, \"Dimensions\": {\"Algorithm\": \"Linear Learner\", \"Host\": \"algo-1\", \"Operation\": \"training\", \"epoch\": 15, \"model\": 2}, \"Metrics\": {\"train_absolute_loss_objective\": {\"sum\": 0.30712836837768553, \"count\": 1, \"min\": 0.30712836837768553, \"max\": 0.30712836837768553}}}\n",
      "\u001b[0m\n",
      "\u001b[34m#metrics {\"StartTime\": 1623929841.8918452, \"EndTime\": 1623929841.891859, \"Dimensions\": {\"Algorithm\": \"Linear Learner\", \"Host\": \"algo-1\", \"Operation\": \"training\", \"epoch\": 15, \"model\": 3}, \"Metrics\": {\"train_absolute_loss_objective\": {\"sum\": 0.30775785064697264, \"count\": 1, \"min\": 0.30775785064697264, \"max\": 0.30775785064697264}}}\n",
      "\u001b[0m\n",
      "\u001b[34m#metrics {\"StartTime\": 1623929841.8919084, \"EndTime\": 1623929841.8919241, \"Dimensions\": {\"Algorithm\": \"Linear Learner\", \"Host\": \"algo-1\", \"Operation\": \"training\", \"epoch\": 15, \"model\": 4}, \"Metrics\": {\"train_absolute_loss_objective\": {\"sum\": 0.3209473457336426, \"count\": 1, \"min\": 0.3209473457336426, \"max\": 0.3209473457336426}}}\n",
      "\u001b[0m\n",
      "\u001b[34m#metrics {\"StartTime\": 1623929841.8919737, \"EndTime\": 1623929841.8919904, \"Dimensions\": {\"Algorithm\": \"Linear Learner\", \"Host\": \"algo-1\", \"Operation\": \"training\", \"epoch\": 15, \"model\": 5}, \"Metrics\": {\"train_absolute_loss_objective\": {\"sum\": 0.3335701961517334, \"count\": 1, \"min\": 0.3335701961517334, \"max\": 0.3335701961517334}}}\n",
      "\u001b[0m\n",
      "\u001b[34m#metrics {\"StartTime\": 1623929841.8920414, \"EndTime\": 1623929841.8920557, \"Dimensions\": {\"Algorithm\": \"Linear Learner\", \"Host\": \"algo-1\", \"Operation\": \"training\", \"epoch\": 15, \"model\": 6}, \"Metrics\": {\"train_absolute_loss_objective\": {\"sum\": 0.31598332595825196, \"count\": 1, \"min\": 0.31598332595825196, \"max\": 0.31598332595825196}}}\n",
      "\u001b[0m\n",
      "\u001b[34m#metrics {\"StartTime\": 1623929841.8921058, \"EndTime\": 1623929841.8921216, \"Dimensions\": {\"Algorithm\": \"Linear Learner\", \"Host\": \"algo-1\", \"Operation\": \"training\", \"epoch\": 15, \"model\": 7}, \"Metrics\": {\"train_absolute_loss_objective\": {\"sum\": 0.32117745399475095, \"count\": 1, \"min\": 0.32117745399475095, \"max\": 0.32117745399475095}}}\n",
      "\u001b[0m\n",
      "\u001b[34m#metrics {\"StartTime\": 1623929841.8921714, \"EndTime\": 1623929841.8921862, \"Dimensions\": {\"Algorithm\": \"Linear Learner\", \"Host\": \"algo-1\", \"Operation\": \"training\", \"epoch\": 15, \"model\": 8}, \"Metrics\": {\"train_absolute_loss_objective\": {\"sum\": 0.30834384346008303, \"count\": 1, \"min\": 0.30834384346008303, \"max\": 0.30834384346008303}}}\n",
      "\u001b[0m\n",
      "\u001b[34m#metrics {\"StartTime\": 1623929841.8922324, \"EndTime\": 1623929841.8922472, \"Dimensions\": {\"Algorithm\": \"Linear Learner\", \"Host\": \"algo-1\", \"Operation\": \"training\", \"epoch\": 15, \"model\": 9}, \"Metrics\": {\"train_absolute_loss_objective\": {\"sum\": 0.3074329662322998, \"count\": 1, \"min\": 0.3074329662322998, \"max\": 0.3074329662322998}}}\n",
      "\u001b[0m\n",
      "\u001b[34m[06/17/2021 11:37:21 INFO 140011042391872] #quality_metric: host=algo-1, epoch=15, train absolute_loss_objective <loss>=0.30718975830078127\u001b[0m\n",
      "\u001b[34m[06/17/2021 11:37:21 INFO 140011042391872] #early_stopping_criteria_metric: host=algo-1, epoch=15, criteria=absolute_loss_objective, value=0.30712836837768553\u001b[0m\n",
      "\u001b[34m[06/17/2021 11:37:21 INFO 140011042391872] Saving model for epoch: 15\u001b[0m\n",
      "\u001b[34m[06/17/2021 11:37:21 INFO 140011042391872] Saved checkpoint to \"/tmp/tmpatlswe_3/mx-mod-0000.params\"\u001b[0m\n",
      "\u001b[34m[06/17/2021 11:37:21 INFO 140011042391872] #progress_metric: host=algo-1, completed 16.0 % of epochs\u001b[0m\n",
      "\u001b[34m#metrics {\"StartTime\": 1623929841.782193, \"EndTime\": 1623929841.9020991, \"Dimensions\": {\"Algorithm\": \"Linear Learner\", \"Host\": \"algo-1\", \"Operation\": \"training\", \"epoch\": 15, \"Meta\": \"training_data_iter\"}, \"Metrics\": {\"Total Records Seen\": {\"sum\": 18290.0, \"count\": 1, \"min\": 18290, \"max\": 18290}, \"Total Batches Seen\": {\"sum\": 188.0, \"count\": 1, \"min\": 188, \"max\": 188}, \"Max Records Seen Between Resets\": {\"sum\": 1070.0, \"count\": 1, \"min\": 1070, \"max\": 1070}, \"Max Batches Seen Between Resets\": {\"sum\": 11.0, \"count\": 1, \"min\": 11, \"max\": 11}, \"Reset Count\": {\"sum\": 18.0, \"count\": 1, \"min\": 18, \"max\": 18}, \"Number of Records Since Last Reset\": {\"sum\": 1070.0, \"count\": 1, \"min\": 1070, \"max\": 1070}, \"Number of Batches Since Last Reset\": {\"sum\": 11.0, \"count\": 1, \"min\": 11, \"max\": 11}}}\n",
      "\u001b[0m\n",
      "\u001b[34m[06/17/2021 11:37:21 INFO 140011042391872] #throughput_metric: host=algo-1, train throughput=8911.611312107578 records/second\u001b[0m\n",
      "\u001b[34m[2021-06-17 11:37:22.004] [tensorio] [info] epoch_stats={\"data_pipeline\": \"/opt/ml/input/data/train\", \"epoch\": 36, \"duration\": 101, \"num_examples\": 11, \"num_bytes\": 81320}\u001b[0m\n",
      "\u001b[34m#metrics {\"StartTime\": 1623929842.004397, \"EndTime\": 1623929842.0044544, \"Dimensions\": {\"Algorithm\": \"Linear Learner\", \"Host\": \"algo-1\", \"Operation\": \"training\", \"epoch\": 16, \"model\": 0}, \"Metrics\": {\"train_absolute_loss_objective\": {\"sum\": 0.30721934509277343, \"count\": 1, \"min\": 0.30721934509277343, \"max\": 0.30721934509277343}}}\n",
      "\u001b[0m\n",
      "\u001b[34m#metrics {\"StartTime\": 1623929842.004569, \"EndTime\": 1623929842.0045872, \"Dimensions\": {\"Algorithm\": \"Linear Learner\", \"Host\": \"algo-1\", \"Operation\": \"training\", \"epoch\": 16, \"model\": 1}, \"Metrics\": {\"train_absolute_loss_objective\": {\"sum\": 0.30741488647460935, \"count\": 1, \"min\": 0.30741488647460935, \"max\": 0.30741488647460935}}}\n",
      "\u001b[0m\n",
      "\u001b[34m#metrics {\"StartTime\": 1623929842.0046356, \"EndTime\": 1623929842.0046487, \"Dimensions\": {\"Algorithm\": \"Linear Learner\", \"Host\": \"algo-1\", \"Operation\": \"training\", \"epoch\": 16, \"model\": 2}, \"Metrics\": {\"train_absolute_loss_objective\": {\"sum\": 0.30667255401611326, \"count\": 1, \"min\": 0.30667255401611326, \"max\": 0.30667255401611326}}}\n",
      "\u001b[0m\n",
      "\u001b[34m#metrics {\"StartTime\": 1623929842.0046916, \"EndTime\": 1623929842.0047045, \"Dimensions\": {\"Algorithm\": \"Linear Learner\", \"Host\": \"algo-1\", \"Operation\": \"training\", \"epoch\": 16, \"model\": 3}, \"Metrics\": {\"train_absolute_loss_objective\": {\"sum\": 0.3077539119720459, \"count\": 1, \"min\": 0.3077539119720459, \"max\": 0.3077539119720459}}}\n",
      "\u001b[0m\n",
      "\u001b[34m#metrics {\"StartTime\": 1623929842.0047462, \"EndTime\": 1623929842.004759, \"Dimensions\": {\"Algorithm\": \"Linear Learner\", \"Host\": \"algo-1\", \"Operation\": \"training\", \"epoch\": 16, \"model\": 4}, \"Metrics\": {\"train_absolute_loss_objective\": {\"sum\": 0.31353972053527834, \"count\": 1, \"min\": 0.31353972053527834, \"max\": 0.31353972053527834}}}\n",
      "\u001b[0m\n",
      "\u001b[34m#metrics {\"StartTime\": 1623929842.0048006, \"EndTime\": 1623929842.0048125, \"Dimensions\": {\"Algorithm\": \"Linear Learner\", \"Host\": \"algo-1\", \"Operation\": \"training\", \"epoch\": 16, \"model\": 5}, \"Metrics\": {\"train_absolute_loss_objective\": {\"sum\": 0.32683520126342774, \"count\": 1, \"min\": 0.32683520126342774, \"max\": 0.32683520126342774}}}\n",
      "\u001b[0m\n",
      "\u001b[34m#metrics {\"StartTime\": 1623929842.0048542, \"EndTime\": 1623929842.0048664, \"Dimensions\": {\"Algorithm\": \"Linear Learner\", \"Host\": \"algo-1\", \"Operation\": \"training\", \"epoch\": 16, \"model\": 6}, \"Metrics\": {\"train_absolute_loss_objective\": {\"sum\": 0.33898884963989256, \"count\": 1, \"min\": 0.33898884963989256, \"max\": 0.33898884963989256}}}\n",
      "\u001b[0m\n",
      "\u001b[34m#metrics {\"StartTime\": 1623929842.0049074, \"EndTime\": 1623929842.004919, \"Dimensions\": {\"Algorithm\": \"Linear Learner\", \"Host\": \"algo-1\", \"Operation\": \"training\", \"epoch\": 16, \"model\": 7}, \"Metrics\": {\"train_absolute_loss_objective\": {\"sum\": 0.33338453674316404, \"count\": 1, \"min\": 0.33338453674316404, \"max\": 0.33338453674316404}}}\n",
      "\u001b[0m\n",
      "\u001b[34m#metrics {\"StartTime\": 1623929842.0049603, \"EndTime\": 1623929842.0049722, \"Dimensions\": {\"Algorithm\": \"Linear Learner\", \"Host\": \"algo-1\", \"Operation\": \"training\", \"epoch\": 16, \"model\": 8}, \"Metrics\": {\"train_absolute_loss_objective\": {\"sum\": 0.30751629066467284, \"count\": 1, \"min\": 0.30751629066467284, \"max\": 0.30751629066467284}}}\n",
      "\u001b[0m\n",
      "\u001b[34m#metrics {\"StartTime\": 1623929842.0050128, \"EndTime\": 1623929842.0050247, \"Dimensions\": {\"Algorithm\": \"Linear Learner\", \"Host\": \"algo-1\", \"Operation\": \"training\", \"epoch\": 16, \"model\": 9}, \"Metrics\": {\"train_absolute_loss_objective\": {\"sum\": 0.30720302391052245, \"count\": 1, \"min\": 0.30720302391052245, \"max\": 0.30720302391052245}}}\n",
      "\u001b[0m\n",
      "\u001b[34m[06/17/2021 11:37:22 INFO 140011042391872] #quality_metric: host=algo-1, epoch=16, train absolute_loss_objective <loss>=0.30721934509277343\u001b[0m\n",
      "\u001b[34m[06/17/2021 11:37:22 INFO 140011042391872] #early_stopping_criteria_metric: host=algo-1, epoch=16, criteria=absolute_loss_objective, value=0.30667255401611326\u001b[0m\n",
      "\u001b[34m[06/17/2021 11:37:22 INFO 140011042391872] Saving model for epoch: 16\u001b[0m\n",
      "\u001b[34m[06/17/2021 11:37:22 INFO 140011042391872] Saved checkpoint to \"/tmp/tmpwrjggzwc/mx-mod-0000.params\"\u001b[0m\n",
      "\u001b[34m[06/17/2021 11:37:22 INFO 140011042391872] Early stop condition met. Stopping training.\u001b[0m\n",
      "\u001b[34m[06/17/2021 11:37:22 INFO 140011042391872] #progress_metric: host=algo-1, completed 100 % epochs\u001b[0m\n",
      "\u001b[34m#metrics {\"StartTime\": 1623929841.9024453, \"EndTime\": 1623929842.0127223, \"Dimensions\": {\"Algorithm\": \"Linear Learner\", \"Host\": \"algo-1\", \"Operation\": \"training\", \"epoch\": 16, \"Meta\": \"training_data_iter\"}, \"Metrics\": {\"Total Records Seen\": {\"sum\": 19360.0, \"count\": 1, \"min\": 19360, \"max\": 19360}, \"Total Batches Seen\": {\"sum\": 199.0, \"count\": 1, \"min\": 199, \"max\": 199}, \"Max Records Seen Between Resets\": {\"sum\": 1070.0, \"count\": 1, \"min\": 1070, \"max\": 1070}, \"Max Batches Seen Between Resets\": {\"sum\": 11.0, \"count\": 1, \"min\": 11, \"max\": 11}, \"Reset Count\": {\"sum\": 19.0, \"count\": 1, \"min\": 19, \"max\": 19}, \"Number of Records Since Last Reset\": {\"sum\": 1070.0, \"count\": 1, \"min\": 1070, \"max\": 1070}, \"Number of Batches Since Last Reset\": {\"sum\": 11.0, \"count\": 1, \"min\": 11, \"max\": 11}}}\n",
      "\u001b[0m\n",
      "\u001b[34m[06/17/2021 11:37:22 INFO 140011042391872] #throughput_metric: host=algo-1, train throughput=9689.18661361394 records/second\u001b[0m\n",
      "\u001b[34m[06/17/2021 11:37:22 WARNING 140011042391872] wait_for_all_workers will not sync workers since the kv store is not running distributed\u001b[0m\n",
      "\u001b[34m[06/17/2021 11:37:22 WARNING 140011042391872] wait_for_all_workers will not sync workers since the kv store is not running distributed\u001b[0m\n",
      "\u001b[34m[2021-06-17 11:37:22.014] [tensorio] [info] epoch_stats={\"data_pipeline\": \"/opt/ml/input/data/train\", \"epoch\": 38, \"duration\": 0, \"num_examples\": 1, \"num_bytes\": 7600}\u001b[0m\n",
      "\u001b[34m[2021-06-17 11:37:22.032] [tensorio] [info] epoch_stats={\"data_pipeline\": \"/opt/ml/input/data/train\", \"epoch\": 40, \"duration\": 15, \"num_examples\": 11, \"num_bytes\": 81320}\u001b[0m\n",
      "\u001b[34m[06/17/2021 11:37:22 INFO 140011042391872] #train_score (algo-1) : ('absolute_loss_objective', 0.3076004776999215)\u001b[0m\n",
      "\u001b[34m[06/17/2021 11:37:22 INFO 140011042391872] #train_score (algo-1) : ('mse', 0.39940747590822595)\u001b[0m\n",
      "\u001b[34m[06/17/2021 11:37:22 INFO 140011042391872] #train_score (algo-1) : ('absolute_loss', 0.3076004776999215)\u001b[0m\n",
      "\u001b[34m[06/17/2021 11:37:22 INFO 140011042391872] #quality_metric: host=algo-1, train absolute_loss_objective <loss>=0.3076004776999215\u001b[0m\n",
      "\u001b[34m[06/17/2021 11:37:22 INFO 140011042391872] #quality_metric: host=algo-1, train mse <loss>=0.39940747590822595\u001b[0m\n",
      "\u001b[34m[06/17/2021 11:37:22 INFO 140011042391872] #quality_metric: host=algo-1, train absolute_loss <loss>=0.3076004776999215\u001b[0m\n",
      "\u001b[34m[06/17/2021 11:37:22 INFO 140011042391872] Best model found for hyperparameters: {\"optimizer\": \"adam\", \"learning_rate\": 0.005, \"wd\": 0.01, \"l1\": 0.0, \"lr_scheduler_step\": 100, \"lr_scheduler_factor\": 0.99, \"lr_scheduler_minimum_lr\": 1e-05}\u001b[0m\n",
      "\u001b[34m[06/17/2021 11:37:22 INFO 140011042391872] Saved checkpoint to \"/tmp/tmpx80fqn66/mx-mod-0000.params\"\u001b[0m\n",
      "\u001b[34m[06/17/2021 11:37:22 INFO 140011042391872] Test data is not provided.\u001b[0m\n",
      "\u001b[34m#metrics {\"StartTime\": 1623929840.054909, \"EndTime\": 1623929842.0375009, \"Dimensions\": {\"Algorithm\": \"Linear Learner\", \"Host\": \"algo-1\", \"Operation\": \"training\"}, \"Metrics\": {\"initialize.time\": {\"sum\": 168.2143211364746, \"count\": 1, \"min\": 168.2143211364746, \"max\": 168.2143211364746}, \"epochs\": {\"sum\": 100.0, \"count\": 1, \"min\": 100, \"max\": 100}, \"check_early_stopping.time\": {\"sum\": 13.949394226074219, \"count\": 17, \"min\": 0.2276897430419922, \"max\": 1.5594959259033203}, \"update.time\": {\"sum\": 1719.8379039764404, \"count\": 17, \"min\": 81.15386962890625, \"max\": 118.01743507385254}, \"finalize.time\": {\"sum\": 20.530223846435547, \"count\": 1, \"min\": 20.530223846435547, \"max\": 20.530223846435547}, \"setuptime\": {\"sum\": 24.5513916015625, \"count\": 1, \"min\": 24.5513916015625, \"max\": 24.5513916015625}, \"totaltime\": {\"sum\": 2260.8370780944824, \"count\": 1, \"min\": 2260.8370780944824, \"max\": 2260.8370780944824}}}\n",
      "\u001b[0m\n",
      "\n",
      "2021-06-17 11:37:41 Completed - Training job completed\n",
      "Training seconds: 85\n",
      "Billable seconds: 85\n"
     ]
    }
   ],
   "source": [
    "linear = sagemaker.estimator.Estimator(container,\n",
    "                                       role, \n",
    "                                       train_instance_count = 1, \n",
    "                                       train_instance_type = 'ml.c4.xlarge',\n",
    "                                       output_path = output_location,\n",
    "                                       sagemaker_session = sagemaker_session)\n",
    "\n",
    "linear.set_hyperparameters(feature_dim = 8,\n",
    "                           predictor_type = 'regressor',\n",
    "                           mini_batch_size = 100,\n",
    "                           epochs = 100,\n",
    "                           num_models = 10,\n",
    "                           loss = 'absolute_loss')\n",
    "\n",
    "linear.fit({'train': s3_train_data})"
   ]
  },
  {
   "cell_type": "code",
   "execution_count": 57,
   "metadata": {},
   "outputs": [
    {
     "name": "stdout",
     "output_type": "stream",
     "text": [
      "-------------!"
     ]
    }
   ],
   "source": [
    "linear_regressor = linear.deploy(initial_instance_count = 1, instance_type = 'ml.m4.xlarge')"
   ]
  },
  {
   "cell_type": "code",
   "execution_count": 58,
   "metadata": {},
   "outputs": [],
   "source": [
    "from sagemaker.predictor import csv_serializer, json_deserializer\n",
    "from sagemaker.serializers import CSVSerializer"
   ]
  },
  {
   "cell_type": "code",
   "execution_count": 60,
   "metadata": {},
   "outputs": [],
   "source": [
    "linear_regressor.serializer = CSVSerializer()\n",
    "linear_regressor.deserializer = json_deserializer"
   ]
  },
  {
   "cell_type": "code",
   "execution_count": 61,
   "metadata": {},
   "outputs": [
    {
     "name": "stderr",
     "output_type": "stream",
     "text": [
      "The json_deserializer has been renamed in sagemaker>=2.\n",
      "See: https://sagemaker.readthedocs.io/en/stable/v2.html for details.\n"
     ]
    }
   ],
   "source": [
    "result = linear_regressor.predict(X_test)"
   ]
  },
  {
   "cell_type": "code",
   "execution_count": 63,
   "metadata": {},
   "outputs": [],
   "source": [
    "predictions = np.array([r['score'] for r in result['predictions']])"
   ]
  },
  {
   "cell_type": "code",
   "execution_count": 65,
   "metadata": {},
   "outputs": [],
   "source": [
    "#predictions"
   ]
  },
  {
   "cell_type": "code",
   "execution_count": 66,
   "metadata": {},
   "outputs": [],
   "source": [
    "#convert predicted to original \n",
    "y_predict_orig = scaler_y.inverse_transform(predictions)"
   ]
  },
  {
   "cell_type": "code",
   "execution_count": 69,
   "metadata": {},
   "outputs": [],
   "source": [
    "#convert test to original\n",
    "y_test_orig = scaler_y.inverse_transform(y_test)"
   ]
  },
  {
   "cell_type": "code",
   "execution_count": 71,
   "metadata": {},
   "outputs": [],
   "source": [
    "#Uncomment to print\n",
    "#print(y_predict_orig)\n",
    "#print(y_test_orig)"
   ]
  },
  {
   "cell_type": "code",
   "execution_count": 72,
   "metadata": {},
   "outputs": [],
   "source": [
    "linear_regressor.delete_endpoint()"
   ]
  },
  {
   "cell_type": "code",
   "execution_count": null,
   "metadata": {},
   "outputs": [],
   "source": []
  }
 ],
 "metadata": {
  "colab": {
   "collapsed_sections": [],
   "name": "Graduate_Admission_Prediction.ipynb",
   "provenance": [],
   "toc_visible": true
  },
  "instance_type": "ml.t3.medium",
  "kernelspec": {
   "display_name": "Python 3",
   "language": "python",
   "name": "python3"
  },
  "language_info": {
   "codemirror_mode": {
    "name": "ipython",
    "version": 3
   },
   "file_extension": ".py",
   "mimetype": "text/x-python",
   "name": "python",
   "nbconvert_exporter": "python",
   "pygments_lexer": "ipython3",
   "version": "3.7.4"
  }
 },
 "nbformat": 4,
 "nbformat_minor": 4
}
